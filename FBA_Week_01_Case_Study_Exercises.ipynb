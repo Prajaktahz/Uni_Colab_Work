{
  "nbformat": 4,
  "nbformat_minor": 0,
  "metadata": {
    "colab": {
      "provenance": []
    },
    "kernelspec": {
      "name": "python3",
      "display_name": "Python 3"
    },
    "language_info": {
      "name": "python"
    }
  },
  "cells": [
    {
      "cell_type": "markdown",
      "source": [
        "![alt text](http://www.cs.nott.ac.uk/~pszgss/teaching/nlab.png)\n",
        "# FBA Computing Session Week 1 - Case Study:\n",
        "\n",
        "## Financial Aggregation Website\n",
        "----------\n",
        "Dr Evgeniya Lukinova - University of Nottingham\n",
        "[mail](mailto:Evgeniya.Lukinova@nottingham.ac.uk)\n",
        "[web](http://neodemographics.org)\n",
        "\n",
        "In this task we are going to do some business analysis to a 'simple' case study scenario. From this we aim to explore what lines of attack in business analytics are specific to certain areas (\"specializations\") and which are general analytics techniques that we can apply in many different contexts (\"applications\"). However, this is just a glimpse into what you can do in Python - you are certainly not expected to understand any of this right now!\n",
        "\n",
        "### Scenario:\n",
        "Capital One is a busines/credit company. However, they are always looking for new sources of revenue. To this end they are piloting a subscription-based financial aggregation web site. The site will bring together streams of data and expertise from within Captial One, as well as external resources: data streams from external partners. The aim is to use the site as a new revenue stream for current customers, as well as attracting new ones.\n",
        "\n",
        "### Task 1a: Assessing the costs and revenues\n",
        "Details we have been given are as follows:\n",
        "- The company will charge £24/year for a subscription\n",
        "- They will receive £1/month per customer in advertising revenue\n",
        "- It will cost the company £600k/year to accure the site's data content.\n",
        "- Hosting (i.e. bandwidth and technical infrastucture) for the site will cost 50p/month per customer.\n",
        "\n",
        "<span style=\"font-weight:bold; color:green;\">&rarr; Use Python to create variables for yearly values for these items:<span/>"
      ],
      "metadata": {
        "id": "-5K2jAD1wX2Y"
      }
    },
    {
      "cell_type": "code",
      "execution_count": null,
      "metadata": {
        "id": "9_jSV9rWGnaM"
      },
      "outputs": [],
      "source": [
        "#-- per customer items\n",
        "SUB_REVENUE = 24\n",
        "\n",
        "#-- per website items"
      ]
    },
    {
      "cell_type": "markdown",
      "source": [
        "### Task 1b: Assessing the Break Even point\n",
        "Now we just need to calculate a profit_per_customer variable, and use that to work out how many customers we need for the new website to break even.\n",
        "<span style=\"font-weight:bold; color:green;\">&rarr; Use Python to create variables for yearly values for these items:<span/>"
      ],
      "metadata": {
        "id": "r89RRAEpK6Ny"
      }
    },
    {
      "cell_type": "code",
      "source": [
        "break_even_no =\n",
        "customer_return =\n",
        "print(\"{} customers required to break even given a £{} profit each\".format(break_even_no, customer_return))"
      ],
      "metadata": {
        "id": "1b7LOY-FTbO7"
      },
      "execution_count": null,
      "outputs": []
    },
    {
      "cell_type": "markdown",
      "source": [
        "### Task 1c: Advertising to customers\n",
        "Somehow we have to obtain these customers - advertising via direct emails seems like a good place to start. The company tells us that:\n",
        "- Direct mails cost 50p per customer\n",
        "- That we should expect a 1% response rate\n",
        "\n",
        "<span style=\"font-weight:bold; color:green;\">&rarr; Use Python to recalculate our break even no. of customer in light of this new information</span>"
      ],
      "metadata": {
        "id": "6Gq1E0VbLKCz"
      }
    },
    {
      "cell_type": "code",
      "source": [],
      "metadata": {
        "id": "t28ap5uHK5uK"
      },
      "execution_count": null,
      "outputs": []
    },
    {
      "cell_type": "markdown",
      "source": [
        "### Task 1d: Customer Retention\n",
        "Oh dear. This is not a good situation to be in, as we are losing money overall for each customer we recruit. How might we address this? We have numerous potential options open to us, such as:\n",
        "\n",
        "- Raising our subscription prices\n",
        "- Raising our advertising prices\n",
        "- Reducing our infrastructure costs\n",
        "- Retaining customers, rather than recapturing them each year\n",
        "\n",
        "Let's examine the last option. A direct email to those who have subscribed in the first year, at our normal direct mail cost of 50p / customer, seems sensible. Then we don't need to advertise. But not all accept, and maybe we need to incentivise that customer base to re-subscribe through a special offer. Let's consider the following two options:\n",
        "\n",
        "-  <b>OPTION A.</b> Send an email reminder about renewing to each subscribrer, to which 50% of subscribers are expected to respond positively to.\n",
        "-  <b>OPTION B.</b> Send an email offering a free extra year's subscritpion if the subscriber renews now - to which two thirds of subscribers will respond positively.\n",
        "\n",
        "<span style=\"font-weight:bold; color:green;\">&rarr; Use Python to calculate the expected value of each option.</span>\n",
        "\n",
        "You may want to use the fact that each year our expected value for the customer decreases by another half or two thirds (option B) so we get a geometric series. These are solved using the fact that:\n",
        "\n",
        "![](https://drive.google.com/uc?export=view&id=1AdGy2ZMttI-7oNTT3uBTVcjpyOHqg6dN)"
      ],
      "metadata": {
        "id": "0ji_myQvL-i1"
      }
    },
    {
      "cell_type": "code",
      "source": [
        "#-- setup the renew rates stated for each of the renewal scheme options\n",
        "\n",
        "#-- the exepected lifetime return of subscribers under option A declines over time\n",
        "\n",
        "#-- the expected lifetime return of subscribers under OPTION B is there inital first year return,\n",
        "#-- followed by a discounted amount for each subsequent year. First let's calculate what the customer\n",
        "#-- is actually worth in those subsequent years\n",
        "\n",
        "#-- and then calculate their expected lifetime value\n",
        "#-- (note the second half of the calculation is slightly different as we've already accounted for the first year)\n"
      ],
      "metadata": {
        "id": "lNhIysZVMSmO"
      },
      "execution_count": null,
      "outputs": []
    },
    {
      "cell_type": "markdown",
      "source": [
        "Note that we have ignored several of the for each option as they are the same for both, and we only want to see which option is better tahn the other relatively - option B seems significantly better.\n",
        "\n",
        "### Task 1e: Lifetime Value\n",
        "However, there is an error here. This is due to the fact we are assuming our customers live forever (allowing us to use the geometric series shortcut). The company's research in fact shows that customers only ever continue to renew subscriptions for a maximum of 10 years.\n",
        "\n",
        "<span style=\"font-weight:bold; color:green;\">&rarr; Recalculate the lifetime value of customers following OPTION A and OPTION_B using a loop for each:</span>"
      ],
      "metadata": {
        "id": "BXlB38rQMZSp"
      }
    },
    {
      "cell_type": "code",
      "source": [
        "from math import ceil\n",
        "\n",
        "#-- calculate expected customer value for Option A (tip: use a for loop)\n",
        "lifetime_return_a = 0\n",
        "for i in range(TOTAL_YEARS):\n",
        "    lifetime_return_a += customer_return * RENEW_RATE_A**i\n",
        "\n",
        "\n",
        "#-- calculate expected customer value for Option B\n",
        "#-- n.b. this time we start by adding the first year's return separately\n",
        "\n",
        "#-- and then add every subsequent years expected return to the total.\n",
        "#-- n.b. because the population only changes every two years we raise\n",
        "#-- the renew rate to the power of the year divided by 2\n"
      ],
      "metadata": {
        "id": "A7s-cqOFMm46"
      },
      "execution_count": null,
      "outputs": []
    },
    {
      "cell_type": "markdown",
      "source": [
        "Good. So Option B is still preferred - but not by quite as much...\n",
        "\n",
        "<span style=\"font-weight:bold; color:green;\">&rarr; One final question remains. How can we improve this situation for the company as this lifetime value per customer is certainly not a huge amount?</span>\n",
        "\n",
        "See the lecture slides for some potential options.\n"
      ],
      "metadata": {
        "id": "vrSiLsDHMzoC"
      }
    }
  ]
}