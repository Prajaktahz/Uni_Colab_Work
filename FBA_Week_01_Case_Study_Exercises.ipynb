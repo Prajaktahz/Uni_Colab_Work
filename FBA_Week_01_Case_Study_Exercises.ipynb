{
  "nbformat": 4,
  "nbformat_minor": 0,
  "metadata": {
    "colab": {
      "provenance": [],
      "include_colab_link": true
    },
    "kernelspec": {
      "name": "python3",
      "display_name": "Python 3"
    },
    "language_info": {
      "name": "python"
    }
  },
  "cells": [
    {
      "cell_type": "markdown",
      "metadata": {
        "id": "view-in-github",
        "colab_type": "text"
      },
      "source": [
        "<a href=\"https://colab.research.google.com/github/Prajaktahz/Uni_Colab_Work/blob/main/FBA_Week_01_Case_Study_Exercises.ipynb\" target=\"_parent\"><img src=\"https://colab.research.google.com/assets/colab-badge.svg\" alt=\"Open In Colab\"/></a>"
      ]
    },
    {
      "cell_type": "code",
      "source": [],
      "metadata": {
        "id": "Fh53jvY6i5Fe"
      },
      "execution_count": null,
      "outputs": []
    },
    {
      "cell_type": "markdown",
      "source": [
        "![alt text](http://www.cs.nott.ac.uk/~pszgss/teaching/nlab.png)\n",
        "# FBA Computing Session Week 1 - Case Study:\n",
        "\n",
        "## Financial Aggregation Website\n",
        "----------\n",
        "Dr Evgeniya Lukinova - University of Nottingham\n",
        "[mail](mailto:Evgeniya.Lukinova@nottingham.ac.uk)\n",
        "[web](http://neodemographics.org)\n",
        "\n",
        "In this task we are going to do some business analysis to a 'simple' case study scenario. From this we aim to explore what lines of attack in business analytics are specific to certain areas (\"specializations\") and which are general analytics techniques that we can apply in many different contexts (\"applications\"). However, this is just a glimpse into what you can do in Python - you are certainly not expected to understand any of this right now!\n",
        "\n",
        "### Scenario:\n",
        "Capital One is a busines/credit company. However, they are always looking for new sources of revenue. To this end they are piloting a subscription-based financial aggregation web site. The site will bring together streams of data and expertise from within Captial One, as well as external resources: data streams from external partners. The aim is to use the site as a new revenue stream for current customers, as well as attracting new ones.\n",
        "\n",
        "### Task 1a: Assessing the costs and revenues\n",
        "Details we have been given are as follows:\n",
        "- The company will charge £24/year for a subscription\n",
        "- They will receive £1/month per customer in advertising revenue\n",
        "- It will cost the company £600k/year to accure the site's data content.\n",
        "- Hosting (i.e. bandwidth and technical infrastucture) for the site will cost 50p/month per customer.\n",
        "\n",
        "<span style=\"font-weight:bold; color:green;\">&rarr; Use Python to create variables for yearly values for these items:<span/>"
      ],
      "metadata": {
        "id": "-5K2jAD1wX2Y"
      }
    },
    {
      "cell_type": "code",
      "execution_count": 70,
      "metadata": {
        "id": "9_jSV9rWGnaM"
      },
      "outputs": [],
      "source": [
        "#-- per customer items\n",
        "subscription_revenue_per_year = 24\n",
        "advertising_revenue_per_month = 1\n",
        "#-- per website items\n",
        "hosting_expense_per_month = 0.5\n",
        "site_data_expense = 600000"
      ]
    },
    {
      "cell_type": "markdown",
      "source": [
        "### Task 1b: Assessing the Break Even point\n",
        "Now we just need to calculate a profit_per_customer variable, and use that to work out how many customers we need for the new website to break even.\n",
        "<span style=\"font-weight:bold; color:green;\">&rarr; Use Python to create variables for yearly values for these items:<span/>"
      ],
      "metadata": {
        "id": "r89RRAEpK6Ny"
      }
    },
    {
      "cell_type": "code",
      "source": [
        "break_even_no = 0\n",
        "customer_return = 0\n",
        "\n",
        "total_revenue_per_customer =  subscription_revenue_per_year + (advertising_revenue_per_month *12) - hosting_expense_per_month * 12\n",
        "total_expense =  + site_data_expense\n",
        "\n",
        "break_even_no = site_data_expense / (total_revenue_per_customer)\n",
        "\n",
        "#Gross Profit per Customer is calculated by dividing your total revenue by the total number of customers you have.\n",
        "#src:https://www.causal.app/calculate/salesforce-gross-profit-per-customer#:~:text=Gross%20Profit%20per%20Customer%20is%20calculated%20by%20dividing%20your%20total,number%20of%20customers%20you%20have.\n",
        "\n",
        "customer_return = total_expense / break_even_no\n",
        "\n",
        "print('Total Revenue per customer is: ', total_revenue_per_customer)\n",
        "print('Total Expense per customer is: ', total_expense)\n",
        "print(\"{} customers required to break even given a £{} profit each\".format(int(break_even_no), customer_return))"
      ],
      "metadata": {
        "id": "1b7LOY-FTbO7",
        "outputId": "f29eaee6-1288-43ef-902b-1dfef5d3e8b4",
        "colab": {
          "base_uri": "https://localhost:8080/"
        }
      },
      "execution_count": 71,
      "outputs": [
        {
          "output_type": "stream",
          "name": "stdout",
          "text": [
            "Total Revenue per customer is:  30.0\n",
            "Total Expense per customer is:  600000\n",
            "20000 customers required to break even given a £30.0 profit each\n"
          ]
        }
      ]
    },
    {
      "cell_type": "markdown",
      "source": [
        "### Task 1c: Advertising to customers\n",
        "Somehow we have to obtain these customers - advertising via direct emails seems like a good place to start. The company tells us that:\n",
        "- Direct mails cost 50p per customer\n",
        "- That we should expect a 1% response rate\n",
        "\n",
        "<span style=\"font-weight:bold; color:green;\">&rarr; Use Python to recalculate our break even no. of customer in light of this new information</span>"
      ],
      "metadata": {
        "id": "6Gq1E0VbLKCz"
      }
    },
    {
      "cell_type": "code",
      "source": [
        "direct_mail_cost = 0.5\n",
        "expected_respose_rate = 0.01\n",
        "total_mail_cost_per_customer = direct_mail_cost / expected_respose_rate\n",
        "print('the mail cost per customer is :',total_mail_cost_per_customer)\n",
        "\n",
        "total_revenue_per_customer_new = total_revenue_per_customer - total_mail_cost_per_customer\n",
        "print('New total rev per cutomer is: ',total_revenue_per_customer_new)\n",
        "\n",
        "break_even_customers = site_data_expense / total_revenue_per_customer_new\n",
        "print(\"Thus, the new break even no. of customers will be: \",break_even_customers)\n",
        "\n",
        "if total_revenue_per_customer_new < 0 :\n",
        "  print(\"As revenue per customer is negative, it means that the company's expense is over exceeding the revenue generated and company is losing money.\")\n"
      ],
      "metadata": {
        "id": "t28ap5uHK5uK",
        "outputId": "901ea47e-2dd3-49c2-85ae-b58e51e5d9b6",
        "colab": {
          "base_uri": "https://localhost:8080/"
        }
      },
      "execution_count": 72,
      "outputs": [
        {
          "output_type": "stream",
          "name": "stdout",
          "text": [
            "the mail cost per customer is : 50.0\n",
            "New total rev per cutomer is:  -20.0\n",
            "Thus, the new break even no. of customers will be:  -30000.0\n",
            "As revenue per customer is negative, it means that the company's expense is over exceeding the revenue generated and company is losing money.\n"
          ]
        }
      ]
    },
    {
      "cell_type": "markdown",
      "source": [
        "### Task 1d: Customer Retention\n",
        "Oh dear. This is not a good situation to be in, as we are losing money overall for each customer we recruit. How might we address this? We have numerous potential options open to us, such as:\n",
        "\n",
        "- Raising our subscription prices\n",
        "- Raising our advertising prices\n",
        "- Reducing our infrastructure costs\n",
        "- Retaining customers, rather than recapturing them each year\n",
        "\n",
        "Let's examine the last option. A direct email to those who have subscribed in the first year, at our normal direct mail cost of 50p / customer, seems sensible. Then we don't need to advertise. But not all accept, and maybe we need to incentivise that customer base to re-subscribe through a special offer. Let's consider the following two options:\n",
        "\n",
        "-  <b>OPTION A.</b> Send an email reminder about renewing to each subscribrer, to which 50% of subscribers are expected to respond positively to.\n",
        "-  <b>OPTION B.</b> Send an email offering a free extra year's subscritpion if the subscriber renews now - to which two thirds of subscribers will respond positively.\n",
        "\n",
        "<span style=\"font-weight:bold; color:green;\">&rarr; Use Python to calculate the expected value of each option.</span>\n",
        "\n",
        "You may want to use the fact that each year our expected value for the customer decreases by another half or two thirds (option B) so we get a geometric series. These are solved using the fact that:\n",
        "\n",
        "![](https://drive.google.com/uc?export=view&id=1AdGy2ZMttI-7oNTT3uBTVcjpyOHqg6dN)"
      ],
      "metadata": {
        "id": "0ji_myQvL-i1"
      }
    },
    {
      "cell_type": "code",
      "source": [
        "#-- setup the renew rates stated for each of the renewal scheme options\n",
        "total_revenue_per_customer_for_option_a = subscription_revenue_per_year + advertising_revenue_per_month * 12 - hosting_expense_per_month * 12\n",
        "print('Revenue per customer as per option a for all yrs they are subscribed: ', total_revenue_per_customer_for_option_a)\n",
        "#-- the exepected lifetime return of subscribers under option A declines over time\n",
        "expected_respose_rate_option_a = 0.5\n",
        "#-- the expected lifetime return of subscribers under OPTION B is there inital first year return,\n",
        "expected_respose_rate_option_b = 2/3\n",
        "#-- followed by a discounted amount for each subsequent year. First let's calculate what the customer\n",
        "#-- is actually worth in those subsequent years\n",
        "new_subscription_value_after_1yr = 12\n",
        "revenue_per_customer_form_next_year_as_per_option_b = new_subscription_value_after_1yr + advertising_revenue_per_month * 12 - hosting_expense_per_month * 12\n",
        "print('Revenue in first yr as per option b will be same as option a which is :', total_revenue_per_customer_for_option_a)\n",
        "print('Total revenue per customer in option B from a yr ahead of subscription: ', revenue_per_customer_form_next_year_as_per_option_b)\n",
        "\n",
        "def calc_val_A(expected_respose_rate):\n",
        "  return 1/(1-expected_respose_rate)\n",
        "\n",
        "\n",
        "def calc_val_B(expected_respose_rate):\n",
        "  return 2 * (calc_val_A(expected_respose_rate) - 1)\n",
        "\n",
        "#-- and then calculate their expected lifetime value\n",
        "expected_life_time_value_of_customer_option_a = total_revenue_per_customer_for_option_a * calc_val_A(expected_respose_rate_option_a)\n",
        "print('Expected lifetime value of customer using option A is: ', round(expected_life_time_value_of_customer_option_a))\n",
        "#-- (note the second half of the calculation is slightly different as we've already accounted for the first year)\n",
        "expected_life_time_value_of_customer_option_b = total_revenue_per_customer_for_option_a + revenue_per_customer_form_next_year_as_per_option_b * calc_val_B(expected_respose_rate_option_b)\n",
        "print('Expected lifetime value of customer using option B is: ', round(expected_life_time_value_of_customer_option_b))\n",
        "\n",
        "\n",
        "\n",
        "\n",
        "\n",
        "\n"
      ],
      "metadata": {
        "id": "lNhIysZVMSmO",
        "colab": {
          "base_uri": "https://localhost:8080/"
        },
        "outputId": "b7900240-2bc8-4dbc-ed51-306c7a089317"
      },
      "execution_count": 73,
      "outputs": [
        {
          "output_type": "stream",
          "name": "stdout",
          "text": [
            "Revenue per customer as per option a for all yrs they are subscribed:  30.0\n",
            "Revenue in first yr as per option b will be same as option a which is : 30.0\n",
            "Total revenue per customer in option B from a yr ahead of subscription:  18.0\n",
            "Expected lifetime value of customer using option A is:  60\n",
            "Expected lifetime value of customer using option B is:  102\n"
          ]
        }
      ]
    },
    {
      "cell_type": "markdown",
      "source": [
        "Note that we have ignored several of the for each option as they are the same for both, and we only want to see which option is better tahn the other relatively - option B seems significantly better.\n",
        "\n",
        "### Task 1e: Lifetime Value\n",
        "However, there is an error here. This is due to the fact we are assuming our customers live forever (allowing us to use the geometric series shortcut). The company's research in fact shows that customers only ever continue to renew subscriptions for a maximum of 10 years.\n",
        "\n",
        "<span style=\"font-weight:bold; color:green;\">&rarr; Recalculate the lifetime value of customers following OPTION A and OPTION_B using a loop for each:</span>"
      ],
      "metadata": {
        "id": "BXlB38rQMZSp"
      }
    },
    {
      "cell_type": "code",
      "source": [
        "from math import ceil\n",
        "\n",
        "#-- calculate expected customer value for Option A (tip: use a for loop)\n",
        "lifetime_return_a = 0\n",
        "RENEW_YEARS = 10\n",
        "RENEW_RATE_A = 0.5\n",
        "customer_return = 30\n",
        "TOTAL_YEARS =  1 + RENEW_YEARS\n",
        "i = 1\n",
        "for i in range(TOTAL_YEARS):\n",
        "    lifetime_return_a += customer_return * RENEW_RATE_A**i\n",
        "\n",
        "print('The lifetime return value for 10 yrs using option A will be: {:.2f}'.format(lifetime_return_a))\n",
        "\n",
        "\n",
        "#-- calculate expected customer value for Option B\n",
        "RENEW_RATE_A = 2/3\n",
        "customer_return_first_yr = 30\n",
        "customer_return_later_yrs = 18\n",
        "lifetime_return_b = customer_return_first_yr\n",
        "#-- n.b. this time we start by adding the first year's return separately\n",
        "j = 0\n",
        "for i in range(1, TOTAL_YEARS, 2):\n",
        "  j = j + 1\n",
        "  lifetime_return_b +=  2 * customer_return_later_yrs * RENEW_RATE_A**(j)\n",
        "  #print(lifetime_return_b)\n",
        "\n",
        "print('The lifetime return value for 10 yrs using option B will be: {:.2f}'.format(lifetime_return_b))\n",
        "#-- and then add every subsequent years expected return to the total.\n",
        "#-- n.b. because the population only changes every two years we raise\n",
        "#-- the renew rate to the power of the year divided by 2\n"
      ],
      "metadata": {
        "id": "A7s-cqOFMm46",
        "outputId": "d4a5e870-c17b-4d29-e81e-3aaea733d8a7",
        "colab": {
          "base_uri": "https://localhost:8080/"
        }
      },
      "execution_count": 76,
      "outputs": [
        {
          "output_type": "stream",
          "name": "stdout",
          "text": [
            "The lifetime return value for 10 yrs using option A will be: 59.97\n",
            "The lifetime return value for 10 yrs using option B will be: 92.52\n"
          ]
        }
      ]
    },
    {
      "cell_type": "markdown",
      "source": [
        "Good. So Option B is still preferred - but not by quite as much...\n",
        "\n",
        "<span style=\"font-weight:bold; color:green;\">&rarr; One final question remains. How can we improve this situation for the company as this lifetime value per customer is certainly not a huge amount?</span>\n",
        "\n",
        "See the lecture slides for some potential options.\n"
      ],
      "metadata": {
        "id": "vrSiLsDHMzoC"
      }
    }
  ]
}