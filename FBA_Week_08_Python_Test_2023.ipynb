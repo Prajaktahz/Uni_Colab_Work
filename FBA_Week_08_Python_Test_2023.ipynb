{
  "nbformat": 4,
  "nbformat_minor": 0,
  "metadata": {
    "colab": {
      "provenance": [],
      "include_colab_link": true
    },
    "kernelspec": {
      "name": "python3",
      "display_name": "Python 3"
    },
    "language_info": {
      "name": "python"
    }
  },
  "cells": [
    {
      "cell_type": "markdown",
      "metadata": {
        "id": "view-in-github",
        "colab_type": "text"
      },
      "source": [
        "<a href=\"https://colab.research.google.com/github/Prajaktahz/Uni_Colab_Work/blob/main/FBA_Week_08_Python_Test_2023.ipynb\" target=\"_parent\"><img src=\"https://colab.research.google.com/assets/colab-badge.svg\" alt=\"Open In Colab\"/></a>"
      ]
    },
    {
      "cell_type": "markdown",
      "source": [
        "![alt text](http://www.cs.nott.ac.uk/~pszgss/teaching/nlab.png)\n",
        "# FBA Python Test 2023\n",
        "\n",
        "* You have one hour to finish this test.\n",
        "* Please enter your answers into the spaces provided.\n",
        "* We recommend that you show comments in your code, to evidence your work if possible (comments may earn some credit even if your script code is not 100% correct).\n",
        "* In this test you will not be marked on elegance or efficiency, but rather getting the correct result in the instructed manner.\n",
        "* Partial answers can still gain some marks, so please move onto the next question if you get stuck.\n",
        "* As a guideline, question 5 is roughly halfway through the test.\n",
        "* When you finish **do not forget to download your work as .ipynb file and upload it using Moodle submission link before 10:35 AM**."
      ],
      "metadata": {
        "id": "85OSfqM1RBec"
      }
    },
    {
      "cell_type": "markdown",
      "source": [
        "## Your Name\n",
        "\n",
        "Please print out your full name in the box below"
      ],
      "metadata": {
        "id": "hJZ1RpjjR6EK"
      }
    },
    {
      "cell_type": "code",
      "source": [
        "#print out your full name here\n",
        "'Prajakta Harihar Zaavde'"
      ],
      "metadata": {
        "id": "m5vaVsHISBlF",
        "colab": {
          "base_uri": "https://localhost:8080/",
          "height": 35
        },
        "outputId": "9d11f2a6-34f7-4e67-97da-9590949da588"
      },
      "execution_count": 1,
      "outputs": [
        {
          "output_type": "execute_result",
          "data": {
            "text/plain": [
              "'Prajakta Harihar Zaavde'"
            ],
            "application/vnd.google.colaboratory.intrinsic+json": {
              "type": "string"
            }
          },
          "metadata": {},
          "execution_count": 1
        }
      ]
    },
    {
      "cell_type": "markdown",
      "source": [
        "## Section 1 - Variables, Types & Casting\n",
        "\n",
        "### Q1.1: Variable assignment (2 marks)\n",
        "\n",
        "Store your university login as a string (e.g. mine is lizel) in a variable **login** and print the type of your variable."
      ],
      "metadata": {
        "id": "VospSTQGSCXa"
      }
    },
    {
      "cell_type": "code",
      "source": [
        "#enter your answer here\n",
        "login = 'lixpz19'\n",
        "print(type(login))"
      ],
      "metadata": {
        "id": "oi8qAgwOTb3z",
        "colab": {
          "base_uri": "https://localhost:8080/"
        },
        "outputId": "41a90177-0605-4204-c493-c296a8dc4aba"
      },
      "execution_count": 2,
      "outputs": [
        {
          "output_type": "stream",
          "name": "stdout",
          "text": [
            "<class 'str'>\n"
          ]
        }
      ]
    },
    {
      "cell_type": "markdown",
      "source": [
        "### Q1.2: Data Types & Casting  (3 marks)\n",
        "\n",
        "In this question we want to:\n",
        "* Assign to a variable **a** the integer value of 2\n",
        "* Assign to a variable **b** the float value of 16.8\n",
        "* Assign to a variable **c** the string value of '9.3'\n",
        "* Assign to a variable **d** the sum of **a**, **b** and **c** (you will need to convert a variable from one type to another).\n",
        "* Print the value of the variable **d** (the correct answer is 28.1)"
      ],
      "metadata": {
        "id": "ZL7Z4m4pTcr4"
      }
    },
    {
      "cell_type": "code",
      "source": [
        "#enter your answer here\n",
        "a = 2\n",
        "b = float(16.8)\n",
        "c = '9.3'\n",
        "d = float(a) + b + float(c)\n",
        "print(d)"
      ],
      "metadata": {
        "id": "4Xg7GyptUG4-",
        "colab": {
          "base_uri": "https://localhost:8080/"
        },
        "outputId": "6214fb15-0040-41b1-c7d6-7f3d0cbf58cd"
      },
      "execution_count": 3,
      "outputs": [
        {
          "output_type": "stream",
          "name": "stdout",
          "text": [
            "28.1\n"
          ]
        }
      ]
    },
    {
      "cell_type": "markdown",
      "source": [
        "## Section 2 - Loops & Conditionals\n",
        "\n",
        "In this section, your goal is to print every 4th number between 1 and 40 (that is: 4, 8, 12, 16, 20, 24, 28, 32, 36, 40). You will be asked to do this in several ways, using different python functions. Please complete these below:\n",
        "\n",
        "### Q2.1: Use a for loop and the range() function (3 marks)"
      ],
      "metadata": {
        "id": "y3nu7PLsUJXn"
      }
    },
    {
      "cell_type": "code",
      "source": [
        "#enter your answer here\n",
        "for i in range(0,41,4):\n",
        "  print(i)"
      ],
      "metadata": {
        "id": "toXe2uMmUazH",
        "colab": {
          "base_uri": "https://localhost:8080/"
        },
        "outputId": "a8f2e365-e09b-4ffa-f725-d03088dff4c4"
      },
      "execution_count": 6,
      "outputs": [
        {
          "output_type": "stream",
          "name": "stdout",
          "text": [
            "0\n",
            "4\n",
            "8\n",
            "12\n",
            "16\n",
            "20\n",
            "24\n",
            "28\n",
            "32\n",
            "36\n",
            "40\n"
          ]
        }
      ]
    },
    {
      "cell_type": "markdown",
      "source": [
        "### Q2.2: Use a while loop - 1 (3 marks)\n",
        "\n",
        "This time we want to use a while loop with a counter. The condition of your while loop should depend on a variable you create to count where you are in the loop."
      ],
      "metadata": {
        "id": "wOXWvte5UfUZ"
      }
    },
    {
      "cell_type": "code",
      "source": [
        "#enter your answer here\n",
        "i = 0\n",
        "while(i < 41):\n",
        "  print(i)\n",
        "  i = i+ 4"
      ],
      "metadata": {
        "id": "g0pnkkgJVEZ0",
        "colab": {
          "base_uri": "https://localhost:8080/"
        },
        "outputId": "2602ebb2-bc02-4c85-8c9d-03f6f8a86af5"
      },
      "execution_count": 7,
      "outputs": [
        {
          "output_type": "stream",
          "name": "stdout",
          "text": [
            "0\n",
            "4\n",
            "8\n",
            "12\n",
            "16\n",
            "20\n",
            "24\n",
            "28\n",
            "32\n",
            "36\n",
            "40\n"
          ]
        }
      ]
    },
    {
      "cell_type": "markdown",
      "source": [
        "### Q2.3: Use a while loop - 2 (3 marks)\n",
        "\n",
        "This time we want to use a counter and a 'while True' loop (infinite loop). You must exit the loop using the **continue** or **break** statement (n.b. only one of these two commands will do what you want), and any other commands that you think are useful."
      ],
      "metadata": {
        "id": "3l5OBIDOVFEG"
      }
    },
    {
      "cell_type": "code",
      "source": [
        "#enter your answer here\n",
        "i = 0\n",
        "while(True):\n",
        "  if(i < 41):\n",
        "    print(i)\n",
        "    i = i + 4\n",
        "    continue\n",
        "  else:\n",
        "    break"
      ],
      "metadata": {
        "id": "CDInjCuVVa4u",
        "colab": {
          "base_uri": "https://localhost:8080/"
        },
        "outputId": "722a2992-87af-4571-aeaa-bbae72502011"
      },
      "execution_count": 9,
      "outputs": [
        {
          "output_type": "stream",
          "name": "stdout",
          "text": [
            "0\n",
            "4\n",
            "8\n",
            "12\n",
            "16\n",
            "20\n",
            "24\n",
            "28\n",
            "32\n",
            "36\n",
            "40\n"
          ]
        }
      ]
    },
    {
      "cell_type": "markdown",
      "source": [
        "## Section 3 - If statements\n",
        "\n",
        "### Q3.1: Using if, elif and else (3 marks)\n",
        "Given a variable **x** containing a number, write a script that does the following:\n",
        "- If the number in **x** is negative or equal to zero, print : 'The number is negative or zero'\n",
        "- If the number in **x** is positive and even, print: 'The number is positive and even'\n",
        "- If the number in **x** is positive and odd, print: 'The number is positive and odd'\n",
        "\n",
        "Remember that you have to use **if**, **elif** and **else** in this question."
      ],
      "metadata": {
        "id": "nx1J075YVlck"
      }
    },
    {
      "cell_type": "code",
      "source": [
        "x = 2 # You can change the value of x to -3, 0, 2, 9 to cover the different cases and test your code\n",
        "if(x <= 0):\n",
        "  print('The number is negative or zero')\n",
        "elif(x > 0 and x%2 == 0):\n",
        "  print('The number is positive and even')\n",
        "else:\n",
        "  print('The number is positive and odd')\n",
        "#enter your answer here"
      ],
      "metadata": {
        "id": "hyzIIOmZV3M0",
        "colab": {
          "base_uri": "https://localhost:8080/"
        },
        "outputId": "16bcafb0-7903-4a37-9ea7-9ed42360f56d"
      },
      "execution_count": 14,
      "outputs": [
        {
          "output_type": "stream",
          "name": "stdout",
          "text": [
            "The number is positive and even\n"
          ]
        }
      ]
    },
    {
      "cell_type": "markdown",
      "source": [
        "### Q3.2: Nested conditionals (3 marks)\n",
        "Finally, (and given the same variable **x**) please use <i>nested</i> if statements to cover the following cases:\n",
        "- If the number is negative or equal to zero:\n",
        "    - And if the number is even, print: 'The number is negative or zero and even'\n",
        "    - And if the number is odd, print: 'The number is negative or zero and odd'\n",
        "- If the number is positive:\n",
        "    - And if the number is even, print: 'The number is positive and even'\n",
        "    - And if the number is odd, print: 'The number is positive and odd'"
      ],
      "metadata": {
        "id": "ZezJGOwYWOhx"
      }
    },
    {
      "cell_type": "code",
      "source": [
        "x = 0 # You can change the value of x to -3, 0, 2, 9 to cover the different cases and test your code\n",
        "if( x <= 0):\n",
        "  if(x%2 == 0):\n",
        "    print('The number is negative or zero and even')\n",
        "  else:\n",
        "    print('The number is negative or zero and odd')\n",
        "else:\n",
        "  if(x%2 == 0):\n",
        "    print( 'The number is positive and even')\n",
        "  else:\n",
        "    print('The number is positive and odd')\n",
        "#enter your answer here"
      ],
      "metadata": {
        "id": "IgYmBxSnWfy5",
        "colab": {
          "base_uri": "https://localhost:8080/"
        },
        "outputId": "05cc3a66-9374-458e-e72c-3e699720ad7c"
      },
      "execution_count": 22,
      "outputs": [
        {
          "output_type": "stream",
          "name": "stdout",
          "text": [
            "The number is negative or zero and even\n"
          ]
        }
      ]
    },
    {
      "cell_type": "markdown",
      "source": [
        "### Q3.3: Type Checking (3 marks)\n",
        "\n",
        "This time you are asked to work with two variables **a** and **b**. Write an if statement that prints on the screen the sum of a and b if both variables are integers. Otherwise, print on the screen the following message: 'Both variables need to be integers'."
      ],
      "metadata": {
        "id": "ygGQhTBmWpYO"
      }
    },
    {
      "cell_type": "code",
      "source": [
        "a = 2\n",
        "b = 'Hello' # You can change the values of a and b to cover the different cases and test your code\n",
        "if(type(a) == int and type(b) == int):\n",
        "  c = a + b\n",
        "  print(c)\n",
        "else:\n",
        "  print('Both variables need to be integers')\n",
        "#enter your answer here"
      ],
      "metadata": {
        "id": "y_cb3lVgWtp7",
        "colab": {
          "base_uri": "https://localhost:8080/"
        },
        "outputId": "a4cf3702-6a8e-4f4f-bfca-e6b116d27380"
      },
      "execution_count": 27,
      "outputs": [
        {
          "output_type": "stream",
          "name": "stdout",
          "text": [
            "Both variables need to be integers\n"
          ]
        }
      ]
    },
    {
      "cell_type": "markdown",
      "source": [
        "## Section 4 - Data Structures\n",
        "\n",
        "### Q4.1: List creation (2 marks)\n",
        "\n",
        "Create a list that contains 4 elements: 'a', 'b', 'b' and 'd' and assign it to a variable **l**."
      ],
      "metadata": {
        "id": "XVIy2wm7W7d8"
      }
    },
    {
      "cell_type": "code",
      "source": [
        "#enter your answer here\n",
        "l = ['a','b','b','d']"
      ],
      "metadata": {
        "id": "Ydf-kTixXHrH"
      },
      "execution_count": 28,
      "outputs": []
    },
    {
      "cell_type": "markdown",
      "source": [
        "### Q4.2: List Length (1 mark)\n",
        "\n",
        "Print the length of your list"
      ],
      "metadata": {
        "id": "RPppdgqOXQB4"
      }
    },
    {
      "cell_type": "code",
      "source": [
        "#enter your answer here\n",
        "print(len(l))"
      ],
      "metadata": {
        "id": "_mCFPDanXUxA",
        "colab": {
          "base_uri": "https://localhost:8080/"
        },
        "outputId": "65d65edb-c938-4338-d1f4-4be460c4d27f"
      },
      "execution_count": 29,
      "outputs": [
        {
          "output_type": "stream",
          "name": "stdout",
          "text": [
            "4\n"
          ]
        }
      ]
    },
    {
      "cell_type": "markdown",
      "source": [
        "### Q4.3: List modification (2 marks)\n",
        "\n",
        "Update your list and change the third element (currently the second 'b') to a 'c' so that your list becomes 'a','b','c' and 'd', and then print it out."
      ],
      "metadata": {
        "id": "A2IUmhxqXVl0"
      }
    },
    {
      "cell_type": "code",
      "source": [
        "#enter your answer here\n",
        "l.insert(2,'c')\n",
        "print(l)"
      ],
      "metadata": {
        "id": "LBQ3BJXsXivK",
        "colab": {
          "base_uri": "https://localhost:8080/"
        },
        "outputId": "0d05972f-1aee-4bd2-86d2-b4d66f80e824"
      },
      "execution_count": 30,
      "outputs": [
        {
          "output_type": "stream",
          "name": "stdout",
          "text": [
            "['a', 'b', 'c', 'b', 'd']\n"
          ]
        }
      ]
    },
    {
      "cell_type": "markdown",
      "source": [
        "### Q4.4: List indexing (2 marks)\n",
        "\n",
        "Using two different ways of indexing, print the last element of your list (i.e. 'd')"
      ],
      "metadata": {
        "id": "8P_uwejvXo5m"
      }
    },
    {
      "cell_type": "code",
      "source": [
        "#enter your answer here\n",
        "print(l.index('d'))\n",
        "\n",
        "\n",
        "for i in range(len(l)):\n",
        " if(l[i] == 'd'):\n",
        "  print(i)"
      ],
      "metadata": {
        "id": "-U36PZkSXsO3",
        "colab": {
          "base_uri": "https://localhost:8080/"
        },
        "outputId": "8464e055-915e-4b97-d704-ea6fa55e7448"
      },
      "execution_count": 35,
      "outputs": [
        {
          "output_type": "stream",
          "name": "stdout",
          "text": [
            "4\n",
            "4\n"
          ]
        }
      ]
    },
    {
      "cell_type": "markdown",
      "source": [
        "### Q4.5: Dictionary Creation (3 marks)\n",
        "\n",
        "Create and assign to a variable **dict1** a dictionary that contains the following key value pairs (using one line of code):\n",
        "\n",
        "|key|value|\n",
        "|-|-|\n",
        "|ID|1|\n",
        "|Gender|Male|\n",
        "|Age|19|\n",
        "|Income|15000|\n",
        "|Spending_score|39|"
      ],
      "metadata": {
        "id": "4wpqFQRjXxl1"
      }
    },
    {
      "cell_type": "code",
      "source": [
        "#enter your answer here\n",
        "dict1 = {'ID':1, 'Gender':'Male','Age': 19,'Income':15000,'Spending_score': 39}"
      ],
      "metadata": {
        "id": "VeV4sD4WX4Wa"
      },
      "execution_count": 36,
      "outputs": []
    },
    {
      "cell_type": "markdown",
      "source": [
        "### String Manipulation\n",
        "\n",
        "This time you are given a string **s** that contains 5 comma-separated values in that order:\n",
        "1. Customer ID\n",
        "2. Gender\n",
        "3. Age\n",
        "4. Income (k£)\n",
        "5. Spending Score (between 1 and 100)\n",
        "\n",
        "In the next two questions, we will want to transform that string into a dictionary similar to the one we have just done.\n",
        "\n",
        "### Q4.6: Splitting text (2 marks)\n",
        "The first step (this question), is to split the string to obtain a list of strings, stored in a variable **split_list** and whose elements contains the data held in the string."
      ],
      "metadata": {
        "id": "ENs8GtBIYRC6"
      }
    },
    {
      "cell_type": "code",
      "source": [
        "s = \"1,Male,19,15,39\"\n",
        "#enter your answer here\n",
        "split_list = s.split(',')\n",
        "print(split_list)"
      ],
      "metadata": {
        "id": "LutUSYwwYkMt",
        "colab": {
          "base_uri": "https://localhost:8080/"
        },
        "outputId": "5a55ee01-f10d-4b4a-ced4-4a758b086274"
      },
      "execution_count": 37,
      "outputs": [
        {
          "output_type": "stream",
          "name": "stdout",
          "text": [
            "['1', 'Male', '19', '15', '39']\n"
          ]
        }
      ]
    },
    {
      "cell_type": "markdown",
      "source": [
        "### Q4.7: Populating an empty dictionary (5 marks)\n",
        "\n",
        "This time  first create an empty dictionary and assign it to a variable **dict2**. Then, we want to populate the dictionary, using the data from our list stored in **split_list**. The 1st element is the ID, the 2nd - the Gender, the 3rd - Age, the 4th - Income and the last element is the Spending_score.\n",
        "\n",
        "(n.b. if you didn't manage to extract the list in the previous question, please create your own version of **split_list** manually)\n",
        "\n",
        "Remember the two steps of this question:\n",
        "1. Create an empty dictionary and assign it to a variable **dict2**\n",
        "2. Populate your dictionary by adding new keys and assigning it the values from your **split_list** converted into the appropriate datatypes."
      ],
      "metadata": {
        "id": "nm5OUJxHYp1W"
      }
    },
    {
      "cell_type": "code",
      "source": [
        "#enter your answer here\n",
        "dict2 = {}\n",
        "\n",
        "dict2['ID'] = int(split_list[0])\n",
        "dict2['Gender'] = str(split_list[1])\n",
        "dict2['Age'] = int(split_list[2])\n",
        "dict2['Income'] = int(split_list[3])\n",
        "dict2['Spending_score'] = int(split_list[4])\n",
        "\n",
        "print(dict2)\n"
      ],
      "metadata": {
        "id": "SNlQ698sacyR",
        "colab": {
          "base_uri": "https://localhost:8080/"
        },
        "outputId": "f41f639b-6f7f-4852-8970-74982b7ac89a"
      },
      "execution_count": 38,
      "outputs": [
        {
          "output_type": "stream",
          "name": "stdout",
          "text": [
            "{'ID': 1, 'Gender': 'Male', 'Age': 19, 'Income': 15, 'Spending_score': 39}\n"
          ]
        }
      ]
    },
    {
      "cell_type": "markdown",
      "source": [
        "### Q4.8: Updating values in a dictionary (2 marks)\n",
        "\n",
        "The income was given to us in k£ (i.e., 15 corresponds to £15000). For clarity we want to update our 'income' value in the dictionary by multiplying it by 1000 so that we have a meaningful number. Once done, print your dictionary.\n",
        "\n",
        "(n.b. again, if you didn't succeed in the previous question, feel free to create your own version of **dict2** explicitly in the first line)."
      ],
      "metadata": {
        "id": "Em6PGXXQahKv"
      }
    },
    {
      "cell_type": "code",
      "source": [
        "#enter your answer here\n",
        "dict2['Income'] = dict2['Income'] * 1000\n",
        "print(dict2)"
      ],
      "metadata": {
        "id": "W_00V66cf2k8",
        "colab": {
          "base_uri": "https://localhost:8080/"
        },
        "outputId": "544b46e3-fb9a-4b09-d508-d11aaf61a21e"
      },
      "execution_count": 39,
      "outputs": [
        {
          "output_type": "stream",
          "name": "stdout",
          "text": [
            "{'ID': 1, 'Gender': 'Male', 'Age': 19, 'Income': 15000, 'Spending_score': 39}\n"
          ]
        }
      ]
    },
    {
      "cell_type": "markdown",
      "source": [
        "## Section 5 - Functions\n",
        "\n",
        "### Q5.1: A Basic function (2 marks)\n",
        "\n",
        "Create a function **say_hello** that prints on the screen 'Hello' when you call it. Add a call to your function after its definition to check if it works as expected."
      ],
      "metadata": {
        "id": "auUlTVvngp0C"
      }
    },
    {
      "cell_type": "code",
      "source": [
        "#enter your answers here\n",
        "def say_hello():\n",
        "  print('Hello')\n",
        "\n",
        "say_hello()"
      ],
      "metadata": {
        "id": "FH8_iQL4g1W7",
        "colab": {
          "base_uri": "https://localhost:8080/"
        },
        "outputId": "295d191c-b135-4de4-f0e8-71cb707bec74"
      },
      "execution_count": 40,
      "outputs": [
        {
          "output_type": "stream",
          "name": "stdout",
          "text": [
            "Hello\n"
          ]
        }
      ]
    },
    {
      "cell_type": "markdown",
      "source": [
        "### Q5.2: Function parameters  (2 marks)\n",
        "\n",
        "Create a function called **say_hello_to** that has a parameter **name** and prints 'Hello John' if you pass it the name 'John' as an argument. Add a call to your function after its definition to check if it works as expected."
      ],
      "metadata": {
        "id": "vnasAMRZg4VQ"
      }
    },
    {
      "cell_type": "code",
      "source": [
        "#enter your answer here\n",
        "def say_hello_to(name):\n",
        "  print('Hello ' + str(name))\n",
        "\n",
        "say_hello_to('John')"
      ],
      "metadata": {
        "id": "zQemrs9Cg-zp",
        "colab": {
          "base_uri": "https://localhost:8080/"
        },
        "outputId": "256bd62a-e842-48bc-ee4e-d58dfa8d8494"
      },
      "execution_count": 42,
      "outputs": [
        {
          "output_type": "stream",
          "name": "stdout",
          "text": [
            "Hello John\n"
          ]
        }
      ]
    },
    {
      "cell_type": "markdown",
      "source": [
        "### Q5.3: Returning a value (2 marks)\n",
        "\n",
        "Create a function **my_multiplication** that takes two parameters a and b and returns the product of a and b. Two function calls have been added with the expected return values so that you can check your function behavior."
      ],
      "metadata": {
        "id": "eWPzjW-khNoY"
      }
    },
    {
      "cell_type": "code",
      "source": [
        "#enter your answer here\n",
        "def my_multiplication(a,b):\n",
        "  return a*b\n",
        "#test using the following function calls\n",
        "print(my_multiplication('Hello ', 3)) # Should print 'Hello Hello Hello'\n",
        "print(my_multiplication(2, 3)) # Should print 6"
      ],
      "metadata": {
        "id": "cXu2fn59ha-U",
        "colab": {
          "base_uri": "https://localhost:8080/"
        },
        "outputId": "d047dbb8-b7a4-4ee8-d5c0-afca85762e4b"
      },
      "execution_count": 43,
      "outputs": [
        {
          "output_type": "stream",
          "name": "stdout",
          "text": [
            "Hello Hello Hello \n",
            "6\n"
          ]
        }
      ]
    },
    {
      "cell_type": "markdown",
      "source": [
        "### Q5.4: A function to extract the mode (8 marks)\n",
        "\n",
        "Write a function **extract_mode** that takes a list **lst** as a parameter and returns the mode of the list. **You *must* use a dictionary** as part of your function.\n",
        "\n",
        "Only use the core python data-types and functions to answer this question. (i.e. lists, dictionaries, if statements, for / while loops, ...)"
      ],
      "metadata": {
        "id": "32fm7kEWhfDf"
      }
    },
    {
      "cell_type": "code",
      "source": [
        "lst1 = [1, 2, 3, 4, 5, 6, 6, 6, 7] # Correct answer : 6\n",
        "lst2 = ['Monday', 'Monday', 'Tuesday', 'Wednesday', 'Thursday', 'Friday', 'Saturday', 'Sunday'] # Correct answer : 'Monday'\n",
        "\n",
        "#enter your answer here\n",
        "def extract_mode(lst):\n",
        "  dict_list = {}\n",
        "  unique_val = []\n",
        "\n",
        "  for i in lst:\n",
        "    if(i not in unique_val):\n",
        "      unique_val.append(i)\n",
        "\n",
        "  for i in unique_val:\n",
        "    dict_list[i] = lst.count(i)\n",
        "  return max(zip(dict_list.values(), dict_list.keys()))[1]\n",
        "\n",
        "print(extract_mode(lst1))\n",
        "print(extract_mode(lst2))"
      ],
      "metadata": {
        "id": "8TlNQ1Vih6T2",
        "colab": {
          "base_uri": "https://localhost:8080/"
        },
        "outputId": "dcfb17e4-7136-47f0-a86a-b2d64998ae1a"
      },
      "execution_count": 49,
      "outputs": [
        {
          "output_type": "stream",
          "name": "stdout",
          "text": [
            "6\n",
            "Monday\n"
          ]
        }
      ]
    },
    {
      "cell_type": "markdown",
      "source": [
        "## Section 6 - Module Import & Documentation\n",
        "\n",
        "### Q6.1: Importing a module (1 mark)\n",
        "\n",
        "Import the module **NumPy** with the usual shortcut name **np**"
      ],
      "metadata": {
        "id": "2A6jekJTiKoA"
      }
    },
    {
      "cell_type": "code",
      "source": [
        "#enter your answer here\n",
        "import numpy as np"
      ],
      "metadata": {
        "id": "JzJfhY0QiSaB"
      },
      "execution_count": 50,
      "outputs": []
    },
    {
      "cell_type": "markdown",
      "source": [
        "### Q6.2: Ndarray Creation (2 marks)\n",
        "\n",
        "You are given a variable **mat_data** containing nested lists. Create a NumPy array from the variable **mat_data** and assign it to a variable **mat**. Print your array."
      ],
      "metadata": {
        "id": "3DcwVcvzjELP"
      }
    },
    {
      "cell_type": "code",
      "source": [
        "mat_data = [[1,2,3,4], [5,6,7,8], [9,10,11,12]]\n",
        "\n",
        "mat = np.array(mat_data)\n",
        "#enter your answer here\n",
        "print(mat)"
      ],
      "metadata": {
        "id": "PdGCzGFojJf9",
        "colab": {
          "base_uri": "https://localhost:8080/"
        },
        "outputId": "db25a714-433c-490a-b22b-1b2ed32b1859"
      },
      "execution_count": 52,
      "outputs": [
        {
          "output_type": "stream",
          "name": "stdout",
          "text": [
            "[[ 1  2  3  4]\n",
            " [ 5  6  7  8]\n",
            " [ 9 10 11 12]]\n"
          ]
        }
      ]
    },
    {
      "cell_type": "markdown",
      "source": [
        "### Q6.3: Ndarray Shape (2 marks)\n",
        "\n",
        "Print the shape of your array."
      ],
      "metadata": {
        "id": "FX8eTXrWjL19"
      }
    },
    {
      "cell_type": "code",
      "source": [
        "#enter your answer here\n",
        "mat.shape"
      ],
      "metadata": {
        "id": "Y-OnesoWjOoF",
        "colab": {
          "base_uri": "https://localhost:8080/"
        },
        "outputId": "d499a48d-5181-413e-dabb-4a1a01e1a43c"
      },
      "execution_count": 53,
      "outputs": [
        {
          "output_type": "execute_result",
          "data": {
            "text/plain": [
              "(3, 4)"
            ]
          },
          "metadata": {},
          "execution_count": 53
        }
      ]
    },
    {
      "cell_type": "markdown",
      "source": [
        "### Q6.4: Mean (3 marks)\n",
        "\n",
        "What is the mean of each row of the matrix **mat**? Print your result. Please use a function in NumPy to do this (if needed, refer to the NumPy documentation to find the function to use and check its parameters)."
      ],
      "metadata": {
        "id": "DMpa7oiEjRma"
      }
    },
    {
      "cell_type": "code",
      "source": [
        "#enter your answer here\n",
        "np.mean(mat, axis= 1)"
      ],
      "metadata": {
        "id": "ISapMHaPjUAA",
        "colab": {
          "base_uri": "https://localhost:8080/"
        },
        "outputId": "9618ca9b-0c17-4980-a0cd-e5831d5c4ba0"
      },
      "execution_count": 55,
      "outputs": [
        {
          "output_type": "execute_result",
          "data": {
            "text/plain": [
              "array([ 2.5,  6.5, 10.5])"
            ]
          },
          "metadata": {},
          "execution_count": 55
        }
      ]
    },
    {
      "cell_type": "markdown",
      "source": [
        "### Q6.5: Transpose (2 marks)\n",
        "\n",
        "Assign to a variable **mat_t** the transpose of the matrix **mat** using a NumPy function and print it."
      ],
      "metadata": {
        "id": "_QYiLrJmjXce"
      }
    },
    {
      "cell_type": "code",
      "source": [
        "#enter your answer here\n",
        "mat_t = np.transpose(mat)\n",
        "print(mat_t)"
      ],
      "metadata": {
        "id": "AQxEIekXjdph",
        "colab": {
          "base_uri": "https://localhost:8080/"
        },
        "outputId": "4efb2d98-8e2d-4dce-f23b-6e76582533b6"
      },
      "execution_count": 56,
      "outputs": [
        {
          "output_type": "stream",
          "name": "stdout",
          "text": [
            "[[ 1  5  9]\n",
            " [ 2  6 10]\n",
            " [ 3  7 11]\n",
            " [ 4  8 12]]\n"
          ]
        }
      ]
    },
    {
      "cell_type": "markdown",
      "source": [
        "### Q6.6: Cubing (3 marks)\n",
        "\n",
        "By whatever means you see appropriate, cube (i.e. exponent 3) every item in the array **mat_t** and print the result."
      ],
      "metadata": {
        "id": "iuQiAYImjfaL"
      }
    },
    {
      "cell_type": "code",
      "source": [
        "#if you had trouble with previous sections, and can't use mat_t, please use the following array instead.\n",
        "x = np.array([[1,2,3,4], [5,6,7,8], [9,10,11,12]])\n",
        "print(x)"
      ],
      "metadata": {
        "id": "tG4NboQEjjd1",
        "colab": {
          "base_uri": "https://localhost:8080/"
        },
        "outputId": "a7a4bb63-47c8-4339-814b-f30ffcd3b899"
      },
      "execution_count": 58,
      "outputs": [
        {
          "output_type": "stream",
          "name": "stdout",
          "text": [
            "[[ 1  2  3  4]\n",
            " [ 5  6  7  8]\n",
            " [ 9 10 11 12]]\n"
          ]
        }
      ]
    },
    {
      "cell_type": "code",
      "source": [
        "#enter your answer here\n",
        "print(np.power(mat_t, 3))"
      ],
      "metadata": {
        "id": "zwKHeROFjnea",
        "colab": {
          "base_uri": "https://localhost:8080/"
        },
        "outputId": "2a6ec571-ca0d-47c9-ba6a-0bc2b73a4835"
      },
      "execution_count": 99,
      "outputs": [
        {
          "output_type": "stream",
          "name": "stdout",
          "text": [
            "[[      1   15625  531441]\n",
            " [     64   46656 1000000]\n",
            " [    729  117649 1771561]\n",
            " [   4096  262144 2985984]]\n"
          ]
        }
      ]
    },
    {
      "cell_type": "markdown",
      "source": [
        "## Section 7 - Reading a file manually\n",
        "\n",
        "Get the file **loan_data_set.csv**.\n"
      ],
      "metadata": {
        "id": "C7_qdQMzkrFp"
      }
    },
    {
      "cell_type": "code",
      "source": [
        "!wget -O loan_data_set.zip \"https://drive.google.com/uc?export=download&id=1BB_b2NQtWXWJw6OQbXXboPb3ONGsPp95\"\n",
        "!unzip loan_data_set.zip"
      ],
      "metadata": {
        "id": "y13PY_qKAy95",
        "colab": {
          "base_uri": "https://localhost:8080/"
        },
        "outputId": "f8cb770b-5ba2-4f7b-d939-012149fac672"
      },
      "execution_count": 62,
      "outputs": [
        {
          "output_type": "stream",
          "name": "stdout",
          "text": [
            "--2023-11-20 10:10:47--  https://drive.google.com/uc?export=download&id=1BB_b2NQtWXWJw6OQbXXboPb3ONGsPp95\n",
            "Resolving drive.google.com (drive.google.com)... 142.251.107.113, 142.251.107.138, 142.251.107.102, ...\n",
            "Connecting to drive.google.com (drive.google.com)|142.251.107.113|:443... connected.\n",
            "HTTP request sent, awaiting response... 303 See Other\n",
            "Location: https://doc-14-80-docs.googleusercontent.com/docs/securesc/ha0ro937gcuc7l7deffksulhg5h7mbp1/0u8ci1m7ngv3klp7kd886uaka1vno4d4/1700475000000/02584936932483403665/*/1BB_b2NQtWXWJw6OQbXXboPb3ONGsPp95?e=download&uuid=f3eb203c-7af5-4759-a0d5-0d5f4ee52421 [following]\n",
            "Warning: wildcards not supported in HTTP.\n",
            "--2023-11-20 10:10:47--  https://doc-14-80-docs.googleusercontent.com/docs/securesc/ha0ro937gcuc7l7deffksulhg5h7mbp1/0u8ci1m7ngv3klp7kd886uaka1vno4d4/1700475000000/02584936932483403665/*/1BB_b2NQtWXWJw6OQbXXboPb3ONGsPp95?e=download&uuid=f3eb203c-7af5-4759-a0d5-0d5f4ee52421\n",
            "Resolving doc-14-80-docs.googleusercontent.com (doc-14-80-docs.googleusercontent.com)... 74.125.134.132, 2607:f8b0:400c:c00::84\n",
            "Connecting to doc-14-80-docs.googleusercontent.com (doc-14-80-docs.googleusercontent.com)|74.125.134.132|:443... connected.\n",
            "HTTP request sent, awaiting response... 200 OK\n",
            "Length: 10175 (9.9K) [application/x-zip-compressed]\n",
            "Saving to: ‘loan_data_set.zip’\n",
            "\n",
            "\rloan_data_set.zip     0%[                    ]       0  --.-KB/s               \rloan_data_set.zip   100%[===================>]   9.94K  --.-KB/s    in 0s      \n",
            "\n",
            "2023-11-20 10:10:47 (70.3 MB/s) - ‘loan_data_set.zip’ saved [10175/10175]\n",
            "\n",
            "Archive:  loan_data_set.zip\n",
            "  inflating: loan_data_set.csv       \n"
          ]
        }
      ]
    },
    {
      "cell_type": "markdown",
      "source": [
        "### Q7.1: Reading the first 10 lines (6 marks)\n",
        "\n",
        "* Using the standard Python functions (open(), read(), readlines(), write(), ...), print the content of the first 10 lines of the file to the screen."
      ],
      "metadata": {
        "id": "WVexRZW2Ax7f"
      }
    },
    {
      "cell_type": "code",
      "source": [
        "#enter your answer here\n",
        "with open('loan_data_set.csv','r') as f:\n",
        "  count = 0\n",
        "  lines = f.readlines()\n",
        "  for line in lines:\n",
        "    while(count < 10):\n",
        "      print(line)\n",
        "      count = count + 1\n",
        "      break"
      ],
      "metadata": {
        "id": "Redz8UQWp6Gg",
        "colab": {
          "base_uri": "https://localhost:8080/"
        },
        "outputId": "242b997d-b99d-472e-eb73-26171062d047"
      },
      "execution_count": 67,
      "outputs": [
        {
          "output_type": "stream",
          "name": "stdout",
          "text": [
            ",Loan_ID,Gender,Married,Dependents,Education,Self_Employed,ApplicantIncome,CoapplicantIncome,LoanAmount,Loan_Amount_Term,Credit_History,Property_Area,Loan_Status\n",
            "\n",
            "0,LP001002,Male,No,0,Graduate,No,46792,0.0,,360.0,1.0,Urban,Y\n",
            "\n",
            "1,LP001003,Male,Yes,1,Graduate,No,36664,12064.0,1024.0,360.0,1.0,Rural,N\n",
            "\n",
            "2,LP001005,Male,Yes,0,Graduate,Yes,24000,0.0,528.0,360.0,1.0,Urban,Y\n",
            "\n",
            "3,LP001006,Male,Yes,0,Not Graduate,No,20664,18864.0,960.0,360.0,1.0,Urban,Y\n",
            "\n",
            "4,LP001008,Male,No,0,Graduate,No,48000,0.0,1128.0,360.0,1.0,Urban,Y\n",
            "\n",
            "5,LP001011,Male,Yes,2,Graduate,Yes,43336,33568.0,2136.0,360.0,1.0,Urban,Y\n",
            "\n",
            "6,LP001013,Male,Yes,0,Not Graduate,No,18664,12128.0,760.0,360.0,1.0,Urban,Y\n",
            "\n",
            "7,LP001014,Male,Yes,3+,Graduate,No,24288,20032.0,1264.0,360.0,0.0,Semiurban,N\n",
            "\n",
            "8,LP001018,Male,Yes,2,Graduate,No,32048,12208.0,1344.0,360.0,1.0,Urban,Y\n",
            "\n"
          ]
        }
      ]
    },
    {
      "cell_type": "markdown",
      "source": [
        "## Section 8 - Pandas\n",
        "\n",
        "This time we are going to use Pandas to load the **loan_data_set.csv** file and explore it.\n",
        "\n",
        "### Q8.1: Loading the CSV file (2 marks)\n",
        "\n",
        "First of all, import the Pandas module! Using one of Pandas functions, load the data of the CSV file into a dataframe and assign it to a variable **df**."
      ],
      "metadata": {
        "id": "oZVm61ynuwNV"
      }
    },
    {
      "cell_type": "code",
      "source": [
        "#enter your answer here\n",
        "import pandas as pd\n",
        "\n",
        "df = pd.read_csv('loan_data_set.csv')"
      ],
      "metadata": {
        "id": "pvxW9oJZu-lI"
      },
      "execution_count": 70,
      "outputs": []
    },
    {
      "cell_type": "markdown",
      "source": [
        "### Q8.2: Displaying the first 10 lines (2 marks)\n",
        "\n",
        "Print the first 10 lines of your dataframe."
      ],
      "metadata": {
        "id": "kXglU3b8vAx-"
      }
    },
    {
      "cell_type": "code",
      "source": [
        "#enter your answer here\n",
        "df.head(10)"
      ],
      "metadata": {
        "id": "P8FBOYJ-2O7j",
        "colab": {
          "base_uri": "https://localhost:8080/",
          "height": 435
        },
        "outputId": "fc0dfb2e-a42f-4eb5-b23a-a7aa4c28d910"
      },
      "execution_count": 71,
      "outputs": [
        {
          "output_type": "execute_result",
          "data": {
            "text/plain": [
              "   Unnamed: 0   Loan_ID Gender Married Dependents     Education Self_Employed  \\\n",
              "0           0  LP001002   Male      No          0      Graduate            No   \n",
              "1           1  LP001003   Male     Yes          1      Graduate            No   \n",
              "2           2  LP001005   Male     Yes          0      Graduate           Yes   \n",
              "3           3  LP001006   Male     Yes          0  Not Graduate            No   \n",
              "4           4  LP001008   Male      No          0      Graduate            No   \n",
              "5           5  LP001011   Male     Yes          2      Graduate           Yes   \n",
              "6           6  LP001013   Male     Yes          0  Not Graduate            No   \n",
              "7           7  LP001014   Male     Yes         3+      Graduate            No   \n",
              "8           8  LP001018   Male     Yes          2      Graduate            No   \n",
              "9           9  LP001020   Male     Yes          1      Graduate            No   \n",
              "\n",
              "   ApplicantIncome  CoapplicantIncome  LoanAmount  Loan_Amount_Term  \\\n",
              "0            46792                0.0         NaN             360.0   \n",
              "1            36664            12064.0      1024.0             360.0   \n",
              "2            24000                0.0       528.0             360.0   \n",
              "3            20664            18864.0       960.0             360.0   \n",
              "4            48000                0.0      1128.0             360.0   \n",
              "5            43336            33568.0      2136.0             360.0   \n",
              "6            18664            12128.0       760.0             360.0   \n",
              "7            24288            20032.0      1264.0             360.0   \n",
              "8            32048            12208.0      1344.0             360.0   \n",
              "9           102728            87744.0      2792.0             360.0   \n",
              "\n",
              "   Credit_History Property_Area Loan_Status  \n",
              "0             1.0         Urban           Y  \n",
              "1             1.0         Rural           N  \n",
              "2             1.0         Urban           Y  \n",
              "3             1.0         Urban           Y  \n",
              "4             1.0         Urban           Y  \n",
              "5             1.0         Urban           Y  \n",
              "6             1.0         Urban           Y  \n",
              "7             0.0     Semiurban           N  \n",
              "8             1.0         Urban           Y  \n",
              "9             1.0     Semiurban           N  "
            ],
            "text/html": [
              "\n",
              "  <div id=\"df-f3cb85fc-ee2f-4f49-93f7-c0c97267f03d\" class=\"colab-df-container\">\n",
              "    <div>\n",
              "<style scoped>\n",
              "    .dataframe tbody tr th:only-of-type {\n",
              "        vertical-align: middle;\n",
              "    }\n",
              "\n",
              "    .dataframe tbody tr th {\n",
              "        vertical-align: top;\n",
              "    }\n",
              "\n",
              "    .dataframe thead th {\n",
              "        text-align: right;\n",
              "    }\n",
              "</style>\n",
              "<table border=\"1\" class=\"dataframe\">\n",
              "  <thead>\n",
              "    <tr style=\"text-align: right;\">\n",
              "      <th></th>\n",
              "      <th>Unnamed: 0</th>\n",
              "      <th>Loan_ID</th>\n",
              "      <th>Gender</th>\n",
              "      <th>Married</th>\n",
              "      <th>Dependents</th>\n",
              "      <th>Education</th>\n",
              "      <th>Self_Employed</th>\n",
              "      <th>ApplicantIncome</th>\n",
              "      <th>CoapplicantIncome</th>\n",
              "      <th>LoanAmount</th>\n",
              "      <th>Loan_Amount_Term</th>\n",
              "      <th>Credit_History</th>\n",
              "      <th>Property_Area</th>\n",
              "      <th>Loan_Status</th>\n",
              "    </tr>\n",
              "  </thead>\n",
              "  <tbody>\n",
              "    <tr>\n",
              "      <th>0</th>\n",
              "      <td>0</td>\n",
              "      <td>LP001002</td>\n",
              "      <td>Male</td>\n",
              "      <td>No</td>\n",
              "      <td>0</td>\n",
              "      <td>Graduate</td>\n",
              "      <td>No</td>\n",
              "      <td>46792</td>\n",
              "      <td>0.0</td>\n",
              "      <td>NaN</td>\n",
              "      <td>360.0</td>\n",
              "      <td>1.0</td>\n",
              "      <td>Urban</td>\n",
              "      <td>Y</td>\n",
              "    </tr>\n",
              "    <tr>\n",
              "      <th>1</th>\n",
              "      <td>1</td>\n",
              "      <td>LP001003</td>\n",
              "      <td>Male</td>\n",
              "      <td>Yes</td>\n",
              "      <td>1</td>\n",
              "      <td>Graduate</td>\n",
              "      <td>No</td>\n",
              "      <td>36664</td>\n",
              "      <td>12064.0</td>\n",
              "      <td>1024.0</td>\n",
              "      <td>360.0</td>\n",
              "      <td>1.0</td>\n",
              "      <td>Rural</td>\n",
              "      <td>N</td>\n",
              "    </tr>\n",
              "    <tr>\n",
              "      <th>2</th>\n",
              "      <td>2</td>\n",
              "      <td>LP001005</td>\n",
              "      <td>Male</td>\n",
              "      <td>Yes</td>\n",
              "      <td>0</td>\n",
              "      <td>Graduate</td>\n",
              "      <td>Yes</td>\n",
              "      <td>24000</td>\n",
              "      <td>0.0</td>\n",
              "      <td>528.0</td>\n",
              "      <td>360.0</td>\n",
              "      <td>1.0</td>\n",
              "      <td>Urban</td>\n",
              "      <td>Y</td>\n",
              "    </tr>\n",
              "    <tr>\n",
              "      <th>3</th>\n",
              "      <td>3</td>\n",
              "      <td>LP001006</td>\n",
              "      <td>Male</td>\n",
              "      <td>Yes</td>\n",
              "      <td>0</td>\n",
              "      <td>Not Graduate</td>\n",
              "      <td>No</td>\n",
              "      <td>20664</td>\n",
              "      <td>18864.0</td>\n",
              "      <td>960.0</td>\n",
              "      <td>360.0</td>\n",
              "      <td>1.0</td>\n",
              "      <td>Urban</td>\n",
              "      <td>Y</td>\n",
              "    </tr>\n",
              "    <tr>\n",
              "      <th>4</th>\n",
              "      <td>4</td>\n",
              "      <td>LP001008</td>\n",
              "      <td>Male</td>\n",
              "      <td>No</td>\n",
              "      <td>0</td>\n",
              "      <td>Graduate</td>\n",
              "      <td>No</td>\n",
              "      <td>48000</td>\n",
              "      <td>0.0</td>\n",
              "      <td>1128.0</td>\n",
              "      <td>360.0</td>\n",
              "      <td>1.0</td>\n",
              "      <td>Urban</td>\n",
              "      <td>Y</td>\n",
              "    </tr>\n",
              "    <tr>\n",
              "      <th>5</th>\n",
              "      <td>5</td>\n",
              "      <td>LP001011</td>\n",
              "      <td>Male</td>\n",
              "      <td>Yes</td>\n",
              "      <td>2</td>\n",
              "      <td>Graduate</td>\n",
              "      <td>Yes</td>\n",
              "      <td>43336</td>\n",
              "      <td>33568.0</td>\n",
              "      <td>2136.0</td>\n",
              "      <td>360.0</td>\n",
              "      <td>1.0</td>\n",
              "      <td>Urban</td>\n",
              "      <td>Y</td>\n",
              "    </tr>\n",
              "    <tr>\n",
              "      <th>6</th>\n",
              "      <td>6</td>\n",
              "      <td>LP001013</td>\n",
              "      <td>Male</td>\n",
              "      <td>Yes</td>\n",
              "      <td>0</td>\n",
              "      <td>Not Graduate</td>\n",
              "      <td>No</td>\n",
              "      <td>18664</td>\n",
              "      <td>12128.0</td>\n",
              "      <td>760.0</td>\n",
              "      <td>360.0</td>\n",
              "      <td>1.0</td>\n",
              "      <td>Urban</td>\n",
              "      <td>Y</td>\n",
              "    </tr>\n",
              "    <tr>\n",
              "      <th>7</th>\n",
              "      <td>7</td>\n",
              "      <td>LP001014</td>\n",
              "      <td>Male</td>\n",
              "      <td>Yes</td>\n",
              "      <td>3+</td>\n",
              "      <td>Graduate</td>\n",
              "      <td>No</td>\n",
              "      <td>24288</td>\n",
              "      <td>20032.0</td>\n",
              "      <td>1264.0</td>\n",
              "      <td>360.0</td>\n",
              "      <td>0.0</td>\n",
              "      <td>Semiurban</td>\n",
              "      <td>N</td>\n",
              "    </tr>\n",
              "    <tr>\n",
              "      <th>8</th>\n",
              "      <td>8</td>\n",
              "      <td>LP001018</td>\n",
              "      <td>Male</td>\n",
              "      <td>Yes</td>\n",
              "      <td>2</td>\n",
              "      <td>Graduate</td>\n",
              "      <td>No</td>\n",
              "      <td>32048</td>\n",
              "      <td>12208.0</td>\n",
              "      <td>1344.0</td>\n",
              "      <td>360.0</td>\n",
              "      <td>1.0</td>\n",
              "      <td>Urban</td>\n",
              "      <td>Y</td>\n",
              "    </tr>\n",
              "    <tr>\n",
              "      <th>9</th>\n",
              "      <td>9</td>\n",
              "      <td>LP001020</td>\n",
              "      <td>Male</td>\n",
              "      <td>Yes</td>\n",
              "      <td>1</td>\n",
              "      <td>Graduate</td>\n",
              "      <td>No</td>\n",
              "      <td>102728</td>\n",
              "      <td>87744.0</td>\n",
              "      <td>2792.0</td>\n",
              "      <td>360.0</td>\n",
              "      <td>1.0</td>\n",
              "      <td>Semiurban</td>\n",
              "      <td>N</td>\n",
              "    </tr>\n",
              "  </tbody>\n",
              "</table>\n",
              "</div>\n",
              "    <div class=\"colab-df-buttons\">\n",
              "\n",
              "  <div class=\"colab-df-container\">\n",
              "    <button class=\"colab-df-convert\" onclick=\"convertToInteractive('df-f3cb85fc-ee2f-4f49-93f7-c0c97267f03d')\"\n",
              "            title=\"Convert this dataframe to an interactive table.\"\n",
              "            style=\"display:none;\">\n",
              "\n",
              "  <svg xmlns=\"http://www.w3.org/2000/svg\" height=\"24px\" viewBox=\"0 -960 960 960\">\n",
              "    <path d=\"M120-120v-720h720v720H120Zm60-500h600v-160H180v160Zm220 220h160v-160H400v160Zm0 220h160v-160H400v160ZM180-400h160v-160H180v160Zm440 0h160v-160H620v160ZM180-180h160v-160H180v160Zm440 0h160v-160H620v160Z\"/>\n",
              "  </svg>\n",
              "    </button>\n",
              "\n",
              "  <style>\n",
              "    .colab-df-container {\n",
              "      display:flex;\n",
              "      gap: 12px;\n",
              "    }\n",
              "\n",
              "    .colab-df-convert {\n",
              "      background-color: #E8F0FE;\n",
              "      border: none;\n",
              "      border-radius: 50%;\n",
              "      cursor: pointer;\n",
              "      display: none;\n",
              "      fill: #1967D2;\n",
              "      height: 32px;\n",
              "      padding: 0 0 0 0;\n",
              "      width: 32px;\n",
              "    }\n",
              "\n",
              "    .colab-df-convert:hover {\n",
              "      background-color: #E2EBFA;\n",
              "      box-shadow: 0px 1px 2px rgba(60, 64, 67, 0.3), 0px 1px 3px 1px rgba(60, 64, 67, 0.15);\n",
              "      fill: #174EA6;\n",
              "    }\n",
              "\n",
              "    .colab-df-buttons div {\n",
              "      margin-bottom: 4px;\n",
              "    }\n",
              "\n",
              "    [theme=dark] .colab-df-convert {\n",
              "      background-color: #3B4455;\n",
              "      fill: #D2E3FC;\n",
              "    }\n",
              "\n",
              "    [theme=dark] .colab-df-convert:hover {\n",
              "      background-color: #434B5C;\n",
              "      box-shadow: 0px 1px 3px 1px rgba(0, 0, 0, 0.15);\n",
              "      filter: drop-shadow(0px 1px 2px rgba(0, 0, 0, 0.3));\n",
              "      fill: #FFFFFF;\n",
              "    }\n",
              "  </style>\n",
              "\n",
              "    <script>\n",
              "      const buttonEl =\n",
              "        document.querySelector('#df-f3cb85fc-ee2f-4f49-93f7-c0c97267f03d button.colab-df-convert');\n",
              "      buttonEl.style.display =\n",
              "        google.colab.kernel.accessAllowed ? 'block' : 'none';\n",
              "\n",
              "      async function convertToInteractive(key) {\n",
              "        const element = document.querySelector('#df-f3cb85fc-ee2f-4f49-93f7-c0c97267f03d');\n",
              "        const dataTable =\n",
              "          await google.colab.kernel.invokeFunction('convertToInteractive',\n",
              "                                                    [key], {});\n",
              "        if (!dataTable) return;\n",
              "\n",
              "        const docLinkHtml = 'Like what you see? Visit the ' +\n",
              "          '<a target=\"_blank\" href=https://colab.research.google.com/notebooks/data_table.ipynb>data table notebook</a>'\n",
              "          + ' to learn more about interactive tables.';\n",
              "        element.innerHTML = '';\n",
              "        dataTable['output_type'] = 'display_data';\n",
              "        await google.colab.output.renderOutput(dataTable, element);\n",
              "        const docLink = document.createElement('div');\n",
              "        docLink.innerHTML = docLinkHtml;\n",
              "        element.appendChild(docLink);\n",
              "      }\n",
              "    </script>\n",
              "  </div>\n",
              "\n",
              "\n",
              "<div id=\"df-d94cb38c-14f5-455e-9d6c-58f8d42907bf\">\n",
              "  <button class=\"colab-df-quickchart\" onclick=\"quickchart('df-d94cb38c-14f5-455e-9d6c-58f8d42907bf')\"\n",
              "            title=\"Suggest charts\"\n",
              "            style=\"display:none;\">\n",
              "\n",
              "<svg xmlns=\"http://www.w3.org/2000/svg\" height=\"24px\"viewBox=\"0 0 24 24\"\n",
              "     width=\"24px\">\n",
              "    <g>\n",
              "        <path d=\"M19 3H5c-1.1 0-2 .9-2 2v14c0 1.1.9 2 2 2h14c1.1 0 2-.9 2-2V5c0-1.1-.9-2-2-2zM9 17H7v-7h2v7zm4 0h-2V7h2v10zm4 0h-2v-4h2v4z\"/>\n",
              "    </g>\n",
              "</svg>\n",
              "  </button>\n",
              "\n",
              "<style>\n",
              "  .colab-df-quickchart {\n",
              "      --bg-color: #E8F0FE;\n",
              "      --fill-color: #1967D2;\n",
              "      --hover-bg-color: #E2EBFA;\n",
              "      --hover-fill-color: #174EA6;\n",
              "      --disabled-fill-color: #AAA;\n",
              "      --disabled-bg-color: #DDD;\n",
              "  }\n",
              "\n",
              "  [theme=dark] .colab-df-quickchart {\n",
              "      --bg-color: #3B4455;\n",
              "      --fill-color: #D2E3FC;\n",
              "      --hover-bg-color: #434B5C;\n",
              "      --hover-fill-color: #FFFFFF;\n",
              "      --disabled-bg-color: #3B4455;\n",
              "      --disabled-fill-color: #666;\n",
              "  }\n",
              "\n",
              "  .colab-df-quickchart {\n",
              "    background-color: var(--bg-color);\n",
              "    border: none;\n",
              "    border-radius: 50%;\n",
              "    cursor: pointer;\n",
              "    display: none;\n",
              "    fill: var(--fill-color);\n",
              "    height: 32px;\n",
              "    padding: 0;\n",
              "    width: 32px;\n",
              "  }\n",
              "\n",
              "  .colab-df-quickchart:hover {\n",
              "    background-color: var(--hover-bg-color);\n",
              "    box-shadow: 0 1px 2px rgba(60, 64, 67, 0.3), 0 1px 3px 1px rgba(60, 64, 67, 0.15);\n",
              "    fill: var(--button-hover-fill-color);\n",
              "  }\n",
              "\n",
              "  .colab-df-quickchart-complete:disabled,\n",
              "  .colab-df-quickchart-complete:disabled:hover {\n",
              "    background-color: var(--disabled-bg-color);\n",
              "    fill: var(--disabled-fill-color);\n",
              "    box-shadow: none;\n",
              "  }\n",
              "\n",
              "  .colab-df-spinner {\n",
              "    border: 2px solid var(--fill-color);\n",
              "    border-color: transparent;\n",
              "    border-bottom-color: var(--fill-color);\n",
              "    animation:\n",
              "      spin 1s steps(1) infinite;\n",
              "  }\n",
              "\n",
              "  @keyframes spin {\n",
              "    0% {\n",
              "      border-color: transparent;\n",
              "      border-bottom-color: var(--fill-color);\n",
              "      border-left-color: var(--fill-color);\n",
              "    }\n",
              "    20% {\n",
              "      border-color: transparent;\n",
              "      border-left-color: var(--fill-color);\n",
              "      border-top-color: var(--fill-color);\n",
              "    }\n",
              "    30% {\n",
              "      border-color: transparent;\n",
              "      border-left-color: var(--fill-color);\n",
              "      border-top-color: var(--fill-color);\n",
              "      border-right-color: var(--fill-color);\n",
              "    }\n",
              "    40% {\n",
              "      border-color: transparent;\n",
              "      border-right-color: var(--fill-color);\n",
              "      border-top-color: var(--fill-color);\n",
              "    }\n",
              "    60% {\n",
              "      border-color: transparent;\n",
              "      border-right-color: var(--fill-color);\n",
              "    }\n",
              "    80% {\n",
              "      border-color: transparent;\n",
              "      border-right-color: var(--fill-color);\n",
              "      border-bottom-color: var(--fill-color);\n",
              "    }\n",
              "    90% {\n",
              "      border-color: transparent;\n",
              "      border-bottom-color: var(--fill-color);\n",
              "    }\n",
              "  }\n",
              "</style>\n",
              "\n",
              "  <script>\n",
              "    async function quickchart(key) {\n",
              "      const quickchartButtonEl =\n",
              "        document.querySelector('#' + key + ' button');\n",
              "      quickchartButtonEl.disabled = true;  // To prevent multiple clicks.\n",
              "      quickchartButtonEl.classList.add('colab-df-spinner');\n",
              "      try {\n",
              "        const charts = await google.colab.kernel.invokeFunction(\n",
              "            'suggestCharts', [key], {});\n",
              "      } catch (error) {\n",
              "        console.error('Error during call to suggestCharts:', error);\n",
              "      }\n",
              "      quickchartButtonEl.classList.remove('colab-df-spinner');\n",
              "      quickchartButtonEl.classList.add('colab-df-quickchart-complete');\n",
              "    }\n",
              "    (() => {\n",
              "      let quickchartButtonEl =\n",
              "        document.querySelector('#df-d94cb38c-14f5-455e-9d6c-58f8d42907bf button');\n",
              "      quickchartButtonEl.style.display =\n",
              "        google.colab.kernel.accessAllowed ? 'block' : 'none';\n",
              "    })();\n",
              "  </script>\n",
              "</div>\n",
              "    </div>\n",
              "  </div>\n"
            ]
          },
          "metadata": {},
          "execution_count": 71
        }
      ]
    },
    {
      "cell_type": "markdown",
      "source": [
        "### Q8.3: Displaying the last 5 lines (1 mark)\n",
        "\n",
        "Print the last 5 lines of your dataframe."
      ],
      "metadata": {
        "id": "79GK1IMe2Rvc"
      }
    },
    {
      "cell_type": "code",
      "source": [
        "#enter your answer here\n",
        "df.tail(5)"
      ],
      "metadata": {
        "id": "tuPrwlsm2WDx",
        "colab": {
          "base_uri": "https://localhost:8080/",
          "height": 243
        },
        "outputId": "8e10bd38-d392-4dee-962f-1ce12d7fea65"
      },
      "execution_count": 72,
      "outputs": [
        {
          "output_type": "execute_result",
          "data": {
            "text/plain": [
              "     Unnamed: 0   Loan_ID  Gender Married Dependents Education Self_Employed  \\\n",
              "609         609  LP002978  Female      No          0  Graduate            No   \n",
              "610         610  LP002979    Male     Yes         3+  Graduate            No   \n",
              "611         611  LP002983    Male     Yes          1  Graduate            No   \n",
              "612         612  LP002984    Male     Yes          2  Graduate            No   \n",
              "613         613  LP002990  Female      No          0  Graduate           Yes   \n",
              "\n",
              "     ApplicantIncome  CoapplicantIncome  LoanAmount  Loan_Amount_Term  \\\n",
              "609            23200                0.0       568.0             360.0   \n",
              "610            32848                0.0       320.0             180.0   \n",
              "611            64576             1920.0      2024.0             360.0   \n",
              "612            60664                0.0      1496.0             360.0   \n",
              "613            36664                0.0      1064.0             360.0   \n",
              "\n",
              "     Credit_History Property_Area Loan_Status  \n",
              "609             1.0         Rural           Y  \n",
              "610             1.0         Rural           Y  \n",
              "611             1.0         Urban           Y  \n",
              "612             1.0         Urban           Y  \n",
              "613             0.0     Semiurban           N  "
            ],
            "text/html": [
              "\n",
              "  <div id=\"df-e7b40b3c-7da9-4e25-9604-1b0e6c537f02\" class=\"colab-df-container\">\n",
              "    <div>\n",
              "<style scoped>\n",
              "    .dataframe tbody tr th:only-of-type {\n",
              "        vertical-align: middle;\n",
              "    }\n",
              "\n",
              "    .dataframe tbody tr th {\n",
              "        vertical-align: top;\n",
              "    }\n",
              "\n",
              "    .dataframe thead th {\n",
              "        text-align: right;\n",
              "    }\n",
              "</style>\n",
              "<table border=\"1\" class=\"dataframe\">\n",
              "  <thead>\n",
              "    <tr style=\"text-align: right;\">\n",
              "      <th></th>\n",
              "      <th>Unnamed: 0</th>\n",
              "      <th>Loan_ID</th>\n",
              "      <th>Gender</th>\n",
              "      <th>Married</th>\n",
              "      <th>Dependents</th>\n",
              "      <th>Education</th>\n",
              "      <th>Self_Employed</th>\n",
              "      <th>ApplicantIncome</th>\n",
              "      <th>CoapplicantIncome</th>\n",
              "      <th>LoanAmount</th>\n",
              "      <th>Loan_Amount_Term</th>\n",
              "      <th>Credit_History</th>\n",
              "      <th>Property_Area</th>\n",
              "      <th>Loan_Status</th>\n",
              "    </tr>\n",
              "  </thead>\n",
              "  <tbody>\n",
              "    <tr>\n",
              "      <th>609</th>\n",
              "      <td>609</td>\n",
              "      <td>LP002978</td>\n",
              "      <td>Female</td>\n",
              "      <td>No</td>\n",
              "      <td>0</td>\n",
              "      <td>Graduate</td>\n",
              "      <td>No</td>\n",
              "      <td>23200</td>\n",
              "      <td>0.0</td>\n",
              "      <td>568.0</td>\n",
              "      <td>360.0</td>\n",
              "      <td>1.0</td>\n",
              "      <td>Rural</td>\n",
              "      <td>Y</td>\n",
              "    </tr>\n",
              "    <tr>\n",
              "      <th>610</th>\n",
              "      <td>610</td>\n",
              "      <td>LP002979</td>\n",
              "      <td>Male</td>\n",
              "      <td>Yes</td>\n",
              "      <td>3+</td>\n",
              "      <td>Graduate</td>\n",
              "      <td>No</td>\n",
              "      <td>32848</td>\n",
              "      <td>0.0</td>\n",
              "      <td>320.0</td>\n",
              "      <td>180.0</td>\n",
              "      <td>1.0</td>\n",
              "      <td>Rural</td>\n",
              "      <td>Y</td>\n",
              "    </tr>\n",
              "    <tr>\n",
              "      <th>611</th>\n",
              "      <td>611</td>\n",
              "      <td>LP002983</td>\n",
              "      <td>Male</td>\n",
              "      <td>Yes</td>\n",
              "      <td>1</td>\n",
              "      <td>Graduate</td>\n",
              "      <td>No</td>\n",
              "      <td>64576</td>\n",
              "      <td>1920.0</td>\n",
              "      <td>2024.0</td>\n",
              "      <td>360.0</td>\n",
              "      <td>1.0</td>\n",
              "      <td>Urban</td>\n",
              "      <td>Y</td>\n",
              "    </tr>\n",
              "    <tr>\n",
              "      <th>612</th>\n",
              "      <td>612</td>\n",
              "      <td>LP002984</td>\n",
              "      <td>Male</td>\n",
              "      <td>Yes</td>\n",
              "      <td>2</td>\n",
              "      <td>Graduate</td>\n",
              "      <td>No</td>\n",
              "      <td>60664</td>\n",
              "      <td>0.0</td>\n",
              "      <td>1496.0</td>\n",
              "      <td>360.0</td>\n",
              "      <td>1.0</td>\n",
              "      <td>Urban</td>\n",
              "      <td>Y</td>\n",
              "    </tr>\n",
              "    <tr>\n",
              "      <th>613</th>\n",
              "      <td>613</td>\n",
              "      <td>LP002990</td>\n",
              "      <td>Female</td>\n",
              "      <td>No</td>\n",
              "      <td>0</td>\n",
              "      <td>Graduate</td>\n",
              "      <td>Yes</td>\n",
              "      <td>36664</td>\n",
              "      <td>0.0</td>\n",
              "      <td>1064.0</td>\n",
              "      <td>360.0</td>\n",
              "      <td>0.0</td>\n",
              "      <td>Semiurban</td>\n",
              "      <td>N</td>\n",
              "    </tr>\n",
              "  </tbody>\n",
              "</table>\n",
              "</div>\n",
              "    <div class=\"colab-df-buttons\">\n",
              "\n",
              "  <div class=\"colab-df-container\">\n",
              "    <button class=\"colab-df-convert\" onclick=\"convertToInteractive('df-e7b40b3c-7da9-4e25-9604-1b0e6c537f02')\"\n",
              "            title=\"Convert this dataframe to an interactive table.\"\n",
              "            style=\"display:none;\">\n",
              "\n",
              "  <svg xmlns=\"http://www.w3.org/2000/svg\" height=\"24px\" viewBox=\"0 -960 960 960\">\n",
              "    <path d=\"M120-120v-720h720v720H120Zm60-500h600v-160H180v160Zm220 220h160v-160H400v160Zm0 220h160v-160H400v160ZM180-400h160v-160H180v160Zm440 0h160v-160H620v160ZM180-180h160v-160H180v160Zm440 0h160v-160H620v160Z\"/>\n",
              "  </svg>\n",
              "    </button>\n",
              "\n",
              "  <style>\n",
              "    .colab-df-container {\n",
              "      display:flex;\n",
              "      gap: 12px;\n",
              "    }\n",
              "\n",
              "    .colab-df-convert {\n",
              "      background-color: #E8F0FE;\n",
              "      border: none;\n",
              "      border-radius: 50%;\n",
              "      cursor: pointer;\n",
              "      display: none;\n",
              "      fill: #1967D2;\n",
              "      height: 32px;\n",
              "      padding: 0 0 0 0;\n",
              "      width: 32px;\n",
              "    }\n",
              "\n",
              "    .colab-df-convert:hover {\n",
              "      background-color: #E2EBFA;\n",
              "      box-shadow: 0px 1px 2px rgba(60, 64, 67, 0.3), 0px 1px 3px 1px rgba(60, 64, 67, 0.15);\n",
              "      fill: #174EA6;\n",
              "    }\n",
              "\n",
              "    .colab-df-buttons div {\n",
              "      margin-bottom: 4px;\n",
              "    }\n",
              "\n",
              "    [theme=dark] .colab-df-convert {\n",
              "      background-color: #3B4455;\n",
              "      fill: #D2E3FC;\n",
              "    }\n",
              "\n",
              "    [theme=dark] .colab-df-convert:hover {\n",
              "      background-color: #434B5C;\n",
              "      box-shadow: 0px 1px 3px 1px rgba(0, 0, 0, 0.15);\n",
              "      filter: drop-shadow(0px 1px 2px rgba(0, 0, 0, 0.3));\n",
              "      fill: #FFFFFF;\n",
              "    }\n",
              "  </style>\n",
              "\n",
              "    <script>\n",
              "      const buttonEl =\n",
              "        document.querySelector('#df-e7b40b3c-7da9-4e25-9604-1b0e6c537f02 button.colab-df-convert');\n",
              "      buttonEl.style.display =\n",
              "        google.colab.kernel.accessAllowed ? 'block' : 'none';\n",
              "\n",
              "      async function convertToInteractive(key) {\n",
              "        const element = document.querySelector('#df-e7b40b3c-7da9-4e25-9604-1b0e6c537f02');\n",
              "        const dataTable =\n",
              "          await google.colab.kernel.invokeFunction('convertToInteractive',\n",
              "                                                    [key], {});\n",
              "        if (!dataTable) return;\n",
              "\n",
              "        const docLinkHtml = 'Like what you see? Visit the ' +\n",
              "          '<a target=\"_blank\" href=https://colab.research.google.com/notebooks/data_table.ipynb>data table notebook</a>'\n",
              "          + ' to learn more about interactive tables.';\n",
              "        element.innerHTML = '';\n",
              "        dataTable['output_type'] = 'display_data';\n",
              "        await google.colab.output.renderOutput(dataTable, element);\n",
              "        const docLink = document.createElement('div');\n",
              "        docLink.innerHTML = docLinkHtml;\n",
              "        element.appendChild(docLink);\n",
              "      }\n",
              "    </script>\n",
              "  </div>\n",
              "\n",
              "\n",
              "<div id=\"df-4cddd3f0-7a5f-47b5-b8cb-6d9bfac8ef00\">\n",
              "  <button class=\"colab-df-quickchart\" onclick=\"quickchart('df-4cddd3f0-7a5f-47b5-b8cb-6d9bfac8ef00')\"\n",
              "            title=\"Suggest charts\"\n",
              "            style=\"display:none;\">\n",
              "\n",
              "<svg xmlns=\"http://www.w3.org/2000/svg\" height=\"24px\"viewBox=\"0 0 24 24\"\n",
              "     width=\"24px\">\n",
              "    <g>\n",
              "        <path d=\"M19 3H5c-1.1 0-2 .9-2 2v14c0 1.1.9 2 2 2h14c1.1 0 2-.9 2-2V5c0-1.1-.9-2-2-2zM9 17H7v-7h2v7zm4 0h-2V7h2v10zm4 0h-2v-4h2v4z\"/>\n",
              "    </g>\n",
              "</svg>\n",
              "  </button>\n",
              "\n",
              "<style>\n",
              "  .colab-df-quickchart {\n",
              "      --bg-color: #E8F0FE;\n",
              "      --fill-color: #1967D2;\n",
              "      --hover-bg-color: #E2EBFA;\n",
              "      --hover-fill-color: #174EA6;\n",
              "      --disabled-fill-color: #AAA;\n",
              "      --disabled-bg-color: #DDD;\n",
              "  }\n",
              "\n",
              "  [theme=dark] .colab-df-quickchart {\n",
              "      --bg-color: #3B4455;\n",
              "      --fill-color: #D2E3FC;\n",
              "      --hover-bg-color: #434B5C;\n",
              "      --hover-fill-color: #FFFFFF;\n",
              "      --disabled-bg-color: #3B4455;\n",
              "      --disabled-fill-color: #666;\n",
              "  }\n",
              "\n",
              "  .colab-df-quickchart {\n",
              "    background-color: var(--bg-color);\n",
              "    border: none;\n",
              "    border-radius: 50%;\n",
              "    cursor: pointer;\n",
              "    display: none;\n",
              "    fill: var(--fill-color);\n",
              "    height: 32px;\n",
              "    padding: 0;\n",
              "    width: 32px;\n",
              "  }\n",
              "\n",
              "  .colab-df-quickchart:hover {\n",
              "    background-color: var(--hover-bg-color);\n",
              "    box-shadow: 0 1px 2px rgba(60, 64, 67, 0.3), 0 1px 3px 1px rgba(60, 64, 67, 0.15);\n",
              "    fill: var(--button-hover-fill-color);\n",
              "  }\n",
              "\n",
              "  .colab-df-quickchart-complete:disabled,\n",
              "  .colab-df-quickchart-complete:disabled:hover {\n",
              "    background-color: var(--disabled-bg-color);\n",
              "    fill: var(--disabled-fill-color);\n",
              "    box-shadow: none;\n",
              "  }\n",
              "\n",
              "  .colab-df-spinner {\n",
              "    border: 2px solid var(--fill-color);\n",
              "    border-color: transparent;\n",
              "    border-bottom-color: var(--fill-color);\n",
              "    animation:\n",
              "      spin 1s steps(1) infinite;\n",
              "  }\n",
              "\n",
              "  @keyframes spin {\n",
              "    0% {\n",
              "      border-color: transparent;\n",
              "      border-bottom-color: var(--fill-color);\n",
              "      border-left-color: var(--fill-color);\n",
              "    }\n",
              "    20% {\n",
              "      border-color: transparent;\n",
              "      border-left-color: var(--fill-color);\n",
              "      border-top-color: var(--fill-color);\n",
              "    }\n",
              "    30% {\n",
              "      border-color: transparent;\n",
              "      border-left-color: var(--fill-color);\n",
              "      border-top-color: var(--fill-color);\n",
              "      border-right-color: var(--fill-color);\n",
              "    }\n",
              "    40% {\n",
              "      border-color: transparent;\n",
              "      border-right-color: var(--fill-color);\n",
              "      border-top-color: var(--fill-color);\n",
              "    }\n",
              "    60% {\n",
              "      border-color: transparent;\n",
              "      border-right-color: var(--fill-color);\n",
              "    }\n",
              "    80% {\n",
              "      border-color: transparent;\n",
              "      border-right-color: var(--fill-color);\n",
              "      border-bottom-color: var(--fill-color);\n",
              "    }\n",
              "    90% {\n",
              "      border-color: transparent;\n",
              "      border-bottom-color: var(--fill-color);\n",
              "    }\n",
              "  }\n",
              "</style>\n",
              "\n",
              "  <script>\n",
              "    async function quickchart(key) {\n",
              "      const quickchartButtonEl =\n",
              "        document.querySelector('#' + key + ' button');\n",
              "      quickchartButtonEl.disabled = true;  // To prevent multiple clicks.\n",
              "      quickchartButtonEl.classList.add('colab-df-spinner');\n",
              "      try {\n",
              "        const charts = await google.colab.kernel.invokeFunction(\n",
              "            'suggestCharts', [key], {});\n",
              "      } catch (error) {\n",
              "        console.error('Error during call to suggestCharts:', error);\n",
              "      }\n",
              "      quickchartButtonEl.classList.remove('colab-df-spinner');\n",
              "      quickchartButtonEl.classList.add('colab-df-quickchart-complete');\n",
              "    }\n",
              "    (() => {\n",
              "      let quickchartButtonEl =\n",
              "        document.querySelector('#df-4cddd3f0-7a5f-47b5-b8cb-6d9bfac8ef00 button');\n",
              "      quickchartButtonEl.style.display =\n",
              "        google.colab.kernel.accessAllowed ? 'block' : 'none';\n",
              "    })();\n",
              "  </script>\n",
              "</div>\n",
              "    </div>\n",
              "  </div>\n"
            ]
          },
          "metadata": {},
          "execution_count": 72
        }
      ]
    },
    {
      "cell_type": "markdown",
      "source": [
        "### Q8.4: Dataframe Shape (2 marks)\n",
        "\n",
        "Print the shape of your dataframe."
      ],
      "metadata": {
        "id": "1G2WBtke2Ydf"
      }
    },
    {
      "cell_type": "code",
      "source": [
        "#enter your answer here\n",
        "df.shape"
      ],
      "metadata": {
        "id": "P2kimK-_2t9o",
        "colab": {
          "base_uri": "https://localhost:8080/"
        },
        "outputId": "064a309b-b212-4230-fc84-1d47b1347b14"
      },
      "execution_count": 73,
      "outputs": [
        {
          "output_type": "execute_result",
          "data": {
            "text/plain": [
              "(614, 14)"
            ]
          },
          "metadata": {},
          "execution_count": 73
        }
      ]
    },
    {
      "cell_type": "markdown",
      "source": [
        "### Q8.5: Column Names (2 marks)\n",
        "Print out the column names of the data frame."
      ],
      "metadata": {
        "id": "mi7l9Epj2wSu"
      }
    },
    {
      "cell_type": "code",
      "source": [
        "#enter your answer here\n",
        "df.columns"
      ],
      "metadata": {
        "id": "JNabpfyj21-n",
        "colab": {
          "base_uri": "https://localhost:8080/"
        },
        "outputId": "5ec373e5-ff67-4939-b3f3-f9b187130513"
      },
      "execution_count": 74,
      "outputs": [
        {
          "output_type": "execute_result",
          "data": {
            "text/plain": [
              "Index(['Unnamed: 0', 'Loan_ID', 'Gender', 'Married', 'Dependents', 'Education',\n",
              "       'Self_Employed', 'ApplicantIncome', 'CoapplicantIncome', 'LoanAmount',\n",
              "       'Loan_Amount_Term', 'Credit_History', 'Property_Area', 'Loan_Status'],\n",
              "      dtype='object')"
            ]
          },
          "metadata": {},
          "execution_count": 74
        }
      ]
    },
    {
      "cell_type": "markdown",
      "source": [
        "### Q8.6: Extract one column (2 marks)\n",
        "\n",
        "Print on the screen the column 'Education'."
      ],
      "metadata": {
        "id": "SUoAG6lu29W_"
      }
    },
    {
      "cell_type": "code",
      "source": [
        "#enter your answer here\n",
        "print(df.Education)"
      ],
      "metadata": {
        "id": "KymP0yqC3K8h",
        "colab": {
          "base_uri": "https://localhost:8080/"
        },
        "outputId": "b837d631-93ac-4fec-8258-56d8769caca0"
      },
      "execution_count": 76,
      "outputs": [
        {
          "output_type": "stream",
          "name": "stdout",
          "text": [
            "0          Graduate\n",
            "1          Graduate\n",
            "2          Graduate\n",
            "3      Not Graduate\n",
            "4          Graduate\n",
            "           ...     \n",
            "609        Graduate\n",
            "610        Graduate\n",
            "611        Graduate\n",
            "612        Graduate\n",
            "613        Graduate\n",
            "Name: Education, Length: 614, dtype: object\n"
          ]
        }
      ]
    },
    {
      "cell_type": "markdown",
      "source": [
        "### Q8.7: Data summary (4 marks)\n",
        "\n",
        "Print the number of Married and Non-Married individuals in the dataset using one line of code."
      ],
      "metadata": {
        "id": "KHrMik5Q3N2J"
      }
    },
    {
      "cell_type": "code",
      "source": [
        "#enter your answer here\n",
        "df.Married.value_counts()"
      ],
      "metadata": {
        "id": "WTvc1VVK3RLB",
        "colab": {
          "base_uri": "https://localhost:8080/"
        },
        "outputId": "21e05ec8-ab08-4395-c913-86a71a270fa8"
      },
      "execution_count": 77,
      "outputs": [
        {
          "output_type": "execute_result",
          "data": {
            "text/plain": [
              "Yes    398\n",
              "No     213\n",
              "Name: Married, dtype: int64"
            ]
          },
          "metadata": {},
          "execution_count": 77
        }
      ]
    },
    {
      "cell_type": "markdown",
      "source": [
        "### Q8.8: Row filtering (4 marks)\n",
        "\n",
        "Print the rows where the number of dependents is equal to 1 using one line of code."
      ],
      "metadata": {
        "id": "TSiHC1bJ3UHz"
      }
    },
    {
      "cell_type": "code",
      "source": [
        "#enter your answer here\n",
        "df[df.Dependents == '1']"
      ],
      "metadata": {
        "id": "_1oLX5jM3Zat",
        "colab": {
          "base_uri": "https://localhost:8080/",
          "height": 478
        },
        "outputId": "285da85c-6941-46ca-ec9a-63741e305768"
      },
      "execution_count": 98,
      "outputs": [
        {
          "output_type": "execute_result",
          "data": {
            "text/plain": [
              "     Unnamed: 0   Loan_ID  Gender Married Dependents     Education  \\\n",
              "1             1  LP001003    Male     Yes          1      Graduate   \n",
              "9             9  LP001020    Male     Yes          1      Graduate   \n",
              "16           16  LP001034    Male      No          1  Not Graduate   \n",
              "21           21  LP001046    Male     Yes          1      Graduate   \n",
              "24           24  LP001052    Male     Yes          1      Graduate   \n",
              "..          ...       ...     ...     ...        ...           ...   \n",
              "584         584  LP002911    Male     Yes          1      Graduate   \n",
              "585         585  LP002912    Male     Yes          1      Graduate   \n",
              "604         604  LP002959  Female     Yes          1      Graduate   \n",
              "606         606  LP002961    Male     Yes          1      Graduate   \n",
              "611         611  LP002983    Male     Yes          1      Graduate   \n",
              "\n",
              "    Self_Employed  ApplicantIncome  CoapplicantIncome  LoanAmount  \\\n",
              "1              No            36664            12064.0      1024.0   \n",
              "9              No           102728            87744.0      2792.0   \n",
              "16             No            28768                0.0       800.0   \n",
              "21             No            47640            45000.0      2520.0   \n",
              "24            NaN            29736            23400.0      1208.0   \n",
              "..            ...              ...                ...         ...   \n",
              "584            No            22296            15336.0      1168.0   \n",
              "585            No            34264            24000.0      1376.0   \n",
              "604            No            96000                0.0      3968.0   \n",
              "606            No            27200            20000.0      1384.0   \n",
              "611            No            64576             1920.0      2024.0   \n",
              "\n",
              "     Loan_Amount_Term  Credit_History Property_Area Loan_Status  TotalIncome  \n",
              "1               360.0             1.0         Rural           N      48728.0  \n",
              "9               360.0             1.0     Semiurban           N     190472.0  \n",
              "16              240.0             NaN         Urban           Y      28768.0  \n",
              "21              360.0             1.0         Urban           Y      92640.0  \n",
              "24              360.0             NaN     Semiurban           N      53136.0  \n",
              "..                ...             ...           ...         ...          ...  \n",
              "584             360.0             0.0         Rural           N      37632.0  \n",
              "585              84.0             1.0         Rural           N      58264.0  \n",
              "604             360.0             1.0     Semiurban           Y      96000.0  \n",
              "606             360.0             1.0     Semiurban           Y      47200.0  \n",
              "611             360.0             1.0         Urban           Y      66496.0  \n",
              "\n",
              "[102 rows x 15 columns]"
            ],
            "text/html": [
              "\n",
              "  <div id=\"df-64e61895-0408-4b2f-a68b-dcb449871460\" class=\"colab-df-container\">\n",
              "    <div>\n",
              "<style scoped>\n",
              "    .dataframe tbody tr th:only-of-type {\n",
              "        vertical-align: middle;\n",
              "    }\n",
              "\n",
              "    .dataframe tbody tr th {\n",
              "        vertical-align: top;\n",
              "    }\n",
              "\n",
              "    .dataframe thead th {\n",
              "        text-align: right;\n",
              "    }\n",
              "</style>\n",
              "<table border=\"1\" class=\"dataframe\">\n",
              "  <thead>\n",
              "    <tr style=\"text-align: right;\">\n",
              "      <th></th>\n",
              "      <th>Unnamed: 0</th>\n",
              "      <th>Loan_ID</th>\n",
              "      <th>Gender</th>\n",
              "      <th>Married</th>\n",
              "      <th>Dependents</th>\n",
              "      <th>Education</th>\n",
              "      <th>Self_Employed</th>\n",
              "      <th>ApplicantIncome</th>\n",
              "      <th>CoapplicantIncome</th>\n",
              "      <th>LoanAmount</th>\n",
              "      <th>Loan_Amount_Term</th>\n",
              "      <th>Credit_History</th>\n",
              "      <th>Property_Area</th>\n",
              "      <th>Loan_Status</th>\n",
              "      <th>TotalIncome</th>\n",
              "    </tr>\n",
              "  </thead>\n",
              "  <tbody>\n",
              "    <tr>\n",
              "      <th>1</th>\n",
              "      <td>1</td>\n",
              "      <td>LP001003</td>\n",
              "      <td>Male</td>\n",
              "      <td>Yes</td>\n",
              "      <td>1</td>\n",
              "      <td>Graduate</td>\n",
              "      <td>No</td>\n",
              "      <td>36664</td>\n",
              "      <td>12064.0</td>\n",
              "      <td>1024.0</td>\n",
              "      <td>360.0</td>\n",
              "      <td>1.0</td>\n",
              "      <td>Rural</td>\n",
              "      <td>N</td>\n",
              "      <td>48728.0</td>\n",
              "    </tr>\n",
              "    <tr>\n",
              "      <th>9</th>\n",
              "      <td>9</td>\n",
              "      <td>LP001020</td>\n",
              "      <td>Male</td>\n",
              "      <td>Yes</td>\n",
              "      <td>1</td>\n",
              "      <td>Graduate</td>\n",
              "      <td>No</td>\n",
              "      <td>102728</td>\n",
              "      <td>87744.0</td>\n",
              "      <td>2792.0</td>\n",
              "      <td>360.0</td>\n",
              "      <td>1.0</td>\n",
              "      <td>Semiurban</td>\n",
              "      <td>N</td>\n",
              "      <td>190472.0</td>\n",
              "    </tr>\n",
              "    <tr>\n",
              "      <th>16</th>\n",
              "      <td>16</td>\n",
              "      <td>LP001034</td>\n",
              "      <td>Male</td>\n",
              "      <td>No</td>\n",
              "      <td>1</td>\n",
              "      <td>Not Graduate</td>\n",
              "      <td>No</td>\n",
              "      <td>28768</td>\n",
              "      <td>0.0</td>\n",
              "      <td>800.0</td>\n",
              "      <td>240.0</td>\n",
              "      <td>NaN</td>\n",
              "      <td>Urban</td>\n",
              "      <td>Y</td>\n",
              "      <td>28768.0</td>\n",
              "    </tr>\n",
              "    <tr>\n",
              "      <th>21</th>\n",
              "      <td>21</td>\n",
              "      <td>LP001046</td>\n",
              "      <td>Male</td>\n",
              "      <td>Yes</td>\n",
              "      <td>1</td>\n",
              "      <td>Graduate</td>\n",
              "      <td>No</td>\n",
              "      <td>47640</td>\n",
              "      <td>45000.0</td>\n",
              "      <td>2520.0</td>\n",
              "      <td>360.0</td>\n",
              "      <td>1.0</td>\n",
              "      <td>Urban</td>\n",
              "      <td>Y</td>\n",
              "      <td>92640.0</td>\n",
              "    </tr>\n",
              "    <tr>\n",
              "      <th>24</th>\n",
              "      <td>24</td>\n",
              "      <td>LP001052</td>\n",
              "      <td>Male</td>\n",
              "      <td>Yes</td>\n",
              "      <td>1</td>\n",
              "      <td>Graduate</td>\n",
              "      <td>NaN</td>\n",
              "      <td>29736</td>\n",
              "      <td>23400.0</td>\n",
              "      <td>1208.0</td>\n",
              "      <td>360.0</td>\n",
              "      <td>NaN</td>\n",
              "      <td>Semiurban</td>\n",
              "      <td>N</td>\n",
              "      <td>53136.0</td>\n",
              "    </tr>\n",
              "    <tr>\n",
              "      <th>...</th>\n",
              "      <td>...</td>\n",
              "      <td>...</td>\n",
              "      <td>...</td>\n",
              "      <td>...</td>\n",
              "      <td>...</td>\n",
              "      <td>...</td>\n",
              "      <td>...</td>\n",
              "      <td>...</td>\n",
              "      <td>...</td>\n",
              "      <td>...</td>\n",
              "      <td>...</td>\n",
              "      <td>...</td>\n",
              "      <td>...</td>\n",
              "      <td>...</td>\n",
              "      <td>...</td>\n",
              "    </tr>\n",
              "    <tr>\n",
              "      <th>584</th>\n",
              "      <td>584</td>\n",
              "      <td>LP002911</td>\n",
              "      <td>Male</td>\n",
              "      <td>Yes</td>\n",
              "      <td>1</td>\n",
              "      <td>Graduate</td>\n",
              "      <td>No</td>\n",
              "      <td>22296</td>\n",
              "      <td>15336.0</td>\n",
              "      <td>1168.0</td>\n",
              "      <td>360.0</td>\n",
              "      <td>0.0</td>\n",
              "      <td>Rural</td>\n",
              "      <td>N</td>\n",
              "      <td>37632.0</td>\n",
              "    </tr>\n",
              "    <tr>\n",
              "      <th>585</th>\n",
              "      <td>585</td>\n",
              "      <td>LP002912</td>\n",
              "      <td>Male</td>\n",
              "      <td>Yes</td>\n",
              "      <td>1</td>\n",
              "      <td>Graduate</td>\n",
              "      <td>No</td>\n",
              "      <td>34264</td>\n",
              "      <td>24000.0</td>\n",
              "      <td>1376.0</td>\n",
              "      <td>84.0</td>\n",
              "      <td>1.0</td>\n",
              "      <td>Rural</td>\n",
              "      <td>N</td>\n",
              "      <td>58264.0</td>\n",
              "    </tr>\n",
              "    <tr>\n",
              "      <th>604</th>\n",
              "      <td>604</td>\n",
              "      <td>LP002959</td>\n",
              "      <td>Female</td>\n",
              "      <td>Yes</td>\n",
              "      <td>1</td>\n",
              "      <td>Graduate</td>\n",
              "      <td>No</td>\n",
              "      <td>96000</td>\n",
              "      <td>0.0</td>\n",
              "      <td>3968.0</td>\n",
              "      <td>360.0</td>\n",
              "      <td>1.0</td>\n",
              "      <td>Semiurban</td>\n",
              "      <td>Y</td>\n",
              "      <td>96000.0</td>\n",
              "    </tr>\n",
              "    <tr>\n",
              "      <th>606</th>\n",
              "      <td>606</td>\n",
              "      <td>LP002961</td>\n",
              "      <td>Male</td>\n",
              "      <td>Yes</td>\n",
              "      <td>1</td>\n",
              "      <td>Graduate</td>\n",
              "      <td>No</td>\n",
              "      <td>27200</td>\n",
              "      <td>20000.0</td>\n",
              "      <td>1384.0</td>\n",
              "      <td>360.0</td>\n",
              "      <td>1.0</td>\n",
              "      <td>Semiurban</td>\n",
              "      <td>Y</td>\n",
              "      <td>47200.0</td>\n",
              "    </tr>\n",
              "    <tr>\n",
              "      <th>611</th>\n",
              "      <td>611</td>\n",
              "      <td>LP002983</td>\n",
              "      <td>Male</td>\n",
              "      <td>Yes</td>\n",
              "      <td>1</td>\n",
              "      <td>Graduate</td>\n",
              "      <td>No</td>\n",
              "      <td>64576</td>\n",
              "      <td>1920.0</td>\n",
              "      <td>2024.0</td>\n",
              "      <td>360.0</td>\n",
              "      <td>1.0</td>\n",
              "      <td>Urban</td>\n",
              "      <td>Y</td>\n",
              "      <td>66496.0</td>\n",
              "    </tr>\n",
              "  </tbody>\n",
              "</table>\n",
              "<p>102 rows × 15 columns</p>\n",
              "</div>\n",
              "    <div class=\"colab-df-buttons\">\n",
              "\n",
              "  <div class=\"colab-df-container\">\n",
              "    <button class=\"colab-df-convert\" onclick=\"convertToInteractive('df-64e61895-0408-4b2f-a68b-dcb449871460')\"\n",
              "            title=\"Convert this dataframe to an interactive table.\"\n",
              "            style=\"display:none;\">\n",
              "\n",
              "  <svg xmlns=\"http://www.w3.org/2000/svg\" height=\"24px\" viewBox=\"0 -960 960 960\">\n",
              "    <path d=\"M120-120v-720h720v720H120Zm60-500h600v-160H180v160Zm220 220h160v-160H400v160Zm0 220h160v-160H400v160ZM180-400h160v-160H180v160Zm440 0h160v-160H620v160ZM180-180h160v-160H180v160Zm440 0h160v-160H620v160Z\"/>\n",
              "  </svg>\n",
              "    </button>\n",
              "\n",
              "  <style>\n",
              "    .colab-df-container {\n",
              "      display:flex;\n",
              "      gap: 12px;\n",
              "    }\n",
              "\n",
              "    .colab-df-convert {\n",
              "      background-color: #E8F0FE;\n",
              "      border: none;\n",
              "      border-radius: 50%;\n",
              "      cursor: pointer;\n",
              "      display: none;\n",
              "      fill: #1967D2;\n",
              "      height: 32px;\n",
              "      padding: 0 0 0 0;\n",
              "      width: 32px;\n",
              "    }\n",
              "\n",
              "    .colab-df-convert:hover {\n",
              "      background-color: #E2EBFA;\n",
              "      box-shadow: 0px 1px 2px rgba(60, 64, 67, 0.3), 0px 1px 3px 1px rgba(60, 64, 67, 0.15);\n",
              "      fill: #174EA6;\n",
              "    }\n",
              "\n",
              "    .colab-df-buttons div {\n",
              "      margin-bottom: 4px;\n",
              "    }\n",
              "\n",
              "    [theme=dark] .colab-df-convert {\n",
              "      background-color: #3B4455;\n",
              "      fill: #D2E3FC;\n",
              "    }\n",
              "\n",
              "    [theme=dark] .colab-df-convert:hover {\n",
              "      background-color: #434B5C;\n",
              "      box-shadow: 0px 1px 3px 1px rgba(0, 0, 0, 0.15);\n",
              "      filter: drop-shadow(0px 1px 2px rgba(0, 0, 0, 0.3));\n",
              "      fill: #FFFFFF;\n",
              "    }\n",
              "  </style>\n",
              "\n",
              "    <script>\n",
              "      const buttonEl =\n",
              "        document.querySelector('#df-64e61895-0408-4b2f-a68b-dcb449871460 button.colab-df-convert');\n",
              "      buttonEl.style.display =\n",
              "        google.colab.kernel.accessAllowed ? 'block' : 'none';\n",
              "\n",
              "      async function convertToInteractive(key) {\n",
              "        const element = document.querySelector('#df-64e61895-0408-4b2f-a68b-dcb449871460');\n",
              "        const dataTable =\n",
              "          await google.colab.kernel.invokeFunction('convertToInteractive',\n",
              "                                                    [key], {});\n",
              "        if (!dataTable) return;\n",
              "\n",
              "        const docLinkHtml = 'Like what you see? Visit the ' +\n",
              "          '<a target=\"_blank\" href=https://colab.research.google.com/notebooks/data_table.ipynb>data table notebook</a>'\n",
              "          + ' to learn more about interactive tables.';\n",
              "        element.innerHTML = '';\n",
              "        dataTable['output_type'] = 'display_data';\n",
              "        await google.colab.output.renderOutput(dataTable, element);\n",
              "        const docLink = document.createElement('div');\n",
              "        docLink.innerHTML = docLinkHtml;\n",
              "        element.appendChild(docLink);\n",
              "      }\n",
              "    </script>\n",
              "  </div>\n",
              "\n",
              "\n",
              "<div id=\"df-80dc16be-c375-4f21-8d4f-7d8bd7996537\">\n",
              "  <button class=\"colab-df-quickchart\" onclick=\"quickchart('df-80dc16be-c375-4f21-8d4f-7d8bd7996537')\"\n",
              "            title=\"Suggest charts\"\n",
              "            style=\"display:none;\">\n",
              "\n",
              "<svg xmlns=\"http://www.w3.org/2000/svg\" height=\"24px\"viewBox=\"0 0 24 24\"\n",
              "     width=\"24px\">\n",
              "    <g>\n",
              "        <path d=\"M19 3H5c-1.1 0-2 .9-2 2v14c0 1.1.9 2 2 2h14c1.1 0 2-.9 2-2V5c0-1.1-.9-2-2-2zM9 17H7v-7h2v7zm4 0h-2V7h2v10zm4 0h-2v-4h2v4z\"/>\n",
              "    </g>\n",
              "</svg>\n",
              "  </button>\n",
              "\n",
              "<style>\n",
              "  .colab-df-quickchart {\n",
              "      --bg-color: #E8F0FE;\n",
              "      --fill-color: #1967D2;\n",
              "      --hover-bg-color: #E2EBFA;\n",
              "      --hover-fill-color: #174EA6;\n",
              "      --disabled-fill-color: #AAA;\n",
              "      --disabled-bg-color: #DDD;\n",
              "  }\n",
              "\n",
              "  [theme=dark] .colab-df-quickchart {\n",
              "      --bg-color: #3B4455;\n",
              "      --fill-color: #D2E3FC;\n",
              "      --hover-bg-color: #434B5C;\n",
              "      --hover-fill-color: #FFFFFF;\n",
              "      --disabled-bg-color: #3B4455;\n",
              "      --disabled-fill-color: #666;\n",
              "  }\n",
              "\n",
              "  .colab-df-quickchart {\n",
              "    background-color: var(--bg-color);\n",
              "    border: none;\n",
              "    border-radius: 50%;\n",
              "    cursor: pointer;\n",
              "    display: none;\n",
              "    fill: var(--fill-color);\n",
              "    height: 32px;\n",
              "    padding: 0;\n",
              "    width: 32px;\n",
              "  }\n",
              "\n",
              "  .colab-df-quickchart:hover {\n",
              "    background-color: var(--hover-bg-color);\n",
              "    box-shadow: 0 1px 2px rgba(60, 64, 67, 0.3), 0 1px 3px 1px rgba(60, 64, 67, 0.15);\n",
              "    fill: var(--button-hover-fill-color);\n",
              "  }\n",
              "\n",
              "  .colab-df-quickchart-complete:disabled,\n",
              "  .colab-df-quickchart-complete:disabled:hover {\n",
              "    background-color: var(--disabled-bg-color);\n",
              "    fill: var(--disabled-fill-color);\n",
              "    box-shadow: none;\n",
              "  }\n",
              "\n",
              "  .colab-df-spinner {\n",
              "    border: 2px solid var(--fill-color);\n",
              "    border-color: transparent;\n",
              "    border-bottom-color: var(--fill-color);\n",
              "    animation:\n",
              "      spin 1s steps(1) infinite;\n",
              "  }\n",
              "\n",
              "  @keyframes spin {\n",
              "    0% {\n",
              "      border-color: transparent;\n",
              "      border-bottom-color: var(--fill-color);\n",
              "      border-left-color: var(--fill-color);\n",
              "    }\n",
              "    20% {\n",
              "      border-color: transparent;\n",
              "      border-left-color: var(--fill-color);\n",
              "      border-top-color: var(--fill-color);\n",
              "    }\n",
              "    30% {\n",
              "      border-color: transparent;\n",
              "      border-left-color: var(--fill-color);\n",
              "      border-top-color: var(--fill-color);\n",
              "      border-right-color: var(--fill-color);\n",
              "    }\n",
              "    40% {\n",
              "      border-color: transparent;\n",
              "      border-right-color: var(--fill-color);\n",
              "      border-top-color: var(--fill-color);\n",
              "    }\n",
              "    60% {\n",
              "      border-color: transparent;\n",
              "      border-right-color: var(--fill-color);\n",
              "    }\n",
              "    80% {\n",
              "      border-color: transparent;\n",
              "      border-right-color: var(--fill-color);\n",
              "      border-bottom-color: var(--fill-color);\n",
              "    }\n",
              "    90% {\n",
              "      border-color: transparent;\n",
              "      border-bottom-color: var(--fill-color);\n",
              "    }\n",
              "  }\n",
              "</style>\n",
              "\n",
              "  <script>\n",
              "    async function quickchart(key) {\n",
              "      const quickchartButtonEl =\n",
              "        document.querySelector('#' + key + ' button');\n",
              "      quickchartButtonEl.disabled = true;  // To prevent multiple clicks.\n",
              "      quickchartButtonEl.classList.add('colab-df-spinner');\n",
              "      try {\n",
              "        const charts = await google.colab.kernel.invokeFunction(\n",
              "            'suggestCharts', [key], {});\n",
              "      } catch (error) {\n",
              "        console.error('Error during call to suggestCharts:', error);\n",
              "      }\n",
              "      quickchartButtonEl.classList.remove('colab-df-spinner');\n",
              "      quickchartButtonEl.classList.add('colab-df-quickchart-complete');\n",
              "    }\n",
              "    (() => {\n",
              "      let quickchartButtonEl =\n",
              "        document.querySelector('#df-80dc16be-c375-4f21-8d4f-7d8bd7996537 button');\n",
              "      quickchartButtonEl.style.display =\n",
              "        google.colab.kernel.accessAllowed ? 'block' : 'none';\n",
              "    })();\n",
              "  </script>\n",
              "</div>\n",
              "    </div>\n",
              "  </div>\n"
            ]
          },
          "metadata": {},
          "execution_count": 98
        }
      ]
    },
    {
      "cell_type": "markdown",
      "source": [
        "### Q8.9: Column creation (2 marks)\n",
        "\n",
        "Create a column 'TotalIncome' that sums the columns 'ApplicantIncome' and 'CoapplicantIncome'."
      ],
      "metadata": {
        "id": "q-tASTcY3cVe"
      }
    },
    {
      "cell_type": "code",
      "source": [
        "#enter your answer here\n",
        "df['TotalIncome'] = df['ApplicantIncome'] + df['CoapplicantIncome']\n",
        "df.head()"
      ],
      "metadata": {
        "id": "JeFaFAYt3g-y",
        "colab": {
          "base_uri": "https://localhost:8080/",
          "height": 261
        },
        "outputId": "d583b966-59c1-48fd-97c1-c96a69bfb452"
      },
      "execution_count": 88,
      "outputs": [
        {
          "output_type": "execute_result",
          "data": {
            "text/plain": [
              "   Unnamed: 0   Loan_ID Gender Married Dependents     Education Self_Employed  \\\n",
              "0           0  LP001002   Male      No          0      Graduate            No   \n",
              "1           1  LP001003   Male     Yes          1      Graduate            No   \n",
              "2           2  LP001005   Male     Yes          0      Graduate           Yes   \n",
              "3           3  LP001006   Male     Yes          0  Not Graduate            No   \n",
              "4           4  LP001008   Male      No          0      Graduate            No   \n",
              "\n",
              "   ApplicantIncome  CoapplicantIncome  LoanAmount  Loan_Amount_Term  \\\n",
              "0            46792                0.0         NaN             360.0   \n",
              "1            36664            12064.0      1024.0             360.0   \n",
              "2            24000                0.0       528.0             360.0   \n",
              "3            20664            18864.0       960.0             360.0   \n",
              "4            48000                0.0      1128.0             360.0   \n",
              "\n",
              "   Credit_History Property_Area Loan_Status  TotalIncome  \n",
              "0             1.0         Urban           Y      46792.0  \n",
              "1             1.0         Rural           N      48728.0  \n",
              "2             1.0         Urban           Y      24000.0  \n",
              "3             1.0         Urban           Y      39528.0  \n",
              "4             1.0         Urban           Y      48000.0  "
            ],
            "text/html": [
              "\n",
              "  <div id=\"df-0e6c2452-f162-4a00-bb5f-91c37ccfd723\" class=\"colab-df-container\">\n",
              "    <div>\n",
              "<style scoped>\n",
              "    .dataframe tbody tr th:only-of-type {\n",
              "        vertical-align: middle;\n",
              "    }\n",
              "\n",
              "    .dataframe tbody tr th {\n",
              "        vertical-align: top;\n",
              "    }\n",
              "\n",
              "    .dataframe thead th {\n",
              "        text-align: right;\n",
              "    }\n",
              "</style>\n",
              "<table border=\"1\" class=\"dataframe\">\n",
              "  <thead>\n",
              "    <tr style=\"text-align: right;\">\n",
              "      <th></th>\n",
              "      <th>Unnamed: 0</th>\n",
              "      <th>Loan_ID</th>\n",
              "      <th>Gender</th>\n",
              "      <th>Married</th>\n",
              "      <th>Dependents</th>\n",
              "      <th>Education</th>\n",
              "      <th>Self_Employed</th>\n",
              "      <th>ApplicantIncome</th>\n",
              "      <th>CoapplicantIncome</th>\n",
              "      <th>LoanAmount</th>\n",
              "      <th>Loan_Amount_Term</th>\n",
              "      <th>Credit_History</th>\n",
              "      <th>Property_Area</th>\n",
              "      <th>Loan_Status</th>\n",
              "      <th>TotalIncome</th>\n",
              "    </tr>\n",
              "  </thead>\n",
              "  <tbody>\n",
              "    <tr>\n",
              "      <th>0</th>\n",
              "      <td>0</td>\n",
              "      <td>LP001002</td>\n",
              "      <td>Male</td>\n",
              "      <td>No</td>\n",
              "      <td>0</td>\n",
              "      <td>Graduate</td>\n",
              "      <td>No</td>\n",
              "      <td>46792</td>\n",
              "      <td>0.0</td>\n",
              "      <td>NaN</td>\n",
              "      <td>360.0</td>\n",
              "      <td>1.0</td>\n",
              "      <td>Urban</td>\n",
              "      <td>Y</td>\n",
              "      <td>46792.0</td>\n",
              "    </tr>\n",
              "    <tr>\n",
              "      <th>1</th>\n",
              "      <td>1</td>\n",
              "      <td>LP001003</td>\n",
              "      <td>Male</td>\n",
              "      <td>Yes</td>\n",
              "      <td>1</td>\n",
              "      <td>Graduate</td>\n",
              "      <td>No</td>\n",
              "      <td>36664</td>\n",
              "      <td>12064.0</td>\n",
              "      <td>1024.0</td>\n",
              "      <td>360.0</td>\n",
              "      <td>1.0</td>\n",
              "      <td>Rural</td>\n",
              "      <td>N</td>\n",
              "      <td>48728.0</td>\n",
              "    </tr>\n",
              "    <tr>\n",
              "      <th>2</th>\n",
              "      <td>2</td>\n",
              "      <td>LP001005</td>\n",
              "      <td>Male</td>\n",
              "      <td>Yes</td>\n",
              "      <td>0</td>\n",
              "      <td>Graduate</td>\n",
              "      <td>Yes</td>\n",
              "      <td>24000</td>\n",
              "      <td>0.0</td>\n",
              "      <td>528.0</td>\n",
              "      <td>360.0</td>\n",
              "      <td>1.0</td>\n",
              "      <td>Urban</td>\n",
              "      <td>Y</td>\n",
              "      <td>24000.0</td>\n",
              "    </tr>\n",
              "    <tr>\n",
              "      <th>3</th>\n",
              "      <td>3</td>\n",
              "      <td>LP001006</td>\n",
              "      <td>Male</td>\n",
              "      <td>Yes</td>\n",
              "      <td>0</td>\n",
              "      <td>Not Graduate</td>\n",
              "      <td>No</td>\n",
              "      <td>20664</td>\n",
              "      <td>18864.0</td>\n",
              "      <td>960.0</td>\n",
              "      <td>360.0</td>\n",
              "      <td>1.0</td>\n",
              "      <td>Urban</td>\n",
              "      <td>Y</td>\n",
              "      <td>39528.0</td>\n",
              "    </tr>\n",
              "    <tr>\n",
              "      <th>4</th>\n",
              "      <td>4</td>\n",
              "      <td>LP001008</td>\n",
              "      <td>Male</td>\n",
              "      <td>No</td>\n",
              "      <td>0</td>\n",
              "      <td>Graduate</td>\n",
              "      <td>No</td>\n",
              "      <td>48000</td>\n",
              "      <td>0.0</td>\n",
              "      <td>1128.0</td>\n",
              "      <td>360.0</td>\n",
              "      <td>1.0</td>\n",
              "      <td>Urban</td>\n",
              "      <td>Y</td>\n",
              "      <td>48000.0</td>\n",
              "    </tr>\n",
              "  </tbody>\n",
              "</table>\n",
              "</div>\n",
              "    <div class=\"colab-df-buttons\">\n",
              "\n",
              "  <div class=\"colab-df-container\">\n",
              "    <button class=\"colab-df-convert\" onclick=\"convertToInteractive('df-0e6c2452-f162-4a00-bb5f-91c37ccfd723')\"\n",
              "            title=\"Convert this dataframe to an interactive table.\"\n",
              "            style=\"display:none;\">\n",
              "\n",
              "  <svg xmlns=\"http://www.w3.org/2000/svg\" height=\"24px\" viewBox=\"0 -960 960 960\">\n",
              "    <path d=\"M120-120v-720h720v720H120Zm60-500h600v-160H180v160Zm220 220h160v-160H400v160Zm0 220h160v-160H400v160ZM180-400h160v-160H180v160Zm440 0h160v-160H620v160ZM180-180h160v-160H180v160Zm440 0h160v-160H620v160Z\"/>\n",
              "  </svg>\n",
              "    </button>\n",
              "\n",
              "  <style>\n",
              "    .colab-df-container {\n",
              "      display:flex;\n",
              "      gap: 12px;\n",
              "    }\n",
              "\n",
              "    .colab-df-convert {\n",
              "      background-color: #E8F0FE;\n",
              "      border: none;\n",
              "      border-radius: 50%;\n",
              "      cursor: pointer;\n",
              "      display: none;\n",
              "      fill: #1967D2;\n",
              "      height: 32px;\n",
              "      padding: 0 0 0 0;\n",
              "      width: 32px;\n",
              "    }\n",
              "\n",
              "    .colab-df-convert:hover {\n",
              "      background-color: #E2EBFA;\n",
              "      box-shadow: 0px 1px 2px rgba(60, 64, 67, 0.3), 0px 1px 3px 1px rgba(60, 64, 67, 0.15);\n",
              "      fill: #174EA6;\n",
              "    }\n",
              "\n",
              "    .colab-df-buttons div {\n",
              "      margin-bottom: 4px;\n",
              "    }\n",
              "\n",
              "    [theme=dark] .colab-df-convert {\n",
              "      background-color: #3B4455;\n",
              "      fill: #D2E3FC;\n",
              "    }\n",
              "\n",
              "    [theme=dark] .colab-df-convert:hover {\n",
              "      background-color: #434B5C;\n",
              "      box-shadow: 0px 1px 3px 1px rgba(0, 0, 0, 0.15);\n",
              "      filter: drop-shadow(0px 1px 2px rgba(0, 0, 0, 0.3));\n",
              "      fill: #FFFFFF;\n",
              "    }\n",
              "  </style>\n",
              "\n",
              "    <script>\n",
              "      const buttonEl =\n",
              "        document.querySelector('#df-0e6c2452-f162-4a00-bb5f-91c37ccfd723 button.colab-df-convert');\n",
              "      buttonEl.style.display =\n",
              "        google.colab.kernel.accessAllowed ? 'block' : 'none';\n",
              "\n",
              "      async function convertToInteractive(key) {\n",
              "        const element = document.querySelector('#df-0e6c2452-f162-4a00-bb5f-91c37ccfd723');\n",
              "        const dataTable =\n",
              "          await google.colab.kernel.invokeFunction('convertToInteractive',\n",
              "                                                    [key], {});\n",
              "        if (!dataTable) return;\n",
              "\n",
              "        const docLinkHtml = 'Like what you see? Visit the ' +\n",
              "          '<a target=\"_blank\" href=https://colab.research.google.com/notebooks/data_table.ipynb>data table notebook</a>'\n",
              "          + ' to learn more about interactive tables.';\n",
              "        element.innerHTML = '';\n",
              "        dataTable['output_type'] = 'display_data';\n",
              "        await google.colab.output.renderOutput(dataTable, element);\n",
              "        const docLink = document.createElement('div');\n",
              "        docLink.innerHTML = docLinkHtml;\n",
              "        element.appendChild(docLink);\n",
              "      }\n",
              "    </script>\n",
              "  </div>\n",
              "\n",
              "\n",
              "<div id=\"df-071e7547-c81f-4d81-b2b7-ce8ebefd8af6\">\n",
              "  <button class=\"colab-df-quickchart\" onclick=\"quickchart('df-071e7547-c81f-4d81-b2b7-ce8ebefd8af6')\"\n",
              "            title=\"Suggest charts\"\n",
              "            style=\"display:none;\">\n",
              "\n",
              "<svg xmlns=\"http://www.w3.org/2000/svg\" height=\"24px\"viewBox=\"0 0 24 24\"\n",
              "     width=\"24px\">\n",
              "    <g>\n",
              "        <path d=\"M19 3H5c-1.1 0-2 .9-2 2v14c0 1.1.9 2 2 2h14c1.1 0 2-.9 2-2V5c0-1.1-.9-2-2-2zM9 17H7v-7h2v7zm4 0h-2V7h2v10zm4 0h-2v-4h2v4z\"/>\n",
              "    </g>\n",
              "</svg>\n",
              "  </button>\n",
              "\n",
              "<style>\n",
              "  .colab-df-quickchart {\n",
              "      --bg-color: #E8F0FE;\n",
              "      --fill-color: #1967D2;\n",
              "      --hover-bg-color: #E2EBFA;\n",
              "      --hover-fill-color: #174EA6;\n",
              "      --disabled-fill-color: #AAA;\n",
              "      --disabled-bg-color: #DDD;\n",
              "  }\n",
              "\n",
              "  [theme=dark] .colab-df-quickchart {\n",
              "      --bg-color: #3B4455;\n",
              "      --fill-color: #D2E3FC;\n",
              "      --hover-bg-color: #434B5C;\n",
              "      --hover-fill-color: #FFFFFF;\n",
              "      --disabled-bg-color: #3B4455;\n",
              "      --disabled-fill-color: #666;\n",
              "  }\n",
              "\n",
              "  .colab-df-quickchart {\n",
              "    background-color: var(--bg-color);\n",
              "    border: none;\n",
              "    border-radius: 50%;\n",
              "    cursor: pointer;\n",
              "    display: none;\n",
              "    fill: var(--fill-color);\n",
              "    height: 32px;\n",
              "    padding: 0;\n",
              "    width: 32px;\n",
              "  }\n",
              "\n",
              "  .colab-df-quickchart:hover {\n",
              "    background-color: var(--hover-bg-color);\n",
              "    box-shadow: 0 1px 2px rgba(60, 64, 67, 0.3), 0 1px 3px 1px rgba(60, 64, 67, 0.15);\n",
              "    fill: var(--button-hover-fill-color);\n",
              "  }\n",
              "\n",
              "  .colab-df-quickchart-complete:disabled,\n",
              "  .colab-df-quickchart-complete:disabled:hover {\n",
              "    background-color: var(--disabled-bg-color);\n",
              "    fill: var(--disabled-fill-color);\n",
              "    box-shadow: none;\n",
              "  }\n",
              "\n",
              "  .colab-df-spinner {\n",
              "    border: 2px solid var(--fill-color);\n",
              "    border-color: transparent;\n",
              "    border-bottom-color: var(--fill-color);\n",
              "    animation:\n",
              "      spin 1s steps(1) infinite;\n",
              "  }\n",
              "\n",
              "  @keyframes spin {\n",
              "    0% {\n",
              "      border-color: transparent;\n",
              "      border-bottom-color: var(--fill-color);\n",
              "      border-left-color: var(--fill-color);\n",
              "    }\n",
              "    20% {\n",
              "      border-color: transparent;\n",
              "      border-left-color: var(--fill-color);\n",
              "      border-top-color: var(--fill-color);\n",
              "    }\n",
              "    30% {\n",
              "      border-color: transparent;\n",
              "      border-left-color: var(--fill-color);\n",
              "      border-top-color: var(--fill-color);\n",
              "      border-right-color: var(--fill-color);\n",
              "    }\n",
              "    40% {\n",
              "      border-color: transparent;\n",
              "      border-right-color: var(--fill-color);\n",
              "      border-top-color: var(--fill-color);\n",
              "    }\n",
              "    60% {\n",
              "      border-color: transparent;\n",
              "      border-right-color: var(--fill-color);\n",
              "    }\n",
              "    80% {\n",
              "      border-color: transparent;\n",
              "      border-right-color: var(--fill-color);\n",
              "      border-bottom-color: var(--fill-color);\n",
              "    }\n",
              "    90% {\n",
              "      border-color: transparent;\n",
              "      border-bottom-color: var(--fill-color);\n",
              "    }\n",
              "  }\n",
              "</style>\n",
              "\n",
              "  <script>\n",
              "    async function quickchart(key) {\n",
              "      const quickchartButtonEl =\n",
              "        document.querySelector('#' + key + ' button');\n",
              "      quickchartButtonEl.disabled = true;  // To prevent multiple clicks.\n",
              "      quickchartButtonEl.classList.add('colab-df-spinner');\n",
              "      try {\n",
              "        const charts = await google.colab.kernel.invokeFunction(\n",
              "            'suggestCharts', [key], {});\n",
              "      } catch (error) {\n",
              "        console.error('Error during call to suggestCharts:', error);\n",
              "      }\n",
              "      quickchartButtonEl.classList.remove('colab-df-spinner');\n",
              "      quickchartButtonEl.classList.add('colab-df-quickchart-complete');\n",
              "    }\n",
              "    (() => {\n",
              "      let quickchartButtonEl =\n",
              "        document.querySelector('#df-071e7547-c81f-4d81-b2b7-ce8ebefd8af6 button');\n",
              "      quickchartButtonEl.style.display =\n",
              "        google.colab.kernel.accessAllowed ? 'block' : 'none';\n",
              "    })();\n",
              "  </script>\n",
              "</div>\n",
              "    </div>\n",
              "  </div>\n"
            ]
          },
          "metadata": {},
          "execution_count": 88
        }
      ]
    },
    {
      "cell_type": "markdown",
      "source": [
        "### Q8.10 Filtering and Slicing (4 marks)\n",
        "Print the columns 'Education' and 'Self_Employed' for the rows where 'Loan_Status' is 'N' using one line of code."
      ],
      "metadata": {
        "id": "ZFD2S2qq3k3I"
      }
    },
    {
      "cell_type": "code",
      "source": [
        "#enter your answer here\n",
        "df_loan_status_no = df[df['Loan_Status'] == 'N']\n",
        "print(df_loan_status_no['Education'])\n",
        "print(df_loan_status_no['Self_Employed'])"
      ],
      "metadata": {
        "id": "fYmlpkJp3qmI",
        "colab": {
          "base_uri": "https://localhost:8080/"
        },
        "outputId": "35a515dd-c19b-4650-c45c-2acfc316a978"
      },
      "execution_count": 93,
      "outputs": [
        {
          "output_type": "stream",
          "name": "stdout",
          "text": [
            "1          Graduate\n",
            "7          Graduate\n",
            "9          Graduate\n",
            "13         Graduate\n",
            "17         Graduate\n",
            "           ...     \n",
            "596    Not Graduate\n",
            "597        Graduate\n",
            "600        Graduate\n",
            "605    Not Graduate\n",
            "613        Graduate\n",
            "Name: Education, Length: 192, dtype: object\n",
            "1       No\n",
            "7       No\n",
            "9       No\n",
            "13      No\n",
            "17      No\n",
            "      ... \n",
            "596    Yes\n",
            "597     No\n",
            "600    NaN\n",
            "605     No\n",
            "613    Yes\n",
            "Name: Self_Employed, Length: 192, dtype: object\n"
          ]
        }
      ]
    },
    {
      "cell_type": "markdown",
      "source": [
        "## THIS IS THE END OF THE TEST (100 marks were available)"
      ],
      "metadata": {
        "id": "HH3k_pxL4sFM"
      }
    }
  ]
}