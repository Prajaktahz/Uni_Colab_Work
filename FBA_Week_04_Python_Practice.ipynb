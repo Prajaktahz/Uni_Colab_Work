{
  "nbformat": 4,
  "nbformat_minor": 0,
  "metadata": {
    "colab": {
      "provenance": [],
      "include_colab_link": true
    },
    "kernelspec": {
      "name": "python3",
      "display_name": "Python 3"
    },
    "language_info": {
      "name": "python"
    }
  },
  "cells": [
    {
      "cell_type": "markdown",
      "metadata": {
        "id": "view-in-github",
        "colab_type": "text"
      },
      "source": [
        "<a href=\"https://colab.research.google.com/github/Prajaktahz/Uni_Colab_Work/blob/main/FBA_Week_04_Python_Practice.ipynb\" target=\"_parent\"><img src=\"https://colab.research.google.com/assets/colab-badge.svg\" alt=\"Open In Colab\"/></a>"
      ]
    },
    {
      "cell_type": "markdown",
      "source": [
        "![alt text](http://www.cs.nott.ac.uk/~pszgss/teaching/nlab.png)\n",
        "# FBA Computing Session Week 4:\n",
        "\n",
        "Python Practice\n",
        "\n",
        "In our foray into scripting for business analytics, we have so far learnt the core tools of scripting: variables, conditionals, loops, and data structures. These are absolutely central to have an instinctive undertanding of. However, there is one more concept that we need to understand before we can move on to real applications - and that is \"functions\".\n",
        "\n",
        "In this practical we are mainly going to focus on functions, which are invaluable to know - they will be the LEGO bricks of your code as we gradually develop more complex and powerful analytics scripts. Let's go (practising with some toy functions)...\n",
        "\n",
        "# Some practice examples\n",
        "\n",
        "Below are simple examples covering what we have learned in the lecture so that you get a feel of how all these new LEGO bricks work. We will then move on our ice cream analytics case and also build a mini-game.\n",
        "\n",
        "## Functions\n",
        "\n",
        "Let's start with functions. Create a function **make_twice()** that prints on the screen \"Twice Twice\". Once you have defined your function, don't forget to add a function call to run it!"
      ],
      "metadata": {
        "id": "-5K2jAD1wX2Y"
      }
    },
    {
      "cell_type": "code",
      "execution_count": null,
      "metadata": {
        "id": "9_jSV9rWGnaM",
        "outputId": "6eafafe6-6eb1-411a-fe38-45d018b3a36b",
        "colab": {
          "base_uri": "https://localhost:8080/"
        }
      },
      "outputs": [
        {
          "output_type": "stream",
          "name": "stdout",
          "text": [
            "Twice Twice\n"
          ]
        }
      ],
      "source": [
        "# Your function definition here\n",
        "def make_twice():\n",
        "  print('Twice Twice')\n",
        "# Your function call here\n",
        "make_twice()"
      ]
    },
    {
      "cell_type": "markdown",
      "source": [
        "Now create a function **make_twice_2()** that takes a string as a parameter and prints it twice on the screen."
      ],
      "metadata": {
        "id": "r89RRAEpK6Ny"
      }
    },
    {
      "cell_type": "code",
      "source": [
        "def make_twice_2(a):\n",
        "  print(str(a) + ' ' + str(a))\n",
        "\n",
        "make_twice_2('Hello')"
      ],
      "metadata": {
        "id": "zR7O4P3JB4O8",
        "outputId": "c3fd7123-b714-4881-bbe8-6b1fe61fa811",
        "colab": {
          "base_uri": "https://localhost:8080/"
        }
      },
      "execution_count": null,
      "outputs": [
        {
          "output_type": "stream",
          "name": "stdout",
          "text": [
            "Hello Hello\n"
          ]
        }
      ]
    },
    {
      "cell_type": "markdown",
      "source": [
        "Let's now make a third version of our function **make_twice_3()** that takes a string as a parameter, doubles it, but then instead of printing it sends it back (i.e. **\"returns\"** it) to you main program. Then print the result outside of your function, using the returned value."
      ],
      "metadata": {
        "id": "6Gq1E0VbLKCz"
      }
    },
    {
      "cell_type": "code",
      "source": [
        "def make_twice_3(a):\n",
        "  return a*2\n",
        "\n",
        "print(make_twice_3(\"Hello\"))"
      ],
      "metadata": {
        "id": "t28ap5uHK5uK",
        "outputId": "79e264c8-44af-4718-9848-82a5dde68dea",
        "colab": {
          "base_uri": "https://localhost:8080/"
        }
      },
      "execution_count": null,
      "outputs": [
        {
          "output_type": "stream",
          "name": "stdout",
          "text": [
            "HelloHello\n"
          ]
        }
      ]
    },
    {
      "cell_type": "markdown",
      "source": [
        "Here is a bit of code that prints a square to screen:"
      ],
      "metadata": {
        "id": "0ji_myQvL-i1"
      }
    },
    {
      "cell_type": "code",
      "source": [
        "size = 5\n",
        "for row in range(1, size + 1):\n",
        "    print(\"*\" * size)"
      ],
      "metadata": {
        "id": "lNhIysZVMSmO",
        "outputId": "5e2cb22b-9125-4ea2-9453-6014fa3445a3",
        "colab": {
          "base_uri": "https://localhost:8080/"
        }
      },
      "execution_count": null,
      "outputs": [
        {
          "output_type": "stream",
          "name": "stdout",
          "text": [
            "*****\n",
            "*****\n",
            "*****\n",
            "*****\n",
            "*****\n"
          ]
        }
      ]
    },
    {
      "cell_type": "markdown",
      "source": [
        "Convert this bit of code into a function called <b>make_square()</b> and print out a square by calling it."
      ],
      "metadata": {
        "id": "BXlB38rQMZSp"
      }
    },
    {
      "cell_type": "code",
      "source": [
        "#enter your square code here\n",
        "def create_sq(size):\n",
        "  for row in range(1, size + 1):\n",
        "    print(\"*\" * size)\n",
        "\n",
        "a = 4\n",
        "create_sq(a)"
      ],
      "metadata": {
        "id": "A7s-cqOFMm46",
        "outputId": "e09f44bd-c256-437b-c914-70737f5e8aab",
        "colab": {
          "base_uri": "https://localhost:8080/"
        }
      },
      "execution_count": null,
      "outputs": [
        {
          "output_type": "stream",
          "name": "stdout",
          "text": [
            "****\n",
            "****\n",
            "****\n",
            "****\n"
          ]
        }
      ]
    },
    {
      "cell_type": "markdown",
      "source": [
        "Update your code so it accepts the squares SIZE as a parameter, and then call that function to build squares of size 3, 5 and 9."
      ],
      "metadata": {
        "id": "vrSiLsDHMzoC"
      }
    },
    {
      "cell_type": "code",
      "source": [
        "#enter your square code here\n",
        "#enter your square code here\n",
        "def create_sq(size):\n",
        "  for row in range(1, size + 1):\n",
        "    print(\"*\" * size)\n",
        "\n",
        "i = 0\n",
        "while(i != 3):\n",
        "  a = int(input(\"enter size:\"))\n",
        "  create_sq(a)\n",
        "  i+= 1"
      ],
      "metadata": {
        "id": "vnsWyAV_NHU2",
        "outputId": "93101d64-a1f7-42aa-af06-08e15f4bb688",
        "colab": {
          "base_uri": "https://localhost:8080/"
        }
      },
      "execution_count": null,
      "outputs": [
        {
          "output_type": "stream",
          "name": "stdout",
          "text": [
            "enter size:3\n",
            "***\n",
            "***\n",
            "***\n",
            "enter size:5\n",
            "*****\n",
            "*****\n",
            "*****\n",
            "*****\n",
            "*****\n",
            "enter size:9\n",
            "*********\n",
            "*********\n",
            "*********\n",
            "*********\n",
            "*********\n",
            "*********\n",
            "*********\n",
            "*********\n",
            "*********\n"
          ]
        }
      ]
    },
    {
      "cell_type": "markdown",
      "source": [
        "Change the function you have created to print a right angled triangle instead of a square (if you get stuck here ask for help!). Then print out a triangle of size 5!"
      ],
      "metadata": {
        "id": "i8XuJ5W5NN18"
      }
    },
    {
      "cell_type": "code",
      "source": [
        "#enter your triangle code here\n",
        "def right_angle(size):\n",
        "  for row in range(1, size + 1):\n",
        "    if(row < (size)):\n",
        "      print(\"*\")\n",
        "    else:\n",
        "      print(\"*\" * size)\n",
        "\n",
        "\n",
        "def create_triangle(size):\n",
        "  for row in range(1, size + 1):\n",
        "    print('*'*row + ' ')\n",
        "\n",
        "def create_triangle1(size):\n",
        "  for row in range(1, size + 1):\n",
        "    print(' '*(size-row) +' * '*row )\n",
        "\n",
        "\n",
        "a = 5\n",
        "right_angle(a)\n",
        "print(\"  \")\n",
        "create_triangle(a)\n",
        "print(\"  \")\n",
        "create_triangle1(a)"
      ],
      "metadata": {
        "id": "JgzLiBuYNRiV",
        "outputId": "162d630d-945d-4ec4-f346-4f13c66a2280",
        "colab": {
          "base_uri": "https://localhost:8080/"
        }
      },
      "execution_count": null,
      "outputs": [
        {
          "output_type": "stream",
          "name": "stdout",
          "text": [
            "*\n",
            "*\n",
            "*\n",
            "*\n",
            "*****\n",
            "  \n",
            "* \n",
            "** \n",
            "*** \n",
            "**** \n",
            "***** \n",
            "  \n",
            "     * \n",
            "    *  * \n",
            "   *  *  * \n",
            "  *  *  *  * \n",
            " *  *  *  *  * \n"
          ]
        }
      ]
    },
    {
      "cell_type": "markdown",
      "source": [
        "## Scope\n",
        "\n",
        "The scope of a variable (i.e. the places that you can see or access a variable) is important to understand - read through the following code to ensure that you recognize what is going on - the last couple of lines will intentionally throw error to show you what happens when scoping gets confused."
      ],
      "metadata": {
        "id": "933WgHq4Cwaa"
      }
    },
    {
      "cell_type": "code",
      "source": [
        "# This is a global variable\n",
        "a = 0\n",
        "\n",
        "if a == 0:\n",
        "    # This is still a global variable\n",
        "    b = 1\n",
        "\n",
        "def my_function(c):\n",
        "    # this is a local variable\n",
        "    d = 3\n",
        "    print(c)\n",
        "    print(d)"
      ],
      "metadata": {
        "id": "a3BakcuQCzr7"
      },
      "execution_count": null,
      "outputs": []
    },
    {
      "cell_type": "code",
      "source": [
        "# Now we call the function, passing the value 7 as the first and only parameter\n",
        "my_function(7)"
      ],
      "metadata": {
        "id": "32fmmEFEZ2Uh",
        "outputId": "feb0d4c2-ce11-4617-fa9c-803c2a523a87",
        "colab": {
          "base_uri": "https://localhost:8080/"
        }
      },
      "execution_count": null,
      "outputs": [
        {
          "output_type": "stream",
          "name": "stdout",
          "text": [
            "7\n",
            "3\n"
          ]
        }
      ]
    },
    {
      "cell_type": "code",
      "source": [
        "# a and b still exist\n",
        "print(a)\n",
        "print(b)"
      ],
      "metadata": {
        "id": "qv7b6wOEZ8xq",
        "outputId": "eb85878b-bad7-4095-df05-b3aa8ee32b10",
        "colab": {
          "base_uri": "https://localhost:8080/"
        }
      },
      "execution_count": null,
      "outputs": [
        {
          "output_type": "stream",
          "name": "stdout",
          "text": [
            "0\n",
            "1\n"
          ]
        }
      ]
    },
    {
      "cell_type": "code",
      "source": [
        "# c and d don't exist anymore -- these statements will give us name errors!\n",
        "print(c)\n",
        "print(d)"
      ],
      "metadata": {
        "id": "Z6zuYrzYZ-6l",
        "outputId": "90d65783-44ae-40ce-a289-eaa765c1bdff",
        "colab": {
          "base_uri": "https://localhost:8080/",
          "height": 211
        }
      },
      "execution_count": null,
      "outputs": [
        {
          "output_type": "error",
          "ename": "NameError",
          "evalue": "ignored",
          "traceback": [
            "\u001b[0;31m---------------------------------------------------------------------------\u001b[0m",
            "\u001b[0;31mNameError\u001b[0m                                 Traceback (most recent call last)",
            "\u001b[0;32m<ipython-input-43-66cf9ea05d5f>\u001b[0m in \u001b[0;36m<cell line: 2>\u001b[0;34m()\u001b[0m\n\u001b[1;32m      1\u001b[0m \u001b[0;31m# c and d don't exist anymore -- these statements will give us name errors!\u001b[0m\u001b[0;34m\u001b[0m\u001b[0;34m\u001b[0m\u001b[0m\n\u001b[0;32m----> 2\u001b[0;31m \u001b[0mprint\u001b[0m\u001b[0;34m(\u001b[0m\u001b[0mc\u001b[0m\u001b[0;34m)\u001b[0m\u001b[0;34m\u001b[0m\u001b[0;34m\u001b[0m\u001b[0m\n\u001b[0m\u001b[1;32m      3\u001b[0m \u001b[0mprint\u001b[0m\u001b[0;34m(\u001b[0m\u001b[0md\u001b[0m\u001b[0;34m)\u001b[0m\u001b[0;34m\u001b[0m\u001b[0;34m\u001b[0m\u001b[0m\n",
            "\u001b[0;31mNameError\u001b[0m: name 'c' is not defined"
          ]
        }
      ]
    },
    {
      "cell_type": "markdown",
      "source": [
        "Scoping works slightly different if you use data structures, like lists and dictionaries. Observe the following:"
      ],
      "metadata": {
        "id": "fPlbz0spaCRF"
      }
    },
    {
      "cell_type": "code",
      "source": [
        "def replace_lennon(mylist):\n",
        "    mylist.append(\"james\")\n",
        "    mylist.remove(\"john\")\n",
        "\n",
        "people = [\"john\", \"paul\", \"george\", \"ringo\"]\n",
        "print(people)"
      ],
      "metadata": {
        "id": "HQWmHMKeDjFj",
        "outputId": "d5eaf159-3dda-4f4a-e23a-3f01dc443570",
        "colab": {
          "base_uri": "https://localhost:8080/"
        }
      },
      "execution_count": null,
      "outputs": [
        {
          "output_type": "stream",
          "name": "stdout",
          "text": [
            "['john', 'paul', 'george', 'ringo']\n"
          ]
        }
      ]
    },
    {
      "cell_type": "code",
      "source": [
        "\n",
        "replace_lennon(people)\n",
        "print(people)"
      ],
      "metadata": {
        "id": "PLOsblhwaK3z",
        "outputId": "01c577c9-a508-41bb-f5a6-b669bc44882e",
        "colab": {
          "base_uri": "https://localhost:8080/"
        }
      },
      "execution_count": null,
      "outputs": [
        {
          "output_type": "stream",
          "name": "stdout",
          "text": [
            "['paul', 'george', 'ringo', 'james']\n"
          ]
        }
      ]
    },
    {
      "cell_type": "markdown",
      "source": [
        "For lists and dictionaries the contents can get updated (because the list is just a 'holder' for the items within it) so take care - they work slighly differently to 'literals' such as strings and integers.\n",
        "\n",
        "Write a function called **replace_by()** that accepts three parameters, the list, the person being removed from the list, and the person being added to the list. What happens if you give this function the name of a person not in that list? It will likely throw an error - can you think of a way of fixing this? Perhaps if you checked the list to ensure that the person was in it first, and only try and remove that person if they were actually there...</b>"
      ],
      "metadata": {
        "id": "lfkkAc-zDlGW"
      }
    },
    {
      "cell_type": "code",
      "source": [
        "#enter your code for a person replacing function here\n",
        "def replace_by(list_name, person_rm, person_ad):\n",
        "  if person_rm not in list_name:\n",
        "    print(\"Hi\")\n",
        "    print(\"Name not in list\")\n",
        "  else:\n",
        "   list_name.append(person_ad)\n",
        "   list_name.remove(person_rm)\n",
        "   print(list_name)\n",
        "\n",
        "people = [\"john\", \"paul\", \"george\", \"ringo\"]\n",
        "print(people)\n",
        "print(\"After executing fn\")\n",
        "replace_by(people,\"john\",\"Jina\")\n"
      ],
      "metadata": {
        "id": "qOkB_cR-DnAZ",
        "outputId": "9341df62-cb62-402b-b901-7e0fb743fd33",
        "colab": {
          "base_uri": "https://localhost:8080/"
        }
      },
      "execution_count": null,
      "outputs": [
        {
          "output_type": "stream",
          "name": "stdout",
          "text": [
            "['john', 'paul', 'george', 'ringo']\n",
            "After executing fn\n",
            "['paul', 'george', 'ringo', 'Jina']\n"
          ]
        }
      ]
    },
    {
      "cell_type": "markdown",
      "source": [
        "## Module import\n",
        "\n",
        "People have written lots and lots of incredible functions for us to use in our code (so we don't have to write them ourselves) Here is an example of one that is very useful, showing how to import the <b>random</b> module that is then used to generate a random float number:"
      ],
      "metadata": {
        "id": "ptKPT5RQDsC_"
      }
    },
    {
      "cell_type": "code",
      "source": [
        "import random\n",
        "\n",
        "print(random.random())"
      ],
      "metadata": {
        "id": "dn1Y8hSpDxn9",
        "outputId": "c217bc09-0edf-494f-ace6-344d0c2f5f8d",
        "colab": {
          "base_uri": "https://localhost:8080/"
        }
      },
      "execution_count": null,
      "outputs": [
        {
          "output_type": "stream",
          "name": "stdout",
          "text": [
            "0.35012794417273985\n"
          ]
        }
      ]
    },
    {
      "cell_type": "markdown",
      "source": [
        "In a similar fashion, import the **math** module and experiment with the square root function (math.sqrt())."
      ],
      "metadata": {
        "id": "5HQ-yCZVD0OY"
      }
    },
    {
      "cell_type": "code",
      "source": [
        "from math import sqrt"
      ],
      "metadata": {
        "id": "_6szrTbsD0-I"
      },
      "execution_count": null,
      "outputs": []
    },
    {
      "cell_type": "markdown",
      "source": [
        "## File Operations\n",
        "\n",
        "Let's now practice our file operations skills. Below are some examples to:\n",
        "1. Write to a file\n",
        "2. Append to a file\n",
        "3. Read a file"
      ],
      "metadata": {
        "id": "uyVvA-qDD-lQ"
      }
    },
    {
      "cell_type": "code",
      "source": [
        "with open('example.txt', 'w') as f:\n",
        "    f.write('This is an example file.')"
      ],
      "metadata": {
        "id": "0M9S9LmqEFvJ"
      },
      "execution_count": null,
      "outputs": []
    },
    {
      "cell_type": "code",
      "source": [
        "with open('example.txt', 'a') as f:\n",
        "    f.write(' My name is Prajakta')"
      ],
      "metadata": {
        "id": "HNkKVrJSa0MT"
      },
      "execution_count": null,
      "outputs": []
    },
    {
      "cell_type": "code",
      "source": [
        "with open('example.txt', 'r') as f:\n",
        "    print(f.read())"
      ],
      "metadata": {
        "id": "UBsWvgUYa2O4",
        "outputId": "7a809ff9-aca4-4c78-ee41-9b30c3e5d66b",
        "colab": {
          "base_uri": "https://localhost:8080/"
        }
      },
      "execution_count": null,
      "outputs": [
        {
          "output_type": "stream",
          "name": "stdout",
          "text": [
            "This is an example file. My name is Prajakta\n"
          ]
        }
      ]
    },
    {
      "cell_type": "markdown",
      "source": [
        "Using the same structure, write to a file 'today.txt' the following text: 'This is Wednesday 2nd November'"
      ],
      "metadata": {
        "id": "ViNQT5C8LRZu"
      }
    },
    {
      "cell_type": "code",
      "source": [
        "with open('today.txt','w') as f:\n",
        "  f.write('This is Wednesday 2nd November')"
      ],
      "metadata": {
        "id": "Ss6qajG5EKTJ"
      },
      "execution_count": null,
      "outputs": []
    },
    {
      "cell_type": "markdown",
      "source": [
        "Now **append** to the file ', and it is freezing and raining ...' (depending on the weather)"
      ],
      "metadata": {
        "id": "NccFRJG0EHWr"
      }
    },
    {
      "cell_type": "code",
      "source": [
        "with open('today.txt','a') as f:\n",
        "  f.write(', and it is freezing and raining ...')"
      ],
      "metadata": {
        "id": "H9RUXZT_LUwa"
      },
      "execution_count": null,
      "outputs": []
    },
    {
      "cell_type": "markdown",
      "source": [
        "Finally, read the content of your file."
      ],
      "metadata": {
        "id": "YTarCVjWEOEN"
      }
    },
    {
      "cell_type": "code",
      "source": [
        "with open('today.txt', 'r') as f:\n",
        "    print(f.read())"
      ],
      "metadata": {
        "id": "YK0nDXeyFTwf",
        "outputId": "b18d735e-0673-419f-d50b-7c3b9049e8f1",
        "colab": {
          "base_uri": "https://localhost:8080/"
        }
      },
      "execution_count": null,
      "outputs": [
        {
          "output_type": "stream",
          "name": "stdout",
          "text": [
            "This is Wednesday 2nd November, and it is freezing and raining ...\n"
          ]
        }
      ]
    },
    {
      "cell_type": "markdown",
      "source": [
        "## String manipulation\n",
        "\n",
        "You are given a variable data containing a string that we want to convert into a list of 12 values using the method **split()**."
      ],
      "metadata": {
        "id": "Hxbbylz5I5Pu"
      }
    },
    {
      "cell_type": "code",
      "source": [
        "data = '1000 1100 1200 1300 1400 1500 1500 1400 1300 1200 1100 1000'\n",
        "list_data = data.split()\n",
        "list_data"
      ],
      "metadata": {
        "id": "ZUSx56NaFVqh",
        "outputId": "dc6592ff-5af3-4779-d3ad-65ab3d5509f3",
        "colab": {
          "base_uri": "https://localhost:8080/"
        }
      },
      "execution_count": null,
      "outputs": [
        {
          "output_type": "execute_result",
          "data": {
            "text/plain": [
              "['1000',\n",
              " '1100',\n",
              " '1200',\n",
              " '1300',\n",
              " '1400',\n",
              " '1500',\n",
              " '1500',\n",
              " '1400',\n",
              " '1300',\n",
              " '1200',\n",
              " '1100',\n",
              " '1000']"
            ]
          },
          "metadata": {},
          "execution_count": 70
        }
      ]
    },
    {
      "cell_type": "markdown",
      "source": [
        "We now want to print the data, one value per line. We can do that in a single line of code using the method **join()** and a print statement. Remember that the new line character is **\\n**."
      ],
      "metadata": {
        "id": "UUaS9ScbI_lW"
      }
    },
    {
      "cell_type": "code",
      "source": [
        "print('\\n'.join(list_data))"
      ],
      "metadata": {
        "id": "Vx1SdIjvJBPD",
        "outputId": "c5ce0b28-1f07-4cd9-8145-aeee3da17863",
        "colab": {
          "base_uri": "https://localhost:8080/"
        }
      },
      "execution_count": null,
      "outputs": [
        {
          "output_type": "stream",
          "name": "stdout",
          "text": [
            "1000\n",
            "1100\n",
            "1200\n",
            "1300\n",
            "1400\n",
            "1500\n",
            "1500\n",
            "1400\n",
            "1300\n",
            "1200\n",
            "1100\n",
            "1000\n"
          ]
        }
      ]
    },
    {
      "cell_type": "markdown",
      "source": [
        "<hr/>\n",
        "\n",
        "## Case Study Example - back to ice creams!\n",
        "\n",
        "Once again, let's go back to our ice cream business and see how we could have made our lives a bit simpler last week if we had known how to read files!\n",
        "\n",
        "Here is a reminder of the sales of our business:\n",
        "\n",
        "|-| January | February | March | April | May | June | July | August | September | October | November | December\n",
        "|-|-|-|-|-|-|-|-|-|-|-|-|-|\n",
        "|2020|£1000|£1100|£1200|£1300|£1400|£1500|£1500|£1400|£1300|£1200|£1100|£1000|\n",
        "|2021|£1100|£1200|£1300|£1400|£1500|£1600|£1600|£1500|£1400|£1300|£1200|£1100|\n",
        "|2022|£500|£1600|£1700|£1800|£1900|£500|£500|£500|£1800|£1700|£1600|£500|\n",
        "\n",
        "This time you won't have to manually write all the sales, our business provided you a CSV file *ice_cream_sales.csv* that contains the information. Please upload this file to the google drive where you have saved a copy of the script.\n",
        "\n",
        "### Step 1: How is the data structured?\n",
        "\n",
        "When you will receive a new dataset, one of the first things to do is to have a look at how your data is structured. To do this, open the file *ice_cream_sales.csv* in the text editor and understand how it is structured. (***This is not done in Python!!!***)"
      ],
      "metadata": {
        "id": "ZK1q0EJAkXnU"
      }
    },
    {
      "cell_type": "markdown",
      "source": [
        "In Colab, before attempting to read the file you need to either\n",
        "- add it by clicking on folder sign and dragging and dropping the file;\n",
        "- load the file previously saved in your google drive by [mounting the google drive](https://stackoverflow.com/questions/48323471/csv-file-not-found-error-in-google-colaboratory-notebooks); or\n",
        "- get the file from some shared (or public) location online with the code below:"
      ],
      "metadata": {
        "id": "K2_dib57QllI"
      }
    },
    {
      "cell_type": "code",
      "source": [
        "!wget -O week4_data.zip \"https://drive.google.com/uc?export=download&id=1hpouC0KXcMqDJFquWLWuemditLB7Qf5g\"\n",
        "!unzip week4_data.zip"
      ],
      "metadata": {
        "id": "G0BUO3NIcr1o",
        "outputId": "7533a2f9-17dc-4a2a-d30d-aa8c6fa2e215",
        "colab": {
          "base_uri": "https://localhost:8080/"
        }
      },
      "execution_count": 2,
      "outputs": [
        {
          "output_type": "stream",
          "name": "stdout",
          "text": [
            "--2023-10-26 16:49:28--  https://drive.google.com/uc?export=download&id=1hpouC0KXcMqDJFquWLWuemditLB7Qf5g\n",
            "Resolving drive.google.com (drive.google.com)... 173.194.213.139, 173.194.213.138, 173.194.213.102, ...\n",
            "Connecting to drive.google.com (drive.google.com)|173.194.213.139|:443... connected.\n",
            "HTTP request sent, awaiting response... 303 See Other\n",
            "Location: https://doc-0c-80-docs.googleusercontent.com/docs/securesc/ha0ro937gcuc7l7deffksulhg5h7mbp1/9tuv78i17h5dj85ojdc11l6v93uqjja1/1698338925000/02584936932483403665/*/1hpouC0KXcMqDJFquWLWuemditLB7Qf5g?e=download&uuid=2d4aebd3-9eea-4527-93a2-90be0bfb847e [following]\n",
            "Warning: wildcards not supported in HTTP.\n",
            "--2023-10-26 16:49:28--  https://doc-0c-80-docs.googleusercontent.com/docs/securesc/ha0ro937gcuc7l7deffksulhg5h7mbp1/9tuv78i17h5dj85ojdc11l6v93uqjja1/1698338925000/02584936932483403665/*/1hpouC0KXcMqDJFquWLWuemditLB7Qf5g?e=download&uuid=2d4aebd3-9eea-4527-93a2-90be0bfb847e\n",
            "Resolving doc-0c-80-docs.googleusercontent.com (doc-0c-80-docs.googleusercontent.com)... 173.194.215.132, 2607:f8b0:400c:c0c::84\n",
            "Connecting to doc-0c-80-docs.googleusercontent.com (doc-0c-80-docs.googleusercontent.com)|173.194.215.132|:443... connected.\n",
            "HTTP request sent, awaiting response... 200 OK\n",
            "Length: 209 [application/x-zip-compressed]\n",
            "Saving to: ‘week4_data.zip’\n",
            "\n",
            "week4_data.zip      100%[===================>]     209  --.-KB/s    in 0s      \n",
            "\n",
            "2023-10-26 16:49:28 (1.67 MB/s) - ‘week4_data.zip’ saved [209/209]\n",
            "\n",
            "Archive:  week4_data.zip\n",
            "  inflating: ice_cream_sales.csv     \n"
          ]
        }
      ]
    },
    {
      "cell_type": "markdown",
      "source": [
        "### Step 2: Reading the file\n",
        "\n",
        "Using the **with** statement alongside the **open** function, print the content of the file line by line."
      ],
      "metadata": {
        "id": "rIvl7EVtGuNW"
      }
    },
    {
      "cell_type": "code",
      "source": [
        "with open('ice_cream_sales.csv', 'r') as f:\n",
        "    for line in f:\n",
        "        print(line)"
      ],
      "metadata": {
        "id": "ZwGTYjolJDmJ",
        "outputId": "c36e5b67-3a2e-48ef-b99f-7fe7b95b82bf",
        "colab": {
          "base_uri": "https://localhost:8080/"
        }
      },
      "execution_count": 4,
      "outputs": [
        {
          "output_type": "stream",
          "name": "stdout",
          "text": [
            "﻿2020,1000,1100,1200,1300,1400,1500,1500,1400,1300,1200,1100,1000\n",
            "\n",
            "2021,1100,1200,1300,1400,1500,1600,1600,1500,1400,1300,1200,1100\n",
            "\n",
            "2022,500,1600,1700,1800,1900,500,500,500,1800,1700,1600,500\n",
            "\n"
          ]
        }
      ]
    },
    {
      "cell_type": "markdown",
      "source": [
        "### Step 3: Pre-processing the data - Part I\n",
        "\n",
        "Using your code from the previous question as the starting point, add some code that takes advantage of the CSV (comma-separated value) format to split the data of each line into a list, assigned to a variable **data**. You can check the content of your variable using the statement **print(data)**"
      ],
      "metadata": {
        "id": "CPVP1C2Qkm6Q"
      }
    },
    {
      "cell_type": "code",
      "source": [
        "ice_cream_sales_list = []\n",
        "\n",
        "with open(\"ice_cream_sales.csv\", \"r\") as f:\n",
        "  for line in f:\n",
        "    ice_cream_sales_list.append(line)\n",
        "\n",
        "#print(ice_cream_sales_list)\n",
        "print(ice_cream_sales_list[0])"
      ],
      "metadata": {
        "id": "qyMmpw4_kpeS",
        "outputId": "f8524491-9fbb-4e70-9ca4-79d2e79cc941",
        "colab": {
          "base_uri": "https://localhost:8080/"
        }
      },
      "execution_count": 11,
      "outputs": [
        {
          "output_type": "stream",
          "name": "stdout",
          "text": [
            "﻿2020,1000,1100,1200,1300,1400,1500,1500,1400,1300,1200,1100,1000\n",
            "\n"
          ]
        }
      ]
    },
    {
      "cell_type": "markdown",
      "source": [
        "### Step 4: Pre-processing the data - Part II\n",
        "\n",
        "Reusing the code from the previous question as the starting point, extract for each line the year and a list of the sales for the 12 months. You can store them respectively in a variable **year** and **sales**, and add the statement **print(year, sales)** to check the content of your variables."
      ],
      "metadata": {
        "id": "5G_wggV7kt0a"
      }
    },
    {
      "cell_type": "code",
      "source": [
        "data = ice_cream_sales_list\n",
        "val = data.split(',')\n",
        "print(val)"
      ],
      "metadata": {
        "id": "EyYswj4YkxKJ",
        "outputId": "7704e664-af33-486d-e536-91b26464babb",
        "colab": {
          "base_uri": "https://localhost:8080/",
          "height": 211
        }
      },
      "execution_count": 12,
      "outputs": [
        {
          "output_type": "error",
          "ename": "AttributeError",
          "evalue": "ignored",
          "traceback": [
            "\u001b[0;31m---------------------------------------------------------------------------\u001b[0m",
            "\u001b[0;31mAttributeError\u001b[0m                            Traceback (most recent call last)",
            "\u001b[0;32m<ipython-input-12-29368e449fa4>\u001b[0m in \u001b[0;36m<cell line: 2>\u001b[0;34m()\u001b[0m\n\u001b[1;32m      1\u001b[0m \u001b[0mdata\u001b[0m \u001b[0;34m=\u001b[0m \u001b[0mice_cream_sales_list\u001b[0m\u001b[0;34m\u001b[0m\u001b[0;34m\u001b[0m\u001b[0m\n\u001b[0;32m----> 2\u001b[0;31m \u001b[0mval\u001b[0m \u001b[0;34m=\u001b[0m \u001b[0mdata\u001b[0m\u001b[0;34m.\u001b[0m\u001b[0msplit\u001b[0m\u001b[0;34m(\u001b[0m\u001b[0;34m','\u001b[0m\u001b[0;34m)\u001b[0m\u001b[0;34m\u001b[0m\u001b[0;34m\u001b[0m\u001b[0m\n\u001b[0m\u001b[1;32m      3\u001b[0m \u001b[0mprint\u001b[0m\u001b[0;34m(\u001b[0m\u001b[0mval\u001b[0m\u001b[0;34m)\u001b[0m\u001b[0;34m\u001b[0m\u001b[0;34m\u001b[0m\u001b[0m\n",
            "\u001b[0;31mAttributeError\u001b[0m: 'list' object has no attribute 'split'"
          ]
        }
      ]
    },
    {
      "cell_type": "markdown",
      "source": [
        "### Step 5: Pre-processing the data - Part III\n",
        "\n",
        "Reusing the code from the previous question as the starting point, extend it to store the data in a dictionary that will use the year as the key and the list of sales as a value. Don't forget to print your dictionary at the end to check what it contains!"
      ],
      "metadata": {
        "id": "Nz_a1wgHk_FR"
      }
    },
    {
      "cell_type": "code",
      "source": [],
      "metadata": {
        "id": "RaLk0JY2lF0B"
      },
      "execution_count": null,
      "outputs": []
    },
    {
      "cell_type": "markdown",
      "source": [
        "### Step 6: Yearly average sales\n",
        "\n",
        "Write a function **list_average()** that takes a list as a parameter and return the average value of the list."
      ],
      "metadata": {
        "id": "snfsfzh1lIVJ"
      }
    },
    {
      "cell_type": "code",
      "source": [],
      "metadata": {
        "id": "FBLh9oJblPag"
      },
      "execution_count": null,
      "outputs": []
    },
    {
      "cell_type": "markdown",
      "source": [
        "Using a **for** loop and the function **list_average()**, print the average monthly sale for each year of our business."
      ],
      "metadata": {
        "id": "EMQ6fFQzlT4_"
      }
    },
    {
      "cell_type": "code",
      "source": [],
      "metadata": {
        "id": "iamHb53VlfvK"
      },
      "execution_count": null,
      "outputs": []
    },
    {
      "cell_type": "markdown",
      "source": [
        "## Guess the number!\n",
        "\n",
        "I am sure most of you would have already played that game where one of your friend picks a random number and you try to guess it as quickly as possible. We now have all the bricks we need to build such a game so let's do it, step by step!\n",
        "\n",
        "### Step 1: Getting a random number\n",
        "\n",
        "First we need to import the random module so that we can generate random numbers."
      ],
      "metadata": {
        "id": "0l2oRG0MljJS"
      }
    },
    {
      "cell_type": "code",
      "source": [
        "# Make sure you execute this cell otherwise Python will not know\n",
        "# any function inside the random module !!!\n",
        "\n",
        "import random"
      ],
      "metadata": {
        "id": "5NgEtDD3lt7J"
      },
      "execution_count": null,
      "outputs": []
    },
    {
      "cell_type": "markdown",
      "source": [
        "In the random module, the function randint() returns a random integer with a value between the first argument and the second. Here is an example to generate a random number between 1 and 5:"
      ],
      "metadata": {
        "id": "pTQS8ywflzQE"
      }
    },
    {
      "cell_type": "code",
      "source": [
        "print(random.randint(1, 5))"
      ],
      "metadata": {
        "id": "_al_R3H_mH-E"
      },
      "execution_count": null,
      "outputs": []
    },
    {
      "cell_type": "markdown",
      "source": [
        "Use the function **randint()** to generate a random number between 0 and 100 and store it in a variable **secret**"
      ],
      "metadata": {
        "id": "YrNefYCymKkE"
      }
    },
    {
      "cell_type": "code",
      "source": [],
      "metadata": {
        "id": "msaWviKvmNv_"
      },
      "execution_count": null,
      "outputs": []
    },
    {
      "cell_type": "markdown",
      "source": [
        "### Step 2: Checking the user input\n",
        "\n",
        "Now, let's write a function **good_guess()** that:\n",
        "* Takes two integer parameters: **secret** and **guess**\n",
        "* Compares the **secret** and **guess** values and prints a clue if the secret smaller or bigger than the guess.\n",
        "* Returns **True** if the two numbers are equal, **False** otherwise"
      ],
      "metadata": {
        "id": "N1ytJg9WctKr"
      }
    },
    {
      "cell_type": "code",
      "source": [
        "# Whilst you create a new function, it is quite common to call\n",
        "# it with some simple values, where you know the expected output\n",
        "# to see if it behaves as expected, like in this example.\n",
        "def example_function(a, b):\n",
        "    print(a + b)\n",
        "    return a + b\n",
        "\n",
        "r = example_function(3, 6)\n",
        "print('The return value of example_function is ' + str(r))"
      ],
      "metadata": {
        "id": "-5k5fLRYc3JQ"
      },
      "execution_count": null,
      "outputs": []
    },
    {
      "cell_type": "code",
      "source": [],
      "metadata": {
        "id": "MHh-1uFvc5Yp"
      },
      "execution_count": null,
      "outputs": []
    },
    {
      "cell_type": "markdown",
      "source": [
        "### Step 3a: Build a game logic giving 10 attemps\n",
        "\n",
        "Using a **for** loop and the function **range**, write some code that will capture the user input as an integer, check the value compared to the secret number using your function **good_guess()** and giving a maximum of 10 attemps to the user. (Do you remember **continue** and **break** statements? You may well need one of these two!).\n",
        "\n",
        "Once you have that working, you can add a display message that says 'You won in ... attempts!' if the user found the secret number in less than 10 attemps or 'You have lost!' otherwise."
      ],
      "metadata": {
        "id": "917AY8lgc7oq"
      }
    },
    {
      "cell_type": "code",
      "source": [],
      "metadata": {
        "id": "ts-hrI1Dc-PY"
      },
      "execution_count": null,
      "outputs": []
    },
    {
      "cell_type": "markdown",
      "source": [
        "### Step 3b: Let's have unlimited attempts!\n",
        "\n",
        "Hard to win? This time, let's change it to have unlimited tries using a **while** loop. Make sure you also have a mechanism to count the number of attempts."
      ],
      "metadata": {
        "id": "JXbqBre9dBH6"
      }
    },
    {
      "cell_type": "code",
      "source": [],
      "metadata": {
        "id": "rnhmgif1dGXD"
      },
      "execution_count": null,
      "outputs": []
    },
    {
      "cell_type": "markdown",
      "source": [
        "## Bored of playing?\n",
        "\n",
        "We now have a game that we can play ourselves but as we are becoming 'coding ninjas', let's write a program that will play for us against the computer!\n",
        "\n",
        "We will have two approaches:\n",
        "1. Brute force: At each attempt, randomly pick a number between 0 and 100 until we win.\n",
        "2. Human logic: When you play the game, I am sure that you have a certain strategy! Try to write a function that replicates your strategy!\n",
        "\n"
      ],
      "metadata": {
        "id": "xc7Fc5rIdKB5"
      }
    },
    {
      "cell_type": "markdown",
      "source": [
        "### Step 4: Another check function\n",
        "\n",
        "We are now going to make a slightly different version of our function **good_guess()** created in Step 2 by creating a new function called **check_guess()**. This new function will take two parameters **secret** and **guess** and\n",
        "* Return 0 if secret and guess are equals\n",
        "* Return 1 if secret is bigger than guess\n",
        "* Return -1 if secret is smaller than guess\n",
        "\n",
        "We will not include any **print()** statements in this function!"
      ],
      "metadata": {
        "id": "3HjXYE30dPyZ"
      }
    },
    {
      "cell_type": "code",
      "source": [
        "def check_guess(secret, guess):\n",
        "    if secret == guess:\n",
        "        return 0\n",
        "    elif secret < guess:\n",
        "        return -1\n",
        "    else:\n",
        "        return 1"
      ],
      "metadata": {
        "id": "MlYRRD8IdSxL"
      },
      "execution_count": null,
      "outputs": []
    },
    {
      "cell_type": "markdown",
      "source": [
        "## Step 5: The brute force\n",
        "\n",
        "Starting with your code from Step 3b, make changes to now pick a random number between 0 and 100 instead of asking for the user input and use our new function **check_guess()**."
      ],
      "metadata": {
        "id": "_zPshAaOdVer"
      }
    },
    {
      "cell_type": "code",
      "source": [],
      "metadata": {
        "id": "CH8wp7ePdYkP"
      },
      "execution_count": null,
      "outputs": []
    },
    {
      "cell_type": "markdown",
      "source": [
        "You should now have a block of code that automatically plays the game by randomly picking numbers until you win. We are now going to wrap all this code in a function called **play_brute_force()** that will return the number of attempts needed to win."
      ],
      "metadata": {
        "id": "Bj1x5IkAdcFJ"
      }
    },
    {
      "cell_type": "code",
      "source": [
        "# def play_brute_force():\n"
      ],
      "metadata": {
        "id": "kiTxjhh6deGx"
      },
      "execution_count": null,
      "outputs": []
    },
    {
      "cell_type": "code",
      "source": [
        "play_brute_force()"
      ],
      "metadata": {
        "id": "GcoozaordgUs"
      },
      "execution_count": null,
      "outputs": []
    },
    {
      "cell_type": "markdown",
      "source": [
        "### Step 6: Your own strategy\n",
        "\n",
        "Use your own logic to try to solve the random number game in the least amount of tries."
      ],
      "metadata": {
        "id": "tvHSYBI4dioH"
      }
    },
    {
      "cell_type": "code",
      "source": [],
      "metadata": {
        "id": "H44lOibEdn7H"
      },
      "execution_count": null,
      "outputs": []
    },
    {
      "cell_type": "markdown",
      "source": [
        "Once you are satisfied with your logic, wrap your code into a function **play_logic()** that also returns the number of attempts needed to success."
      ],
      "metadata": {
        "id": "9t0sE6Pgdqa7"
      }
    },
    {
      "cell_type": "code",
      "source": [
        "# def play_logic():"
      ],
      "metadata": {
        "id": "xflTUYgsdtHf"
      },
      "execution_count": null,
      "outputs": []
    },
    {
      "cell_type": "code",
      "source": [
        "play_logic()"
      ],
      "metadata": {
        "id": "bp9vZ7qHdtMw"
      },
      "execution_count": null,
      "outputs": []
    },
    {
      "cell_type": "markdown",
      "source": [
        "### Step 7: Performance comparison\n",
        "\n",
        "We now have two functions **play_brute_force()** and **play_logic()** that play the game with different approaches. We want to do a performance comparison of the two techniques over 1000 games to find the average number of attempts needed to win.\n",
        "\n",
        "You will need a **for** loop and some data structures that we have learned last week."
      ],
      "metadata": {
        "id": "4cxs_DfhdzOz"
      }
    },
    {
      "cell_type": "code",
      "source": [],
      "metadata": {
        "id": "-qaNmwZId25u"
      },
      "execution_count": null,
      "outputs": []
    }
  ]
}