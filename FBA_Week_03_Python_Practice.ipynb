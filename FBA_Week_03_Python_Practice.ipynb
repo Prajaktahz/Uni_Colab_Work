{
  "nbformat": 4,
  "nbformat_minor": 0,
  "metadata": {
    "colab": {
      "provenance": [],
      "include_colab_link": true
    },
    "kernelspec": {
      "name": "python3",
      "display_name": "Python 3"
    },
    "language_info": {
      "name": "python"
    }
  },
  "cells": [
    {
      "cell_type": "markdown",
      "metadata": {
        "id": "view-in-github",
        "colab_type": "text"
      },
      "source": [
        "<a href=\"https://colab.research.google.com/github/Prajaktahz/Uni_Colab_Work/blob/main/FBA_Week_03_Python_Practice.ipynb\" target=\"_parent\"><img src=\"https://colab.research.google.com/assets/colab-badge.svg\" alt=\"Open In Colab\"/></a>"
      ]
    },
    {
      "cell_type": "markdown",
      "source": [
        "![alt text](http://www.cs.nott.ac.uk/~pszgss/teaching/nlab.png)\n",
        "# FBA Computing Session Week 3:\n",
        "\n",
        "Python Practice\n",
        "\n",
        "Remember that it is vital that you learn to script - as a top business analyst you will often be looking to generate insight from large amounts of business data. While software such as SPSS and excel <i>aren't</i> sufficient for processing data of that scale, scripting languages are built to do exactly that! Because of this, when hiring for the best analyst jobs, companies expect knowledge about either python or R as a pre-requisite.\n",
        "\n",
        "Now, we have so far learnt the basic tools of scripting: variables, conditionals and loops. These are absolutely key to have an instinctive undertanding of. But of course, learning how to manipulate business data requires more than that: we need to understand \"data structures\".\n",
        "\n",
        "The two core Python data structures that we will become familiar with today are:\n",
        "\n",
        "1. Lists\n",
        "2. Dictionaries\n",
        "\n",
        "#### Make sure that you learn these as they will underpin all of our analyses.\n",
        "\n",
        "<hr/>\n",
        "Ok, to get started, let's refresh our minds of what lists are."
      ],
      "metadata": {
        "id": "-5K2jAD1wX2Y"
      }
    },
    {
      "cell_type": "markdown",
      "source": [
        "# A Practice Case - Selling fruits!\n",
        "\n",
        "To get to practice our lists, dictionaries and their associated methods we are going to use a simple case study, where we are tasked with helping a fruit merchant.\n",
        "\n",
        "To start with, we are going to sell some mango, pears, bananas and apples, so first create a list containing these 4 fruits."
      ],
      "metadata": {
        "id": "aC12BA9d3BOG"
      }
    },
    {
      "cell_type": "code",
      "execution_count": null,
      "metadata": {
        "id": "9_jSV9rWGnaM"
      },
      "outputs": [],
      "source": [
        "# enter your code here\n",
        "fruits = ['mango','pears','bananas', 'apples']"
      ]
    },
    {
      "cell_type": "markdown",
      "source": [
        "The merchant forgot to tell you but he is also stocking some peaches. Using the **.append()** method, add it to our list of fruits.\n",
        "\n",
        "(Don't forget to print your list once you have changed it to check if it worked as expected.)"
      ],
      "metadata": {
        "id": "r89RRAEpK6Ny"
      }
    },
    {
      "cell_type": "code",
      "source": [
        "# enter your code here\n",
        "fruits.append('peaches')\n",
        "print(fruits)"
      ],
      "metadata": {
        "id": "zR7O4P3JB4O8",
        "outputId": "7f174433-a754-4699-cfa7-2a023b034cc8",
        "colab": {
          "base_uri": "https://localhost:8080/"
        }
      },
      "execution_count": null,
      "outputs": [
        {
          "output_type": "stream",
          "name": "stdout",
          "text": [
            "['mango', 'pears', 'bananas', 'apples', 'peaches']\n"
          ]
        }
      ]
    },
    {
      "cell_type": "markdown",
      "source": [
        "There was also some mis-communication, in that the merchant does not have any mango after all. Update your list accordingly using the method **.remove()**.\n",
        "\n",
        "(Don't forget to print your list once you have changed it to check if it worked as expected.)"
      ],
      "metadata": {
        "id": "6Gq1E0VbLKCz"
      }
    },
    {
      "cell_type": "code",
      "source": [
        "# enter your code here\n",
        "fruits.remove('mango')\n",
        "print(fruits)"
      ],
      "metadata": {
        "id": "t28ap5uHK5uK",
        "outputId": "d1941158-6499-4f0f-bfbb-2120ae86eea4",
        "colab": {
          "base_uri": "https://localhost:8080/"
        }
      },
      "execution_count": null,
      "outputs": [
        {
          "output_type": "stream",
          "name": "stdout",
          "text": [
            "['pears', 'bananas', 'apples', 'peaches']\n"
          ]
        }
      ]
    },
    {
      "cell_type": "markdown",
      "source": [
        "In addition to the fruits list, the merchant is also going to provide you a list of prices for his fruits. Unfortunately, he doesn't follow best practices as he used a list to store the price of each fruit **ordered in the alphabetical order**. (i.e. the first price corresponds to 'apples', the last one to 'pears')"
      ],
      "metadata": {
        "id": "0ji_myQvL-i1"
      }
    },
    {
      "cell_type": "code",
      "source": [
        "price_list = [1.35, 0.99, 4, 2.99, 2.25]"
      ],
      "metadata": {
        "id": "lNhIysZVMSmO"
      },
      "execution_count": null,
      "outputs": []
    },
    {
      "cell_type": "markdown",
      "source": [
        "The first step to be able to match our two datasources (i.e. our list **fruits** and the provided list **price_list**), is to sort our list fruits in the alphabetical order using the method .sort().\n",
        "\n",
        "Afterwards, print the result of your sorted list to check if it was correctly performed."
      ],
      "metadata": {
        "id": "BXlB38rQMZSp"
      }
    },
    {
      "cell_type": "code",
      "source": [
        "# enter your code here\n",
        "fruits.sort()\n",
        "print(fruits)"
      ],
      "metadata": {
        "id": "A7s-cqOFMm46",
        "outputId": "be4c53c6-f069-4c88-c153-fbda686e0c8c",
        "colab": {
          "base_uri": "https://localhost:8080/"
        }
      },
      "execution_count": null,
      "outputs": [
        {
          "output_type": "stream",
          "name": "stdout",
          "text": [
            "['apples', 'bananas', 'peaches', 'pears']\n"
          ]
        }
      ]
    },
    {
      "cell_type": "markdown",
      "source": [
        "You may have noticed, the price list contains 5 prices but we only have 4 fruits. Another mis-communication ... This time, the merchant forgot to tell you he also sells cherries which we need to add to our **fruits** list (get used to these as a business analyst - the data you have will always need some 'cleansing'!)\n",
        "\n",
        "Unfortunately, we have also sorted our list in the alphabetical order so we need to be carreful when we add cherries to the list if we want the prices to correspond! 'cherries' will be the 3rd fruit in the alphabetical order (after 'apples' and 'bananas' and before 'peaches' and 'pears').\n",
        "\n",
        "Using the **.insert()** method, add 'cherries' to our **fruits** list so that it appears in 3rd position to respect the alphabetical sorting. Remember, list indexing starts at 0 (zero) !!!"
      ],
      "metadata": {
        "id": "vrSiLsDHMzoC"
      }
    },
    {
      "cell_type": "code",
      "source": [
        "#enter your code here\n",
        "fruits.insert(2,'cherries')"
      ],
      "metadata": {
        "id": "vnsWyAV_NHU2"
      },
      "execution_count": null,
      "outputs": []
    },
    {
      "cell_type": "markdown",
      "source": [
        "You should now have a list **fruits** that contains the following values in that order: ['apples', 'bananas', 'cherries', 'peaches', 'pears']. Print your list to make sure it is the case!"
      ],
      "metadata": {
        "id": "i8XuJ5W5NN18"
      }
    },
    {
      "cell_type": "code",
      "source": [
        "#enter your print statement here\n",
        "print(fruits)"
      ],
      "metadata": {
        "id": "JgzLiBuYNRiV",
        "outputId": "2455ef4b-21fb-48b2-e307-c8564b4ec739",
        "colab": {
          "base_uri": "https://localhost:8080/"
        }
      },
      "execution_count": null,
      "outputs": [
        {
          "output_type": "stream",
          "name": "stdout",
          "text": [
            "['apples', 'bananas', 'cherries', 'peaches', 'pears']\n"
          ]
        }
      ]
    },
    {
      "cell_type": "markdown",
      "source": [
        "Let's check everything matches - create a loop using a variable i and a <b>range(5)</b> function, that on each iteration of the loop prints out the name of the next fruit, next to its price"
      ],
      "metadata": {
        "id": "933WgHq4Cwaa"
      }
    },
    {
      "cell_type": "code",
      "source": [
        "#enter your loop here\n",
        "for i in range(len(fruits)):\n",
        "  print(fruits[i] + ' : ' + str(price_list[i]))"
      ],
      "metadata": {
        "id": "a3BakcuQCzr7",
        "outputId": "b4d3051b-d03d-416a-cac8-05d3941f4bad",
        "colab": {
          "base_uri": "https://localhost:8080/"
        }
      },
      "execution_count": null,
      "outputs": [
        {
          "output_type": "stream",
          "name": "stdout",
          "text": [
            "apples : 1.35\n",
            "bananas : 0.99\n",
            "cherries : 4\n",
            "peaches : 2.99\n",
            "pears : 2.25\n"
          ]
        }
      ]
    },
    {
      "cell_type": "markdown",
      "source": [
        "### Dictionaries\n",
        "\n",
        "Okay, so we have two lists (one for items, one for prices) whose items match. But it might be easier if this information was in a dictionary called **prices**. Let's create just this.\n",
        "\n",
        "First of all, create an empty dictionary stored in a variable named **prices** (as a reminder, you define a dictionary using { } instead of [ ] for a list):"
      ],
      "metadata": {
        "id": "okjtKYORC5ZF"
      }
    },
    {
      "cell_type": "code",
      "source": [
        "#enter your empty dictionary declaration here\n",
        "prices = {}"
      ],
      "metadata": {
        "id": "LZ3MACAhDEWj"
      },
      "execution_count": null,
      "outputs": []
    },
    {
      "cell_type": "markdown",
      "source": [
        "We could add every element in a single line declaration as follows:\n",
        "\n",
        "(note we don't assign this dictionary into the prices variable as we don't want to remember it for now):"
      ],
      "metadata": {
        "id": "yYMxwpKpDNC2"
      }
    },
    {
      "cell_type": "code",
      "source": [
        "{'apples':1.35, 'bananas':0.99, 'cherries':4, 'peaches':2.99, 'pears':2.25}"
      ],
      "metadata": {
        "id": "aQ92GNHHDP8H",
        "outputId": "c096a164-dc9c-48b4-dc83-8377bf7a2d99",
        "colab": {
          "base_uri": "https://localhost:8080/"
        }
      },
      "execution_count": null,
      "outputs": [
        {
          "output_type": "execute_result",
          "data": {
            "text/plain": [
              "{'apples': 1.35,\n",
              " 'bananas': 0.99,\n",
              " 'cherries': 4,\n",
              " 'peaches': 2.99,\n",
              " 'pears': 2.25}"
            ]
          },
          "metadata": {},
          "execution_count": 12
        }
      ]
    },
    {
      "cell_type": "markdown",
      "source": [
        "Or we could add them line by line as follows:"
      ],
      "metadata": {
        "id": "Vf0-Y3uPDStt"
      }
    },
    {
      "cell_type": "code",
      "source": [
        "prices['apples'] = 1.35"
      ],
      "metadata": {
        "id": "XZ5dXuoXDXc7"
      },
      "execution_count": null,
      "outputs": []
    },
    {
      "cell_type": "markdown",
      "source": [
        "Add every item using the key assignment syntax shown above, so prices is a full dictionary!"
      ],
      "metadata": {
        "id": "yCefkoEmDZfo"
      }
    },
    {
      "cell_type": "code",
      "source": [
        "# enter your code here\n",
        "prices.update({'bananas':0.99, 'cherries':4, 'peaches':2.99, 'pears':2.25})\n",
        "# print out the result\n",
        "print(prices)"
      ],
      "metadata": {
        "id": "qBM9VMUlGBxx",
        "outputId": "1eb944ad-2006-4e1c-c459-c5ef818ac5bc",
        "colab": {
          "base_uri": "https://localhost:8080/"
        }
      },
      "execution_count": null,
      "outputs": [
        {
          "output_type": "stream",
          "name": "stdout",
          "text": [
            "{'apples': 1.35, 'bananas': 0.99, 'cherries': 4, 'peaches': 2.99, 'pears': 2.25}\n"
          ]
        }
      ]
    },
    {
      "cell_type": "markdown",
      "source": [
        "A final option for doing this (given we had the data already in lists) would have been to use a loop. If we'd had hundreds of stock items to enter in, that were already in lists, this would have been invaluable.\n",
        "\n",
        "Using a **for** loop and the **range** function, iterate through the indexes of your previous created lists: **fruits** and **price_list** (remember both lists contains 5 elements in order, which are a matching fruit and price).\n",
        "\n",
        "Accessing values by index, you can get the fruit name and the fruit price to populate our **prices** dictionary using the fruit name as a key and the price as the value.\n",
        "\n",
        "Try this now, and don't forget to print your dictionary after (and outside) your for loop to see if it was correctly populated."
      ],
      "metadata": {
        "id": "kl2JWNpQDagI"
      }
    },
    {
      "cell_type": "code",
      "source": [
        "#enter your empty dictionary declaration here so we can start again\n",
        "prices = {}\n",
        "\n",
        "#enter your looping code here\n",
        "for i in range(len(fruits)):\n",
        "  prices[fruits[i]] = price_list[i]\n",
        "#print out the results. Does it match your previous, line-by-line created dictionary?\n",
        "print(prices)"
      ],
      "metadata": {
        "id": "pOwWvSceigi6",
        "outputId": "c4c87c2f-baee-4cb0-afeb-fe1a2bef472f",
        "colab": {
          "base_uri": "https://localhost:8080/"
        }
      },
      "execution_count": null,
      "outputs": [
        {
          "output_type": "stream",
          "name": "stdout",
          "text": [
            "{'apples': 1.35, 'bananas': 0.99, 'cherries': 4, 'peaches': 2.99, 'pears': 2.25}\n"
          ]
        }
      ]
    },
    {
      "cell_type": "markdown",
      "source": [
        "## Putting it all together\n",
        "\n",
        "Okay, let's combine this with user input on stock amounts. First,  create an empty dictionary that we will store in a variable **stock**:"
      ],
      "metadata": {
        "id": "KUO0Q-jmGPhc"
      }
    },
    {
      "cell_type": "code",
      "source": [
        "#enter your empty dictionary declaration here\n",
        "stock = {}"
      ],
      "metadata": {
        "id": "HQWmHMKeDjFj"
      },
      "execution_count": null,
      "outputs": []
    },
    {
      "cell_type": "markdown",
      "source": [
        "You are now going to write a small script that interacts with the user to populate our fruit stock dictionary. Using a **for** loop and the list **fruits**, iterate through each fruit you are stocking and ask the user to **input()** the stock for that fruit (e.g. : 'How many bananas do you have in stock? 549'). Use the fruit name as the key and the quantity entered by the user as the value to populate your **stock** dictionary."
      ],
      "metadata": {
        "id": "lfkkAc-zDlGW"
      }
    },
    {
      "cell_type": "code",
      "source": [
        "#enter your for loop here that iterates through the fruit\n",
        "for i in range(len(fruits)):\n",
        "    #inside the loop ask the user how much stock that fruit has\n",
        "    print('how many '+ fruits[i] + ' you have?')\n",
        "    stock_quantity = int(input())\n",
        "    #and then add whatever info they input into the stock dictionary\n",
        "    stock[fruits[i]] = stock_quantity\n",
        "\n",
        "#finally print out the results\n",
        "print(stock)"
      ],
      "metadata": {
        "id": "qOkB_cR-DnAZ",
        "outputId": "14d7341d-e2c1-439d-c6c4-8963e1299535",
        "colab": {
          "base_uri": "https://localhost:8080/"
        }
      },
      "execution_count": null,
      "outputs": [
        {
          "output_type": "stream",
          "name": "stdout",
          "text": [
            "how many apples you have?\n",
            "12\n",
            "how many bananas you have?\n",
            "13\n",
            "how many cherries you have?\n",
            "4\n",
            "how many peaches you have?\n",
            "56\n",
            "how many pears you have?\n",
            "40\n",
            "{'apples': 12, 'bananas': 13, 'cherries': 4, 'peaches': 56, 'pears': 40}\n"
          ]
        }
      ]
    },
    {
      "cell_type": "markdown",
      "source": [
        "The last thing that our merchant would like to know is how much money is his stock of fruits worth. Using a **for** loop, your list **fruits** and your two dictionaries **stock** and **prices**, compute the total value of his merchandise, based on the stock amounts you input. (i.e. apples are £1.35 each so if you stated that he has, for example, 100 of them, his apple stock is worth £135 - to which you will need to add bananas, cherries, peaches and pears).\n",
        "\n",
        "This may be a tricky loop the first time"
      ],
      "metadata": {
        "id": "ptKPT5RQDsC_"
      }
    },
    {
      "cell_type": "code",
      "source": [
        "#create a variable that will keep track of your running stock worth\n",
        "#(which you will add to each time you go round the loop)\n",
        "total_stock_value = 0\n",
        "\n",
        "#enter your code here that loops through the fruits\n",
        "for i in range(len(fruits)):\n",
        "  #print(fruits[i])\n",
        "  fruit_quantity = stock[fruits[i]]\n",
        "  #print(fruit_quantity)\n",
        "  fruit_price = float(price_list[i])\n",
        "  #print(fruit_price)\n",
        "  total_stock_value += (fruit_quantity * fruit_price)\n",
        "#print out the final stock worth\n",
        "print('The total stock is worth £' + str(total_stock_value))"
      ],
      "metadata": {
        "id": "dn1Y8hSpDxn9",
        "outputId": "36895b47-793a-4667-be30-a47ea31a5bf8",
        "colab": {
          "base_uri": "https://localhost:8080/"
        }
      },
      "execution_count": null,
      "outputs": [
        {
          "output_type": "stream",
          "name": "stdout",
          "text": [
            "apples\n",
            "12\n",
            "1.35\n",
            "bananas\n",
            "13\n",
            "0.99\n",
            "cherries\n",
            "4\n",
            "4.0\n",
            "peaches\n",
            "56\n",
            "2.99\n",
            "pears\n",
            "40\n",
            "2.25\n",
            "The total stock is worth £302.51\n"
          ]
        }
      ]
    },
    {
      "cell_type": "markdown",
      "source": [
        "<hr/>\n",
        "\n",
        "## Case Study Example 2 - back to ice creams!\n",
        "\n",
        "Let's now go back to our ice cream business and see how we could have made our lives a bit simpler last week if we had known about lists and loops!\n",
        "\n",
        "Here is a reminder of the sales of our business:\n",
        "\n",
        "|-| January | February | March | April | May | June | July | August | September | October | November | December\n",
        "|-|-|-|-|-|-|-|-|-|-|-|-|-|\n",
        "|2020|£1000|£1100|£1200|£1300|£1400|£1500|£1500|£1400|£1300|£1200|£1100|£1000|\n",
        "|2021|£1100|£1200|£1300|£1400|£1500|£1600|£1600|£1500|£1400|£1300|£1200|£1100|\n",
        "|2022|£500|£1600|£1700|£1800|£1900|£500|£500|£500|£1800|£1700|£1600|£500|"
      ],
      "metadata": {
        "id": "5HQ-yCZVD0OY"
      }
    },
    {
      "cell_type": "markdown",
      "source": [
        "You are given the following sales data, already put into your script by previous analysts (normally we'd have to load this in from a csv file or sql database ourselves!):"
      ],
      "metadata": {
        "id": "lTbLZBzzjCRE"
      }
    },
    {
      "cell_type": "code",
      "source": [
        "sales_2020 = [1000, 1100, 1200, 1300, 1400, 1500, 1500, 1400, 1300, 1200, 1100, 1000]\n",
        "sales_2021 = ['1100', '1200', '1300', '1400', '1500', '1600', '1600', '1500', '1400', '1300', '1200', '1100']\n",
        "sales_2022 = [500.0, 1600.0, 1700.0, 1800.0, 1900.0, 500.0, 500.0, 500.0, 1800.0, 1700.0, 1600.0, 500.0]"
      ],
      "metadata": {
        "id": "_6szrTbsD0-I"
      },
      "execution_count": 1,
      "outputs": []
    },
    {
      "cell_type": "markdown",
      "source": [
        "Note that not everything is in the same format! Anyhow, we'll deal with that later (data cleansing required again at some point!). First, create a list containing the months of a year from January till December:"
      ],
      "metadata": {
        "id": "uyVvA-qDD-lQ"
      }
    },
    {
      "cell_type": "code",
      "source": [
        "#enter your code here\n",
        "months = ['Jan','Feb','Mar','Apr','May','Jun','Jul','Aug','Sep','Oct','Nov','Dec']"
      ],
      "metadata": {
        "id": "0M9S9LmqEFvJ"
      },
      "execution_count": 2,
      "outputs": []
    },
    {
      "cell_type": "markdown",
      "source": [
        "Now, remember that we can access the data in a list by using an index (which always starts from zero!). For example, we can access individual sales results as follows:"
      ],
      "metadata": {
        "id": "ViNQT5C8LRZu"
      }
    },
    {
      "cell_type": "code",
      "source": [
        "print(\"Example sales in 2020:\")\n",
        "print(months[0], sales_2020[0])\n",
        "\n",
        "print()\n",
        "\n",
        "print(\"Example sales in 2021:\")\n",
        "print(months[2], sales_2021[2])"
      ],
      "metadata": {
        "id": "Ss6qajG5EKTJ",
        "outputId": "9be9cead-0d56-4081-8dbc-1c659cc7b756",
        "colab": {
          "base_uri": "https://localhost:8080/"
        }
      },
      "execution_count": 3,
      "outputs": [
        {
          "output_type": "stream",
          "name": "stdout",
          "text": [
            "Example sales in 2020:\n",
            "Jan 1000\n",
            "\n",
            "Example sales in 2021:\n",
            "Mar 1300\n"
          ]
        }
      ]
    },
    {
      "cell_type": "markdown",
      "source": [
        "Note that March, being the 3rd month, is indexed by a 2 because we start counting from zero.\n",
        "\n",
        "As above, print out the sales for December 2022:"
      ],
      "metadata": {
        "id": "NccFRJG0EHWr"
      }
    },
    {
      "cell_type": "code",
      "source": [
        "#enter your code here\n",
        "print('Sales for Dec 2022:')\n",
        "print(months[-1], sales_2022[-1])"
      ],
      "metadata": {
        "id": "H9RUXZT_LUwa",
        "outputId": "04538c85-a16b-47ab-b285-784a6f7fc86b",
        "colab": {
          "base_uri": "https://localhost:8080/"
        }
      },
      "execution_count": 4,
      "outputs": [
        {
          "output_type": "stream",
          "name": "stdout",
          "text": [
            "Sales for Dec 2022:\n",
            "Dec 500.0\n"
          ]
        }
      ]
    },
    {
      "cell_type": "markdown",
      "source": [
        "Use a loop to print the sales for each of the months in 2022 on a separate line. To do this use a variable called <b>i</b> and the <b>range</b> function to enumerate your loop, and then use <b>i</b> to index the sales and name of each month from their lists."
      ],
      "metadata": {
        "id": "YTarCVjWEOEN"
      }
    },
    {
      "cell_type": "code",
      "source": [
        "#enter your code here\n",
        "for i in range(len(months)):\n",
        "  print(months[i], sales_2022[i])"
      ],
      "metadata": {
        "id": "YK0nDXeyFTwf",
        "outputId": "8a532c2f-af68-48ed-d0fd-d6a37e8716c6",
        "colab": {
          "base_uri": "https://localhost:8080/"
        }
      },
      "execution_count": 5,
      "outputs": [
        {
          "output_type": "stream",
          "name": "stdout",
          "text": [
            "Jan 500.0\n",
            "Feb 1600.0\n",
            "Mar 1700.0\n",
            "Apr 1800.0\n",
            "May 1900.0\n",
            "Jun 500.0\n",
            "Jul 500.0\n",
            "Aug 500.0\n",
            "Sep 1800.0\n",
            "Oct 1700.0\n",
            "Nov 1600.0\n",
            "Dec 500.0\n"
          ]
        }
      ]
    },
    {
      "cell_type": "markdown",
      "source": [
        "Update your code above, so it prints out in a format like \"The month of January 2021 had sales of £ 1400\" (note the use of the pound sign, and that the number displayed is an integer and not a float!)"
      ],
      "metadata": {
        "id": "Hxbbylz5I5Pu"
      }
    },
    {
      "cell_type": "code",
      "source": [
        "#enter your code here\n",
        "for i in range(len(months)):\n",
        "  print('The month of ' + months[i] + ' 2021 had sales of £'+ str(sales_2021[i]))"
      ],
      "metadata": {
        "id": "ZUSx56NaFVqh",
        "outputId": "9ebd71b1-123a-4991-ec43-1e062dbc42d1",
        "colab": {
          "base_uri": "https://localhost:8080/"
        }
      },
      "execution_count": 6,
      "outputs": [
        {
          "output_type": "stream",
          "name": "stdout",
          "text": [
            "The month of Jan 2021 had sales of £1100\n",
            "The month of Feb 2021 had sales of £1200\n",
            "The month of Mar 2021 had sales of £1300\n",
            "The month of Apr 2021 had sales of £1400\n",
            "The month of May 2021 had sales of £1500\n",
            "The month of Jun 2021 had sales of £1600\n",
            "The month of Jul 2021 had sales of £1600\n",
            "The month of Aug 2021 had sales of £1500\n",
            "The month of Sep 2021 had sales of £1400\n",
            "The month of Oct 2021 had sales of £1300\n",
            "The month of Nov 2021 had sales of £1200\n",
            "The month of Dec 2021 had sales of £1100\n"
          ]
        }
      ]
    },
    {
      "cell_type": "markdown",
      "source": [
        "Remember, you don't have to use <b>range()</b> to loop round a list of data. You can just iterate through each item in the list itself as follows:"
      ],
      "metadata": {
        "id": "UUaS9ScbI_lW"
      }
    },
    {
      "cell_type": "code",
      "source": [
        "for value in sales_2021:\n",
        "    print(value)"
      ],
      "metadata": {
        "id": "Vx1SdIjvJBPD",
        "outputId": "cb2928df-8d48-4e7e-d112-4417ca1e2d1f",
        "colab": {
          "base_uri": "https://localhost:8080/"
        }
      },
      "execution_count": 7,
      "outputs": [
        {
          "output_type": "stream",
          "name": "stdout",
          "text": [
            "1100\n",
            "1200\n",
            "1300\n",
            "1400\n",
            "1500\n",
            "1600\n",
            "1600\n",
            "1500\n",
            "1400\n",
            "1300\n",
            "1200\n",
            "1100\n"
          ]
        }
      ]
    },
    {
      "cell_type": "markdown",
      "source": [
        "But doing so means we can't connect the indices of lists together. Having two parallel lists, with each index containing related information in each (in our example our months and sales values were paired) is very common in scripting. However, another option is to use a dictionary.\n",
        "\n",
        "Here's an example of a dictionary that uses the month of the year as a key, and the number of days in it as the corresponding value (on a non-leap year!):"
      ],
      "metadata": {
        "id": "ZK1q0EJAkXnU"
      }
    },
    {
      "cell_type": "code",
      "source": [
        "days = {'Jan':31, 'Feb':28, 'Mar':31, 'Apr':30, 'May':31, 'Jun':30, 'Jul':31, 'Aug':31, 'Sep':30, 'Nov':30, 'Oct':31, 'Dec':31}\n",
        "print(days)"
      ],
      "metadata": {
        "id": "ZwGTYjolJDmJ",
        "outputId": "c39127a2-c35a-4962-91ca-3ad540d467b1",
        "colab": {
          "base_uri": "https://localhost:8080/"
        }
      },
      "execution_count": 8,
      "outputs": [
        {
          "output_type": "stream",
          "name": "stdout",
          "text": [
            "{'Jan': 31, 'Feb': 28, 'Mar': 31, 'Apr': 30, 'May': 31, 'Jun': 30, 'Jul': 31, 'Aug': 31, 'Sep': 30, 'Nov': 30, 'Oct': 31, 'Dec': 31}\n"
          ]
        }
      ]
    },
    {
      "cell_type": "markdown",
      "source": [
        "And here's a loop that could display them in a tabular form:"
      ],
      "metadata": {
        "id": "CPVP1C2Qkm6Q"
      }
    },
    {
      "cell_type": "code",
      "source": [
        "for d in days:\n",
        "    print(d, days[d])"
      ],
      "metadata": {
        "id": "qyMmpw4_kpeS",
        "outputId": "65669842-e8fa-4d83-bf75-d64a079b0745",
        "colab": {
          "base_uri": "https://localhost:8080/"
        }
      },
      "execution_count": 9,
      "outputs": [
        {
          "output_type": "stream",
          "name": "stdout",
          "text": [
            "Jan 31\n",
            "Feb 28\n",
            "Mar 31\n",
            "Apr 30\n",
            "May 31\n",
            "Jun 30\n",
            "Jul 31\n",
            "Aug 31\n",
            "Sep 30\n",
            "Nov 30\n",
            "Oct 31\n",
            "Dec 31\n"
          ]
        }
      ]
    },
    {
      "cell_type": "markdown",
      "source": [
        "Examine what a loop iterating through a dictionary does. Unlike for a list, it puts the <b>key</b> into the variable, rather than the associated value. The key is then used as an index itself in the loop to access the corresponding value in the print statement.\n",
        "\n",
        "We can also add key-value pairs to dictionaries gradually:"
      ],
      "metadata": {
        "id": "5G_wggV7kt0a"
      }
    },
    {
      "cell_type": "code",
      "source": [
        "dict_sales_2020 = {}\n",
        "dict_sales_2020['Jan'] = 1000\n",
        "dict_sales_2020['Feb'] = 1100\n",
        "\n",
        "#-- and we can use variables as the key for a dictionary if we so wanted:\n",
        "month = 'Mar'\n",
        "dict_sales_2020[month] = 1200\n",
        "\n",
        "dict_sales_2020"
      ],
      "metadata": {
        "id": "EyYswj4YkxKJ",
        "outputId": "78a6efe3-0940-4167-fbfe-2735c0797c0e",
        "colab": {
          "base_uri": "https://localhost:8080/"
        }
      },
      "execution_count": 10,
      "outputs": [
        {
          "output_type": "execute_result",
          "data": {
            "text/plain": [
              "{'Jan': 1000, 'Feb': 1100, 'Mar': 1200}"
            ]
          },
          "metadata": {},
          "execution_count": 10
        }
      ]
    },
    {
      "cell_type": "markdown",
      "source": [
        "However, it would be much easier to do this in a loop as we have 12 months to do (and this is especially true as our datasets get larger)!\n",
        "\n",
        "See if you can create the same dictionary as above, but using a loop. On each iteration use the loops iteration as an index to the <b>months</b> and <b>sales_2020</b> lists, setting them as the key and value of the dictionary entry respectively."
      ],
      "metadata": {
        "id": "Nz_a1wgHk_FR"
      }
    },
    {
      "cell_type": "code",
      "source": [
        "dict_sales_2020 = {}\n",
        "#enter your looping code here\n",
        "for i in range(len(months)):\n",
        "  dict_sales_2020[months[i]] = sales_2020[i]\n",
        "\n",
        "#print out the results\n",
        "print(dict_sales_2020)"
      ],
      "metadata": {
        "id": "RaLk0JY2lF0B",
        "outputId": "3f29e28e-ed5c-4541-a7b2-ba3a1cf670d8",
        "colab": {
          "base_uri": "https://localhost:8080/"
        }
      },
      "execution_count": 11,
      "outputs": [
        {
          "output_type": "stream",
          "name": "stdout",
          "text": [
            "{'Jan': 1000, 'Feb': 1100, 'Mar': 1200, 'Apr': 1300, 'May': 1400, 'Jun': 1500, 'Jul': 1500, 'Aug': 1400, 'Sep': 1300, 'Oct': 1200, 'Nov': 1100, 'Dec': 1000}\n"
          ]
        }
      ]
    },
    {
      "cell_type": "markdown",
      "source": [
        "Reproduce the same steps to convert your lists of sales 2021 and 2022 to dictionaries, but making sure that all entries are now integers."
      ],
      "metadata": {
        "id": "snfsfzh1lIVJ"
      }
    },
    {
      "cell_type": "code",
      "source": [
        "#enter your code here\n",
        "dict_sales_2021 = {}\n",
        "dict_sales_2022 = {}\n",
        "#enter your looping code here\n",
        "for i in range(len(months)):\n",
        "  dict_sales_2021[months[i]] = int(sales_2021[i])\n",
        "  dict_sales_2022[months[i]] = int(sales_2022[i])\n",
        "#print out the results\n",
        "print(dict_sales_2021)\n",
        "print(dict_sales_2022)"
      ],
      "metadata": {
        "id": "FBLh9oJblPag",
        "outputId": "4b380414-de23-4132-b721-d0b741bb3f70",
        "colab": {
          "base_uri": "https://localhost:8080/"
        }
      },
      "execution_count": 12,
      "outputs": [
        {
          "output_type": "stream",
          "name": "stdout",
          "text": [
            "{'Jan': 1100, 'Feb': 1200, 'Mar': 1300, 'Apr': 1400, 'May': 1500, 'Jun': 1600, 'Jul': 1600, 'Aug': 1500, 'Sep': 1400, 'Oct': 1300, 'Nov': 1200, 'Dec': 1100}\n",
            "{'Jan': 500, 'Feb': 1600, 'Mar': 1700, 'Apr': 1800, 'May': 1900, 'Jun': 500, 'Jul': 500, 'Aug': 500, 'Sep': 1800, 'Oct': 1700, 'Nov': 1600, 'Dec': 500}\n"
          ]
        }
      ]
    },
    {
      "cell_type": "markdown",
      "source": [
        "You should now have 3 dictionaries containing the sales for years 2020, 2021 and 2022.\n",
        "\n",
        "Combine all of these themselves as values in another dictionary (you can name it **dict_yearly_sales** for example) taking the year as its key - and then print out the results."
      ],
      "metadata": {
        "id": "EMQ6fFQzlT4_"
      }
    },
    {
      "cell_type": "code",
      "source": [
        "#enter your code here\n",
        "dict_yearly_sales = {}\n",
        "dict_yearly_sales['2020'] = dict_sales_2020\n",
        "dict_yearly_sales['2021'] = dict_sales_2021\n",
        "dict_yearly_sales['2022'] = dict_sales_2022"
      ],
      "metadata": {
        "id": "iamHb53VlfvK"
      },
      "execution_count": 13,
      "outputs": []
    },
    {
      "cell_type": "markdown",
      "source": [
        "Well, that's already quite a lot of data already. Note that just like SQL tables, dictionaries have fields and values. And also like SQL tables, the order of the fields doesn't matter - you have to reference them by the correct key.\n",
        "\n",
        "## Analysing the Ice Cream sales data\n",
        "\n",
        "We now have some well structured data and can take advantage of that to perform some standard analysis on our business.\n",
        "\n",
        "Let's start by computing the total sales for each year using the dictionary that we have freshly created (i.e. from the previous question). Using a **for** loop, print something like 'In 2020, total sales were £...', 'In 2021, total sales were £...' ..."
      ],
      "metadata": {
        "id": "0l2oRG0MljJS"
      }
    },
    {
      "cell_type": "code",
      "source": [
        "#enter your looping code here, printing on each iteration of the loop...\n",
        "def get_total_sales(dict_sales):\n",
        "  total_sales = 0\n",
        "  for i in dict_sales.values():\n",
        "    total_sales += i\n",
        "  return total_sales\n",
        "\n",
        "\n",
        "for i in dict_yearly_sales:\n",
        "  sales_for_yr = get_total_sales(dict_yearly_sales[i])\n",
        "  print('In ' + str(i) + ', total sales were £'+ str(sales_for_yr))"
      ],
      "metadata": {
        "id": "5NgEtDD3lt7J",
        "outputId": "d0717b27-6d66-463e-972b-dd0385d82d00",
        "colab": {
          "base_uri": "https://localhost:8080/"
        }
      },
      "execution_count": 20,
      "outputs": [
        {
          "output_type": "stream",
          "name": "stdout",
          "text": [
            "In 2020, total sales were £15000\n",
            "In 2021, total sales were £16200\n",
            "In 2022, total sales were £14600\n"
          ]
        }
      ]
    },
    {
      "cell_type": "markdown",
      "source": [
        "In addition to yearly sales, we are interested in the performance per trimester (and for each year):\n",
        "    - Trimester 1 : Jan, Feb, Mar\n",
        "    - Trimester 2 : Apr, May, Jun\n",
        "    - Trimester 3 : Jul, Aug, Sep\n",
        "    - Trimester 4 : Oct, Nov, Dec\n",
        "    \n",
        "Let's start by creating a variable **trimester_1** that extracts the first 3 months of our list **months** using slices. Follow the same principle to create the variables **trimester_2**, **trimester_3** and **trimester_4**"
      ],
      "metadata": {
        "id": "pTQS8ywflzQE"
      }
    },
    {
      "cell_type": "code",
      "source": [
        "# In the first question of the case study, you should have defined months like that:\n",
        "months = ['Jan', 'Feb', 'Mar', 'Apr', 'May', 'Jun', 'Jul', 'Aug', 'Sep', 'Oct', 'Nov', 'Dec']\n",
        "\n",
        "# your code here\n",
        "trimester_1 = months[0:3]\n",
        "trimester_2 = months[3:6]\n",
        "trimester_3 = months[6:9]\n",
        "trimester_4 = months[9:12]\n",
        "sem_4 = months[-3:]\n",
        "print(trimester_1)\n",
        "print(trimester_2)\n",
        "print(trimester_3)\n",
        "print(trimester_4)\n",
        "print(sem_4)"
      ],
      "metadata": {
        "id": "_al_R3H_mH-E",
        "outputId": "3baccb3e-a6f0-4e98-a106-5a08fc633802",
        "colab": {
          "base_uri": "https://localhost:8080/"
        }
      },
      "execution_count": 30,
      "outputs": [
        {
          "output_type": "stream",
          "name": "stdout",
          "text": [
            "['Jan', 'Feb', 'Mar']\n",
            "['Apr', 'May', 'Jun']\n",
            "['Jul', 'Aug', 'Sep']\n",
            "['Oct', 'Nov', 'Dec']\n",
            "['Oct', 'Nov', 'Dec']\n"
          ]
        }
      ]
    },
    {
      "cell_type": "markdown",
      "source": [
        "Using two **for** loops (to iterate through your years and months), and **if** statements that use the **in** operator (to check if a month is part of trimester), display on the screen the performance of each trimester and for each year like 'In Semester 1 of 2020, the sales were £...'."
      ],
      "metadata": {
        "id": "YrNefYCymKkE"
      }
    },
    {
      "cell_type": "code",
      "source": [
        "#enter your code here - good luck!"
      ],
      "metadata": {
        "id": "msaWviKvmNv_"
      },
      "execution_count": null,
      "outputs": []
    }
  ]
}