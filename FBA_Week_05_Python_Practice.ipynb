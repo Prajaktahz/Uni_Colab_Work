{
  "nbformat": 4,
  "nbformat_minor": 0,
  "metadata": {
    "colab": {
      "provenance": [],
      "include_colab_link": true
    },
    "kernelspec": {
      "name": "python3",
      "display_name": "Python 3"
    },
    "language_info": {
      "name": "python"
    }
  },
  "cells": [
    {
      "cell_type": "markdown",
      "metadata": {
        "id": "view-in-github",
        "colab_type": "text"
      },
      "source": [
        "<a href=\"https://colab.research.google.com/github/Prajaktahz/Uni_Colab_Work/blob/main/FBA_Week_05_Python_Practice.ipynb\" target=\"_parent\"><img src=\"https://colab.research.google.com/assets/colab-badge.svg\" alt=\"Open In Colab\"/></a>"
      ]
    },
    {
      "cell_type": "markdown",
      "source": [
        "![alt text](http://www.cs.nott.ac.uk/~pszgss/teaching/nlab.png)\n",
        "# FBA Computing Session Week 5:\n",
        "\n",
        "Python - Pandas Practice\n",
        "\n",
        "Pandas is an incredibly useful library, and one that will likely be used by any business analyst who is working with Python. It is a set of functions that allow you to load in, cleanse, manipulate and descriptively analyse your data.\n",
        "\n",
        "## Investigating University Admissions with and without Pandas\n",
        "\n",
        "In our first couple of examples we are going to use admissions.csv (available on the Moodle). This file describes people who apply for a postgraduate degree at a US university, and indicates 3 relevant features about an applicant as well as whether they got into the Masters or PhD course they were applying for when they were selected by hand (note that if we were doing a full analytics project, this would be our target class!):\n",
        "\n",
        "* The dataset has a binary output feature (i.e. dependent variable) called \"admit\".\n",
        "* There are three predictor variables: gre, gpa and ranking.\n",
        "* Variables gre (an exam result score) and gpa (the person’s grade point average) are continuous.\n",
        "* The variable ranking takes on the values 1 through 4. Institutions with a rank of 1 have the highest prestige, while those with a rank of 4 have the lowest.\n",
        "\n",
        "### Step A.1.\n",
        "Before we had the <b>pandas</b> library we had to load data in using the built in \"file\" opening/closing commands (this remains important for you to have seen, even though we will generally use pandas in the future).\n",
        "\n",
        "However, there is also a library called <b>\"csv\"</b> that's good know about, which simplifies parsing a csv with standard file commands. Let’s use that more traditional way first to load in the data we are using, and to understand who was admitted into a US university’s postgraduate program (and why), before we move on to pandas!\n",
        "\n",
        "We’ll load it in from the admissions.csv file, using python’s csv library for now. Run the following code, but remember since we are working in Colab there are several ways to load files:"
      ],
      "metadata": {
        "id": "-5K2jAD1wX2Y"
      }
    },
    {
      "cell_type": "code",
      "source": [
        "!wget -O week5_data.zip \"https://drive.google.com/uc?export=download&id=18C-_-ojwxWq2HztrJaSBkQkrwvpMPszZ\"\n",
        "!unzip week5_data.zip"
      ],
      "metadata": {
        "id": "QoKU0ndl1Y7_",
        "outputId": "cd2a9488-b2cb-4d94-8de3-5165aba6bf36",
        "colab": {
          "base_uri": "https://localhost:8080/"
        }
      },
      "execution_count": 1,
      "outputs": [
        {
          "output_type": "stream",
          "name": "stdout",
          "text": [
            "--2023-10-30 09:51:35--  https://drive.google.com/uc?export=download&id=18C-_-ojwxWq2HztrJaSBkQkrwvpMPszZ\n",
            "Resolving drive.google.com (drive.google.com)... 173.194.216.113, 173.194.216.139, 173.194.216.102, ...\n",
            "Connecting to drive.google.com (drive.google.com)|173.194.216.113|:443... connected.\n",
            "HTTP request sent, awaiting response... 303 See Other\n",
            "Location: https://doc-14-80-docs.googleusercontent.com/docs/securesc/ha0ro937gcuc7l7deffksulhg5h7mbp1/4651rck97si7aqa7nlf6r4inf4c691fv/1698659475000/02584936932483403665/*/18C-_-ojwxWq2HztrJaSBkQkrwvpMPszZ?e=download&uuid=d53ba4bf-ae68-4982-99fa-f1f65c6fb8ee [following]\n",
            "Warning: wildcards not supported in HTTP.\n",
            "--2023-10-30 09:51:35--  https://doc-14-80-docs.googleusercontent.com/docs/securesc/ha0ro937gcuc7l7deffksulhg5h7mbp1/4651rck97si7aqa7nlf6r4inf4c691fv/1698659475000/02584936932483403665/*/18C-_-ojwxWq2HztrJaSBkQkrwvpMPszZ?e=download&uuid=d53ba4bf-ae68-4982-99fa-f1f65c6fb8ee\n",
            "Resolving doc-14-80-docs.googleusercontent.com (doc-14-80-docs.googleusercontent.com)... 142.251.162.132, 2607:f8b0:400c:c38::84\n",
            "Connecting to doc-14-80-docs.googleusercontent.com (doc-14-80-docs.googleusercontent.com)|142.251.162.132|:443... connected.\n",
            "HTTP request sent, awaiting response... 200 OK\n",
            "Length: 9877 (9.6K) [application/x-zip-compressed]\n",
            "Saving to: ‘week5_data.zip’\n",
            "\n",
            "week5_data.zip      100%[===================>]   9.65K  --.-KB/s    in 0s      \n",
            "\n",
            "2023-10-30 09:51:35 (63.0 MB/s) - ‘week5_data.zip’ saved [9877/9877]\n",
            "\n",
            "Archive:  week5_data.zip\n",
            "  inflating: admissions.csv          \n",
            "  inflating: ice_cream_sales.csv     \n",
            "  inflating: occupation.csv          \n"
          ]
        }
      ]
    },
    {
      "cell_type": "code",
      "execution_count": 2,
      "metadata": {
        "id": "9_jSV9rWGnaM"
      },
      "outputs": [],
      "source": [
        "import csv\n",
        "\n",
        "#-- open the file with the data in it (UPDATE THIS!)\n",
        "#-- loads the data in a \"csv\" object called a 'reader'\n",
        "filename = \"admissions.csv\"\n",
        "\n",
        "f = open(filename)\n",
        "\n",
        "#-- loads the data in a \"csv\" object called a 'reader'\n",
        "csv_data = csv.reader(f)"
      ]
    },
    {
      "cell_type": "markdown",
      "source": [
        "### Step A.2\n",
        "You'll have seen above if the data loaded in correctly that in this method you can't just \"print out\" the data you load in, as it has landed in a data processing object (albeit a really useful object however, as it has recognized all the data's column names, and parsed all the commas, numbers and  words in the raw text held within the file into a <i>usable</i> format).\n",
        "\n",
        "To get the data visibly out of that object, we just convert it to a list (which you should now be very familiar with):"
      ],
      "metadata": {
        "id": "H1vrOjejFfIW"
      }
    },
    {
      "cell_type": "code",
      "source": [
        "#-- convert our data into a list to make it easier to examine:\n",
        "data = list(csv_data)\n",
        "print(\"Our data has\", len(data), \"lines\")"
      ],
      "metadata": {
        "id": "ZwGTYjolJDmJ",
        "outputId": "b3ad0a8b-1cbe-40dc-b548-491909fcf218",
        "colab": {
          "base_uri": "https://localhost:8080/"
        }
      },
      "execution_count": 3,
      "outputs": [
        {
          "output_type": "stream",
          "name": "stdout",
          "text": [
            "Our data has 401 lines\n"
          ]
        }
      ]
    },
    {
      "cell_type": "markdown",
      "source": [
        "Ok, so now the data is in a list, which you should be reasonably familiar with now, using a loop print out the first five lines of our data:"
      ],
      "metadata": {
        "id": "CPVP1C2Qkm6Q"
      }
    },
    {
      "cell_type": "code",
      "source": [
        "#-- Enter the rest of the code to print out the first 5 lines of the dataset:\n",
        "for d in data[0:5]:\n",
        "    print(d)"
      ],
      "metadata": {
        "id": "qyMmpw4_kpeS",
        "outputId": "526f0599-3e76-4f56-b49c-bad11a7aea27",
        "colab": {
          "base_uri": "https://localhost:8080/"
        }
      },
      "execution_count": 4,
      "outputs": [
        {
          "output_type": "stream",
          "name": "stdout",
          "text": [
            "['admit', 'gre', 'gpa', 'ranking']\n",
            "['0', '380', '3.61', '3']\n",
            "['1', '660', '3.67', '3']\n",
            "['1', '800', '4', '1']\n",
            "['1', '640', '3.19', '4']\n"
          ]
        }
      ]
    },
    {
      "cell_type": "markdown",
      "source": [
        "Ok you should see some datapoints!\n",
        "\n",
        "But, if we're honest, there were a few inconveniences there. First, obviously we had to convert the data into a list. Second, you should have seen that the first line we printed out in the data is still the “header” with the feature names in it. Not ideal. And Third, you’ll notice that the data items are all still being viewed by python as text strings - when they are clearly numbers. Again, it will be a pain to do all the conversions manually (pandas will ultimately help us with this sort of thing). Nonetheless, let’s persevere with the csv library!\n",
        "\n",
        "### Step A.3.\n",
        "Let’s have a look at an individual field - specifically the grade point average column. Read through the following code which extracts data for a single column, converts it into a float, and then stores it in a new list:\n"
      ],
      "metadata": {
        "id": "5G_wggV7kt0a"
      }
    },
    {
      "cell_type": "code",
      "source": [
        "#-- create a new list that is going to store just the gpa's columns data\n",
        "gpa = []\n",
        "\n",
        "#-- loop round every row apart from the first one (which was the header)\n",
        "for d in data[1:]:\n",
        "\n",
        "    #-- extract the element in the third (gpa) column  and convert to a float:\n",
        "    value = float(d[2])\n",
        "\n",
        "    #-- add the current value to our list of results:\n",
        "    gpa.append(value)\n",
        "\n",
        "#-- print out what we extracted:\n",
        "print(gpa)"
      ],
      "metadata": {
        "id": "EyYswj4YkxKJ",
        "outputId": "62dc8eef-6ed0-4254-d8d4-6af2d49ef51a",
        "colab": {
          "base_uri": "https://localhost:8080/"
        }
      },
      "execution_count": 8,
      "outputs": [
        {
          "output_type": "stream",
          "name": "stdout",
          "text": [
            "[3.61, 3.67, 4.0, 3.19, 2.93, 3.0, 2.98, 3.08, 3.39, 3.92, 4.0, 3.22, 4.0, 3.08, 4.0, 3.44, 3.87, 2.56, 3.75, 3.81, 3.17, 3.63, 2.82, 3.19, 3.35, 3.66, 3.61, 3.74, 3.22, 3.29, 3.78, 3.35, 3.4, 4.0, 3.14, 3.05, 3.25, 2.9, 3.13, 2.68, 2.42, 3.32, 3.15, 3.31, 2.94, 3.45, 3.46, 2.97, 2.48, 3.35, 3.86, 3.13, 3.37, 3.27, 3.34, 4.0, 3.19, 2.94, 3.65, 2.82, 3.18, 3.32, 3.67, 3.85, 4.0, 3.59, 3.62, 3.3, 3.69, 3.73, 4.0, 2.92, 3.39, 4.0, 3.45, 4.0, 3.36, 4.0, 3.12, 4.0, 2.9, 3.07, 2.71, 2.91, 3.6, 2.98, 3.32, 3.48, 3.28, 4.0, 3.83, 3.64, 3.9, 2.93, 3.44, 3.33, 3.52, 3.57, 2.88, 3.31, 3.15, 3.57, 3.33, 3.94, 3.95, 2.97, 3.56, 3.13, 2.93, 3.45, 3.08, 3.41, 3.0, 3.22, 3.84, 3.99, 3.45, 3.72, 3.7, 2.92, 3.74, 2.67, 2.85, 2.98, 3.88, 3.38, 3.54, 3.74, 3.19, 3.15, 3.17, 2.79, 3.4, 3.08, 2.95, 3.57, 3.33, 4.0, 3.4, 3.58, 3.93, 3.52, 3.94, 3.4, 3.4, 3.43, 3.4, 2.71, 2.91, 3.31, 3.74, 3.38, 3.94, 3.46, 3.69, 2.86, 2.52, 3.58, 3.49, 3.82, 3.13, 3.5, 3.56, 2.73, 3.3, 4.0, 3.24, 3.77, 4.0, 3.62, 3.51, 2.81, 3.48, 3.43, 3.53, 3.37, 2.62, 3.23, 3.33, 3.01, 3.78, 3.88, 4.0, 3.84, 2.79, 3.6, 3.61, 2.88, 3.07, 3.35, 2.94, 3.54, 3.76, 3.59, 3.47, 3.59, 3.07, 3.23, 3.63, 3.77, 3.31, 3.2, 4.0, 3.92, 3.89, 3.8, 3.54, 3.63, 3.16, 3.5, 3.34, 3.02, 2.87, 3.38, 3.56, 2.91, 2.9, 3.64, 2.98, 3.59, 3.28, 3.99, 3.02, 3.47, 2.9, 3.5, 3.58, 3.02, 3.43, 3.42, 3.29, 3.28, 3.38, 2.67, 3.53, 3.05, 3.49, 4.0, 2.86, 3.45, 2.76, 3.81, 2.96, 3.22, 3.04, 3.91, 3.34, 3.17, 3.64, 3.73, 3.31, 3.21, 4.0, 3.55, 3.52, 3.35, 3.3, 3.95, 3.51, 3.81, 3.11, 3.15, 3.19, 3.95, 3.9, 3.34, 3.24, 3.64, 3.46, 2.81, 3.95, 3.33, 3.67, 3.32, 3.12, 2.98, 3.77, 3.58, 3.0, 3.14, 3.94, 3.27, 3.45, 3.1, 3.39, 3.31, 3.22, 3.7, 3.15, 2.26, 3.45, 2.78, 3.7, 3.97, 2.55, 3.25, 3.16, 3.07, 3.5, 3.4, 3.3, 3.6, 3.15, 3.98, 2.83, 3.46, 3.17, 3.51, 3.13, 2.98, 4.0, 3.67, 3.77, 3.65, 3.46, 2.84, 3.0, 3.63, 3.71, 3.28, 3.14, 3.58, 3.01, 2.69, 2.7, 3.9, 3.31, 3.48, 3.34, 2.93, 4.0, 3.59, 2.96, 3.43, 3.64, 3.71, 3.15, 3.09, 3.2, 3.47, 3.23, 2.65, 3.95, 3.06, 3.35, 3.03, 3.35, 3.8, 3.36, 2.85, 4.0, 3.43, 3.12, 3.52, 3.78, 2.81, 3.27, 3.31, 3.69, 3.94, 4.0, 3.49, 3.14, 3.44, 3.36, 2.78, 2.93, 3.63, 4.0, 3.89, 3.77, 3.76, 2.42, 3.37, 3.78, 3.49, 3.63, 4.0, 3.12, 2.7, 3.65, 3.49, 3.51, 4.0, 2.62, 3.02, 3.86, 3.36, 3.17, 3.51, 3.05, 3.88, 3.38, 3.75, 3.99, 4.0, 3.04, 2.63, 3.65, 3.89]\n"
          ]
        }
      ]
    },
    {
      "cell_type": "markdown",
      "source": [
        "Note, that the syntax <b>data[1:]</b> means use everything from line one onwards (i.e. not the zero-th line, which are the field names). If you ran the program successfully, then at least we can now see we have the gpa scores for each datapoint in their own list. Clearly not the simplest ways of getting at that data - however, it was good enough!\n",
        "\n",
        "### Step A.4.\n",
        "Finally, let’s do what we came for and find out some descriptive statistics about the grade point averages. Where’s good to start? Why mean, standard deviation, mins and maximums of course! The best library to use for any of this sort of thing is NumPy (which we will look at in more detail next week). In fact, as soon as anyone installs python they always add NumPy immediately. Read through and run the following program to see its mathematical functions:\n"
      ],
      "metadata": {
        "id": "Nz_a1wgHk_FR"
      }
    },
    {
      "cell_type": "code",
      "source": [
        "import numpy as np\n",
        "print(\"count\", len(gpa))\n",
        "print(\"mean\", np.mean(gpa))\n",
        "print(\"std\", np.std(gpa))\n",
        "print(\"min\", np.min(gpa))\n",
        "print(\"max\", np.max(gpa))"
      ],
      "metadata": {
        "id": "RaLk0JY2lF0B",
        "outputId": "23ce9c36-0c87-41b3-a527-561d0d6e8da8",
        "colab": {
          "base_uri": "https://localhost:8080/"
        }
      },
      "execution_count": 9,
      "outputs": [
        {
          "output_type": "stream",
          "name": "stdout",
          "text": [
            "count 400\n",
            "mean 3.3899\n",
            "std 0.3800907654758269\n",
            "min 2.26\n",
            "max 4.0\n"
          ]
        }
      ]
    },
    {
      "cell_type": "markdown",
      "source": [
        "As a quick test enter the code below to create a different average, that is the optimal point predictor of a students GPA! (you may want to use google to search for the numpy documentation for it - or just take a stab yourself!)"
      ],
      "metadata": {
        "id": "snfsfzh1lIVJ"
      }
    },
    {
      "cell_type": "code",
      "source": [
        "#-- enter your code here...\n",
        "print(\"median\", np.median(gpa))"
      ],
      "metadata": {
        "id": "FBLh9oJblPag",
        "outputId": "6d481096-8c4b-41bc-c59d-c5c6ddc81ea0",
        "colab": {
          "base_uri": "https://localhost:8080/"
        }
      },
      "execution_count": 10,
      "outputs": [
        {
          "output_type": "stream",
          "name": "stdout",
          "text": [
            "median 3.395\n"
          ]
        }
      ]
    },
    {
      "cell_type": "markdown",
      "source": [
        "Well, ok good, but let’s be honest... that was all quite long-winded wasn’t it? Sure, you’re now able to use loops, load in files, create list variables and fill them (which is still a huge progress if you've not scripted before!) but it’s all somewhat of a hassle. Well let’s try and fix that by showing you how easy it can be in python too with the right analytics library! Introducing “Pandas”, friend of every real business analyst....\n",
        "\n",
        "## Making things easier with Pandas\n",
        "![pandas](https://drive.google.com/uc?export=view&id=1RxArfr4gjKs2u5QDIc7oAFIgVq4T32xF)\n",
        "\n",
        "### Task B.1.\n",
        "Ok, We’re going to do all of section A again. But this time … well, just type in the following (again adjusting your filename to the path where you have saved the admissions file):"
      ],
      "metadata": {
        "id": "EMQ6fFQzlT4_"
      }
    },
    {
      "cell_type": "code",
      "source": [
        "import pandas\n",
        "data = pandas.read_csv(\"admissions.csv\")\n",
        "print(data.head())\n",
        "print(data.gpa.describe())"
      ],
      "metadata": {
        "id": "iamHb53VlfvK",
        "outputId": "0e32cb95-8832-4612-c996-18d0cac60175",
        "colab": {
          "base_uri": "https://localhost:8080/"
        }
      },
      "execution_count": 11,
      "outputs": [
        {
          "output_type": "stream",
          "name": "stdout",
          "text": [
            "   admit  gre   gpa  ranking\n",
            "0      0  380  3.61        3\n",
            "1      1  660  3.67        3\n",
            "2      1  800  4.00        1\n",
            "3      1  640  3.19        4\n",
            "4      0  520  2.93        4\n",
            "count    400.000000\n",
            "mean       3.389900\n",
            "std        0.380567\n",
            "min        2.260000\n",
            "25%        3.130000\n",
            "50%        3.395000\n",
            "75%        3.670000\n",
            "max        4.000000\n",
            "Name: gpa, dtype: float64\n"
          ]
        }
      ]
    },
    {
      "cell_type": "markdown",
      "source": [
        "Yup, that’s it.  All done. Just four lines to do everything we did in section A, and print it all to screen. Easier than excel even.\n",
        "\n",
        "How have we done this? Well, Pandas is a python library that wraps up everything a budding analyst might need without jumping through all the hoops. As you should remember from the lecture, its <b>“read_csv()”</b> function creates a thing called a “dataframe” which just makes reading, accessing and getting summaries extremely easy.\n",
        "\n",
        "Panda’s “head()” function shows you the top of your data so you can check to see it’s all looking okay… and notice it has automatically recognized what the field names are called from the “header” and removed it. ...and when we used <b>read_csv()</b> at the start it’s even converted the data from text into what it thinks the right data types are. Smooth.\n",
        "\n",
        "And finally, we’ve got all those summary statistics by accessing the “gpa” column (magically python has converted that into the direct access of typing in <b>“data.gpa”</b>!) and just using the <b>“describe()”</b> method.\n",
        "\n",
        "Ok, so given that’s so much easier why didn’t we just use this from the start!? Well:\n",
        "* You need to know python basics - loops, converting data, etc. for when you ever hit problems.\n",
        "* It’s good for the soul to learn the fundamentals. Full stop.\n",
        "* Now you can see why analysts really use Python - people have added these fantastic libraries that make python scripting the quickest way to get solutions for real world business problems.\n",
        "\n",
        "### Task B.2.\n",
        "\n",
        "Let’s see all the statistics for the admission data. Change the describe() line so it examines every field:"
      ],
      "metadata": {
        "id": "0l2oRG0MljJS"
      }
    },
    {
      "cell_type": "code",
      "source": [
        "# adjust that line of code to display a description of all columns\n",
        "data.gpa.describe()"
      ],
      "metadata": {
        "id": "5NgEtDD3lt7J",
        "outputId": "d559c419-1650-4e81-985e-d8d20af1a2a2",
        "colab": {
          "base_uri": "https://localhost:8080/"
        }
      },
      "execution_count": 12,
      "outputs": [
        {
          "output_type": "execute_result",
          "data": {
            "text/plain": [
              "count    400.000000\n",
              "mean       3.389900\n",
              "std        0.380567\n",
              "min        2.260000\n",
              "25%        3.130000\n",
              "50%        3.395000\n",
              "75%        3.670000\n",
              "max        4.000000\n",
              "Name: gpa, dtype: float64"
            ]
          },
          "metadata": {},
          "execution_count": 12
        }
      ]
    },
    {
      "cell_type": "markdown",
      "source": [
        "### Step B.3.\n",
        "Pandas has clearly realised that our columns are not just text (otherwise it couldn’t have done the statistical analysis). It has tried to detect the correct data type for each column. It offers a very simple command to find out what it has picked:"
      ],
      "metadata": {
        "id": "pTQS8ywflzQE"
      }
    },
    {
      "cell_type": "code",
      "source": [
        "print(data.dtypes)"
      ],
      "metadata": {
        "id": "_al_R3H_mH-E",
        "outputId": "9d0b09da-f7ce-489b-c207-2fdd979329f8",
        "colab": {
          "base_uri": "https://localhost:8080/"
        }
      },
      "execution_count": 13,
      "outputs": [
        {
          "output_type": "stream",
          "name": "stdout",
          "text": [
            "admit        int64\n",
            "gre          int64\n",
            "gpa        float64\n",
            "ranking      int64\n",
            "dtype: object\n"
          ]
        }
      ]
    },
    {
      "cell_type": "markdown",
      "source": [
        "If you see the column types it has detected (despite being only given raw text), you'll see it is not bad!\n",
        "\n",
        "#### But which one has it got wrong? (don’t look ahead!)\n",
        "\n",
        "### Step B.4\n",
        "Assuming you’ve not just looked ahead (if you did, you cheated), you’ve now correctly realised that it’s the “admit” feature that is wrong. Because it has values of one and zero, even though they are always one or the other (a binary feature) pandas has decided that it’s a continuous numeric variable. Wrong of course - it’s a <b>category label</b>. They could have been just as easily “yes” and “no”, or “admitted” and “rejected”. There is nothing numerical about them. Pandas makes it very easy for us to tell python what the correct type should have been.\n",
        "\n",
        "Run the following code:"
      ],
      "metadata": {
        "id": "YrNefYCymKkE"
      }
    },
    {
      "cell_type": "code",
      "source": [
        "data = pandas.read_csv(filename, dtype={'admit':'category'})"
      ],
      "metadata": {
        "id": "msaWviKvmNv_"
      },
      "execution_count": 14,
      "outputs": []
    },
    {
      "cell_type": "markdown",
      "source": [
        "Check below that this has fixed the problem, by looking at the dtypes again:"
      ],
      "metadata": {
        "id": "N1ytJg9WctKr"
      }
    },
    {
      "cell_type": "code",
      "source": [
        "#-- enter your code here\n",
        "data.dtypes"
      ],
      "metadata": {
        "id": "-5k5fLRYc3JQ",
        "outputId": "3b2ae226-b3c5-4d8d-e93e-87c53df66651",
        "colab": {
          "base_uri": "https://localhost:8080/"
        }
      },
      "execution_count": 16,
      "outputs": [
        {
          "output_type": "execute_result",
          "data": {
            "text/plain": [
              "admit      category\n",
              "gre           int64\n",
              "gpa         float64\n",
              "ranking       int64\n",
              "dtype: object"
            ]
          },
          "metadata": {},
          "execution_count": 16
        }
      ]
    },
    {
      "cell_type": "markdown",
      "source": [
        "### Step B.5.\n",
        "So far so good, but one final thing - we really want to show how each feature’s values differ for one class compared to the other (this would be useful for example, in a coursework who buy a product and don’t….. *cough*)\n",
        "\n",
        "Let’s do this now by separating the positives (admitted - 1) from the negatives (rejected - 0) in our dataset, using the following the pandas syntax (just add it to the bottom of your program and run it again):\n"
      ],
      "metadata": {
        "id": "IgW12Cif1G6E"
      }
    },
    {
      "cell_type": "code",
      "source": [
        "neg = data[data.admit == \"0\"]\n",
        "pos = data[data.admit == \"1\"]\n",
        "print(neg.describe())\n",
        "print(pos.describe())"
      ],
      "metadata": {
        "id": "CGPYS-Pp1aio",
        "outputId": "af3874b8-1ddd-4118-f557-a58d2d5e3a28",
        "colab": {
          "base_uri": "https://localhost:8080/"
        }
      },
      "execution_count": 17,
      "outputs": [
        {
          "output_type": "stream",
          "name": "stdout",
          "text": [
            "              gre         gpa     ranking\n",
            "count  273.000000  273.000000  273.000000\n",
            "mean   573.186813    3.343700    2.641026\n",
            "std    115.830243    0.377133    0.917198\n",
            "min    220.000000    2.260000    1.000000\n",
            "25%    500.000000    3.080000    2.000000\n",
            "50%    580.000000    3.340000    3.000000\n",
            "75%    660.000000    3.610000    3.000000\n",
            "max    800.000000    4.000000    4.000000\n",
            "              gre         gpa     ranking\n",
            "count  127.000000  127.000000  127.000000\n",
            "mean   618.897638    3.489213    2.149606\n",
            "std    108.884884    0.370177    0.917889\n",
            "min    300.000000    2.420000    1.000000\n",
            "25%    540.000000    3.220000    1.000000\n",
            "50%    620.000000    3.540000    2.000000\n",
            "75%    680.000000    3.755000    3.000000\n",
            "max    800.000000    4.000000    4.000000\n"
          ]
        }
      ]
    },
    {
      "cell_type": "markdown",
      "source": [
        "The first line creates a new slice of data with just the rows where the “admit” field was “0” representing people who were rejected (note that this must now be in quotes because it is a categorical label, and not a number), and the second line does the same for those rows representing people who were admitted into the university so the admit field is “1”. This way of filtering the data always reminds of SELECT in SQL (with the \"where\" clause inside the square brackets)... except obviously a lot quicker to type (SQL is so old…)\n",
        "\n",
        "What this means is that we now can print summary statistics to compare between successful and unsuccessful applicants (the last two lines). Examine these.\n",
        "\n",
        "What, if anything, can you see that is surprising or noteworthy to report back concerning these? (tip - check which feature is higher for admissions and rejections)\n"
      ],
      "metadata": {
        "id": "BAD5NPMi1gRZ"
      }
    },
    {
      "cell_type": "markdown",
      "source": [
        "<b>What would you comment on concerning these comparisons between rejections and admissions to feedback to a client?:<b>"
      ],
      "metadata": {
        "id": "ja8tk8Ph16OE"
      }
    },
    {
      "cell_type": "markdown",
      "source": [
        "Total 273 students have faced rejection while 127 students have got accepted into the University.\n",
        "Maximum marks in gre for students irrespective of getting admitted in university are 800, however the lowest scored by successful people is 300."
      ],
      "metadata": {
        "id": "MS8kL9OBye43"
      }
    },
    {
      "cell_type": "markdown",
      "source": [
        "## Ice Cream Sales\n",
        "\n",
        "Ok, now we have a new set of skills let's have a look again at our (now traditional) Ice Cream sales dataset, and use pandas to give us a descriptive analysis (n.b. we are repeating these processes, partly because these sorts of exploratory analysis are absolutely key for the beginning of any analytics reports... such as your courseworks).\n",
        "Reload the dataset from Moodle and add to your google drive!\n",
        "\n",
        "This time, use both the lecture slides, cheat sheets, and practice looking up documentation on google for the library. Good luck!\n",
        "\n",
        "### Step C1. Import the Pandas library\n",
        "Ok, to be certain we are not relying on previous jupyter cells, let's start by ensuring pandas is loaded in:"
      ],
      "metadata": {
        "id": "M-kawWP39DiP"
      }
    },
    {
      "cell_type": "code",
      "source": [
        "import pandas as pd\n",
        "import numpy as np"
      ],
      "metadata": {
        "id": "tOAsUESR9l_6"
      },
      "execution_count": 23,
      "outputs": []
    },
    {
      "cell_type": "markdown",
      "source": [
        "### Step C2. Load the data\n",
        "\n",
        "Load the data from the CSV file **ice_cream_sales.csv** using the Pandas function **read_csv()** and assign it to a variable **sales**.\n",
        "\n",
        "Using the documentation for the method **read_csv()**, look for the parameter **index_col** to define the field 'year' as the index."
      ],
      "metadata": {
        "id": "6AzzwsXZ9pA4"
      }
    },
    {
      "cell_type": "code",
      "source": [
        "#-- enter your code here\n",
        "sales = pd.read_csv('ice_cream_sales.csv', index_col='year')\n",
        "sales.head()\n",
        "#-- print out a check...\n",
        "#print(sales)"
      ],
      "metadata": {
        "id": "FXMAEwWi-APY",
        "outputId": "97db073b-3aaa-4e86-bab7-28ef2f210a5d",
        "colab": {
          "base_uri": "https://localhost:8080/",
          "height": 174
        }
      },
      "execution_count": 77,
      "outputs": [
        {
          "output_type": "execute_result",
          "data": {
            "text/plain": [
              "      january  february  march  april   may  june  july  august  september  \\\n",
              "year                                                                         \n",
              "2020     1000      1100   1200   1300  1400  1500  1500    1400       1300   \n",
              "2021     1100      1200   1300   1400  1500  1600  1600    1500       1400   \n",
              "2022      500      1600   1700   1800  1900   500   500     500       1800   \n",
              "\n",
              "      october  november  december  \n",
              "year                               \n",
              "2020     1200      1100      1000  \n",
              "2021     1300      1200      1100  \n",
              "2022     1700      1600       500  "
            ],
            "text/html": [
              "\n",
              "  <div id=\"df-165a4e28-a46f-493d-877a-ba750759084a\" class=\"colab-df-container\">\n",
              "    <div>\n",
              "<style scoped>\n",
              "    .dataframe tbody tr th:only-of-type {\n",
              "        vertical-align: middle;\n",
              "    }\n",
              "\n",
              "    .dataframe tbody tr th {\n",
              "        vertical-align: top;\n",
              "    }\n",
              "\n",
              "    .dataframe thead th {\n",
              "        text-align: right;\n",
              "    }\n",
              "</style>\n",
              "<table border=\"1\" class=\"dataframe\">\n",
              "  <thead>\n",
              "    <tr style=\"text-align: right;\">\n",
              "      <th></th>\n",
              "      <th>january</th>\n",
              "      <th>february</th>\n",
              "      <th>march</th>\n",
              "      <th>april</th>\n",
              "      <th>may</th>\n",
              "      <th>june</th>\n",
              "      <th>july</th>\n",
              "      <th>august</th>\n",
              "      <th>september</th>\n",
              "      <th>october</th>\n",
              "      <th>november</th>\n",
              "      <th>december</th>\n",
              "    </tr>\n",
              "    <tr>\n",
              "      <th>year</th>\n",
              "      <th></th>\n",
              "      <th></th>\n",
              "      <th></th>\n",
              "      <th></th>\n",
              "      <th></th>\n",
              "      <th></th>\n",
              "      <th></th>\n",
              "      <th></th>\n",
              "      <th></th>\n",
              "      <th></th>\n",
              "      <th></th>\n",
              "      <th></th>\n",
              "    </tr>\n",
              "  </thead>\n",
              "  <tbody>\n",
              "    <tr>\n",
              "      <th>2020</th>\n",
              "      <td>1000</td>\n",
              "      <td>1100</td>\n",
              "      <td>1200</td>\n",
              "      <td>1300</td>\n",
              "      <td>1400</td>\n",
              "      <td>1500</td>\n",
              "      <td>1500</td>\n",
              "      <td>1400</td>\n",
              "      <td>1300</td>\n",
              "      <td>1200</td>\n",
              "      <td>1100</td>\n",
              "      <td>1000</td>\n",
              "    </tr>\n",
              "    <tr>\n",
              "      <th>2021</th>\n",
              "      <td>1100</td>\n",
              "      <td>1200</td>\n",
              "      <td>1300</td>\n",
              "      <td>1400</td>\n",
              "      <td>1500</td>\n",
              "      <td>1600</td>\n",
              "      <td>1600</td>\n",
              "      <td>1500</td>\n",
              "      <td>1400</td>\n",
              "      <td>1300</td>\n",
              "      <td>1200</td>\n",
              "      <td>1100</td>\n",
              "    </tr>\n",
              "    <tr>\n",
              "      <th>2022</th>\n",
              "      <td>500</td>\n",
              "      <td>1600</td>\n",
              "      <td>1700</td>\n",
              "      <td>1800</td>\n",
              "      <td>1900</td>\n",
              "      <td>500</td>\n",
              "      <td>500</td>\n",
              "      <td>500</td>\n",
              "      <td>1800</td>\n",
              "      <td>1700</td>\n",
              "      <td>1600</td>\n",
              "      <td>500</td>\n",
              "    </tr>\n",
              "  </tbody>\n",
              "</table>\n",
              "</div>\n",
              "    <div class=\"colab-df-buttons\">\n",
              "\n",
              "  <div class=\"colab-df-container\">\n",
              "    <button class=\"colab-df-convert\" onclick=\"convertToInteractive('df-165a4e28-a46f-493d-877a-ba750759084a')\"\n",
              "            title=\"Convert this dataframe to an interactive table.\"\n",
              "            style=\"display:none;\">\n",
              "\n",
              "  <svg xmlns=\"http://www.w3.org/2000/svg\" height=\"24px\" viewBox=\"0 -960 960 960\">\n",
              "    <path d=\"M120-120v-720h720v720H120Zm60-500h600v-160H180v160Zm220 220h160v-160H400v160Zm0 220h160v-160H400v160ZM180-400h160v-160H180v160Zm440 0h160v-160H620v160ZM180-180h160v-160H180v160Zm440 0h160v-160H620v160Z\"/>\n",
              "  </svg>\n",
              "    </button>\n",
              "\n",
              "  <style>\n",
              "    .colab-df-container {\n",
              "      display:flex;\n",
              "      gap: 12px;\n",
              "    }\n",
              "\n",
              "    .colab-df-convert {\n",
              "      background-color: #E8F0FE;\n",
              "      border: none;\n",
              "      border-radius: 50%;\n",
              "      cursor: pointer;\n",
              "      display: none;\n",
              "      fill: #1967D2;\n",
              "      height: 32px;\n",
              "      padding: 0 0 0 0;\n",
              "      width: 32px;\n",
              "    }\n",
              "\n",
              "    .colab-df-convert:hover {\n",
              "      background-color: #E2EBFA;\n",
              "      box-shadow: 0px 1px 2px rgba(60, 64, 67, 0.3), 0px 1px 3px 1px rgba(60, 64, 67, 0.15);\n",
              "      fill: #174EA6;\n",
              "    }\n",
              "\n",
              "    .colab-df-buttons div {\n",
              "      margin-bottom: 4px;\n",
              "    }\n",
              "\n",
              "    [theme=dark] .colab-df-convert {\n",
              "      background-color: #3B4455;\n",
              "      fill: #D2E3FC;\n",
              "    }\n",
              "\n",
              "    [theme=dark] .colab-df-convert:hover {\n",
              "      background-color: #434B5C;\n",
              "      box-shadow: 0px 1px 3px 1px rgba(0, 0, 0, 0.15);\n",
              "      filter: drop-shadow(0px 1px 2px rgba(0, 0, 0, 0.3));\n",
              "      fill: #FFFFFF;\n",
              "    }\n",
              "  </style>\n",
              "\n",
              "    <script>\n",
              "      const buttonEl =\n",
              "        document.querySelector('#df-165a4e28-a46f-493d-877a-ba750759084a button.colab-df-convert');\n",
              "      buttonEl.style.display =\n",
              "        google.colab.kernel.accessAllowed ? 'block' : 'none';\n",
              "\n",
              "      async function convertToInteractive(key) {\n",
              "        const element = document.querySelector('#df-165a4e28-a46f-493d-877a-ba750759084a');\n",
              "        const dataTable =\n",
              "          await google.colab.kernel.invokeFunction('convertToInteractive',\n",
              "                                                    [key], {});\n",
              "        if (!dataTable) return;\n",
              "\n",
              "        const docLinkHtml = 'Like what you see? Visit the ' +\n",
              "          '<a target=\"_blank\" href=https://colab.research.google.com/notebooks/data_table.ipynb>data table notebook</a>'\n",
              "          + ' to learn more about interactive tables.';\n",
              "        element.innerHTML = '';\n",
              "        dataTable['output_type'] = 'display_data';\n",
              "        await google.colab.output.renderOutput(dataTable, element);\n",
              "        const docLink = document.createElement('div');\n",
              "        docLink.innerHTML = docLinkHtml;\n",
              "        element.appendChild(docLink);\n",
              "      }\n",
              "    </script>\n",
              "  </div>\n",
              "\n",
              "\n",
              "<div id=\"df-fc1df39d-6f09-4dc1-a96d-6953454c915e\">\n",
              "  <button class=\"colab-df-quickchart\" onclick=\"quickchart('df-fc1df39d-6f09-4dc1-a96d-6953454c915e')\"\n",
              "            title=\"Suggest charts.\"\n",
              "            style=\"display:none;\">\n",
              "\n",
              "<svg xmlns=\"http://www.w3.org/2000/svg\" height=\"24px\"viewBox=\"0 0 24 24\"\n",
              "     width=\"24px\">\n",
              "    <g>\n",
              "        <path d=\"M19 3H5c-1.1 0-2 .9-2 2v14c0 1.1.9 2 2 2h14c1.1 0 2-.9 2-2V5c0-1.1-.9-2-2-2zM9 17H7v-7h2v7zm4 0h-2V7h2v10zm4 0h-2v-4h2v4z\"/>\n",
              "    </g>\n",
              "</svg>\n",
              "  </button>\n",
              "\n",
              "<style>\n",
              "  .colab-df-quickchart {\n",
              "      --bg-color: #E8F0FE;\n",
              "      --fill-color: #1967D2;\n",
              "      --hover-bg-color: #E2EBFA;\n",
              "      --hover-fill-color: #174EA6;\n",
              "      --disabled-fill-color: #AAA;\n",
              "      --disabled-bg-color: #DDD;\n",
              "  }\n",
              "\n",
              "  [theme=dark] .colab-df-quickchart {\n",
              "      --bg-color: #3B4455;\n",
              "      --fill-color: #D2E3FC;\n",
              "      --hover-bg-color: #434B5C;\n",
              "      --hover-fill-color: #FFFFFF;\n",
              "      --disabled-bg-color: #3B4455;\n",
              "      --disabled-fill-color: #666;\n",
              "  }\n",
              "\n",
              "  .colab-df-quickchart {\n",
              "    background-color: var(--bg-color);\n",
              "    border: none;\n",
              "    border-radius: 50%;\n",
              "    cursor: pointer;\n",
              "    display: none;\n",
              "    fill: var(--fill-color);\n",
              "    height: 32px;\n",
              "    padding: 0;\n",
              "    width: 32px;\n",
              "  }\n",
              "\n",
              "  .colab-df-quickchart:hover {\n",
              "    background-color: var(--hover-bg-color);\n",
              "    box-shadow: 0 1px 2px rgba(60, 64, 67, 0.3), 0 1px 3px 1px rgba(60, 64, 67, 0.15);\n",
              "    fill: var(--button-hover-fill-color);\n",
              "  }\n",
              "\n",
              "  .colab-df-quickchart-complete:disabled,\n",
              "  .colab-df-quickchart-complete:disabled:hover {\n",
              "    background-color: var(--disabled-bg-color);\n",
              "    fill: var(--disabled-fill-color);\n",
              "    box-shadow: none;\n",
              "  }\n",
              "\n",
              "  .colab-df-spinner {\n",
              "    border: 2px solid var(--fill-color);\n",
              "    border-color: transparent;\n",
              "    border-bottom-color: var(--fill-color);\n",
              "    animation:\n",
              "      spin 1s steps(1) infinite;\n",
              "  }\n",
              "\n",
              "  @keyframes spin {\n",
              "    0% {\n",
              "      border-color: transparent;\n",
              "      border-bottom-color: var(--fill-color);\n",
              "      border-left-color: var(--fill-color);\n",
              "    }\n",
              "    20% {\n",
              "      border-color: transparent;\n",
              "      border-left-color: var(--fill-color);\n",
              "      border-top-color: var(--fill-color);\n",
              "    }\n",
              "    30% {\n",
              "      border-color: transparent;\n",
              "      border-left-color: var(--fill-color);\n",
              "      border-top-color: var(--fill-color);\n",
              "      border-right-color: var(--fill-color);\n",
              "    }\n",
              "    40% {\n",
              "      border-color: transparent;\n",
              "      border-right-color: var(--fill-color);\n",
              "      border-top-color: var(--fill-color);\n",
              "    }\n",
              "    60% {\n",
              "      border-color: transparent;\n",
              "      border-right-color: var(--fill-color);\n",
              "    }\n",
              "    80% {\n",
              "      border-color: transparent;\n",
              "      border-right-color: var(--fill-color);\n",
              "      border-bottom-color: var(--fill-color);\n",
              "    }\n",
              "    90% {\n",
              "      border-color: transparent;\n",
              "      border-bottom-color: var(--fill-color);\n",
              "    }\n",
              "  }\n",
              "</style>\n",
              "\n",
              "  <script>\n",
              "    async function quickchart(key) {\n",
              "      const quickchartButtonEl =\n",
              "        document.querySelector('#' + key + ' button');\n",
              "      quickchartButtonEl.disabled = true;  // To prevent multiple clicks.\n",
              "      quickchartButtonEl.classList.add('colab-df-spinner');\n",
              "      try {\n",
              "        const charts = await google.colab.kernel.invokeFunction(\n",
              "            'suggestCharts', [key], {});\n",
              "      } catch (error) {\n",
              "        console.error('Error during call to suggestCharts:', error);\n",
              "      }\n",
              "      quickchartButtonEl.classList.remove('colab-df-spinner');\n",
              "      quickchartButtonEl.classList.add('colab-df-quickchart-complete');\n",
              "    }\n",
              "    (() => {\n",
              "      let quickchartButtonEl =\n",
              "        document.querySelector('#df-fc1df39d-6f09-4dc1-a96d-6953454c915e button');\n",
              "      quickchartButtonEl.style.display =\n",
              "        google.colab.kernel.accessAllowed ? 'block' : 'none';\n",
              "    })();\n",
              "  </script>\n",
              "</div>\n",
              "    </div>\n",
              "  </div>\n"
            ]
          },
          "metadata": {},
          "execution_count": 77
        }
      ]
    },
    {
      "cell_type": "markdown",
      "source": [
        "### Step C3. What are the total sales for each year?\n",
        "\n",
        "Use the sum function, and check the documentation to specify the right axis (and ask for help if you hit a problem):"
      ],
      "metadata": {
        "id": "aoeSgUuGBmXz"
      }
    },
    {
      "cell_type": "code",
      "source": [
        "#-- enter your code here\n",
        "# Need to explicitly use pandas here\n",
        "print(sales.sum(axis=1))\n",
        "\n",
        "'''for i in range(len(sales)):\n",
        "  #print(i)\n",
        "  df = sales.iloc[[i]]\n",
        "  print(df.dtypes)'''\n",
        "\n",
        "'''for index, row in sales.iterrows():\n",
        "  print(index)\n",
        "  print(row.sum())'''\n",
        "\n"
      ],
      "metadata": {
        "id": "XXsuetejB2LO",
        "outputId": "6e57d9f5-b006-410a-ae63-31e24246489f",
        "colab": {
          "base_uri": "https://localhost:8080/",
          "height": 122
        }
      },
      "execution_count": 82,
      "outputs": [
        {
          "output_type": "stream",
          "name": "stdout",
          "text": [
            "year\n",
            "2020    15000\n",
            "2021    16200\n",
            "2022    14600\n",
            "dtype: int64\n"
          ]
        },
        {
          "output_type": "execute_result",
          "data": {
            "text/plain": [
              "'for index, row in sales.iterrows():\\n  print(index)\\n  print(row.sum())'"
            ],
            "application/vnd.google.colaboratory.intrinsic+json": {
              "type": "string"
            }
          },
          "metadata": {},
          "execution_count": 82
        }
      ]
    },
    {
      "cell_type": "markdown",
      "source": [
        "### Step C4. What are the median sales for each year?"
      ],
      "metadata": {
        "id": "PSYkEIwuCXCK"
      }
    },
    {
      "cell_type": "code",
      "source": [
        "#-- enter your code here\n",
        "sales.median(axis= 1) # '1' is for rows"
      ],
      "metadata": {
        "id": "GvwAaIJ4Cby_",
        "outputId": "8492a156-6fe9-4272-d857-38638a892d44",
        "colab": {
          "base_uri": "https://localhost:8080/"
        }
      },
      "execution_count": 86,
      "outputs": [
        {
          "output_type": "execute_result",
          "data": {
            "text/plain": [
              "year\n",
              "2020    1250.0\n",
              "2021    1350.0\n",
              "2022    1600.0\n",
              "dtype: float64"
            ]
          },
          "metadata": {},
          "execution_count": 86
        }
      ]
    },
    {
      "cell_type": "markdown",
      "source": [
        "### Step C5. What is the average sale for each month across the 3 years?"
      ],
      "metadata": {
        "id": "iYmHDATICed0"
      }
    },
    {
      "cell_type": "code",
      "source": [
        "#-- enter your code here\n",
        "sales.mean(axis=0) # '0' is for columns"
      ],
      "metadata": {
        "id": "q3YMBCPvCiaX",
        "outputId": "4a8870b2-4392-4f1d-c810-24e3289e16c6",
        "colab": {
          "base_uri": "https://localhost:8080/"
        }
      },
      "execution_count": 85,
      "outputs": [
        {
          "output_type": "execute_result",
          "data": {
            "text/plain": [
              "january       866.666667\n",
              "february     1300.000000\n",
              "march        1400.000000\n",
              "april        1500.000000\n",
              "may          1600.000000\n",
              "june         1200.000000\n",
              "july         1200.000000\n",
              "august       1133.333333\n",
              "september    1500.000000\n",
              "october      1400.000000\n",
              "november     1300.000000\n",
              "december      866.666667\n",
              "dtype: float64"
            ]
          },
          "metadata": {},
          "execution_count": 85
        }
      ]
    },
    {
      "cell_type": "markdown",
      "source": [
        "## A survey of users and their occupation\n",
        "\n",
        "And for a final bit of practice let's try another data file, this time based on people's occupations...\n",
        "\n",
        "### Step D1. Import the necessary libraries"
      ],
      "metadata": {
        "id": "A3fXU8Q4Chei"
      }
    },
    {
      "cell_type": "code",
      "source": [
        "#-- Pandas should already be imported from the previous sections.\n",
        "#-- If you haven't you will need to import it here\n"
      ],
      "metadata": {
        "id": "6jRUhOF8CyHW"
      },
      "execution_count": null,
      "outputs": []
    },
    {
      "cell_type": "markdown",
      "source": [
        "### Step D2. Assign the data to a variable called users and use the 'user_id' as index\n",
        "\n",
        "The data to use for this exercise is the CSV file 'occupation.csv'. Using the Pandas function read_csv(), load the data in a variable called users and use the 'user_id' as Index.\n",
        "\n",
        "***A good reflex to have when you work with a new dataset is to have a quick look at the data files you were given to see how they are structured. You don't have to use Python for that, simply open it in a text editor, Excel, ...***"
      ],
      "metadata": {
        "id": "jHJfQj6KC0_Q"
      }
    },
    {
      "cell_type": "code",
      "source": [
        "users = pd.read_csv('occupation.csv', sep=';', index_col='user_id')"
      ],
      "metadata": {
        "id": "iy0efO55C9f9"
      },
      "execution_count": 87,
      "outputs": []
    },
    {
      "cell_type": "markdown",
      "source": [
        "### Step D3. See the first 25 entries"
      ],
      "metadata": {
        "id": "p8pqFOF5EX5Z"
      }
    },
    {
      "cell_type": "code",
      "source": [
        "#-- enter your code here...\n",
        "users.head(25)"
      ],
      "metadata": {
        "id": "cny2kyb2EY9C",
        "outputId": "09b0c852-4db2-40fc-b750-f9b9a1e1c4a2",
        "colab": {
          "base_uri": "https://localhost:8080/",
          "height": 864
        }
      },
      "execution_count": 88,
      "outputs": [
        {
          "output_type": "execute_result",
          "data": {
            "text/plain": [
              "         age gender     occupation zip_code\n",
              "user_id                                    \n",
              "1         24      M     technician    85711\n",
              "2         53      F          other    94043\n",
              "3         23      M         writer    32067\n",
              "4         24      M     technician    43537\n",
              "5         33      F          other    15213\n",
              "6         42      M      executive    98101\n",
              "7         57      M  administrator    91344\n",
              "8         36      M  administrator    05201\n",
              "9         29      M        student    01002\n",
              "10        53      M         lawyer    90703\n",
              "11        39      F          other    30329\n",
              "12        28      F          other    06405\n",
              "13        47      M       educator    29206\n",
              "14        45      M      scientist    55106\n",
              "15        49      F       educator    97301\n",
              "16        21      M  entertainment    10309\n",
              "17        30      M     programmer    06355\n",
              "18        35      F          other    37212\n",
              "19        40      M      librarian    02138\n",
              "20        42      F      homemaker    95660\n",
              "21        26      M         writer    30068\n",
              "22        25      M         writer    40206\n",
              "23        30      F         artist    48197\n",
              "24        21      F         artist    94533\n",
              "25        39      M       engineer    55107"
            ],
            "text/html": [
              "\n",
              "  <div id=\"df-2049eaaf-d4a5-4659-bf0c-a7c1ff4fc22b\" class=\"colab-df-container\">\n",
              "    <div>\n",
              "<style scoped>\n",
              "    .dataframe tbody tr th:only-of-type {\n",
              "        vertical-align: middle;\n",
              "    }\n",
              "\n",
              "    .dataframe tbody tr th {\n",
              "        vertical-align: top;\n",
              "    }\n",
              "\n",
              "    .dataframe thead th {\n",
              "        text-align: right;\n",
              "    }\n",
              "</style>\n",
              "<table border=\"1\" class=\"dataframe\">\n",
              "  <thead>\n",
              "    <tr style=\"text-align: right;\">\n",
              "      <th></th>\n",
              "      <th>age</th>\n",
              "      <th>gender</th>\n",
              "      <th>occupation</th>\n",
              "      <th>zip_code</th>\n",
              "    </tr>\n",
              "    <tr>\n",
              "      <th>user_id</th>\n",
              "      <th></th>\n",
              "      <th></th>\n",
              "      <th></th>\n",
              "      <th></th>\n",
              "    </tr>\n",
              "  </thead>\n",
              "  <tbody>\n",
              "    <tr>\n",
              "      <th>1</th>\n",
              "      <td>24</td>\n",
              "      <td>M</td>\n",
              "      <td>technician</td>\n",
              "      <td>85711</td>\n",
              "    </tr>\n",
              "    <tr>\n",
              "      <th>2</th>\n",
              "      <td>53</td>\n",
              "      <td>F</td>\n",
              "      <td>other</td>\n",
              "      <td>94043</td>\n",
              "    </tr>\n",
              "    <tr>\n",
              "      <th>3</th>\n",
              "      <td>23</td>\n",
              "      <td>M</td>\n",
              "      <td>writer</td>\n",
              "      <td>32067</td>\n",
              "    </tr>\n",
              "    <tr>\n",
              "      <th>4</th>\n",
              "      <td>24</td>\n",
              "      <td>M</td>\n",
              "      <td>technician</td>\n",
              "      <td>43537</td>\n",
              "    </tr>\n",
              "    <tr>\n",
              "      <th>5</th>\n",
              "      <td>33</td>\n",
              "      <td>F</td>\n",
              "      <td>other</td>\n",
              "      <td>15213</td>\n",
              "    </tr>\n",
              "    <tr>\n",
              "      <th>6</th>\n",
              "      <td>42</td>\n",
              "      <td>M</td>\n",
              "      <td>executive</td>\n",
              "      <td>98101</td>\n",
              "    </tr>\n",
              "    <tr>\n",
              "      <th>7</th>\n",
              "      <td>57</td>\n",
              "      <td>M</td>\n",
              "      <td>administrator</td>\n",
              "      <td>91344</td>\n",
              "    </tr>\n",
              "    <tr>\n",
              "      <th>8</th>\n",
              "      <td>36</td>\n",
              "      <td>M</td>\n",
              "      <td>administrator</td>\n",
              "      <td>05201</td>\n",
              "    </tr>\n",
              "    <tr>\n",
              "      <th>9</th>\n",
              "      <td>29</td>\n",
              "      <td>M</td>\n",
              "      <td>student</td>\n",
              "      <td>01002</td>\n",
              "    </tr>\n",
              "    <tr>\n",
              "      <th>10</th>\n",
              "      <td>53</td>\n",
              "      <td>M</td>\n",
              "      <td>lawyer</td>\n",
              "      <td>90703</td>\n",
              "    </tr>\n",
              "    <tr>\n",
              "      <th>11</th>\n",
              "      <td>39</td>\n",
              "      <td>F</td>\n",
              "      <td>other</td>\n",
              "      <td>30329</td>\n",
              "    </tr>\n",
              "    <tr>\n",
              "      <th>12</th>\n",
              "      <td>28</td>\n",
              "      <td>F</td>\n",
              "      <td>other</td>\n",
              "      <td>06405</td>\n",
              "    </tr>\n",
              "    <tr>\n",
              "      <th>13</th>\n",
              "      <td>47</td>\n",
              "      <td>M</td>\n",
              "      <td>educator</td>\n",
              "      <td>29206</td>\n",
              "    </tr>\n",
              "    <tr>\n",
              "      <th>14</th>\n",
              "      <td>45</td>\n",
              "      <td>M</td>\n",
              "      <td>scientist</td>\n",
              "      <td>55106</td>\n",
              "    </tr>\n",
              "    <tr>\n",
              "      <th>15</th>\n",
              "      <td>49</td>\n",
              "      <td>F</td>\n",
              "      <td>educator</td>\n",
              "      <td>97301</td>\n",
              "    </tr>\n",
              "    <tr>\n",
              "      <th>16</th>\n",
              "      <td>21</td>\n",
              "      <td>M</td>\n",
              "      <td>entertainment</td>\n",
              "      <td>10309</td>\n",
              "    </tr>\n",
              "    <tr>\n",
              "      <th>17</th>\n",
              "      <td>30</td>\n",
              "      <td>M</td>\n",
              "      <td>programmer</td>\n",
              "      <td>06355</td>\n",
              "    </tr>\n",
              "    <tr>\n",
              "      <th>18</th>\n",
              "      <td>35</td>\n",
              "      <td>F</td>\n",
              "      <td>other</td>\n",
              "      <td>37212</td>\n",
              "    </tr>\n",
              "    <tr>\n",
              "      <th>19</th>\n",
              "      <td>40</td>\n",
              "      <td>M</td>\n",
              "      <td>librarian</td>\n",
              "      <td>02138</td>\n",
              "    </tr>\n",
              "    <tr>\n",
              "      <th>20</th>\n",
              "      <td>42</td>\n",
              "      <td>F</td>\n",
              "      <td>homemaker</td>\n",
              "      <td>95660</td>\n",
              "    </tr>\n",
              "    <tr>\n",
              "      <th>21</th>\n",
              "      <td>26</td>\n",
              "      <td>M</td>\n",
              "      <td>writer</td>\n",
              "      <td>30068</td>\n",
              "    </tr>\n",
              "    <tr>\n",
              "      <th>22</th>\n",
              "      <td>25</td>\n",
              "      <td>M</td>\n",
              "      <td>writer</td>\n",
              "      <td>40206</td>\n",
              "    </tr>\n",
              "    <tr>\n",
              "      <th>23</th>\n",
              "      <td>30</td>\n",
              "      <td>F</td>\n",
              "      <td>artist</td>\n",
              "      <td>48197</td>\n",
              "    </tr>\n",
              "    <tr>\n",
              "      <th>24</th>\n",
              "      <td>21</td>\n",
              "      <td>F</td>\n",
              "      <td>artist</td>\n",
              "      <td>94533</td>\n",
              "    </tr>\n",
              "    <tr>\n",
              "      <th>25</th>\n",
              "      <td>39</td>\n",
              "      <td>M</td>\n",
              "      <td>engineer</td>\n",
              "      <td>55107</td>\n",
              "    </tr>\n",
              "  </tbody>\n",
              "</table>\n",
              "</div>\n",
              "    <div class=\"colab-df-buttons\">\n",
              "\n",
              "  <div class=\"colab-df-container\">\n",
              "    <button class=\"colab-df-convert\" onclick=\"convertToInteractive('df-2049eaaf-d4a5-4659-bf0c-a7c1ff4fc22b')\"\n",
              "            title=\"Convert this dataframe to an interactive table.\"\n",
              "            style=\"display:none;\">\n",
              "\n",
              "  <svg xmlns=\"http://www.w3.org/2000/svg\" height=\"24px\" viewBox=\"0 -960 960 960\">\n",
              "    <path d=\"M120-120v-720h720v720H120Zm60-500h600v-160H180v160Zm220 220h160v-160H400v160Zm0 220h160v-160H400v160ZM180-400h160v-160H180v160Zm440 0h160v-160H620v160ZM180-180h160v-160H180v160Zm440 0h160v-160H620v160Z\"/>\n",
              "  </svg>\n",
              "    </button>\n",
              "\n",
              "  <style>\n",
              "    .colab-df-container {\n",
              "      display:flex;\n",
              "      gap: 12px;\n",
              "    }\n",
              "\n",
              "    .colab-df-convert {\n",
              "      background-color: #E8F0FE;\n",
              "      border: none;\n",
              "      border-radius: 50%;\n",
              "      cursor: pointer;\n",
              "      display: none;\n",
              "      fill: #1967D2;\n",
              "      height: 32px;\n",
              "      padding: 0 0 0 0;\n",
              "      width: 32px;\n",
              "    }\n",
              "\n",
              "    .colab-df-convert:hover {\n",
              "      background-color: #E2EBFA;\n",
              "      box-shadow: 0px 1px 2px rgba(60, 64, 67, 0.3), 0px 1px 3px 1px rgba(60, 64, 67, 0.15);\n",
              "      fill: #174EA6;\n",
              "    }\n",
              "\n",
              "    .colab-df-buttons div {\n",
              "      margin-bottom: 4px;\n",
              "    }\n",
              "\n",
              "    [theme=dark] .colab-df-convert {\n",
              "      background-color: #3B4455;\n",
              "      fill: #D2E3FC;\n",
              "    }\n",
              "\n",
              "    [theme=dark] .colab-df-convert:hover {\n",
              "      background-color: #434B5C;\n",
              "      box-shadow: 0px 1px 3px 1px rgba(0, 0, 0, 0.15);\n",
              "      filter: drop-shadow(0px 1px 2px rgba(0, 0, 0, 0.3));\n",
              "      fill: #FFFFFF;\n",
              "    }\n",
              "  </style>\n",
              "\n",
              "    <script>\n",
              "      const buttonEl =\n",
              "        document.querySelector('#df-2049eaaf-d4a5-4659-bf0c-a7c1ff4fc22b button.colab-df-convert');\n",
              "      buttonEl.style.display =\n",
              "        google.colab.kernel.accessAllowed ? 'block' : 'none';\n",
              "\n",
              "      async function convertToInteractive(key) {\n",
              "        const element = document.querySelector('#df-2049eaaf-d4a5-4659-bf0c-a7c1ff4fc22b');\n",
              "        const dataTable =\n",
              "          await google.colab.kernel.invokeFunction('convertToInteractive',\n",
              "                                                    [key], {});\n",
              "        if (!dataTable) return;\n",
              "\n",
              "        const docLinkHtml = 'Like what you see? Visit the ' +\n",
              "          '<a target=\"_blank\" href=https://colab.research.google.com/notebooks/data_table.ipynb>data table notebook</a>'\n",
              "          + ' to learn more about interactive tables.';\n",
              "        element.innerHTML = '';\n",
              "        dataTable['output_type'] = 'display_data';\n",
              "        await google.colab.output.renderOutput(dataTable, element);\n",
              "        const docLink = document.createElement('div');\n",
              "        docLink.innerHTML = docLinkHtml;\n",
              "        element.appendChild(docLink);\n",
              "      }\n",
              "    </script>\n",
              "  </div>\n",
              "\n",
              "\n",
              "<div id=\"df-e970ae72-1734-4a0b-bcc5-1b799ed0e468\">\n",
              "  <button class=\"colab-df-quickchart\" onclick=\"quickchart('df-e970ae72-1734-4a0b-bcc5-1b799ed0e468')\"\n",
              "            title=\"Suggest charts.\"\n",
              "            style=\"display:none;\">\n",
              "\n",
              "<svg xmlns=\"http://www.w3.org/2000/svg\" height=\"24px\"viewBox=\"0 0 24 24\"\n",
              "     width=\"24px\">\n",
              "    <g>\n",
              "        <path d=\"M19 3H5c-1.1 0-2 .9-2 2v14c0 1.1.9 2 2 2h14c1.1 0 2-.9 2-2V5c0-1.1-.9-2-2-2zM9 17H7v-7h2v7zm4 0h-2V7h2v10zm4 0h-2v-4h2v4z\"/>\n",
              "    </g>\n",
              "</svg>\n",
              "  </button>\n",
              "\n",
              "<style>\n",
              "  .colab-df-quickchart {\n",
              "      --bg-color: #E8F0FE;\n",
              "      --fill-color: #1967D2;\n",
              "      --hover-bg-color: #E2EBFA;\n",
              "      --hover-fill-color: #174EA6;\n",
              "      --disabled-fill-color: #AAA;\n",
              "      --disabled-bg-color: #DDD;\n",
              "  }\n",
              "\n",
              "  [theme=dark] .colab-df-quickchart {\n",
              "      --bg-color: #3B4455;\n",
              "      --fill-color: #D2E3FC;\n",
              "      --hover-bg-color: #434B5C;\n",
              "      --hover-fill-color: #FFFFFF;\n",
              "      --disabled-bg-color: #3B4455;\n",
              "      --disabled-fill-color: #666;\n",
              "  }\n",
              "\n",
              "  .colab-df-quickchart {\n",
              "    background-color: var(--bg-color);\n",
              "    border: none;\n",
              "    border-radius: 50%;\n",
              "    cursor: pointer;\n",
              "    display: none;\n",
              "    fill: var(--fill-color);\n",
              "    height: 32px;\n",
              "    padding: 0;\n",
              "    width: 32px;\n",
              "  }\n",
              "\n",
              "  .colab-df-quickchart:hover {\n",
              "    background-color: var(--hover-bg-color);\n",
              "    box-shadow: 0 1px 2px rgba(60, 64, 67, 0.3), 0 1px 3px 1px rgba(60, 64, 67, 0.15);\n",
              "    fill: var(--button-hover-fill-color);\n",
              "  }\n",
              "\n",
              "  .colab-df-quickchart-complete:disabled,\n",
              "  .colab-df-quickchart-complete:disabled:hover {\n",
              "    background-color: var(--disabled-bg-color);\n",
              "    fill: var(--disabled-fill-color);\n",
              "    box-shadow: none;\n",
              "  }\n",
              "\n",
              "  .colab-df-spinner {\n",
              "    border: 2px solid var(--fill-color);\n",
              "    border-color: transparent;\n",
              "    border-bottom-color: var(--fill-color);\n",
              "    animation:\n",
              "      spin 1s steps(1) infinite;\n",
              "  }\n",
              "\n",
              "  @keyframes spin {\n",
              "    0% {\n",
              "      border-color: transparent;\n",
              "      border-bottom-color: var(--fill-color);\n",
              "      border-left-color: var(--fill-color);\n",
              "    }\n",
              "    20% {\n",
              "      border-color: transparent;\n",
              "      border-left-color: var(--fill-color);\n",
              "      border-top-color: var(--fill-color);\n",
              "    }\n",
              "    30% {\n",
              "      border-color: transparent;\n",
              "      border-left-color: var(--fill-color);\n",
              "      border-top-color: var(--fill-color);\n",
              "      border-right-color: var(--fill-color);\n",
              "    }\n",
              "    40% {\n",
              "      border-color: transparent;\n",
              "      border-right-color: var(--fill-color);\n",
              "      border-top-color: var(--fill-color);\n",
              "    }\n",
              "    60% {\n",
              "      border-color: transparent;\n",
              "      border-right-color: var(--fill-color);\n",
              "    }\n",
              "    80% {\n",
              "      border-color: transparent;\n",
              "      border-right-color: var(--fill-color);\n",
              "      border-bottom-color: var(--fill-color);\n",
              "    }\n",
              "    90% {\n",
              "      border-color: transparent;\n",
              "      border-bottom-color: var(--fill-color);\n",
              "    }\n",
              "  }\n",
              "</style>\n",
              "\n",
              "  <script>\n",
              "    async function quickchart(key) {\n",
              "      const quickchartButtonEl =\n",
              "        document.querySelector('#' + key + ' button');\n",
              "      quickchartButtonEl.disabled = true;  // To prevent multiple clicks.\n",
              "      quickchartButtonEl.classList.add('colab-df-spinner');\n",
              "      try {\n",
              "        const charts = await google.colab.kernel.invokeFunction(\n",
              "            'suggestCharts', [key], {});\n",
              "      } catch (error) {\n",
              "        console.error('Error during call to suggestCharts:', error);\n",
              "      }\n",
              "      quickchartButtonEl.classList.remove('colab-df-spinner');\n",
              "      quickchartButtonEl.classList.add('colab-df-quickchart-complete');\n",
              "    }\n",
              "    (() => {\n",
              "      let quickchartButtonEl =\n",
              "        document.querySelector('#df-e970ae72-1734-4a0b-bcc5-1b799ed0e468 button');\n",
              "      quickchartButtonEl.style.display =\n",
              "        google.colab.kernel.accessAllowed ? 'block' : 'none';\n",
              "    })();\n",
              "  </script>\n",
              "</div>\n",
              "    </div>\n",
              "  </div>\n"
            ]
          },
          "metadata": {},
          "execution_count": 88
        }
      ]
    },
    {
      "cell_type": "markdown",
      "source": [
        "### Step D4. See the last 10 entries"
      ],
      "metadata": {
        "id": "GcwwY4wPEeRy"
      }
    },
    {
      "cell_type": "code",
      "source": [
        "#-- enter your code here...\n",
        "users.tail(10)"
      ],
      "metadata": {
        "id": "UbChK8UWEgMW",
        "outputId": "9c4d59bb-a8f6-47d9-8698-aa56709a4ad7",
        "colab": {
          "base_uri": "https://localhost:8080/",
          "height": 394
        }
      },
      "execution_count": 89,
      "outputs": [
        {
          "output_type": "execute_result",
          "data": {
            "text/plain": [
              "         age gender     occupation zip_code\n",
              "user_id                                    \n",
              "934       61      M       engineer    22902\n",
              "935       42      M         doctor    66221\n",
              "936       24      M          other    32789\n",
              "937       48      M       educator    98072\n",
              "938       38      F     technician    55038\n",
              "939       26      F        student    33319\n",
              "940       32      M  administrator    02215\n",
              "941       20      M        student    97229\n",
              "942       48      F      librarian    78209\n",
              "943       22      M        student    77841"
            ],
            "text/html": [
              "\n",
              "  <div id=\"df-890cf6ab-b685-4a79-99c6-fabdb5a95e93\" class=\"colab-df-container\">\n",
              "    <div>\n",
              "<style scoped>\n",
              "    .dataframe tbody tr th:only-of-type {\n",
              "        vertical-align: middle;\n",
              "    }\n",
              "\n",
              "    .dataframe tbody tr th {\n",
              "        vertical-align: top;\n",
              "    }\n",
              "\n",
              "    .dataframe thead th {\n",
              "        text-align: right;\n",
              "    }\n",
              "</style>\n",
              "<table border=\"1\" class=\"dataframe\">\n",
              "  <thead>\n",
              "    <tr style=\"text-align: right;\">\n",
              "      <th></th>\n",
              "      <th>age</th>\n",
              "      <th>gender</th>\n",
              "      <th>occupation</th>\n",
              "      <th>zip_code</th>\n",
              "    </tr>\n",
              "    <tr>\n",
              "      <th>user_id</th>\n",
              "      <th></th>\n",
              "      <th></th>\n",
              "      <th></th>\n",
              "      <th></th>\n",
              "    </tr>\n",
              "  </thead>\n",
              "  <tbody>\n",
              "    <tr>\n",
              "      <th>934</th>\n",
              "      <td>61</td>\n",
              "      <td>M</td>\n",
              "      <td>engineer</td>\n",
              "      <td>22902</td>\n",
              "    </tr>\n",
              "    <tr>\n",
              "      <th>935</th>\n",
              "      <td>42</td>\n",
              "      <td>M</td>\n",
              "      <td>doctor</td>\n",
              "      <td>66221</td>\n",
              "    </tr>\n",
              "    <tr>\n",
              "      <th>936</th>\n",
              "      <td>24</td>\n",
              "      <td>M</td>\n",
              "      <td>other</td>\n",
              "      <td>32789</td>\n",
              "    </tr>\n",
              "    <tr>\n",
              "      <th>937</th>\n",
              "      <td>48</td>\n",
              "      <td>M</td>\n",
              "      <td>educator</td>\n",
              "      <td>98072</td>\n",
              "    </tr>\n",
              "    <tr>\n",
              "      <th>938</th>\n",
              "      <td>38</td>\n",
              "      <td>F</td>\n",
              "      <td>technician</td>\n",
              "      <td>55038</td>\n",
              "    </tr>\n",
              "    <tr>\n",
              "      <th>939</th>\n",
              "      <td>26</td>\n",
              "      <td>F</td>\n",
              "      <td>student</td>\n",
              "      <td>33319</td>\n",
              "    </tr>\n",
              "    <tr>\n",
              "      <th>940</th>\n",
              "      <td>32</td>\n",
              "      <td>M</td>\n",
              "      <td>administrator</td>\n",
              "      <td>02215</td>\n",
              "    </tr>\n",
              "    <tr>\n",
              "      <th>941</th>\n",
              "      <td>20</td>\n",
              "      <td>M</td>\n",
              "      <td>student</td>\n",
              "      <td>97229</td>\n",
              "    </tr>\n",
              "    <tr>\n",
              "      <th>942</th>\n",
              "      <td>48</td>\n",
              "      <td>F</td>\n",
              "      <td>librarian</td>\n",
              "      <td>78209</td>\n",
              "    </tr>\n",
              "    <tr>\n",
              "      <th>943</th>\n",
              "      <td>22</td>\n",
              "      <td>M</td>\n",
              "      <td>student</td>\n",
              "      <td>77841</td>\n",
              "    </tr>\n",
              "  </tbody>\n",
              "</table>\n",
              "</div>\n",
              "    <div class=\"colab-df-buttons\">\n",
              "\n",
              "  <div class=\"colab-df-container\">\n",
              "    <button class=\"colab-df-convert\" onclick=\"convertToInteractive('df-890cf6ab-b685-4a79-99c6-fabdb5a95e93')\"\n",
              "            title=\"Convert this dataframe to an interactive table.\"\n",
              "            style=\"display:none;\">\n",
              "\n",
              "  <svg xmlns=\"http://www.w3.org/2000/svg\" height=\"24px\" viewBox=\"0 -960 960 960\">\n",
              "    <path d=\"M120-120v-720h720v720H120Zm60-500h600v-160H180v160Zm220 220h160v-160H400v160Zm0 220h160v-160H400v160ZM180-400h160v-160H180v160Zm440 0h160v-160H620v160ZM180-180h160v-160H180v160Zm440 0h160v-160H620v160Z\"/>\n",
              "  </svg>\n",
              "    </button>\n",
              "\n",
              "  <style>\n",
              "    .colab-df-container {\n",
              "      display:flex;\n",
              "      gap: 12px;\n",
              "    }\n",
              "\n",
              "    .colab-df-convert {\n",
              "      background-color: #E8F0FE;\n",
              "      border: none;\n",
              "      border-radius: 50%;\n",
              "      cursor: pointer;\n",
              "      display: none;\n",
              "      fill: #1967D2;\n",
              "      height: 32px;\n",
              "      padding: 0 0 0 0;\n",
              "      width: 32px;\n",
              "    }\n",
              "\n",
              "    .colab-df-convert:hover {\n",
              "      background-color: #E2EBFA;\n",
              "      box-shadow: 0px 1px 2px rgba(60, 64, 67, 0.3), 0px 1px 3px 1px rgba(60, 64, 67, 0.15);\n",
              "      fill: #174EA6;\n",
              "    }\n",
              "\n",
              "    .colab-df-buttons div {\n",
              "      margin-bottom: 4px;\n",
              "    }\n",
              "\n",
              "    [theme=dark] .colab-df-convert {\n",
              "      background-color: #3B4455;\n",
              "      fill: #D2E3FC;\n",
              "    }\n",
              "\n",
              "    [theme=dark] .colab-df-convert:hover {\n",
              "      background-color: #434B5C;\n",
              "      box-shadow: 0px 1px 3px 1px rgba(0, 0, 0, 0.15);\n",
              "      filter: drop-shadow(0px 1px 2px rgba(0, 0, 0, 0.3));\n",
              "      fill: #FFFFFF;\n",
              "    }\n",
              "  </style>\n",
              "\n",
              "    <script>\n",
              "      const buttonEl =\n",
              "        document.querySelector('#df-890cf6ab-b685-4a79-99c6-fabdb5a95e93 button.colab-df-convert');\n",
              "      buttonEl.style.display =\n",
              "        google.colab.kernel.accessAllowed ? 'block' : 'none';\n",
              "\n",
              "      async function convertToInteractive(key) {\n",
              "        const element = document.querySelector('#df-890cf6ab-b685-4a79-99c6-fabdb5a95e93');\n",
              "        const dataTable =\n",
              "          await google.colab.kernel.invokeFunction('convertToInteractive',\n",
              "                                                    [key], {});\n",
              "        if (!dataTable) return;\n",
              "\n",
              "        const docLinkHtml = 'Like what you see? Visit the ' +\n",
              "          '<a target=\"_blank\" href=https://colab.research.google.com/notebooks/data_table.ipynb>data table notebook</a>'\n",
              "          + ' to learn more about interactive tables.';\n",
              "        element.innerHTML = '';\n",
              "        dataTable['output_type'] = 'display_data';\n",
              "        await google.colab.output.renderOutput(dataTable, element);\n",
              "        const docLink = document.createElement('div');\n",
              "        docLink.innerHTML = docLinkHtml;\n",
              "        element.appendChild(docLink);\n",
              "      }\n",
              "    </script>\n",
              "  </div>\n",
              "\n",
              "\n",
              "<div id=\"df-4f37ad64-0039-45d5-8eb4-f5f090dca759\">\n",
              "  <button class=\"colab-df-quickchart\" onclick=\"quickchart('df-4f37ad64-0039-45d5-8eb4-f5f090dca759')\"\n",
              "            title=\"Suggest charts.\"\n",
              "            style=\"display:none;\">\n",
              "\n",
              "<svg xmlns=\"http://www.w3.org/2000/svg\" height=\"24px\"viewBox=\"0 0 24 24\"\n",
              "     width=\"24px\">\n",
              "    <g>\n",
              "        <path d=\"M19 3H5c-1.1 0-2 .9-2 2v14c0 1.1.9 2 2 2h14c1.1 0 2-.9 2-2V5c0-1.1-.9-2-2-2zM9 17H7v-7h2v7zm4 0h-2V7h2v10zm4 0h-2v-4h2v4z\"/>\n",
              "    </g>\n",
              "</svg>\n",
              "  </button>\n",
              "\n",
              "<style>\n",
              "  .colab-df-quickchart {\n",
              "      --bg-color: #E8F0FE;\n",
              "      --fill-color: #1967D2;\n",
              "      --hover-bg-color: #E2EBFA;\n",
              "      --hover-fill-color: #174EA6;\n",
              "      --disabled-fill-color: #AAA;\n",
              "      --disabled-bg-color: #DDD;\n",
              "  }\n",
              "\n",
              "  [theme=dark] .colab-df-quickchart {\n",
              "      --bg-color: #3B4455;\n",
              "      --fill-color: #D2E3FC;\n",
              "      --hover-bg-color: #434B5C;\n",
              "      --hover-fill-color: #FFFFFF;\n",
              "      --disabled-bg-color: #3B4455;\n",
              "      --disabled-fill-color: #666;\n",
              "  }\n",
              "\n",
              "  .colab-df-quickchart {\n",
              "    background-color: var(--bg-color);\n",
              "    border: none;\n",
              "    border-radius: 50%;\n",
              "    cursor: pointer;\n",
              "    display: none;\n",
              "    fill: var(--fill-color);\n",
              "    height: 32px;\n",
              "    padding: 0;\n",
              "    width: 32px;\n",
              "  }\n",
              "\n",
              "  .colab-df-quickchart:hover {\n",
              "    background-color: var(--hover-bg-color);\n",
              "    box-shadow: 0 1px 2px rgba(60, 64, 67, 0.3), 0 1px 3px 1px rgba(60, 64, 67, 0.15);\n",
              "    fill: var(--button-hover-fill-color);\n",
              "  }\n",
              "\n",
              "  .colab-df-quickchart-complete:disabled,\n",
              "  .colab-df-quickchart-complete:disabled:hover {\n",
              "    background-color: var(--disabled-bg-color);\n",
              "    fill: var(--disabled-fill-color);\n",
              "    box-shadow: none;\n",
              "  }\n",
              "\n",
              "  .colab-df-spinner {\n",
              "    border: 2px solid var(--fill-color);\n",
              "    border-color: transparent;\n",
              "    border-bottom-color: var(--fill-color);\n",
              "    animation:\n",
              "      spin 1s steps(1) infinite;\n",
              "  }\n",
              "\n",
              "  @keyframes spin {\n",
              "    0% {\n",
              "      border-color: transparent;\n",
              "      border-bottom-color: var(--fill-color);\n",
              "      border-left-color: var(--fill-color);\n",
              "    }\n",
              "    20% {\n",
              "      border-color: transparent;\n",
              "      border-left-color: var(--fill-color);\n",
              "      border-top-color: var(--fill-color);\n",
              "    }\n",
              "    30% {\n",
              "      border-color: transparent;\n",
              "      border-left-color: var(--fill-color);\n",
              "      border-top-color: var(--fill-color);\n",
              "      border-right-color: var(--fill-color);\n",
              "    }\n",
              "    40% {\n",
              "      border-color: transparent;\n",
              "      border-right-color: var(--fill-color);\n",
              "      border-top-color: var(--fill-color);\n",
              "    }\n",
              "    60% {\n",
              "      border-color: transparent;\n",
              "      border-right-color: var(--fill-color);\n",
              "    }\n",
              "    80% {\n",
              "      border-color: transparent;\n",
              "      border-right-color: var(--fill-color);\n",
              "      border-bottom-color: var(--fill-color);\n",
              "    }\n",
              "    90% {\n",
              "      border-color: transparent;\n",
              "      border-bottom-color: var(--fill-color);\n",
              "    }\n",
              "  }\n",
              "</style>\n",
              "\n",
              "  <script>\n",
              "    async function quickchart(key) {\n",
              "      const quickchartButtonEl =\n",
              "        document.querySelector('#' + key + ' button');\n",
              "      quickchartButtonEl.disabled = true;  // To prevent multiple clicks.\n",
              "      quickchartButtonEl.classList.add('colab-df-spinner');\n",
              "      try {\n",
              "        const charts = await google.colab.kernel.invokeFunction(\n",
              "            'suggestCharts', [key], {});\n",
              "      } catch (error) {\n",
              "        console.error('Error during call to suggestCharts:', error);\n",
              "      }\n",
              "      quickchartButtonEl.classList.remove('colab-df-spinner');\n",
              "      quickchartButtonEl.classList.add('colab-df-quickchart-complete');\n",
              "    }\n",
              "    (() => {\n",
              "      let quickchartButtonEl =\n",
              "        document.querySelector('#df-4f37ad64-0039-45d5-8eb4-f5f090dca759 button');\n",
              "      quickchartButtonEl.style.display =\n",
              "        google.colab.kernel.accessAllowed ? 'block' : 'none';\n",
              "    })();\n",
              "  </script>\n",
              "</div>\n",
              "    </div>\n",
              "  </div>\n"
            ]
          },
          "metadata": {},
          "execution_count": 89
        }
      ]
    },
    {
      "cell_type": "markdown",
      "source": [
        "### Step D5. What is the number of observations in the dataset?\n",
        "\n",
        "Note that there are a couple of ways of doing this (you might, for example leverage the keywords shape or len!)"
      ],
      "metadata": {
        "id": "LbTGkZ3GEjFM"
      }
    },
    {
      "cell_type": "code",
      "source": [
        "#-- enter your code here\n",
        "print(users.shape)\n",
        "print(len(users))"
      ],
      "metadata": {
        "id": "t3O130xEEndJ",
        "outputId": "d2ba6a19-8048-42fe-c0fd-80fdb6129882",
        "colab": {
          "base_uri": "https://localhost:8080/"
        }
      },
      "execution_count": 92,
      "outputs": [
        {
          "output_type": "stream",
          "name": "stdout",
          "text": [
            "(943, 4)\n",
            "943\n"
          ]
        }
      ]
    },
    {
      "cell_type": "markdown",
      "source": [
        "### Step D6. What is the number of columns in the dataset?"
      ],
      "metadata": {
        "id": "GH2Agi0oEur3"
      }
    },
    {
      "cell_type": "code",
      "source": [
        "#-- enter your code here\n",
        "#users.columns\n",
        "len(users.axes[1])"
      ],
      "metadata": {
        "id": "admJ-voIEw2v",
        "outputId": "ba31ad82-9761-46b2-a621-2d9229fd4469",
        "colab": {
          "base_uri": "https://localhost:8080/"
        }
      },
      "execution_count": 99,
      "outputs": [
        {
          "output_type": "execute_result",
          "data": {
            "text/plain": [
              "4"
            ]
          },
          "metadata": {},
          "execution_count": 99
        }
      ]
    },
    {
      "cell_type": "markdown",
      "source": [
        "### Step D7. Print the name of all the columns."
      ],
      "metadata": {
        "id": "AeyL6j-3EzVB"
      }
    },
    {
      "cell_type": "code",
      "source": [
        "#-- enter your code here\n",
        "users.columns"
      ],
      "metadata": {
        "id": "K0AT66kVE168",
        "outputId": "7256f742-1042-4d7e-f33c-a9abf236d748",
        "colab": {
          "base_uri": "https://localhost:8080/"
        }
      },
      "execution_count": 102,
      "outputs": [
        {
          "output_type": "execute_result",
          "data": {
            "text/plain": [
              "Index(['age', 'gender', 'occupation', 'zip_code'], dtype='object')"
            ]
          },
          "metadata": {},
          "execution_count": 102
        }
      ]
    },
    {
      "cell_type": "markdown",
      "source": [
        "### Step D8. How is the dataset indexed?\n",
        "\n",
        "A Pandas dataframe always has an Index. If you do not specify a specific one, Pandas will automatically create one which is going to be the row number."
      ],
      "metadata": {
        "id": "z14x7x8UE4la"
      }
    },
    {
      "cell_type": "code",
      "source": [
        "#-- \"the index\" (aka \"the labels\")"
      ],
      "metadata": {
        "id": "zVmJbPvpFGCb"
      },
      "execution_count": null,
      "outputs": []
    },
    {
      "cell_type": "markdown",
      "source": [
        "### Step D9. What is the data type of each column?\n",
        "\n",
        "As before, using the **.dtypes** attribute of your **users** dataframe, you can have a list of all your columns and their data type."
      ],
      "metadata": {
        "id": "DuovYetTFJew"
      }
    },
    {
      "cell_type": "code",
      "source": [
        "#-- enter your code here\n",
        "print(users.dtypes)"
      ],
      "metadata": {
        "id": "nqbhXIw5FQCO"
      },
      "execution_count": null,
      "outputs": []
    },
    {
      "cell_type": "markdown",
      "source": [
        "### Step D10. Print only the occupation column"
      ],
      "metadata": {
        "id": "ppyIchLzFSyD"
      }
    },
    {
      "cell_type": "code",
      "source": [
        "#-- enter your code here"
      ],
      "metadata": {
        "id": "TpRPQGI5FVGt"
      },
      "execution_count": null,
      "outputs": []
    },
    {
      "cell_type": "markdown",
      "source": [
        "### Step D11. How many different occupations there are in this dataset?"
      ],
      "metadata": {
        "id": "oVOoGLFSFYaj"
      }
    },
    {
      "cell_type": "code",
      "source": [
        "#-- enter your code here"
      ],
      "metadata": {
        "id": "6onW6vCFFdfw"
      },
      "execution_count": null,
      "outputs": []
    },
    {
      "cell_type": "markdown",
      "source": [
        "### Step D12. What is the most frequent occupation?"
      ],
      "metadata": {
        "id": "4FspE5jHFdqM"
      }
    },
    {
      "cell_type": "code",
      "source": [
        "#-- enter your code here"
      ],
      "metadata": {
        "id": "duh5KZl9FjHP"
      },
      "execution_count": null,
      "outputs": []
    },
    {
      "cell_type": "markdown",
      "source": [
        "### Step D13. Summarise the DataFrame.\n",
        "\n",
        "Remember, you can summarise the values of a DataFrame using the **.describe()** method. Do so now..."
      ],
      "metadata": {
        "id": "CrLtMMM-Fnd-"
      }
    },
    {
      "cell_type": "code",
      "source": [
        "#-- enter your code here"
      ],
      "metadata": {
        "id": "gu5l8NwyFuNe"
      },
      "execution_count": null,
      "outputs": []
    },
    {
      "cell_type": "markdown",
      "source": [
        "### Step D14. Summarise all the columns\n",
        "\n",
        "However, the **.describe()** method only considers numeric columns by default. If you want to include the columns with another data type, you can pass the argument **include = \"all\"** to the method."
      ],
      "metadata": {
        "id": "6W_4s0u-FxGh"
      }
    },
    {
      "cell_type": "code",
      "source": [
        "#-- enter your code here"
      ],
      "metadata": {
        "id": "X-pZ_23iF2kI"
      },
      "execution_count": null,
      "outputs": []
    },
    {
      "cell_type": "markdown",
      "source": [
        "### Step D15. Summarise only the occupation column"
      ],
      "metadata": {
        "id": "ojZ3zQJBF5Vv"
      }
    },
    {
      "cell_type": "code",
      "source": [
        "#-- enter your code here"
      ],
      "metadata": {
        "id": "-kE_fjw7F73h"
      },
      "execution_count": null,
      "outputs": []
    },
    {
      "cell_type": "markdown",
      "source": [
        "### Step D16. What is the mean age of users? and the median?"
      ],
      "metadata": {
        "id": "PWcAf7AzF-VA"
      }
    },
    {
      "cell_type": "code",
      "source": [
        "#-- enter your code here, rounding to the nearest whole number..."
      ],
      "metadata": {
        "id": "amdCu_h1GCYm"
      },
      "execution_count": null,
      "outputs": []
    },
    {
      "cell_type": "markdown",
      "source": [
        "### Step D17. What is the age with least occurrence?\n",
        "\n",
        "Try to use the \"value counts()\" and \"tail()\" methods to solve this problem..."
      ],
      "metadata": {
        "id": "VcEw91q-GHxW"
      }
    },
    {
      "cell_type": "code",
      "source": [
        "#-- enter your code here"
      ],
      "metadata": {
        "id": "GXMU7sEvGLm7"
      },
      "execution_count": null,
      "outputs": []
    },
    {
      "cell_type": "markdown",
      "source": [
        "### Step D18. What are the main occupations of users under 20 years old?\n",
        "\n",
        "Use value_counts() again, but this time filter your data for users who are under the age of twenty. There are many ways to do this but a clever bit of pandas indexing is probably the neatest."
      ],
      "metadata": {
        "id": "PYjXZn51GSFG"
      }
    },
    {
      "cell_type": "code",
      "source": [
        "#-- enter your code here"
      ],
      "metadata": {
        "id": "GRD9rkZvGYnJ"
      },
      "execution_count": null,
      "outputs": []
    },
    {
      "cell_type": "markdown",
      "source": [
        "Congratulations, you are well on your way to being proficient in using Pandas for your business analytics problems (as we will all year in fact). And don't fret if you forget the syntax - this is normal. The skill is being able to look it up again quickly!"
      ],
      "metadata": {
        "id": "gFNFgZrNGoK6"
      }
    }
  ]
}