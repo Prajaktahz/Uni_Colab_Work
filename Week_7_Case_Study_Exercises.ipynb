{
  "nbformat": 4,
  "nbformat_minor": 0,
  "metadata": {
    "kernelspec": {
      "display_name": "Python 3",
      "language": "python",
      "name": "python3"
    },
    "language_info": {
      "codemirror_mode": {
        "name": "ipython",
        "version": 3
      },
      "file_extension": ".py",
      "mimetype": "text/x-python",
      "name": "python",
      "nbconvert_exporter": "python",
      "pygments_lexer": "ipython3",
      "version": "3.8.1"
    },
    "colab": {
      "provenance": [],
      "include_colab_link": true
    }
  },
  "cells": [
    {
      "cell_type": "markdown",
      "metadata": {
        "id": "view-in-github",
        "colab_type": "text"
      },
      "source": [
        "<a href=\"https://colab.research.google.com/github/Prajaktahz/Uni_Colab_Work/blob/main/Week_7_Case_Study_Exercises.ipynb\" target=\"_parent\"><img src=\"https://colab.research.google.com/assets/colab-badge.svg\" alt=\"Open In Colab\"/></a>"
      ]
    },
    {
      "cell_type": "markdown",
      "metadata": {
        "id": "DlBxM8pio8hz"
      },
      "source": [
        "<img src=\"https://www.nlab.org.uk/wp-content/uploads/nlabmain.png\" style=\"width:40%; clear:both; margin-bottom:-20px\" align=left>\n",
        "<br style=\"clear:both;\"/>\n",
        "\n",
        "## Analytics Specializations & Applications 2 - Week 7\n",
        "\n",
        "# Text Analytics - Case Study Exercises\n",
        "----------\n",
        "Dr Georgiana Nica-Avram - University of Nottingham\n",
        "[mail](mailto:georgiana.nica-avram1@nottingham.ac.uk)\n",
        "[web](http://www.neodemographics.org)\n",
        "\n",
        "This set of exercises assumes that you have completed the accompanying \"Text Analytics - Preparatory Exercises\" jupyter notebook. If you haven't, please find and run through that set of exercises first.\n",
        "\n",
        "### Scenario\n",
        "Now we have the tools we need, let's consider the following case study scenario. We are a consumer research company like IPSOS MORI, who are now receiving reviews and discussion on the web (particularly in the form of YouTube comments). We would like to generate a text analytics solution that will take these reviews (which we assume to be unstructured text alone), perform some text analytics on them, and then tell us if that review was positive or negative (to do this, we will need to perform sentiment analysis). Once we have a method of doing this we can score the success of our outputs in an automatic fashion (and also potentially gauge how reaction towards them changes over time).\n",
        "\n",
        "The problem is that we currently have no basis for assessing reviews - our media outputs don't get \"scored\". This problem is called the \"cold start\" problem - we just don't have any ground truth which we can build a text analytics model against.\n",
        "\n",
        "Luckily, we may be able to leverage some \"transfer learning\" - one of our partners has a dataset of movie reviews that **are** accompanied with a score - so we know if the text they include is broadly positive or negative.\n",
        "\n",
        "By performing text analytics on this dataset and concentrating on sentiment (rather than movie actors, directors, genres, etc) we will be able to create a natural language model that will receive any review - such as those we get discussing our advertising campaigns - and tell us something about the author's reaction. This we can then document, and use in our future pitches.\n",
        "\n",
        "### The dataset\n",
        "Our transfer dataset consists of 25,000 written movie reviews from the Internet Movie Database, IMDb (www.imdb.com). No movie has more than 30 reviews, and the review text is accompanied by a binary score (with the value 1 if the IMDb rating for that review is greater than 6, and the value 0 if the rating is less than 5). From this data we will learn what constitutes a positive and negative review in terms of text).\n",
        "\n",
        "To analyse this text, so we can understand what consitutes a positive and negative reivew in terms of language, we will implement the following:\n",
        "\n",
        "* Data Collation\n",
        "* Stripping / Case Folding\n",
        "* Stemming\n",
        "* Stopping\n",
        "* Tokenization\n",
        "* Vectorization (and TF-IDF)\n",
        "* Testing (using Cosine Similarity)\n"
      ]
    },
    {
      "cell_type": "code",
      "metadata": {
        "colab": {
          "base_uri": "https://localhost:8080/"
        },
        "id": "XBlOem129J-P",
        "outputId": "5c31ce3a-2a16-4a0c-9185-010b8fc017e6"
      },
      "source": [
        "# This next line is only to be used on Google Colaboratory and will download the CSV file for you\n",
        "!wget -O week7_data.zip \"https://drive.google.com/uc?export=download&id=1vxzKV3Z522JN67xnglQZJCniIQaypsY9\"\n",
        "!unzip week7_data.zip\n",
        "\n",
        "# We can then check that the file is here by listing the content of the current directory\n",
        "!ls"
      ],
      "execution_count": 1,
      "outputs": [
        {
          "output_type": "stream",
          "name": "stdout",
          "text": [
            "--2024-03-14 22:50:29--  https://drive.google.com/uc?export=download&id=1vxzKV3Z522JN67xnglQZJCniIQaypsY9\n",
            "Resolving drive.google.com (drive.google.com)... 172.217.164.14, 2607:f8b0:4025:803::200e\n",
            "Connecting to drive.google.com (drive.google.com)|172.217.164.14|:443... connected.\n",
            "HTTP request sent, awaiting response... 303 See Other\n",
            "Location: https://drive.usercontent.google.com/download?id=1vxzKV3Z522JN67xnglQZJCniIQaypsY9&export=download [following]\n",
            "--2024-03-14 22:50:29--  https://drive.usercontent.google.com/download?id=1vxzKV3Z522JN67xnglQZJCniIQaypsY9&export=download\n",
            "Resolving drive.usercontent.google.com (drive.usercontent.google.com)... 172.217.12.1, 2607:f8b0:4025:815::2001\n",
            "Connecting to drive.usercontent.google.com (drive.usercontent.google.com)|172.217.12.1|:443... connected.\n",
            "HTTP request sent, awaiting response... 200 OK\n",
            "Length: 13859069 (13M) [application/octet-stream]\n",
            "Saving to: ‘week7_data.zip’\n",
            "\n",
            "week7_data.zip      100%[===================>]  13.22M  11.7MB/s    in 1.1s    \n",
            "\n",
            "2024-03-14 22:50:39 (11.7 MB/s) - ‘week7_data.zip’ saved [13859069/13859069]\n",
            "\n",
            "Archive:  week7_data.zip\n",
            "  inflating: vsm.png                 \n",
            "  inflating: html_cleaner.py         \n",
            "  inflating: IDF.png                 \n",
            "  inflating: movie_data.tsv          \n",
            "  inflating: nlab_logo.png           \n",
            "  inflating: TF.png                  \n",
            "html_cleaner.py  movie_data.tsv  sample_data  vsm.png\n",
            "IDF.png\t\t nlab_logo.png\t TF.png       week7_data.zip\n"
          ]
        }
      ]
    },
    {
      "cell_type": "markdown",
      "metadata": {
        "id": "q1VaaC_xo8h5"
      },
      "source": [
        "Let's begin by loading in the data\n",
        "\n",
        "<span style=\"font-weight:bold; color:green;\">&rarr; Load in and examine the first ten lines of the data <span/>"
      ]
    },
    {
      "cell_type": "code",
      "metadata": {
        "colab": {
          "base_uri": "https://localhost:8080/",
          "height": 363
        },
        "id": "hmhmZNo5o8h6",
        "outputId": "f3ec1ea8-ea2d-439c-e605-a40e19dabea7"
      },
      "source": [
        "import pandas\n",
        "\n",
        "data = pandas.read_csv(\"movie_data.tsv\", delimiter=\"\\t\")\n",
        "\n",
        "#-- examine the first 10 lines of the data here\n",
        "data.head(10)"
      ],
      "execution_count": null,
      "outputs": [
        {
          "output_type": "execute_result",
          "data": {
            "text/plain": [
              "        id  sentiment                                             review\n",
              "0   5814_8          1  With all this stuff going down at the moment w...\n",
              "1   2381_9          1  \\The Classic War of the Worlds\\\" by Timothy Hi...\n",
              "2   7759_3          0  The film starts with a manager (Nicholas Bell)...\n",
              "3   3630_4          0  It must be assumed that those who praised this...\n",
              "4   9495_8          1  Superbly trashy and wondrously unpretentious 8...\n",
              "5   8196_8          1  I dont know why people think this is such a ba...\n",
              "6   7166_2          0  This movie could have been very good, but come...\n",
              "7  10633_1          0  I watched this video at a friend's house. I'm ...\n",
              "8    319_1          0  A friend of mine bought this film for £1, and ...\n",
              "9  8713_10          1  <br /><br />This movie is full of references. ..."
            ],
            "text/html": [
              "\n",
              "  <div id=\"df-94c3992f-2d8c-494f-b685-fba3c75da1a7\">\n",
              "    <div class=\"colab-df-container\">\n",
              "      <div>\n",
              "<style scoped>\n",
              "    .dataframe tbody tr th:only-of-type {\n",
              "        vertical-align: middle;\n",
              "    }\n",
              "\n",
              "    .dataframe tbody tr th {\n",
              "        vertical-align: top;\n",
              "    }\n",
              "\n",
              "    .dataframe thead th {\n",
              "        text-align: right;\n",
              "    }\n",
              "</style>\n",
              "<table border=\"1\" class=\"dataframe\">\n",
              "  <thead>\n",
              "    <tr style=\"text-align: right;\">\n",
              "      <th></th>\n",
              "      <th>id</th>\n",
              "      <th>sentiment</th>\n",
              "      <th>review</th>\n",
              "    </tr>\n",
              "  </thead>\n",
              "  <tbody>\n",
              "    <tr>\n",
              "      <th>0</th>\n",
              "      <td>5814_8</td>\n",
              "      <td>1</td>\n",
              "      <td>With all this stuff going down at the moment w...</td>\n",
              "    </tr>\n",
              "    <tr>\n",
              "      <th>1</th>\n",
              "      <td>2381_9</td>\n",
              "      <td>1</td>\n",
              "      <td>\\The Classic War of the Worlds\\\" by Timothy Hi...</td>\n",
              "    </tr>\n",
              "    <tr>\n",
              "      <th>2</th>\n",
              "      <td>7759_3</td>\n",
              "      <td>0</td>\n",
              "      <td>The film starts with a manager (Nicholas Bell)...</td>\n",
              "    </tr>\n",
              "    <tr>\n",
              "      <th>3</th>\n",
              "      <td>3630_4</td>\n",
              "      <td>0</td>\n",
              "      <td>It must be assumed that those who praised this...</td>\n",
              "    </tr>\n",
              "    <tr>\n",
              "      <th>4</th>\n",
              "      <td>9495_8</td>\n",
              "      <td>1</td>\n",
              "      <td>Superbly trashy and wondrously unpretentious 8...</td>\n",
              "    </tr>\n",
              "    <tr>\n",
              "      <th>5</th>\n",
              "      <td>8196_8</td>\n",
              "      <td>1</td>\n",
              "      <td>I dont know why people think this is such a ba...</td>\n",
              "    </tr>\n",
              "    <tr>\n",
              "      <th>6</th>\n",
              "      <td>7166_2</td>\n",
              "      <td>0</td>\n",
              "      <td>This movie could have been very good, but come...</td>\n",
              "    </tr>\n",
              "    <tr>\n",
              "      <th>7</th>\n",
              "      <td>10633_1</td>\n",
              "      <td>0</td>\n",
              "      <td>I watched this video at a friend's house. I'm ...</td>\n",
              "    </tr>\n",
              "    <tr>\n",
              "      <th>8</th>\n",
              "      <td>319_1</td>\n",
              "      <td>0</td>\n",
              "      <td>A friend of mine bought this film for £1, and ...</td>\n",
              "    </tr>\n",
              "    <tr>\n",
              "      <th>9</th>\n",
              "      <td>8713_10</td>\n",
              "      <td>1</td>\n",
              "      <td>&lt;br /&gt;&lt;br /&gt;This movie is full of references. ...</td>\n",
              "    </tr>\n",
              "  </tbody>\n",
              "</table>\n",
              "</div>\n",
              "      <button class=\"colab-df-convert\" onclick=\"convertToInteractive('df-94c3992f-2d8c-494f-b685-fba3c75da1a7')\"\n",
              "              title=\"Convert this dataframe to an interactive table.\"\n",
              "              style=\"display:none;\">\n",
              "        \n",
              "  <svg xmlns=\"http://www.w3.org/2000/svg\" height=\"24px\"viewBox=\"0 0 24 24\"\n",
              "       width=\"24px\">\n",
              "    <path d=\"M0 0h24v24H0V0z\" fill=\"none\"/>\n",
              "    <path d=\"M18.56 5.44l.94 2.06.94-2.06 2.06-.94-2.06-.94-.94-2.06-.94 2.06-2.06.94zm-11 1L8.5 8.5l.94-2.06 2.06-.94-2.06-.94L8.5 2.5l-.94 2.06-2.06.94zm10 10l.94 2.06.94-2.06 2.06-.94-2.06-.94-.94-2.06-.94 2.06-2.06.94z\"/><path d=\"M17.41 7.96l-1.37-1.37c-.4-.4-.92-.59-1.43-.59-.52 0-1.04.2-1.43.59L10.3 9.45l-7.72 7.72c-.78.78-.78 2.05 0 2.83L4 21.41c.39.39.9.59 1.41.59.51 0 1.02-.2 1.41-.59l7.78-7.78 2.81-2.81c.8-.78.8-2.07 0-2.86zM5.41 20L4 18.59l7.72-7.72 1.47 1.35L5.41 20z\"/>\n",
              "  </svg>\n",
              "      </button>\n",
              "      \n",
              "  <style>\n",
              "    .colab-df-container {\n",
              "      display:flex;\n",
              "      flex-wrap:wrap;\n",
              "      gap: 12px;\n",
              "    }\n",
              "\n",
              "    .colab-df-convert {\n",
              "      background-color: #E8F0FE;\n",
              "      border: none;\n",
              "      border-radius: 50%;\n",
              "      cursor: pointer;\n",
              "      display: none;\n",
              "      fill: #1967D2;\n",
              "      height: 32px;\n",
              "      padding: 0 0 0 0;\n",
              "      width: 32px;\n",
              "    }\n",
              "\n",
              "    .colab-df-convert:hover {\n",
              "      background-color: #E2EBFA;\n",
              "      box-shadow: 0px 1px 2px rgba(60, 64, 67, 0.3), 0px 1px 3px 1px rgba(60, 64, 67, 0.15);\n",
              "      fill: #174EA6;\n",
              "    }\n",
              "\n",
              "    [theme=dark] .colab-df-convert {\n",
              "      background-color: #3B4455;\n",
              "      fill: #D2E3FC;\n",
              "    }\n",
              "\n",
              "    [theme=dark] .colab-df-convert:hover {\n",
              "      background-color: #434B5C;\n",
              "      box-shadow: 0px 1px 3px 1px rgba(0, 0, 0, 0.15);\n",
              "      filter: drop-shadow(0px 1px 2px rgba(0, 0, 0, 0.3));\n",
              "      fill: #FFFFFF;\n",
              "    }\n",
              "  </style>\n",
              "\n",
              "      <script>\n",
              "        const buttonEl =\n",
              "          document.querySelector('#df-94c3992f-2d8c-494f-b685-fba3c75da1a7 button.colab-df-convert');\n",
              "        buttonEl.style.display =\n",
              "          google.colab.kernel.accessAllowed ? 'block' : 'none';\n",
              "\n",
              "        async function convertToInteractive(key) {\n",
              "          const element = document.querySelector('#df-94c3992f-2d8c-494f-b685-fba3c75da1a7');\n",
              "          const dataTable =\n",
              "            await google.colab.kernel.invokeFunction('convertToInteractive',\n",
              "                                                     [key], {});\n",
              "          if (!dataTable) return;\n",
              "\n",
              "          const docLinkHtml = 'Like what you see? Visit the ' +\n",
              "            '<a target=\"_blank\" href=https://colab.research.google.com/notebooks/data_table.ipynb>data table notebook</a>'\n",
              "            + ' to learn more about interactive tables.';\n",
              "          element.innerHTML = '';\n",
              "          dataTable['output_type'] = 'display_data';\n",
              "          await google.colab.output.renderOutput(dataTable, element);\n",
              "          const docLink = document.createElement('div');\n",
              "          docLink.innerHTML = docLinkHtml;\n",
              "          element.appendChild(docLink);\n",
              "        }\n",
              "      </script>\n",
              "    </div>\n",
              "  </div>\n",
              "  "
            ]
          },
          "metadata": {},
          "execution_count": 2
        }
      ]
    },
    {
      "cell_type": "markdown",
      "metadata": {
        "id": "NKw6ukFlo8h9"
      },
      "source": [
        "Have a look at the last entry - see how it has html tags in it. We need to get rid of these (and let's loose the punctuation while we are at it), so let's first do some stripping. I've created a custom function to do this which is out of scope of this course, so for now just run the code below:"
      ]
    },
    {
      "cell_type": "code",
      "metadata": {
        "colab": {
          "base_uri": "https://localhost:8080/",
          "height": 363
        },
        "id": "I5DuUF7vo8h-",
        "outputId": "971c87ee-6fb7-4fce-cd88-8f55f59ff5f8"
      },
      "source": [
        "import html_cleaner\n",
        "\n",
        "data.review = html_cleaner.remove_html(data.review)\n",
        "\n",
        "#-- examine the first 10 lines of the data again\n",
        "data.head(10)"
      ],
      "execution_count": null,
      "outputs": [
        {
          "output_type": "execute_result",
          "data": {
            "text/plain": [
              "        id  sentiment                                             review\n",
              "0   5814_8          1  With all this stuff going down at the moment w...\n",
              "1   2381_9          1  \\The Classic War of the Worlds\\\" by Timothy Hi...\n",
              "2   7759_3          0  The film starts with a manager (Nicholas Bell)...\n",
              "3   3630_4          0  It must be assumed that those who praised this...\n",
              "4   9495_8          1  Superbly trashy and wondrously unpretentious 8...\n",
              "5   8196_8          1  I dont know why people think this is such a ba...\n",
              "6   7166_2          0  This movie could have been very good, but come...\n",
              "7  10633_1          0  I watched this video at a friend's house. I'm ...\n",
              "8    319_1          0  A friend of mine bought this film for £1, and ...\n",
              "9  8713_10          1  This movie is full of references. Like \\Mad Ma..."
            ],
            "text/html": [
              "\n",
              "  <div id=\"df-3f45b339-7631-43f7-bdb5-9457ffe475de\">\n",
              "    <div class=\"colab-df-container\">\n",
              "      <div>\n",
              "<style scoped>\n",
              "    .dataframe tbody tr th:only-of-type {\n",
              "        vertical-align: middle;\n",
              "    }\n",
              "\n",
              "    .dataframe tbody tr th {\n",
              "        vertical-align: top;\n",
              "    }\n",
              "\n",
              "    .dataframe thead th {\n",
              "        text-align: right;\n",
              "    }\n",
              "</style>\n",
              "<table border=\"1\" class=\"dataframe\">\n",
              "  <thead>\n",
              "    <tr style=\"text-align: right;\">\n",
              "      <th></th>\n",
              "      <th>id</th>\n",
              "      <th>sentiment</th>\n",
              "      <th>review</th>\n",
              "    </tr>\n",
              "  </thead>\n",
              "  <tbody>\n",
              "    <tr>\n",
              "      <th>0</th>\n",
              "      <td>5814_8</td>\n",
              "      <td>1</td>\n",
              "      <td>With all this stuff going down at the moment w...</td>\n",
              "    </tr>\n",
              "    <tr>\n",
              "      <th>1</th>\n",
              "      <td>2381_9</td>\n",
              "      <td>1</td>\n",
              "      <td>\\The Classic War of the Worlds\\\" by Timothy Hi...</td>\n",
              "    </tr>\n",
              "    <tr>\n",
              "      <th>2</th>\n",
              "      <td>7759_3</td>\n",
              "      <td>0</td>\n",
              "      <td>The film starts with a manager (Nicholas Bell)...</td>\n",
              "    </tr>\n",
              "    <tr>\n",
              "      <th>3</th>\n",
              "      <td>3630_4</td>\n",
              "      <td>0</td>\n",
              "      <td>It must be assumed that those who praised this...</td>\n",
              "    </tr>\n",
              "    <tr>\n",
              "      <th>4</th>\n",
              "      <td>9495_8</td>\n",
              "      <td>1</td>\n",
              "      <td>Superbly trashy and wondrously unpretentious 8...</td>\n",
              "    </tr>\n",
              "    <tr>\n",
              "      <th>5</th>\n",
              "      <td>8196_8</td>\n",
              "      <td>1</td>\n",
              "      <td>I dont know why people think this is such a ba...</td>\n",
              "    </tr>\n",
              "    <tr>\n",
              "      <th>6</th>\n",
              "      <td>7166_2</td>\n",
              "      <td>0</td>\n",
              "      <td>This movie could have been very good, but come...</td>\n",
              "    </tr>\n",
              "    <tr>\n",
              "      <th>7</th>\n",
              "      <td>10633_1</td>\n",
              "      <td>0</td>\n",
              "      <td>I watched this video at a friend's house. I'm ...</td>\n",
              "    </tr>\n",
              "    <tr>\n",
              "      <th>8</th>\n",
              "      <td>319_1</td>\n",
              "      <td>0</td>\n",
              "      <td>A friend of mine bought this film for £1, and ...</td>\n",
              "    </tr>\n",
              "    <tr>\n",
              "      <th>9</th>\n",
              "      <td>8713_10</td>\n",
              "      <td>1</td>\n",
              "      <td>This movie is full of references. Like \\Mad Ma...</td>\n",
              "    </tr>\n",
              "  </tbody>\n",
              "</table>\n",
              "</div>\n",
              "      <button class=\"colab-df-convert\" onclick=\"convertToInteractive('df-3f45b339-7631-43f7-bdb5-9457ffe475de')\"\n",
              "              title=\"Convert this dataframe to an interactive table.\"\n",
              "              style=\"display:none;\">\n",
              "        \n",
              "  <svg xmlns=\"http://www.w3.org/2000/svg\" height=\"24px\"viewBox=\"0 0 24 24\"\n",
              "       width=\"24px\">\n",
              "    <path d=\"M0 0h24v24H0V0z\" fill=\"none\"/>\n",
              "    <path d=\"M18.56 5.44l.94 2.06.94-2.06 2.06-.94-2.06-.94-.94-2.06-.94 2.06-2.06.94zm-11 1L8.5 8.5l.94-2.06 2.06-.94-2.06-.94L8.5 2.5l-.94 2.06-2.06.94zm10 10l.94 2.06.94-2.06 2.06-.94-2.06-.94-.94-2.06-.94 2.06-2.06.94z\"/><path d=\"M17.41 7.96l-1.37-1.37c-.4-.4-.92-.59-1.43-.59-.52 0-1.04.2-1.43.59L10.3 9.45l-7.72 7.72c-.78.78-.78 2.05 0 2.83L4 21.41c.39.39.9.59 1.41.59.51 0 1.02-.2 1.41-.59l7.78-7.78 2.81-2.81c.8-.78.8-2.07 0-2.86zM5.41 20L4 18.59l7.72-7.72 1.47 1.35L5.41 20z\"/>\n",
              "  </svg>\n",
              "      </button>\n",
              "      \n",
              "  <style>\n",
              "    .colab-df-container {\n",
              "      display:flex;\n",
              "      flex-wrap:wrap;\n",
              "      gap: 12px;\n",
              "    }\n",
              "\n",
              "    .colab-df-convert {\n",
              "      background-color: #E8F0FE;\n",
              "      border: none;\n",
              "      border-radius: 50%;\n",
              "      cursor: pointer;\n",
              "      display: none;\n",
              "      fill: #1967D2;\n",
              "      height: 32px;\n",
              "      padding: 0 0 0 0;\n",
              "      width: 32px;\n",
              "    }\n",
              "\n",
              "    .colab-df-convert:hover {\n",
              "      background-color: #E2EBFA;\n",
              "      box-shadow: 0px 1px 2px rgba(60, 64, 67, 0.3), 0px 1px 3px 1px rgba(60, 64, 67, 0.15);\n",
              "      fill: #174EA6;\n",
              "    }\n",
              "\n",
              "    [theme=dark] .colab-df-convert {\n",
              "      background-color: #3B4455;\n",
              "      fill: #D2E3FC;\n",
              "    }\n",
              "\n",
              "    [theme=dark] .colab-df-convert:hover {\n",
              "      background-color: #434B5C;\n",
              "      box-shadow: 0px 1px 3px 1px rgba(0, 0, 0, 0.15);\n",
              "      filter: drop-shadow(0px 1px 2px rgba(0, 0, 0, 0.3));\n",
              "      fill: #FFFFFF;\n",
              "    }\n",
              "  </style>\n",
              "\n",
              "      <script>\n",
              "        const buttonEl =\n",
              "          document.querySelector('#df-3f45b339-7631-43f7-bdb5-9457ffe475de button.colab-df-convert');\n",
              "        buttonEl.style.display =\n",
              "          google.colab.kernel.accessAllowed ? 'block' : 'none';\n",
              "\n",
              "        async function convertToInteractive(key) {\n",
              "          const element = document.querySelector('#df-3f45b339-7631-43f7-bdb5-9457ffe475de');\n",
              "          const dataTable =\n",
              "            await google.colab.kernel.invokeFunction('convertToInteractive',\n",
              "                                                     [key], {});\n",
              "          if (!dataTable) return;\n",
              "\n",
              "          const docLinkHtml = 'Like what you see? Visit the ' +\n",
              "            '<a target=\"_blank\" href=https://colab.research.google.com/notebooks/data_table.ipynb>data table notebook</a>'\n",
              "            + ' to learn more about interactive tables.';\n",
              "          element.innerHTML = '';\n",
              "          dataTable['output_type'] = 'display_data';\n",
              "          await google.colab.output.renderOutput(dataTable, element);\n",
              "          const docLink = document.createElement('div');\n",
              "          docLink.innerHTML = docLinkHtml;\n",
              "          element.appendChild(docLink);\n",
              "        }\n",
              "      </script>\n",
              "    </div>\n",
              "  </div>\n",
              "  "
            ]
          },
          "metadata": {},
          "execution_count": 3
        }
      ]
    },
    {
      "cell_type": "code",
      "metadata": {
        "colab": {
          "base_uri": "https://localhost:8080/",
          "height": 300
        },
        "id": "IjSdhRoXo8h_",
        "outputId": "d5e1ee5c-d640-4709-8a48-f09a91ea2a36"
      },
      "source": [
        "#-- describe the data here\n",
        "data.describe()"
      ],
      "execution_count": null,
      "outputs": [
        {
          "output_type": "execute_result",
          "data": {
            "text/plain": [
              "         sentiment\n",
              "count  25000.00000\n",
              "mean       0.50000\n",
              "std        0.50001\n",
              "min        0.00000\n",
              "25%        0.00000\n",
              "50%        0.50000\n",
              "75%        1.00000\n",
              "max        1.00000"
            ],
            "text/html": [
              "\n",
              "  <div id=\"df-561e8e15-be9a-4218-95ce-7c9257054f37\">\n",
              "    <div class=\"colab-df-container\">\n",
              "      <div>\n",
              "<style scoped>\n",
              "    .dataframe tbody tr th:only-of-type {\n",
              "        vertical-align: middle;\n",
              "    }\n",
              "\n",
              "    .dataframe tbody tr th {\n",
              "        vertical-align: top;\n",
              "    }\n",
              "\n",
              "    .dataframe thead th {\n",
              "        text-align: right;\n",
              "    }\n",
              "</style>\n",
              "<table border=\"1\" class=\"dataframe\">\n",
              "  <thead>\n",
              "    <tr style=\"text-align: right;\">\n",
              "      <th></th>\n",
              "      <th>sentiment</th>\n",
              "    </tr>\n",
              "  </thead>\n",
              "  <tbody>\n",
              "    <tr>\n",
              "      <th>count</th>\n",
              "      <td>25000.00000</td>\n",
              "    </tr>\n",
              "    <tr>\n",
              "      <th>mean</th>\n",
              "      <td>0.50000</td>\n",
              "    </tr>\n",
              "    <tr>\n",
              "      <th>std</th>\n",
              "      <td>0.50001</td>\n",
              "    </tr>\n",
              "    <tr>\n",
              "      <th>min</th>\n",
              "      <td>0.00000</td>\n",
              "    </tr>\n",
              "    <tr>\n",
              "      <th>25%</th>\n",
              "      <td>0.00000</td>\n",
              "    </tr>\n",
              "    <tr>\n",
              "      <th>50%</th>\n",
              "      <td>0.50000</td>\n",
              "    </tr>\n",
              "    <tr>\n",
              "      <th>75%</th>\n",
              "      <td>1.00000</td>\n",
              "    </tr>\n",
              "    <tr>\n",
              "      <th>max</th>\n",
              "      <td>1.00000</td>\n",
              "    </tr>\n",
              "  </tbody>\n",
              "</table>\n",
              "</div>\n",
              "      <button class=\"colab-df-convert\" onclick=\"convertToInteractive('df-561e8e15-be9a-4218-95ce-7c9257054f37')\"\n",
              "              title=\"Convert this dataframe to an interactive table.\"\n",
              "              style=\"display:none;\">\n",
              "        \n",
              "  <svg xmlns=\"http://www.w3.org/2000/svg\" height=\"24px\"viewBox=\"0 0 24 24\"\n",
              "       width=\"24px\">\n",
              "    <path d=\"M0 0h24v24H0V0z\" fill=\"none\"/>\n",
              "    <path d=\"M18.56 5.44l.94 2.06.94-2.06 2.06-.94-2.06-.94-.94-2.06-.94 2.06-2.06.94zm-11 1L8.5 8.5l.94-2.06 2.06-.94-2.06-.94L8.5 2.5l-.94 2.06-2.06.94zm10 10l.94 2.06.94-2.06 2.06-.94-2.06-.94-.94-2.06-.94 2.06-2.06.94z\"/><path d=\"M17.41 7.96l-1.37-1.37c-.4-.4-.92-.59-1.43-.59-.52 0-1.04.2-1.43.59L10.3 9.45l-7.72 7.72c-.78.78-.78 2.05 0 2.83L4 21.41c.39.39.9.59 1.41.59.51 0 1.02-.2 1.41-.59l7.78-7.78 2.81-2.81c.8-.78.8-2.07 0-2.86zM5.41 20L4 18.59l7.72-7.72 1.47 1.35L5.41 20z\"/>\n",
              "  </svg>\n",
              "      </button>\n",
              "      \n",
              "  <style>\n",
              "    .colab-df-container {\n",
              "      display:flex;\n",
              "      flex-wrap:wrap;\n",
              "      gap: 12px;\n",
              "    }\n",
              "\n",
              "    .colab-df-convert {\n",
              "      background-color: #E8F0FE;\n",
              "      border: none;\n",
              "      border-radius: 50%;\n",
              "      cursor: pointer;\n",
              "      display: none;\n",
              "      fill: #1967D2;\n",
              "      height: 32px;\n",
              "      padding: 0 0 0 0;\n",
              "      width: 32px;\n",
              "    }\n",
              "\n",
              "    .colab-df-convert:hover {\n",
              "      background-color: #E2EBFA;\n",
              "      box-shadow: 0px 1px 2px rgba(60, 64, 67, 0.3), 0px 1px 3px 1px rgba(60, 64, 67, 0.15);\n",
              "      fill: #174EA6;\n",
              "    }\n",
              "\n",
              "    [theme=dark] .colab-df-convert {\n",
              "      background-color: #3B4455;\n",
              "      fill: #D2E3FC;\n",
              "    }\n",
              "\n",
              "    [theme=dark] .colab-df-convert:hover {\n",
              "      background-color: #434B5C;\n",
              "      box-shadow: 0px 1px 3px 1px rgba(0, 0, 0, 0.15);\n",
              "      filter: drop-shadow(0px 1px 2px rgba(0, 0, 0, 0.3));\n",
              "      fill: #FFFFFF;\n",
              "    }\n",
              "  </style>\n",
              "\n",
              "      <script>\n",
              "        const buttonEl =\n",
              "          document.querySelector('#df-561e8e15-be9a-4218-95ce-7c9257054f37 button.colab-df-convert');\n",
              "        buttonEl.style.display =\n",
              "          google.colab.kernel.accessAllowed ? 'block' : 'none';\n",
              "\n",
              "        async function convertToInteractive(key) {\n",
              "          const element = document.querySelector('#df-561e8e15-be9a-4218-95ce-7c9257054f37');\n",
              "          const dataTable =\n",
              "            await google.colab.kernel.invokeFunction('convertToInteractive',\n",
              "                                                     [key], {});\n",
              "          if (!dataTable) return;\n",
              "\n",
              "          const docLinkHtml = 'Like what you see? Visit the ' +\n",
              "            '<a target=\"_blank\" href=https://colab.research.google.com/notebooks/data_table.ipynb>data table notebook</a>'\n",
              "            + ' to learn more about interactive tables.';\n",
              "          element.innerHTML = '';\n",
              "          dataTable['output_type'] = 'display_data';\n",
              "          await google.colab.output.renderOutput(dataTable, element);\n",
              "          const docLink = document.createElement('div');\n",
              "          docLink.innerHTML = docLinkHtml;\n",
              "          element.appendChild(docLink);\n",
              "        }\n",
              "      </script>\n",
              "    </div>\n",
              "  </div>\n",
              "  "
            ]
          },
          "metadata": {},
          "execution_count": 4
        }
      ]
    },
    {
      "cell_type": "markdown",
      "metadata": {
        "id": "S5e37713o8iA"
      },
      "source": [
        "We are going to learn a model that can recognize those reviews with positive sentiment form those with negative sentiment. Start by splitting the data into test and training sets (use the first 20,000 items for the training data and the rest for the test data).\n",
        "\n",
        "<span style=\"font-weight:bold; color:green;\">&rarr; Split the data into test and training <span/>"
      ]
    },
    {
      "cell_type": "code",
      "metadata": {
        "id": "INO7y8dKo8iB"
      },
      "source": [
        "data.drop([\"id\"], axis = 1)\n",
        "train_data = data[:20000]\n",
        "test_data = data[20000:]"
      ],
      "execution_count": null,
      "outputs": []
    },
    {
      "cell_type": "markdown",
      "metadata": {
        "id": "6vHVmAxVo8iC"
      },
      "source": [
        "Ok, as before the next step is to vectorize our text data - let's do that next with a simple Count Vectorizer (and examine how much TF-IDF can improve things later).\n",
        "\n",
        "<span style=\"font-weight:bold; color:green;\">&rarr; Complete the following code <span/>"
      ]
    },
    {
      "cell_type": "code",
      "metadata": {
        "colab": {
          "base_uri": "https://localhost:8080/"
        },
        "id": "7dIqjKzOo8iD",
        "outputId": "85a3fd19-78db-4406-ce90-68439d14d9c5"
      },
      "source": [
        "import nltk\n",
        "from sklearn.feature_extraction.text import CountVectorizer\n",
        "\n",
        "#-- create our vectorizer object, ready to fit and\n",
        "#-- transform our data into a vector space format\n",
        "vectorizer = CountVectorizer()\n",
        "\n",
        "#-- setup the model's feature space using our training data\n",
        "vectorizer.fit(train_data.review)\n",
        "\n",
        "#-- and then convert the training data set into vector format\n",
        "train_features = vectorizer.transform(train_data.review)\n",
        "\n",
        "#-- while we are here, convert our test dataset in the same way\n",
        "test_features = vectorizer.transform(test_data.review)\n",
        "\n",
        "print(\"Training and test data successfully vectorized\")"
      ],
      "execution_count": null,
      "outputs": [
        {
          "output_type": "stream",
          "text": [
            "Training and test data successfully vectorized\n"
          ],
          "name": "stdout"
        }
      ]
    },
    {
      "cell_type": "markdown",
      "metadata": {
        "id": "zdG896h-o8iF"
      },
      "source": [
        "Now let's create a model that will understand how sentiment is constructed out of text in some way. For this job we could use any classifier, but given Naive Bayes models have historically been used in text analysis, let's maintain that tradition here:"
      ]
    },
    {
      "cell_type": "code",
      "metadata": {
        "colab": {
          "base_uri": "https://localhost:8080/"
        },
        "id": "wVwkLWz1o8iG",
        "outputId": "43befd65-4a62-4706-8a24-6ceab2a373ba"
      },
      "source": [
        "#-- let's use a multinomial naive bayes classifer\n",
        "from sklearn.naive_bayes import BernoulliNB\n",
        "\n",
        "NB = BernoulliNB()\n",
        "\n",
        "#-- fit the model to our training data - note in this step the model is\n",
        "#-- finding the relationship between word frequencies and the sentiment\n",
        "#-- of each review\n",
        "NB.fit(train_features, train_data.sentiment)\n",
        "print(\"Linguistic Model successfuly created\")"
      ],
      "execution_count": null,
      "outputs": [
        {
          "output_type": "stream",
          "text": [
            "Linguistic Model successfuly created\n"
          ],
          "name": "stdout"
        }
      ]
    },
    {
      "cell_type": "markdown",
      "metadata": {
        "id": "VqsoKky5o8iH"
      },
      "source": [
        "Now let's see how well our model works, by testing it on our holdout dataset (note that we would normally cross-validate here to get a more representative score, but a single holdout test is fine for now):"
      ]
    },
    {
      "cell_type": "code",
      "metadata": {
        "colab": {
          "base_uri": "https://localhost:8080/"
        },
        "id": "Jibi_LFto8iI",
        "outputId": "ad9f8931-a97b-4e68-bb68-b182d0bbe62c"
      },
      "source": [
        "#-- generate some predictions\n",
        "results = NB.predict_proba(test_features)\n",
        "print(results)"
      ],
      "execution_count": null,
      "outputs": [
        {
          "output_type": "stream",
          "text": [
            "[[5.78165233e-01 4.21834767e-01]\n",
            " [9.93375916e-01 6.62408434e-03]\n",
            " [1.25287276e-02 9.87471272e-01]\n",
            " ...\n",
            " [9.99879156e-01 1.20843866e-04]\n",
            " [3.06619208e-01 6.93380792e-01]\n",
            " [4.53248215e-05 9.99954675e-01]]\n"
          ],
          "name": "stdout"
        }
      ]
    },
    {
      "cell_type": "markdown",
      "metadata": {
        "id": "L3kgbdIAo8iJ"
      },
      "source": [
        "The results come in two columns for each review - the first column is the probability that it is a negative review, and the second if it is a positive review. We can come up with an actual prediction of whether the review contains positive sentiment or not by seeing if the second column is > 0.5 or not (our threshold):"
      ]
    },
    {
      "cell_type": "code",
      "metadata": {
        "colab": {
          "base_uri": "https://localhost:8080/"
        },
        "id": "OaWxkCzio8iJ",
        "outputId": "3271993f-f40e-4fa9-e17b-b5d3e28f13f2"
      },
      "source": [
        "#-- note the neat syntax here: First we index the result's second column using\n",
        "#-- [:,1] and then we test if it is more than 0.5 and hence a positive review\n",
        "predictions = results[:,1] > 0.5\n",
        "\n",
        "#-- the columns which were more than 0.5 are designated as True\n",
        "print(predictions)"
      ],
      "execution_count": null,
      "outputs": [
        {
          "output_type": "stream",
          "text": [
            "[False False  True ... False  True  True]\n"
          ],
          "name": "stdout"
        }
      ]
    },
    {
      "cell_type": "code",
      "metadata": {
        "colab": {
          "base_uri": "https://localhost:8080/"
        },
        "id": "dG5_WJgGo8iK",
        "outputId": "91891d7c-7c29-44ab-fcf6-4cc3a09cd9e2"
      },
      "source": [
        "from sklearn.metrics import accuracy_score\n",
        "\n",
        "acc = accuracy_score(test_data.sentiment, predictions)\n",
        "print(\"We predicted the sentiment of {0:.01f}% of reviews correctly\".format(acc*100))"
      ],
      "execution_count": null,
      "outputs": [
        {
          "output_type": "stream",
          "text": [
            "We predicted the sentiment of 84.7% of reviews correctly\n"
          ],
          "name": "stdout"
        }
      ]
    },
    {
      "cell_type": "markdown",
      "metadata": {
        "id": "cTJAnhiqo8iL"
      },
      "source": [
        "84% is not bad at all, given we are using a simple and quick bag of words approach. In fact this is no doubt good enough for the business task, and we could start applying the model to our own reviews. In fact let's try some:"
      ]
    },
    {
      "cell_type": "code",
      "metadata": {
        "colab": {
          "base_uri": "https://localhost:8080/"
        },
        "id": "gCpnVz1ho8iM",
        "outputId": "27a19517-0e22-44a3-9a5b-d167c6bfafb1"
      },
      "source": [
        "#-- create some test \"reviews\"\n",
        "test_reviews = [\n",
        "    \"I'm not sure about this advert - it is selling a bad brand!\",\n",
        "    \"I love this advert - it is selling a good brand!\",\n",
        "    \"This is excellent work\",\n",
        "    \"What is this rubbish?\",\n",
        "    \"Please save us from this nonsense\",\n",
        "    \"I enjoyed watching this\",\n",
        "    \"I wanted to say this advert is bad, but I can't - just the opposite in fact!\"\n",
        "]\n",
        "\n",
        "#-- vectorize it\n",
        "vec_test = vectorizer.transform( test_reviews )\n",
        "\n",
        "#-- Run it through your NB sentiment analyser\n",
        "results = NB.predict_proba(vec_test)\n",
        "\n",
        "#-- Examine the sentiment the model detects\n",
        "for t, r in zip(test_reviews, results):\n",
        "    if r[1] > 0.5:\n",
        "        print(t, \"--> POSITIVE REVIEW\")\n",
        "    else:\n",
        "        print(t, \"--> NEGATIVE REVIEW\")"
      ],
      "execution_count": null,
      "outputs": [
        {
          "output_type": "stream",
          "text": [
            "I'm not sure about this advert - it is selling a bad brand! --> NEGATIVE REVIEW\n",
            "I love this advert - it is selling a good brand! --> NEGATIVE REVIEW\n",
            "This is excellent work --> POSITIVE REVIEW\n",
            "What is this rubbish? --> POSITIVE REVIEW\n",
            "Please save us from this nonsense --> NEGATIVE REVIEW\n",
            "I enjoyed watching this --> NEGATIVE REVIEW\n",
            "I wanted to say this advert is bad, but I can't - just the opposite in fact! --> NEGATIVE REVIEW\n"
          ],
          "name": "stdout"
        }
      ]
    },
    {
      "cell_type": "markdown",
      "metadata": {
        "id": "rru0r-r8o8iN"
      },
      "source": [
        "Not bad! Notice how almost all the reviews are categorized correctly... apart from the last one. With some carefully worded phrasing, we have tricked our model. Nonetheless even with a simple bag of words approach we have a useful tool for the business, which we can now use to track the companies influence.\n",
        "\n",
        "However, we can do better as we've omitted some useful steps. Your challenge is now to see how much you can improve the results this model by implementing:\n",
        "> * Stopping\n",
        "> * Stemming\n",
        "> * Case Folding\n",
        "> * and a TfifdVectorizer()\n",
        "\n",
        "Also consider:\n",
        "> * What can you find out about the important features (i.e. which words are most influential?)\n",
        "> * Can you design a query that fools the model? - tip. consider including negative words even though the review is good...\n",
        "\n",
        "Good luck! And ask for help if you run out of ideas."
      ]
    },
    {
      "cell_type": "code",
      "metadata": {
        "id": "yW15x1U6o8iP"
      },
      "source": [
        "#-- Use the previous tutorials to do all of the\n",
        "#-- above and try and build a better 'sentiment analyser'\n",
        "#-- (i.e. one that manages to get any improvment at all on 84.7% accuracy!)\n",
        "\n",
        "# BONNE CHANCE"
      ],
      "execution_count": null,
      "outputs": []
    },
    {
      "cell_type": "code",
      "metadata": {
        "id": "hw4-WQmN_CJS"
      },
      "source": [],
      "execution_count": null,
      "outputs": []
    }
  ]
}