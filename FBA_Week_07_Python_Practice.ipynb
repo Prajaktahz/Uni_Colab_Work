{
  "nbformat": 4,
  "nbformat_minor": 0,
  "metadata": {
    "colab": {
      "provenance": [],
      "include_colab_link": true
    },
    "kernelspec": {
      "name": "python3",
      "display_name": "Python 3"
    },
    "language_info": {
      "name": "python"
    }
  },
  "cells": [
    {
      "cell_type": "markdown",
      "metadata": {
        "id": "view-in-github",
        "colab_type": "text"
      },
      "source": [
        "<a href=\"https://colab.research.google.com/github/Prajaktahz/Uni_Colab_Work/blob/main/FBA_Week_07_Python_Practice.ipynb\" target=\"_parent\"><img src=\"https://colab.research.google.com/assets/colab-badge.svg\" alt=\"Open In Colab\"/></a>"
      ]
    },
    {
      "cell_type": "markdown",
      "source": [
        "![alt text](http://www.cs.nott.ac.uk/~pszgss/teaching/nlab.png)\n",
        "# FBA Computing Session Week 7:\n",
        "\n",
        "**Python Revision + Sklearn**\n",
        "\n",
        "The aim of this tutorial is to cover a number of important concepts we have learned so far in view of the upcoming test. You will be writing loops, functions, conditions as well as creating lists and dictionaries.\n",
        "\n",
        "After that we will focus on the use of libraries to ease our task, starting with Pandas to load and pre-process our data before moving to Sklearn to do our first machine learning task in Python, a linear regression!\n",
        "\n",
        "As in the previous tutorial, we will be using the **admissions.csv** file (available from the moodle page). This file describes people who are applying for a postgraduate degree at a US university, and indicates 3 relevant features about an applicant… as well as whether they got into to the masters or PhD course they were applying for when they were selected by hand (note that if we were doing a full analytics project, this would be our target class!):\n",
        "\n",
        "* The dataset has a binary output feature (i.e. dependent variable) called \"admit\".\n",
        "* There are three predictor variables: gre, gpa and ranking.\n",
        "* Variables gre (a exam result score) and gpa (the person’s grade point average) are continuous.\n",
        "* The variable ranking takes on the values 1 through 4. Institutions with a rank of 1 have the highest prestige, while those with a rank of 4 have the lowest.\n",
        "\n",
        "Let's get started, first by doing a lot of the grunt work ourselves!\n",
        "\n",
        "### A little tip for when you develop a new function"
      ],
      "metadata": {
        "id": "-5K2jAD1wX2Y"
      }
    },
    {
      "cell_type": "code",
      "source": [
        "# When you write a new function definition you can\n",
        "# add some function calls just after to check how\n",
        "# it behaves with some expected values\n",
        "def my_sum(a, b):\n",
        "    return a + b\n",
        "\n",
        "print(my_sum(0, 2))\n",
        "print(my_sum(-3, 1))\n",
        "print(my_sum(4, 6))"
      ],
      "metadata": {
        "id": "qbMkekEaFeFK",
        "colab": {
          "base_uri": "https://localhost:8080/"
        },
        "outputId": "34ec6b8e-6dcf-4d96-d273-25ae22c62559"
      },
      "execution_count": 1,
      "outputs": [
        {
          "output_type": "stream",
          "name": "stdout",
          "text": [
            "2\n",
            "-2\n",
            "10\n"
          ]
        }
      ]
    },
    {
      "cell_type": "markdown",
      "source": [
        "## Python Revision\n",
        "\n",
        "### Step A1 - Write a function to count the number of lines in a file\n",
        "\n",
        "Your function will take a parameter **filename** containing the path of the file to open and read. It will return the number of lines in the file."
      ],
      "metadata": {
        "id": "cnKaUJ2PWQdJ"
      }
    },
    {
      "cell_type": "code",
      "source": [
        "!wget -O week5_data.zip \"https://drive.google.com/uc?export=download&id=18C-_-ojwxWq2HztrJaSBkQkrwvpMPszZ\"\n",
        "!unzip week5_data.zip"
      ],
      "metadata": {
        "colab": {
          "base_uri": "https://localhost:8080/"
        },
        "id": "eSuYcaBAA3vv",
        "outputId": "2d0c2945-b75a-41a3-f3f8-cc4fe27c308f"
      },
      "execution_count": 2,
      "outputs": [
        {
          "output_type": "stream",
          "name": "stdout",
          "text": [
            "--2023-11-13 13:51:03--  https://drive.google.com/uc?export=download&id=18C-_-ojwxWq2HztrJaSBkQkrwvpMPszZ\n",
            "Resolving drive.google.com (drive.google.com)... 74.125.135.100, 74.125.135.138, 74.125.135.101, ...\n",
            "Connecting to drive.google.com (drive.google.com)|74.125.135.100|:443... connected.\n",
            "HTTP request sent, awaiting response... 303 See Other\n",
            "Location: https://doc-14-80-docs.googleusercontent.com/docs/securesc/ha0ro937gcuc7l7deffksulhg5h7mbp1/3g7os8g4u90avcpbisqou8phpcktugcg/1699883400000/02584936932483403665/*/18C-_-ojwxWq2HztrJaSBkQkrwvpMPszZ?e=download&uuid=648611e8-6985-4581-b9b7-3753c9b6cd76 [following]\n",
            "Warning: wildcards not supported in HTTP.\n",
            "--2023-11-13 13:51:04--  https://doc-14-80-docs.googleusercontent.com/docs/securesc/ha0ro937gcuc7l7deffksulhg5h7mbp1/3g7os8g4u90avcpbisqou8phpcktugcg/1699883400000/02584936932483403665/*/18C-_-ojwxWq2HztrJaSBkQkrwvpMPszZ?e=download&uuid=648611e8-6985-4581-b9b7-3753c9b6cd76\n",
            "Resolving doc-14-80-docs.googleusercontent.com (doc-14-80-docs.googleusercontent.com)... 74.125.20.132, 2607:f8b0:400e:c07::84\n",
            "Connecting to doc-14-80-docs.googleusercontent.com (doc-14-80-docs.googleusercontent.com)|74.125.20.132|:443... connected.\n",
            "HTTP request sent, awaiting response... 200 OK\n",
            "Length: 9877 (9.6K) [application/x-zip-compressed]\n",
            "Saving to: ‘week5_data.zip’\n",
            "\n",
            "week5_data.zip      100%[===================>]   9.65K  --.-KB/s    in 0s      \n",
            "\n",
            "2023-11-13 13:51:04 (53.3 MB/s) - ‘week5_data.zip’ saved [9877/9877]\n",
            "\n",
            "Archive:  week5_data.zip\n",
            "  inflating: admissions.csv          \n",
            "  inflating: ice_cream_sales.csv     \n",
            "  inflating: occupation.csv          \n"
          ]
        }
      ]
    },
    {
      "cell_type": "code",
      "execution_count": 3,
      "metadata": {
        "id": "9_jSV9rWGnaM",
        "colab": {
          "base_uri": "https://localhost:8080/"
        },
        "outputId": "523baaa9-e72d-4252-e15d-680ebb6fdb5c"
      },
      "outputs": [
        {
          "output_type": "execute_result",
          "data": {
            "text/plain": [
              "401"
            ]
          },
          "metadata": {},
          "execution_count": 3
        }
      ],
      "source": [
        "# be careful with you file path!!\n",
        "# your code here\n",
        "def count_lines(filename):\n",
        "  lines = 0\n",
        "  with open(filename, 'r') as f:\n",
        "    for line in f:\n",
        "      lines += 1\n",
        "  return lines\n",
        "\n",
        "count_lines('admissions.csv')"
      ]
    },
    {
      "cell_type": "markdown",
      "source": [
        "### Step A2 - Loading the data manually\n",
        "\n",
        "Our goal is to write ourselves a data loader for the file **admissions.csv**. To do that, we are going to go, step by step. The first step is to write a function that can process one line of our file (e.g. *'0,380,3.61,3'*)  and transform it into a dictionary.\n",
        "\n",
        "Write a function **data_to_dict( )** with the following requirements:\n",
        "- Parameter: txt (type string)\n",
        "- Purpose : The function should create a new dictionary containing the keys **admit**, **gpa**, **gre** and **ranking**, and be populated from the string passed as a parameter. You will need to manipulate the string to extract the different values. We also want to transform the admit value to True when it is equal to 1 and False when it is equal to 0 so that we have a boolean type. For the other fields, use the data types that you feel are the most appropriate.\n",
        "- Returns: The populated dictionary"
      ],
      "metadata": {
        "id": "H1vrOjejFfIW"
      }
    },
    {
      "cell_type": "code",
      "source": [
        "# your code here for data_to_dict() function\n",
        "def data_to_dict(data):\n",
        "  data = data.split(',')\n",
        "  admission_dict ={}\n",
        "  admission_dict['admit'] = True if data[0] == '1' else False\n",
        "  admission_dict['gre'] = int(data[1])\n",
        "  admission_dict['gpa'] = float(data[2])\n",
        "  admission_dict['ranking'] = int(data[3])\n",
        "  return admission_dict\n",
        "\n",
        "print(data_to_dict('0,380,3.61,3')) # You should have: {'admit': False, 'gre': 380, 'gpa': 3.61, 'ranking': 3}\n",
        "print(data_to_dict('1,640,3.19,4')) # You should have: {'admit': True, 'gre': 640, 'gpa': 3.19, 'ranking': 4}"
      ],
      "metadata": {
        "id": "ZwGTYjolJDmJ",
        "colab": {
          "base_uri": "https://localhost:8080/"
        },
        "outputId": "39c590f3-f365-4512-ec10-9a5468cfc76d"
      },
      "execution_count": 4,
      "outputs": [
        {
          "output_type": "stream",
          "name": "stdout",
          "text": [
            "{'admit': False, 'gre': 380, 'gpa': 3.61, 'ranking': 3}\n",
            "{'admit': True, 'gre': 640, 'gpa': 3.19, 'ranking': 4}\n"
          ]
        }
      ]
    },
    {
      "cell_type": "markdown",
      "source": [
        "### Step A3 - Collating our data\n",
        "\n",
        "We now have a function that can take a line of our **admissions.csv** file and return us a nicely populated dictionary. If we do that for all the lines, we can create a list containing all these dictionaries and have our data structured. Let's give it a go!\n",
        "\n",
        "***As always, check what the text file you are trying to load is looking like. It is extremly common for first few lines to have a different structure that you will need to accomodate for (or discard). (TIP: you can use array indexes or a counter for example to skip specific lines)***"
      ],
      "metadata": {
        "id": "CPVP1C2Qkm6Q"
      }
    },
    {
      "cell_type": "code",
      "source": [
        "# your code here\n",
        "list_admission = []\n",
        "with open('admissions.csv', 'r') as f:\n",
        "  next(f)\n",
        "  for line in f:\n",
        "    list_admission.append(data_to_dict(line))\n",
        "\n",
        "print(list_admission)\n",
        "print(len(list_admission))"
      ],
      "metadata": {
        "id": "qyMmpw4_kpeS",
        "colab": {
          "base_uri": "https://localhost:8080/"
        },
        "outputId": "4b5c775a-8c26-4aee-d9d7-83b7d93791ae"
      },
      "execution_count": 5,
      "outputs": [
        {
          "output_type": "stream",
          "name": "stdout",
          "text": [
            "[{'admit': False, 'gre': 380, 'gpa': 3.61, 'ranking': 3}, {'admit': True, 'gre': 660, 'gpa': 3.67, 'ranking': 3}, {'admit': True, 'gre': 800, 'gpa': 4.0, 'ranking': 1}, {'admit': True, 'gre': 640, 'gpa': 3.19, 'ranking': 4}, {'admit': False, 'gre': 520, 'gpa': 2.93, 'ranking': 4}, {'admit': True, 'gre': 760, 'gpa': 3.0, 'ranking': 2}, {'admit': True, 'gre': 560, 'gpa': 2.98, 'ranking': 1}, {'admit': False, 'gre': 400, 'gpa': 3.08, 'ranking': 2}, {'admit': True, 'gre': 540, 'gpa': 3.39, 'ranking': 3}, {'admit': False, 'gre': 700, 'gpa': 3.92, 'ranking': 2}, {'admit': False, 'gre': 800, 'gpa': 4.0, 'ranking': 4}, {'admit': False, 'gre': 440, 'gpa': 3.22, 'ranking': 1}, {'admit': True, 'gre': 760, 'gpa': 4.0, 'ranking': 1}, {'admit': False, 'gre': 700, 'gpa': 3.08, 'ranking': 2}, {'admit': True, 'gre': 700, 'gpa': 4.0, 'ranking': 1}, {'admit': False, 'gre': 480, 'gpa': 3.44, 'ranking': 3}, {'admit': False, 'gre': 780, 'gpa': 3.87, 'ranking': 4}, {'admit': False, 'gre': 360, 'gpa': 2.56, 'ranking': 3}, {'admit': False, 'gre': 800, 'gpa': 3.75, 'ranking': 2}, {'admit': True, 'gre': 540, 'gpa': 3.81, 'ranking': 1}, {'admit': False, 'gre': 500, 'gpa': 3.17, 'ranking': 3}, {'admit': True, 'gre': 660, 'gpa': 3.63, 'ranking': 2}, {'admit': False, 'gre': 600, 'gpa': 2.82, 'ranking': 4}, {'admit': False, 'gre': 680, 'gpa': 3.19, 'ranking': 4}, {'admit': True, 'gre': 760, 'gpa': 3.35, 'ranking': 2}, {'admit': True, 'gre': 800, 'gpa': 3.66, 'ranking': 1}, {'admit': True, 'gre': 620, 'gpa': 3.61, 'ranking': 1}, {'admit': True, 'gre': 520, 'gpa': 3.74, 'ranking': 4}, {'admit': True, 'gre': 780, 'gpa': 3.22, 'ranking': 2}, {'admit': False, 'gre': 520, 'gpa': 3.29, 'ranking': 1}, {'admit': False, 'gre': 540, 'gpa': 3.78, 'ranking': 4}, {'admit': False, 'gre': 760, 'gpa': 3.35, 'ranking': 3}, {'admit': False, 'gre': 600, 'gpa': 3.4, 'ranking': 3}, {'admit': True, 'gre': 800, 'gpa': 4.0, 'ranking': 3}, {'admit': False, 'gre': 360, 'gpa': 3.14, 'ranking': 1}, {'admit': False, 'gre': 400, 'gpa': 3.05, 'ranking': 2}, {'admit': False, 'gre': 580, 'gpa': 3.25, 'ranking': 1}, {'admit': False, 'gre': 520, 'gpa': 2.9, 'ranking': 3}, {'admit': True, 'gre': 500, 'gpa': 3.13, 'ranking': 2}, {'admit': True, 'gre': 520, 'gpa': 2.68, 'ranking': 3}, {'admit': False, 'gre': 560, 'gpa': 2.42, 'ranking': 2}, {'admit': True, 'gre': 580, 'gpa': 3.32, 'ranking': 2}, {'admit': True, 'gre': 600, 'gpa': 3.15, 'ranking': 2}, {'admit': False, 'gre': 500, 'gpa': 3.31, 'ranking': 3}, {'admit': False, 'gre': 700, 'gpa': 2.94, 'ranking': 2}, {'admit': True, 'gre': 460, 'gpa': 3.45, 'ranking': 3}, {'admit': True, 'gre': 580, 'gpa': 3.46, 'ranking': 2}, {'admit': False, 'gre': 500, 'gpa': 2.97, 'ranking': 4}, {'admit': False, 'gre': 440, 'gpa': 2.48, 'ranking': 4}, {'admit': False, 'gre': 400, 'gpa': 3.35, 'ranking': 3}, {'admit': False, 'gre': 640, 'gpa': 3.86, 'ranking': 3}, {'admit': False, 'gre': 440, 'gpa': 3.13, 'ranking': 4}, {'admit': False, 'gre': 740, 'gpa': 3.37, 'ranking': 4}, {'admit': True, 'gre': 680, 'gpa': 3.27, 'ranking': 2}, {'admit': False, 'gre': 660, 'gpa': 3.34, 'ranking': 3}, {'admit': True, 'gre': 740, 'gpa': 4.0, 'ranking': 3}, {'admit': False, 'gre': 560, 'gpa': 3.19, 'ranking': 3}, {'admit': False, 'gre': 380, 'gpa': 2.94, 'ranking': 3}, {'admit': False, 'gre': 400, 'gpa': 3.65, 'ranking': 2}, {'admit': False, 'gre': 600, 'gpa': 2.82, 'ranking': 4}, {'admit': True, 'gre': 620, 'gpa': 3.18, 'ranking': 2}, {'admit': False, 'gre': 560, 'gpa': 3.32, 'ranking': 4}, {'admit': False, 'gre': 640, 'gpa': 3.67, 'ranking': 3}, {'admit': True, 'gre': 680, 'gpa': 3.85, 'ranking': 3}, {'admit': False, 'gre': 580, 'gpa': 4.0, 'ranking': 3}, {'admit': False, 'gre': 600, 'gpa': 3.59, 'ranking': 2}, {'admit': False, 'gre': 740, 'gpa': 3.62, 'ranking': 4}, {'admit': False, 'gre': 620, 'gpa': 3.3, 'ranking': 1}, {'admit': False, 'gre': 580, 'gpa': 3.69, 'ranking': 1}, {'admit': False, 'gre': 800, 'gpa': 3.73, 'ranking': 1}, {'admit': False, 'gre': 640, 'gpa': 4.0, 'ranking': 3}, {'admit': False, 'gre': 300, 'gpa': 2.92, 'ranking': 4}, {'admit': False, 'gre': 480, 'gpa': 3.39, 'ranking': 4}, {'admit': False, 'gre': 580, 'gpa': 4.0, 'ranking': 2}, {'admit': False, 'gre': 720, 'gpa': 3.45, 'ranking': 4}, {'admit': False, 'gre': 720, 'gpa': 4.0, 'ranking': 3}, {'admit': False, 'gre': 560, 'gpa': 3.36, 'ranking': 3}, {'admit': True, 'gre': 800, 'gpa': 4.0, 'ranking': 3}, {'admit': False, 'gre': 540, 'gpa': 3.12, 'ranking': 1}, {'admit': True, 'gre': 620, 'gpa': 4.0, 'ranking': 1}, {'admit': False, 'gre': 700, 'gpa': 2.9, 'ranking': 4}, {'admit': False, 'gre': 620, 'gpa': 3.07, 'ranking': 2}, {'admit': False, 'gre': 500, 'gpa': 2.71, 'ranking': 2}, {'admit': False, 'gre': 380, 'gpa': 2.91, 'ranking': 4}, {'admit': True, 'gre': 500, 'gpa': 3.6, 'ranking': 3}, {'admit': False, 'gre': 520, 'gpa': 2.98, 'ranking': 2}, {'admit': False, 'gre': 600, 'gpa': 3.32, 'ranking': 2}, {'admit': False, 'gre': 600, 'gpa': 3.48, 'ranking': 2}, {'admit': False, 'gre': 700, 'gpa': 3.28, 'ranking': 1}, {'admit': True, 'gre': 660, 'gpa': 4.0, 'ranking': 2}, {'admit': False, 'gre': 700, 'gpa': 3.83, 'ranking': 2}, {'admit': True, 'gre': 720, 'gpa': 3.64, 'ranking': 1}, {'admit': False, 'gre': 800, 'gpa': 3.9, 'ranking': 2}, {'admit': False, 'gre': 580, 'gpa': 2.93, 'ranking': 2}, {'admit': True, 'gre': 660, 'gpa': 3.44, 'ranking': 2}, {'admit': False, 'gre': 660, 'gpa': 3.33, 'ranking': 2}, {'admit': False, 'gre': 640, 'gpa': 3.52, 'ranking': 4}, {'admit': False, 'gre': 480, 'gpa': 3.57, 'ranking': 2}, {'admit': False, 'gre': 700, 'gpa': 2.88, 'ranking': 2}, {'admit': False, 'gre': 400, 'gpa': 3.31, 'ranking': 3}, {'admit': False, 'gre': 340, 'gpa': 3.15, 'ranking': 3}, {'admit': False, 'gre': 580, 'gpa': 3.57, 'ranking': 3}, {'admit': False, 'gre': 380, 'gpa': 3.33, 'ranking': 4}, {'admit': False, 'gre': 540, 'gpa': 3.94, 'ranking': 3}, {'admit': True, 'gre': 660, 'gpa': 3.95, 'ranking': 2}, {'admit': True, 'gre': 740, 'gpa': 2.97, 'ranking': 2}, {'admit': True, 'gre': 700, 'gpa': 3.56, 'ranking': 1}, {'admit': False, 'gre': 480, 'gpa': 3.13, 'ranking': 2}, {'admit': False, 'gre': 400, 'gpa': 2.93, 'ranking': 3}, {'admit': False, 'gre': 480, 'gpa': 3.45, 'ranking': 2}, {'admit': False, 'gre': 680, 'gpa': 3.08, 'ranking': 4}, {'admit': False, 'gre': 420, 'gpa': 3.41, 'ranking': 4}, {'admit': False, 'gre': 360, 'gpa': 3.0, 'ranking': 3}, {'admit': False, 'gre': 600, 'gpa': 3.22, 'ranking': 1}, {'admit': False, 'gre': 720, 'gpa': 3.84, 'ranking': 3}, {'admit': False, 'gre': 620, 'gpa': 3.99, 'ranking': 3}, {'admit': True, 'gre': 440, 'gpa': 3.45, 'ranking': 2}, {'admit': False, 'gre': 700, 'gpa': 3.72, 'ranking': 2}, {'admit': True, 'gre': 800, 'gpa': 3.7, 'ranking': 1}, {'admit': False, 'gre': 340, 'gpa': 2.92, 'ranking': 3}, {'admit': True, 'gre': 520, 'gpa': 3.74, 'ranking': 2}, {'admit': True, 'gre': 480, 'gpa': 2.67, 'ranking': 2}, {'admit': False, 'gre': 520, 'gpa': 2.85, 'ranking': 3}, {'admit': False, 'gre': 500, 'gpa': 2.98, 'ranking': 3}, {'admit': False, 'gre': 720, 'gpa': 3.88, 'ranking': 3}, {'admit': False, 'gre': 540, 'gpa': 3.38, 'ranking': 4}, {'admit': True, 'gre': 600, 'gpa': 3.54, 'ranking': 1}, {'admit': False, 'gre': 740, 'gpa': 3.74, 'ranking': 4}, {'admit': False, 'gre': 540, 'gpa': 3.19, 'ranking': 2}, {'admit': False, 'gre': 460, 'gpa': 3.15, 'ranking': 4}, {'admit': True, 'gre': 620, 'gpa': 3.17, 'ranking': 2}, {'admit': False, 'gre': 640, 'gpa': 2.79, 'ranking': 2}, {'admit': False, 'gre': 580, 'gpa': 3.4, 'ranking': 2}, {'admit': False, 'gre': 500, 'gpa': 3.08, 'ranking': 3}, {'admit': False, 'gre': 560, 'gpa': 2.95, 'ranking': 2}, {'admit': False, 'gre': 500, 'gpa': 3.57, 'ranking': 3}, {'admit': False, 'gre': 560, 'gpa': 3.33, 'ranking': 4}, {'admit': False, 'gre': 700, 'gpa': 4.0, 'ranking': 3}, {'admit': False, 'gre': 620, 'gpa': 3.4, 'ranking': 2}, {'admit': True, 'gre': 600, 'gpa': 3.58, 'ranking': 1}, {'admit': False, 'gre': 640, 'gpa': 3.93, 'ranking': 2}, {'admit': True, 'gre': 700, 'gpa': 3.52, 'ranking': 4}, {'admit': False, 'gre': 620, 'gpa': 3.94, 'ranking': 4}, {'admit': False, 'gre': 580, 'gpa': 3.4, 'ranking': 3}, {'admit': False, 'gre': 580, 'gpa': 3.4, 'ranking': 4}, {'admit': False, 'gre': 380, 'gpa': 3.43, 'ranking': 3}, {'admit': False, 'gre': 480, 'gpa': 3.4, 'ranking': 2}, {'admit': False, 'gre': 560, 'gpa': 2.71, 'ranking': 3}, {'admit': True, 'gre': 480, 'gpa': 2.91, 'ranking': 1}, {'admit': False, 'gre': 740, 'gpa': 3.31, 'ranking': 1}, {'admit': True, 'gre': 800, 'gpa': 3.74, 'ranking': 1}, {'admit': False, 'gre': 400, 'gpa': 3.38, 'ranking': 2}, {'admit': True, 'gre': 640, 'gpa': 3.94, 'ranking': 2}, {'admit': False, 'gre': 580, 'gpa': 3.46, 'ranking': 3}, {'admit': False, 'gre': 620, 'gpa': 3.69, 'ranking': 3}, {'admit': True, 'gre': 580, 'gpa': 2.86, 'ranking': 4}, {'admit': False, 'gre': 560, 'gpa': 2.52, 'ranking': 2}, {'admit': True, 'gre': 480, 'gpa': 3.58, 'ranking': 1}, {'admit': False, 'gre': 660, 'gpa': 3.49, 'ranking': 2}, {'admit': False, 'gre': 700, 'gpa': 3.82, 'ranking': 3}, {'admit': False, 'gre': 600, 'gpa': 3.13, 'ranking': 2}, {'admit': False, 'gre': 640, 'gpa': 3.5, 'ranking': 2}, {'admit': True, 'gre': 700, 'gpa': 3.56, 'ranking': 2}, {'admit': False, 'gre': 520, 'gpa': 2.73, 'ranking': 2}, {'admit': False, 'gre': 580, 'gpa': 3.3, 'ranking': 2}, {'admit': False, 'gre': 700, 'gpa': 4.0, 'ranking': 1}, {'admit': False, 'gre': 440, 'gpa': 3.24, 'ranking': 4}, {'admit': False, 'gre': 720, 'gpa': 3.77, 'ranking': 3}, {'admit': False, 'gre': 500, 'gpa': 4.0, 'ranking': 3}, {'admit': False, 'gre': 600, 'gpa': 3.62, 'ranking': 3}, {'admit': False, 'gre': 400, 'gpa': 3.51, 'ranking': 3}, {'admit': False, 'gre': 540, 'gpa': 2.81, 'ranking': 3}, {'admit': False, 'gre': 680, 'gpa': 3.48, 'ranking': 3}, {'admit': True, 'gre': 800, 'gpa': 3.43, 'ranking': 2}, {'admit': False, 'gre': 500, 'gpa': 3.53, 'ranking': 4}, {'admit': True, 'gre': 620, 'gpa': 3.37, 'ranking': 2}, {'admit': False, 'gre': 520, 'gpa': 2.62, 'ranking': 2}, {'admit': True, 'gre': 620, 'gpa': 3.23, 'ranking': 3}, {'admit': False, 'gre': 620, 'gpa': 3.33, 'ranking': 3}, {'admit': False, 'gre': 300, 'gpa': 3.01, 'ranking': 3}, {'admit': False, 'gre': 620, 'gpa': 3.78, 'ranking': 3}, {'admit': False, 'gre': 500, 'gpa': 3.88, 'ranking': 4}, {'admit': False, 'gre': 700, 'gpa': 4.0, 'ranking': 2}, {'admit': True, 'gre': 540, 'gpa': 3.84, 'ranking': 2}, {'admit': False, 'gre': 500, 'gpa': 2.79, 'ranking': 4}, {'admit': False, 'gre': 800, 'gpa': 3.6, 'ranking': 2}, {'admit': False, 'gre': 560, 'gpa': 3.61, 'ranking': 3}, {'admit': False, 'gre': 580, 'gpa': 2.88, 'ranking': 2}, {'admit': False, 'gre': 560, 'gpa': 3.07, 'ranking': 2}, {'admit': False, 'gre': 500, 'gpa': 3.35, 'ranking': 2}, {'admit': True, 'gre': 640, 'gpa': 2.94, 'ranking': 2}, {'admit': False, 'gre': 800, 'gpa': 3.54, 'ranking': 3}, {'admit': False, 'gre': 640, 'gpa': 3.76, 'ranking': 3}, {'admit': False, 'gre': 380, 'gpa': 3.59, 'ranking': 4}, {'admit': True, 'gre': 600, 'gpa': 3.47, 'ranking': 2}, {'admit': False, 'gre': 560, 'gpa': 3.59, 'ranking': 2}, {'admit': False, 'gre': 660, 'gpa': 3.07, 'ranking': 3}, {'admit': True, 'gre': 400, 'gpa': 3.23, 'ranking': 4}, {'admit': False, 'gre': 600, 'gpa': 3.63, 'ranking': 3}, {'admit': False, 'gre': 580, 'gpa': 3.77, 'ranking': 4}, {'admit': False, 'gre': 800, 'gpa': 3.31, 'ranking': 3}, {'admit': True, 'gre': 580, 'gpa': 3.2, 'ranking': 2}, {'admit': True, 'gre': 700, 'gpa': 4.0, 'ranking': 1}, {'admit': False, 'gre': 420, 'gpa': 3.92, 'ranking': 4}, {'admit': True, 'gre': 600, 'gpa': 3.89, 'ranking': 1}, {'admit': True, 'gre': 780, 'gpa': 3.8, 'ranking': 3}, {'admit': False, 'gre': 740, 'gpa': 3.54, 'ranking': 1}, {'admit': True, 'gre': 640, 'gpa': 3.63, 'ranking': 1}, {'admit': False, 'gre': 540, 'gpa': 3.16, 'ranking': 3}, {'admit': False, 'gre': 580, 'gpa': 3.5, 'ranking': 2}, {'admit': False, 'gre': 740, 'gpa': 3.34, 'ranking': 4}, {'admit': False, 'gre': 580, 'gpa': 3.02, 'ranking': 2}, {'admit': False, 'gre': 460, 'gpa': 2.87, 'ranking': 2}, {'admit': False, 'gre': 640, 'gpa': 3.38, 'ranking': 3}, {'admit': True, 'gre': 600, 'gpa': 3.56, 'ranking': 2}, {'admit': True, 'gre': 660, 'gpa': 2.91, 'ranking': 3}, {'admit': False, 'gre': 340, 'gpa': 2.9, 'ranking': 1}, {'admit': True, 'gre': 460, 'gpa': 3.64, 'ranking': 1}, {'admit': False, 'gre': 460, 'gpa': 2.98, 'ranking': 1}, {'admit': True, 'gre': 560, 'gpa': 3.59, 'ranking': 2}, {'admit': False, 'gre': 540, 'gpa': 3.28, 'ranking': 3}, {'admit': False, 'gre': 680, 'gpa': 3.99, 'ranking': 3}, {'admit': True, 'gre': 480, 'gpa': 3.02, 'ranking': 1}, {'admit': False, 'gre': 800, 'gpa': 3.47, 'ranking': 3}, {'admit': False, 'gre': 800, 'gpa': 2.9, 'ranking': 2}, {'admit': True, 'gre': 720, 'gpa': 3.5, 'ranking': 3}, {'admit': False, 'gre': 620, 'gpa': 3.58, 'ranking': 2}, {'admit': False, 'gre': 540, 'gpa': 3.02, 'ranking': 4}, {'admit': False, 'gre': 480, 'gpa': 3.43, 'ranking': 2}, {'admit': True, 'gre': 720, 'gpa': 3.42, 'ranking': 2}, {'admit': False, 'gre': 580, 'gpa': 3.29, 'ranking': 4}, {'admit': False, 'gre': 600, 'gpa': 3.28, 'ranking': 3}, {'admit': False, 'gre': 380, 'gpa': 3.38, 'ranking': 2}, {'admit': False, 'gre': 420, 'gpa': 2.67, 'ranking': 3}, {'admit': True, 'gre': 800, 'gpa': 3.53, 'ranking': 1}, {'admit': False, 'gre': 620, 'gpa': 3.05, 'ranking': 2}, {'admit': True, 'gre': 660, 'gpa': 3.49, 'ranking': 2}, {'admit': False, 'gre': 480, 'gpa': 4.0, 'ranking': 2}, {'admit': False, 'gre': 500, 'gpa': 2.86, 'ranking': 4}, {'admit': False, 'gre': 700, 'gpa': 3.45, 'ranking': 3}, {'admit': False, 'gre': 440, 'gpa': 2.76, 'ranking': 2}, {'admit': True, 'gre': 520, 'gpa': 3.81, 'ranking': 1}, {'admit': True, 'gre': 680, 'gpa': 2.96, 'ranking': 3}, {'admit': False, 'gre': 620, 'gpa': 3.22, 'ranking': 2}, {'admit': False, 'gre': 540, 'gpa': 3.04, 'ranking': 1}, {'admit': False, 'gre': 800, 'gpa': 3.91, 'ranking': 3}, {'admit': False, 'gre': 680, 'gpa': 3.34, 'ranking': 2}, {'admit': False, 'gre': 440, 'gpa': 3.17, 'ranking': 2}, {'admit': False, 'gre': 680, 'gpa': 3.64, 'ranking': 3}, {'admit': False, 'gre': 640, 'gpa': 3.73, 'ranking': 3}, {'admit': False, 'gre': 660, 'gpa': 3.31, 'ranking': 4}, {'admit': False, 'gre': 620, 'gpa': 3.21, 'ranking': 4}, {'admit': True, 'gre': 520, 'gpa': 4.0, 'ranking': 2}, {'admit': True, 'gre': 540, 'gpa': 3.55, 'ranking': 4}, {'admit': True, 'gre': 740, 'gpa': 3.52, 'ranking': 4}, {'admit': False, 'gre': 640, 'gpa': 3.35, 'ranking': 3}, {'admit': True, 'gre': 520, 'gpa': 3.3, 'ranking': 2}, {'admit': True, 'gre': 620, 'gpa': 3.95, 'ranking': 3}, {'admit': False, 'gre': 520, 'gpa': 3.51, 'ranking': 2}, {'admit': False, 'gre': 640, 'gpa': 3.81, 'ranking': 2}, {'admit': False, 'gre': 680, 'gpa': 3.11, 'ranking': 2}, {'admit': False, 'gre': 440, 'gpa': 3.15, 'ranking': 2}, {'admit': True, 'gre': 520, 'gpa': 3.19, 'ranking': 3}, {'admit': True, 'gre': 620, 'gpa': 3.95, 'ranking': 3}, {'admit': True, 'gre': 520, 'gpa': 3.9, 'ranking': 3}, {'admit': False, 'gre': 380, 'gpa': 3.34, 'ranking': 3}, {'admit': False, 'gre': 560, 'gpa': 3.24, 'ranking': 4}, {'admit': True, 'gre': 600, 'gpa': 3.64, 'ranking': 3}, {'admit': True, 'gre': 680, 'gpa': 3.46, 'ranking': 2}, {'admit': False, 'gre': 500, 'gpa': 2.81, 'ranking': 3}, {'admit': True, 'gre': 640, 'gpa': 3.95, 'ranking': 2}, {'admit': False, 'gre': 540, 'gpa': 3.33, 'ranking': 3}, {'admit': True, 'gre': 680, 'gpa': 3.67, 'ranking': 2}, {'admit': False, 'gre': 660, 'gpa': 3.32, 'ranking': 1}, {'admit': False, 'gre': 520, 'gpa': 3.12, 'ranking': 2}, {'admit': True, 'gre': 600, 'gpa': 2.98, 'ranking': 2}, {'admit': False, 'gre': 460, 'gpa': 3.77, 'ranking': 3}, {'admit': True, 'gre': 580, 'gpa': 3.58, 'ranking': 1}, {'admit': True, 'gre': 680, 'gpa': 3.0, 'ranking': 4}, {'admit': True, 'gre': 660, 'gpa': 3.14, 'ranking': 2}, {'admit': False, 'gre': 660, 'gpa': 3.94, 'ranking': 2}, {'admit': False, 'gre': 360, 'gpa': 3.27, 'ranking': 3}, {'admit': False, 'gre': 660, 'gpa': 3.45, 'ranking': 4}, {'admit': False, 'gre': 520, 'gpa': 3.1, 'ranking': 4}, {'admit': True, 'gre': 440, 'gpa': 3.39, 'ranking': 2}, {'admit': False, 'gre': 600, 'gpa': 3.31, 'ranking': 4}, {'admit': True, 'gre': 800, 'gpa': 3.22, 'ranking': 1}, {'admit': True, 'gre': 660, 'gpa': 3.7, 'ranking': 4}, {'admit': False, 'gre': 800, 'gpa': 3.15, 'ranking': 4}, {'admit': False, 'gre': 420, 'gpa': 2.26, 'ranking': 4}, {'admit': True, 'gre': 620, 'gpa': 3.45, 'ranking': 2}, {'admit': False, 'gre': 800, 'gpa': 2.78, 'ranking': 2}, {'admit': False, 'gre': 680, 'gpa': 3.7, 'ranking': 2}, {'admit': False, 'gre': 800, 'gpa': 3.97, 'ranking': 1}, {'admit': False, 'gre': 480, 'gpa': 2.55, 'ranking': 1}, {'admit': False, 'gre': 520, 'gpa': 3.25, 'ranking': 3}, {'admit': False, 'gre': 560, 'gpa': 3.16, 'ranking': 1}, {'admit': False, 'gre': 460, 'gpa': 3.07, 'ranking': 2}, {'admit': False, 'gre': 540, 'gpa': 3.5, 'ranking': 2}, {'admit': False, 'gre': 720, 'gpa': 3.4, 'ranking': 3}, {'admit': False, 'gre': 640, 'gpa': 3.3, 'ranking': 2}, {'admit': True, 'gre': 660, 'gpa': 3.6, 'ranking': 3}, {'admit': True, 'gre': 400, 'gpa': 3.15, 'ranking': 2}, {'admit': True, 'gre': 680, 'gpa': 3.98, 'ranking': 2}, {'admit': False, 'gre': 220, 'gpa': 2.83, 'ranking': 3}, {'admit': False, 'gre': 580, 'gpa': 3.46, 'ranking': 4}, {'admit': True, 'gre': 540, 'gpa': 3.17, 'ranking': 1}, {'admit': False, 'gre': 580, 'gpa': 3.51, 'ranking': 2}, {'admit': False, 'gre': 540, 'gpa': 3.13, 'ranking': 2}, {'admit': False, 'gre': 440, 'gpa': 2.98, 'ranking': 3}, {'admit': False, 'gre': 560, 'gpa': 4.0, 'ranking': 3}, {'admit': False, 'gre': 660, 'gpa': 3.67, 'ranking': 2}, {'admit': False, 'gre': 660, 'gpa': 3.77, 'ranking': 3}, {'admit': True, 'gre': 520, 'gpa': 3.65, 'ranking': 4}, {'admit': False, 'gre': 540, 'gpa': 3.46, 'ranking': 4}, {'admit': True, 'gre': 300, 'gpa': 2.84, 'ranking': 2}, {'admit': True, 'gre': 340, 'gpa': 3.0, 'ranking': 2}, {'admit': True, 'gre': 780, 'gpa': 3.63, 'ranking': 4}, {'admit': True, 'gre': 480, 'gpa': 3.71, 'ranking': 4}, {'admit': False, 'gre': 540, 'gpa': 3.28, 'ranking': 1}, {'admit': False, 'gre': 460, 'gpa': 3.14, 'ranking': 3}, {'admit': False, 'gre': 460, 'gpa': 3.58, 'ranking': 2}, {'admit': False, 'gre': 500, 'gpa': 3.01, 'ranking': 4}, {'admit': False, 'gre': 420, 'gpa': 2.69, 'ranking': 2}, {'admit': False, 'gre': 520, 'gpa': 2.7, 'ranking': 3}, {'admit': False, 'gre': 680, 'gpa': 3.9, 'ranking': 1}, {'admit': False, 'gre': 680, 'gpa': 3.31, 'ranking': 2}, {'admit': True, 'gre': 560, 'gpa': 3.48, 'ranking': 2}, {'admit': False, 'gre': 580, 'gpa': 3.34, 'ranking': 2}, {'admit': False, 'gre': 500, 'gpa': 2.93, 'ranking': 4}, {'admit': False, 'gre': 740, 'gpa': 4.0, 'ranking': 3}, {'admit': False, 'gre': 660, 'gpa': 3.59, 'ranking': 3}, {'admit': False, 'gre': 420, 'gpa': 2.96, 'ranking': 1}, {'admit': False, 'gre': 560, 'gpa': 3.43, 'ranking': 3}, {'admit': True, 'gre': 460, 'gpa': 3.64, 'ranking': 3}, {'admit': True, 'gre': 620, 'gpa': 3.71, 'ranking': 1}, {'admit': False, 'gre': 520, 'gpa': 3.15, 'ranking': 3}, {'admit': False, 'gre': 620, 'gpa': 3.09, 'ranking': 4}, {'admit': False, 'gre': 540, 'gpa': 3.2, 'ranking': 1}, {'admit': True, 'gre': 660, 'gpa': 3.47, 'ranking': 3}, {'admit': False, 'gre': 500, 'gpa': 3.23, 'ranking': 4}, {'admit': True, 'gre': 560, 'gpa': 2.65, 'ranking': 3}, {'admit': False, 'gre': 500, 'gpa': 3.95, 'ranking': 4}, {'admit': False, 'gre': 580, 'gpa': 3.06, 'ranking': 2}, {'admit': False, 'gre': 520, 'gpa': 3.35, 'ranking': 3}, {'admit': False, 'gre': 500, 'gpa': 3.03, 'ranking': 3}, {'admit': False, 'gre': 600, 'gpa': 3.35, 'ranking': 2}, {'admit': False, 'gre': 580, 'gpa': 3.8, 'ranking': 2}, {'admit': False, 'gre': 400, 'gpa': 3.36, 'ranking': 2}, {'admit': False, 'gre': 620, 'gpa': 2.85, 'ranking': 2}, {'admit': True, 'gre': 780, 'gpa': 4.0, 'ranking': 2}, {'admit': False, 'gre': 620, 'gpa': 3.43, 'ranking': 3}, {'admit': True, 'gre': 580, 'gpa': 3.12, 'ranking': 3}, {'admit': False, 'gre': 700, 'gpa': 3.52, 'ranking': 2}, {'admit': True, 'gre': 540, 'gpa': 3.78, 'ranking': 2}, {'admit': True, 'gre': 760, 'gpa': 2.81, 'ranking': 1}, {'admit': False, 'gre': 700, 'gpa': 3.27, 'ranking': 2}, {'admit': False, 'gre': 720, 'gpa': 3.31, 'ranking': 1}, {'admit': True, 'gre': 560, 'gpa': 3.69, 'ranking': 3}, {'admit': False, 'gre': 720, 'gpa': 3.94, 'ranking': 3}, {'admit': True, 'gre': 520, 'gpa': 4.0, 'ranking': 1}, {'admit': True, 'gre': 540, 'gpa': 3.49, 'ranking': 1}, {'admit': False, 'gre': 680, 'gpa': 3.14, 'ranking': 2}, {'admit': False, 'gre': 460, 'gpa': 3.44, 'ranking': 2}, {'admit': True, 'gre': 560, 'gpa': 3.36, 'ranking': 1}, {'admit': False, 'gre': 480, 'gpa': 2.78, 'ranking': 3}, {'admit': False, 'gre': 460, 'gpa': 2.93, 'ranking': 3}, {'admit': False, 'gre': 620, 'gpa': 3.63, 'ranking': 3}, {'admit': False, 'gre': 580, 'gpa': 4.0, 'ranking': 1}, {'admit': False, 'gre': 800, 'gpa': 3.89, 'ranking': 2}, {'admit': True, 'gre': 540, 'gpa': 3.77, 'ranking': 2}, {'admit': True, 'gre': 680, 'gpa': 3.76, 'ranking': 3}, {'admit': True, 'gre': 680, 'gpa': 2.42, 'ranking': 1}, {'admit': True, 'gre': 620, 'gpa': 3.37, 'ranking': 1}, {'admit': False, 'gre': 560, 'gpa': 3.78, 'ranking': 2}, {'admit': False, 'gre': 560, 'gpa': 3.49, 'ranking': 4}, {'admit': False, 'gre': 620, 'gpa': 3.63, 'ranking': 2}, {'admit': True, 'gre': 800, 'gpa': 4.0, 'ranking': 2}, {'admit': False, 'gre': 640, 'gpa': 3.12, 'ranking': 3}, {'admit': False, 'gre': 540, 'gpa': 2.7, 'ranking': 2}, {'admit': False, 'gre': 700, 'gpa': 3.65, 'ranking': 2}, {'admit': True, 'gre': 540, 'gpa': 3.49, 'ranking': 2}, {'admit': False, 'gre': 540, 'gpa': 3.51, 'ranking': 2}, {'admit': False, 'gre': 660, 'gpa': 4.0, 'ranking': 1}, {'admit': True, 'gre': 480, 'gpa': 2.62, 'ranking': 2}, {'admit': False, 'gre': 420, 'gpa': 3.02, 'ranking': 1}, {'admit': True, 'gre': 740, 'gpa': 3.86, 'ranking': 2}, {'admit': False, 'gre': 580, 'gpa': 3.36, 'ranking': 2}, {'admit': False, 'gre': 640, 'gpa': 3.17, 'ranking': 2}, {'admit': False, 'gre': 640, 'gpa': 3.51, 'ranking': 2}, {'admit': True, 'gre': 800, 'gpa': 3.05, 'ranking': 2}, {'admit': True, 'gre': 660, 'gpa': 3.88, 'ranking': 2}, {'admit': True, 'gre': 600, 'gpa': 3.38, 'ranking': 3}, {'admit': True, 'gre': 620, 'gpa': 3.75, 'ranking': 2}, {'admit': True, 'gre': 460, 'gpa': 3.99, 'ranking': 3}, {'admit': False, 'gre': 620, 'gpa': 4.0, 'ranking': 2}, {'admit': False, 'gre': 560, 'gpa': 3.04, 'ranking': 3}, {'admit': False, 'gre': 460, 'gpa': 2.63, 'ranking': 2}, {'admit': False, 'gre': 700, 'gpa': 3.65, 'ranking': 2}, {'admit': False, 'gre': 600, 'gpa': 3.89, 'ranking': 3}]\n",
            "400\n"
          ]
        }
      ]
    },
    {
      "cell_type": "markdown",
      "source": [
        "### Step A4 - Computing some means\n",
        "\n",
        "You should now have a list containing 400 dictionaries. As our data is nicely structured, we can fairly easily compute the mean GRE and mean GPA. That's a good practice for the test!"
      ],
      "metadata": {
        "id": "5G_wggV7kt0a"
      }
    },
    {
      "cell_type": "code",
      "source": [
        "# your code here not using NumPy\n",
        "def calculate_mean(key_value):\n",
        "  sum = 0\n",
        "  for i in list_admission:\n",
        "    #print(i['gre'])\n",
        "    sum += i[key_value]\n",
        "\n",
        "  return sum/len(list_admission)\n",
        "\n",
        "print(\"GRE mean: \", calculate_mean('gre'))\n",
        "print(\"GPA mean: \", round(calculate_mean('gpa'),4))"
      ],
      "metadata": {
        "id": "EyYswj4YkxKJ",
        "colab": {
          "base_uri": "https://localhost:8080/"
        },
        "outputId": "c3b842a3-8c35-4226-d0fc-eeaeb600755f"
      },
      "execution_count": 17,
      "outputs": [
        {
          "output_type": "stream",
          "name": "stdout",
          "text": [
            "GRE mean:  587.7\n",
            "GPA mean:  3.3899\n"
          ]
        }
      ]
    },
    {
      "cell_type": "markdown",
      "source": [
        "## Using Pandas, Numpy and Sklearn this time!\n",
        "\n",
        "### Step B1\n",
        "Using the **pandas** library and its **read_csv()** function, load the data of the file **admissions.csv** into a DataFrame."
      ],
      "metadata": {
        "id": "Nz_a1wgHk_FR"
      }
    },
    {
      "cell_type": "code",
      "source": [
        "# your code here\n",
        "import pandas as pd\n",
        "df = pd.read_csv('admissions.csv')"
      ],
      "metadata": {
        "id": "RaLk0JY2lF0B"
      },
      "execution_count": 18,
      "outputs": []
    },
    {
      "cell_type": "markdown",
      "source": [
        "### Step B2\n",
        "\n",
        "This should become a good habit, each time you load new data, check that it has been loaded correctly using the **head()** method."
      ],
      "metadata": {
        "id": "snfsfzh1lIVJ"
      }
    },
    {
      "cell_type": "code",
      "source": [
        "# your code here\n",
        "df.head()"
      ],
      "metadata": {
        "id": "FBLh9oJblPag",
        "colab": {
          "base_uri": "https://localhost:8080/",
          "height": 206
        },
        "outputId": "f2e80751-79d7-41e1-80e6-c9092c8af450"
      },
      "execution_count": 19,
      "outputs": [
        {
          "output_type": "execute_result",
          "data": {
            "text/plain": [
              "   admit  gre   gpa  ranking\n",
              "0      0  380  3.61        3\n",
              "1      1  660  3.67        3\n",
              "2      1  800  4.00        1\n",
              "3      1  640  3.19        4\n",
              "4      0  520  2.93        4"
            ],
            "text/html": [
              "\n",
              "  <div id=\"df-3287aca7-35bb-4340-8a3f-7587b0972db2\" class=\"colab-df-container\">\n",
              "    <div>\n",
              "<style scoped>\n",
              "    .dataframe tbody tr th:only-of-type {\n",
              "        vertical-align: middle;\n",
              "    }\n",
              "\n",
              "    .dataframe tbody tr th {\n",
              "        vertical-align: top;\n",
              "    }\n",
              "\n",
              "    .dataframe thead th {\n",
              "        text-align: right;\n",
              "    }\n",
              "</style>\n",
              "<table border=\"1\" class=\"dataframe\">\n",
              "  <thead>\n",
              "    <tr style=\"text-align: right;\">\n",
              "      <th></th>\n",
              "      <th>admit</th>\n",
              "      <th>gre</th>\n",
              "      <th>gpa</th>\n",
              "      <th>ranking</th>\n",
              "    </tr>\n",
              "  </thead>\n",
              "  <tbody>\n",
              "    <tr>\n",
              "      <th>0</th>\n",
              "      <td>0</td>\n",
              "      <td>380</td>\n",
              "      <td>3.61</td>\n",
              "      <td>3</td>\n",
              "    </tr>\n",
              "    <tr>\n",
              "      <th>1</th>\n",
              "      <td>1</td>\n",
              "      <td>660</td>\n",
              "      <td>3.67</td>\n",
              "      <td>3</td>\n",
              "    </tr>\n",
              "    <tr>\n",
              "      <th>2</th>\n",
              "      <td>1</td>\n",
              "      <td>800</td>\n",
              "      <td>4.00</td>\n",
              "      <td>1</td>\n",
              "    </tr>\n",
              "    <tr>\n",
              "      <th>3</th>\n",
              "      <td>1</td>\n",
              "      <td>640</td>\n",
              "      <td>3.19</td>\n",
              "      <td>4</td>\n",
              "    </tr>\n",
              "    <tr>\n",
              "      <th>4</th>\n",
              "      <td>0</td>\n",
              "      <td>520</td>\n",
              "      <td>2.93</td>\n",
              "      <td>4</td>\n",
              "    </tr>\n",
              "  </tbody>\n",
              "</table>\n",
              "</div>\n",
              "    <div class=\"colab-df-buttons\">\n",
              "\n",
              "  <div class=\"colab-df-container\">\n",
              "    <button class=\"colab-df-convert\" onclick=\"convertToInteractive('df-3287aca7-35bb-4340-8a3f-7587b0972db2')\"\n",
              "            title=\"Convert this dataframe to an interactive table.\"\n",
              "            style=\"display:none;\">\n",
              "\n",
              "  <svg xmlns=\"http://www.w3.org/2000/svg\" height=\"24px\" viewBox=\"0 -960 960 960\">\n",
              "    <path d=\"M120-120v-720h720v720H120Zm60-500h600v-160H180v160Zm220 220h160v-160H400v160Zm0 220h160v-160H400v160ZM180-400h160v-160H180v160Zm440 0h160v-160H620v160ZM180-180h160v-160H180v160Zm440 0h160v-160H620v160Z\"/>\n",
              "  </svg>\n",
              "    </button>\n",
              "\n",
              "  <style>\n",
              "    .colab-df-container {\n",
              "      display:flex;\n",
              "      gap: 12px;\n",
              "    }\n",
              "\n",
              "    .colab-df-convert {\n",
              "      background-color: #E8F0FE;\n",
              "      border: none;\n",
              "      border-radius: 50%;\n",
              "      cursor: pointer;\n",
              "      display: none;\n",
              "      fill: #1967D2;\n",
              "      height: 32px;\n",
              "      padding: 0 0 0 0;\n",
              "      width: 32px;\n",
              "    }\n",
              "\n",
              "    .colab-df-convert:hover {\n",
              "      background-color: #E2EBFA;\n",
              "      box-shadow: 0px 1px 2px rgba(60, 64, 67, 0.3), 0px 1px 3px 1px rgba(60, 64, 67, 0.15);\n",
              "      fill: #174EA6;\n",
              "    }\n",
              "\n",
              "    .colab-df-buttons div {\n",
              "      margin-bottom: 4px;\n",
              "    }\n",
              "\n",
              "    [theme=dark] .colab-df-convert {\n",
              "      background-color: #3B4455;\n",
              "      fill: #D2E3FC;\n",
              "    }\n",
              "\n",
              "    [theme=dark] .colab-df-convert:hover {\n",
              "      background-color: #434B5C;\n",
              "      box-shadow: 0px 1px 3px 1px rgba(0, 0, 0, 0.15);\n",
              "      filter: drop-shadow(0px 1px 2px rgba(0, 0, 0, 0.3));\n",
              "      fill: #FFFFFF;\n",
              "    }\n",
              "  </style>\n",
              "\n",
              "    <script>\n",
              "      const buttonEl =\n",
              "        document.querySelector('#df-3287aca7-35bb-4340-8a3f-7587b0972db2 button.colab-df-convert');\n",
              "      buttonEl.style.display =\n",
              "        google.colab.kernel.accessAllowed ? 'block' : 'none';\n",
              "\n",
              "      async function convertToInteractive(key) {\n",
              "        const element = document.querySelector('#df-3287aca7-35bb-4340-8a3f-7587b0972db2');\n",
              "        const dataTable =\n",
              "          await google.colab.kernel.invokeFunction('convertToInteractive',\n",
              "                                                    [key], {});\n",
              "        if (!dataTable) return;\n",
              "\n",
              "        const docLinkHtml = 'Like what you see? Visit the ' +\n",
              "          '<a target=\"_blank\" href=https://colab.research.google.com/notebooks/data_table.ipynb>data table notebook</a>'\n",
              "          + ' to learn more about interactive tables.';\n",
              "        element.innerHTML = '';\n",
              "        dataTable['output_type'] = 'display_data';\n",
              "        await google.colab.output.renderOutput(dataTable, element);\n",
              "        const docLink = document.createElement('div');\n",
              "        docLink.innerHTML = docLinkHtml;\n",
              "        element.appendChild(docLink);\n",
              "      }\n",
              "    </script>\n",
              "  </div>\n",
              "\n",
              "\n",
              "<div id=\"df-efdd94f5-5f71-40b0-838b-67145d4295a9\">\n",
              "  <button class=\"colab-df-quickchart\" onclick=\"quickchart('df-efdd94f5-5f71-40b0-838b-67145d4295a9')\"\n",
              "            title=\"Suggest charts\"\n",
              "            style=\"display:none;\">\n",
              "\n",
              "<svg xmlns=\"http://www.w3.org/2000/svg\" height=\"24px\"viewBox=\"0 0 24 24\"\n",
              "     width=\"24px\">\n",
              "    <g>\n",
              "        <path d=\"M19 3H5c-1.1 0-2 .9-2 2v14c0 1.1.9 2 2 2h14c1.1 0 2-.9 2-2V5c0-1.1-.9-2-2-2zM9 17H7v-7h2v7zm4 0h-2V7h2v10zm4 0h-2v-4h2v4z\"/>\n",
              "    </g>\n",
              "</svg>\n",
              "  </button>\n",
              "\n",
              "<style>\n",
              "  .colab-df-quickchart {\n",
              "      --bg-color: #E8F0FE;\n",
              "      --fill-color: #1967D2;\n",
              "      --hover-bg-color: #E2EBFA;\n",
              "      --hover-fill-color: #174EA6;\n",
              "      --disabled-fill-color: #AAA;\n",
              "      --disabled-bg-color: #DDD;\n",
              "  }\n",
              "\n",
              "  [theme=dark] .colab-df-quickchart {\n",
              "      --bg-color: #3B4455;\n",
              "      --fill-color: #D2E3FC;\n",
              "      --hover-bg-color: #434B5C;\n",
              "      --hover-fill-color: #FFFFFF;\n",
              "      --disabled-bg-color: #3B4455;\n",
              "      --disabled-fill-color: #666;\n",
              "  }\n",
              "\n",
              "  .colab-df-quickchart {\n",
              "    background-color: var(--bg-color);\n",
              "    border: none;\n",
              "    border-radius: 50%;\n",
              "    cursor: pointer;\n",
              "    display: none;\n",
              "    fill: var(--fill-color);\n",
              "    height: 32px;\n",
              "    padding: 0;\n",
              "    width: 32px;\n",
              "  }\n",
              "\n",
              "  .colab-df-quickchart:hover {\n",
              "    background-color: var(--hover-bg-color);\n",
              "    box-shadow: 0 1px 2px rgba(60, 64, 67, 0.3), 0 1px 3px 1px rgba(60, 64, 67, 0.15);\n",
              "    fill: var(--button-hover-fill-color);\n",
              "  }\n",
              "\n",
              "  .colab-df-quickchart-complete:disabled,\n",
              "  .colab-df-quickchart-complete:disabled:hover {\n",
              "    background-color: var(--disabled-bg-color);\n",
              "    fill: var(--disabled-fill-color);\n",
              "    box-shadow: none;\n",
              "  }\n",
              "\n",
              "  .colab-df-spinner {\n",
              "    border: 2px solid var(--fill-color);\n",
              "    border-color: transparent;\n",
              "    border-bottom-color: var(--fill-color);\n",
              "    animation:\n",
              "      spin 1s steps(1) infinite;\n",
              "  }\n",
              "\n",
              "  @keyframes spin {\n",
              "    0% {\n",
              "      border-color: transparent;\n",
              "      border-bottom-color: var(--fill-color);\n",
              "      border-left-color: var(--fill-color);\n",
              "    }\n",
              "    20% {\n",
              "      border-color: transparent;\n",
              "      border-left-color: var(--fill-color);\n",
              "      border-top-color: var(--fill-color);\n",
              "    }\n",
              "    30% {\n",
              "      border-color: transparent;\n",
              "      border-left-color: var(--fill-color);\n",
              "      border-top-color: var(--fill-color);\n",
              "      border-right-color: var(--fill-color);\n",
              "    }\n",
              "    40% {\n",
              "      border-color: transparent;\n",
              "      border-right-color: var(--fill-color);\n",
              "      border-top-color: var(--fill-color);\n",
              "    }\n",
              "    60% {\n",
              "      border-color: transparent;\n",
              "      border-right-color: var(--fill-color);\n",
              "    }\n",
              "    80% {\n",
              "      border-color: transparent;\n",
              "      border-right-color: var(--fill-color);\n",
              "      border-bottom-color: var(--fill-color);\n",
              "    }\n",
              "    90% {\n",
              "      border-color: transparent;\n",
              "      border-bottom-color: var(--fill-color);\n",
              "    }\n",
              "  }\n",
              "</style>\n",
              "\n",
              "  <script>\n",
              "    async function quickchart(key) {\n",
              "      const quickchartButtonEl =\n",
              "        document.querySelector('#' + key + ' button');\n",
              "      quickchartButtonEl.disabled = true;  // To prevent multiple clicks.\n",
              "      quickchartButtonEl.classList.add('colab-df-spinner');\n",
              "      try {\n",
              "        const charts = await google.colab.kernel.invokeFunction(\n",
              "            'suggestCharts', [key], {});\n",
              "      } catch (error) {\n",
              "        console.error('Error during call to suggestCharts:', error);\n",
              "      }\n",
              "      quickchartButtonEl.classList.remove('colab-df-spinner');\n",
              "      quickchartButtonEl.classList.add('colab-df-quickchart-complete');\n",
              "    }\n",
              "    (() => {\n",
              "      let quickchartButtonEl =\n",
              "        document.querySelector('#df-efdd94f5-5f71-40b0-838b-67145d4295a9 button');\n",
              "      quickchartButtonEl.style.display =\n",
              "        google.colab.kernel.accessAllowed ? 'block' : 'none';\n",
              "    })();\n",
              "  </script>\n",
              "</div>\n",
              "    </div>\n",
              "  </div>\n"
            ]
          },
          "metadata": {},
          "execution_count": 19
        }
      ]
    },
    {
      "cell_type": "markdown",
      "source": [
        "### Step B3\n",
        "\n",
        "Let's start by checking (using **Pandas** methods this time) that the mean GRE and GPA corresponds to what we have computed manually in the previous section!"
      ],
      "metadata": {
        "id": "EMQ6fFQzlT4_"
      }
    },
    {
      "cell_type": "code",
      "source": [
        "# your code here\n",
        "print(df.gre.mean())\n",
        "print(df.gpa.mean())"
      ],
      "metadata": {
        "id": "iamHb53VlfvK",
        "colab": {
          "base_uri": "https://localhost:8080/"
        },
        "outputId": "e0a69052-aab5-4b48-a9ee-5682c436d5cb"
      },
      "execution_count": 20,
      "outputs": [
        {
          "output_type": "stream",
          "name": "stdout",
          "text": [
            "587.7\n",
            "3.3899\n"
          ]
        }
      ]
    },
    {
      "cell_type": "markdown",
      "source": [
        "### Step B4 - Updating a column\n",
        "\n",
        "For clarity we want to replace the values of the column admit to True if it is equal to 1 or False if it is equal to 0. For this, you will need to use the **loc( )** method from **Pandas**."
      ],
      "metadata": {
        "id": "0l2oRG0MljJS"
      }
    },
    {
      "cell_type": "code",
      "source": [
        "# your code here\n",
        "df.loc[df.admit == 1, 'admit'] = True\n",
        "df.loc[df.admit == 0, 'admit'] = False"
      ],
      "metadata": {
        "id": "5NgEtDD3lt7J"
      },
      "execution_count": 21,
      "outputs": []
    },
    {
      "cell_type": "code",
      "source": [
        "# It is always good to check your operation\n",
        "# had the expected output!\n",
        "df.head()"
      ],
      "metadata": {
        "id": "i2S_DIqHw9st",
        "colab": {
          "base_uri": "https://localhost:8080/",
          "height": 206
        },
        "outputId": "84d9d8d0-065b-4733-af97-1a78f6b9ce40"
      },
      "execution_count": 22,
      "outputs": [
        {
          "output_type": "execute_result",
          "data": {
            "text/plain": [
              "   admit  gre   gpa  ranking\n",
              "0  False  380  3.61        3\n",
              "1   True  660  3.67        3\n",
              "2   True  800  4.00        1\n",
              "3   True  640  3.19        4\n",
              "4  False  520  2.93        4"
            ],
            "text/html": [
              "\n",
              "  <div id=\"df-e555704a-3156-4cc5-837b-e61bcc9b39b6\" class=\"colab-df-container\">\n",
              "    <div>\n",
              "<style scoped>\n",
              "    .dataframe tbody tr th:only-of-type {\n",
              "        vertical-align: middle;\n",
              "    }\n",
              "\n",
              "    .dataframe tbody tr th {\n",
              "        vertical-align: top;\n",
              "    }\n",
              "\n",
              "    .dataframe thead th {\n",
              "        text-align: right;\n",
              "    }\n",
              "</style>\n",
              "<table border=\"1\" class=\"dataframe\">\n",
              "  <thead>\n",
              "    <tr style=\"text-align: right;\">\n",
              "      <th></th>\n",
              "      <th>admit</th>\n",
              "      <th>gre</th>\n",
              "      <th>gpa</th>\n",
              "      <th>ranking</th>\n",
              "    </tr>\n",
              "  </thead>\n",
              "  <tbody>\n",
              "    <tr>\n",
              "      <th>0</th>\n",
              "      <td>False</td>\n",
              "      <td>380</td>\n",
              "      <td>3.61</td>\n",
              "      <td>3</td>\n",
              "    </tr>\n",
              "    <tr>\n",
              "      <th>1</th>\n",
              "      <td>True</td>\n",
              "      <td>660</td>\n",
              "      <td>3.67</td>\n",
              "      <td>3</td>\n",
              "    </tr>\n",
              "    <tr>\n",
              "      <th>2</th>\n",
              "      <td>True</td>\n",
              "      <td>800</td>\n",
              "      <td>4.00</td>\n",
              "      <td>1</td>\n",
              "    </tr>\n",
              "    <tr>\n",
              "      <th>3</th>\n",
              "      <td>True</td>\n",
              "      <td>640</td>\n",
              "      <td>3.19</td>\n",
              "      <td>4</td>\n",
              "    </tr>\n",
              "    <tr>\n",
              "      <th>4</th>\n",
              "      <td>False</td>\n",
              "      <td>520</td>\n",
              "      <td>2.93</td>\n",
              "      <td>4</td>\n",
              "    </tr>\n",
              "  </tbody>\n",
              "</table>\n",
              "</div>\n",
              "    <div class=\"colab-df-buttons\">\n",
              "\n",
              "  <div class=\"colab-df-container\">\n",
              "    <button class=\"colab-df-convert\" onclick=\"convertToInteractive('df-e555704a-3156-4cc5-837b-e61bcc9b39b6')\"\n",
              "            title=\"Convert this dataframe to an interactive table.\"\n",
              "            style=\"display:none;\">\n",
              "\n",
              "  <svg xmlns=\"http://www.w3.org/2000/svg\" height=\"24px\" viewBox=\"0 -960 960 960\">\n",
              "    <path d=\"M120-120v-720h720v720H120Zm60-500h600v-160H180v160Zm220 220h160v-160H400v160Zm0 220h160v-160H400v160ZM180-400h160v-160H180v160Zm440 0h160v-160H620v160ZM180-180h160v-160H180v160Zm440 0h160v-160H620v160Z\"/>\n",
              "  </svg>\n",
              "    </button>\n",
              "\n",
              "  <style>\n",
              "    .colab-df-container {\n",
              "      display:flex;\n",
              "      gap: 12px;\n",
              "    }\n",
              "\n",
              "    .colab-df-convert {\n",
              "      background-color: #E8F0FE;\n",
              "      border: none;\n",
              "      border-radius: 50%;\n",
              "      cursor: pointer;\n",
              "      display: none;\n",
              "      fill: #1967D2;\n",
              "      height: 32px;\n",
              "      padding: 0 0 0 0;\n",
              "      width: 32px;\n",
              "    }\n",
              "\n",
              "    .colab-df-convert:hover {\n",
              "      background-color: #E2EBFA;\n",
              "      box-shadow: 0px 1px 2px rgba(60, 64, 67, 0.3), 0px 1px 3px 1px rgba(60, 64, 67, 0.15);\n",
              "      fill: #174EA6;\n",
              "    }\n",
              "\n",
              "    .colab-df-buttons div {\n",
              "      margin-bottom: 4px;\n",
              "    }\n",
              "\n",
              "    [theme=dark] .colab-df-convert {\n",
              "      background-color: #3B4455;\n",
              "      fill: #D2E3FC;\n",
              "    }\n",
              "\n",
              "    [theme=dark] .colab-df-convert:hover {\n",
              "      background-color: #434B5C;\n",
              "      box-shadow: 0px 1px 3px 1px rgba(0, 0, 0, 0.15);\n",
              "      filter: drop-shadow(0px 1px 2px rgba(0, 0, 0, 0.3));\n",
              "      fill: #FFFFFF;\n",
              "    }\n",
              "  </style>\n",
              "\n",
              "    <script>\n",
              "      const buttonEl =\n",
              "        document.querySelector('#df-e555704a-3156-4cc5-837b-e61bcc9b39b6 button.colab-df-convert');\n",
              "      buttonEl.style.display =\n",
              "        google.colab.kernel.accessAllowed ? 'block' : 'none';\n",
              "\n",
              "      async function convertToInteractive(key) {\n",
              "        const element = document.querySelector('#df-e555704a-3156-4cc5-837b-e61bcc9b39b6');\n",
              "        const dataTable =\n",
              "          await google.colab.kernel.invokeFunction('convertToInteractive',\n",
              "                                                    [key], {});\n",
              "        if (!dataTable) return;\n",
              "\n",
              "        const docLinkHtml = 'Like what you see? Visit the ' +\n",
              "          '<a target=\"_blank\" href=https://colab.research.google.com/notebooks/data_table.ipynb>data table notebook</a>'\n",
              "          + ' to learn more about interactive tables.';\n",
              "        element.innerHTML = '';\n",
              "        dataTable['output_type'] = 'display_data';\n",
              "        await google.colab.output.renderOutput(dataTable, element);\n",
              "        const docLink = document.createElement('div');\n",
              "        docLink.innerHTML = docLinkHtml;\n",
              "        element.appendChild(docLink);\n",
              "      }\n",
              "    </script>\n",
              "  </div>\n",
              "\n",
              "\n",
              "<div id=\"df-c673fb58-fef3-43f2-96e0-b27dcf169b75\">\n",
              "  <button class=\"colab-df-quickchart\" onclick=\"quickchart('df-c673fb58-fef3-43f2-96e0-b27dcf169b75')\"\n",
              "            title=\"Suggest charts\"\n",
              "            style=\"display:none;\">\n",
              "\n",
              "<svg xmlns=\"http://www.w3.org/2000/svg\" height=\"24px\"viewBox=\"0 0 24 24\"\n",
              "     width=\"24px\">\n",
              "    <g>\n",
              "        <path d=\"M19 3H5c-1.1 0-2 .9-2 2v14c0 1.1.9 2 2 2h14c1.1 0 2-.9 2-2V5c0-1.1-.9-2-2-2zM9 17H7v-7h2v7zm4 0h-2V7h2v10zm4 0h-2v-4h2v4z\"/>\n",
              "    </g>\n",
              "</svg>\n",
              "  </button>\n",
              "\n",
              "<style>\n",
              "  .colab-df-quickchart {\n",
              "      --bg-color: #E8F0FE;\n",
              "      --fill-color: #1967D2;\n",
              "      --hover-bg-color: #E2EBFA;\n",
              "      --hover-fill-color: #174EA6;\n",
              "      --disabled-fill-color: #AAA;\n",
              "      --disabled-bg-color: #DDD;\n",
              "  }\n",
              "\n",
              "  [theme=dark] .colab-df-quickchart {\n",
              "      --bg-color: #3B4455;\n",
              "      --fill-color: #D2E3FC;\n",
              "      --hover-bg-color: #434B5C;\n",
              "      --hover-fill-color: #FFFFFF;\n",
              "      --disabled-bg-color: #3B4455;\n",
              "      --disabled-fill-color: #666;\n",
              "  }\n",
              "\n",
              "  .colab-df-quickchart {\n",
              "    background-color: var(--bg-color);\n",
              "    border: none;\n",
              "    border-radius: 50%;\n",
              "    cursor: pointer;\n",
              "    display: none;\n",
              "    fill: var(--fill-color);\n",
              "    height: 32px;\n",
              "    padding: 0;\n",
              "    width: 32px;\n",
              "  }\n",
              "\n",
              "  .colab-df-quickchart:hover {\n",
              "    background-color: var(--hover-bg-color);\n",
              "    box-shadow: 0 1px 2px rgba(60, 64, 67, 0.3), 0 1px 3px 1px rgba(60, 64, 67, 0.15);\n",
              "    fill: var(--button-hover-fill-color);\n",
              "  }\n",
              "\n",
              "  .colab-df-quickchart-complete:disabled,\n",
              "  .colab-df-quickchart-complete:disabled:hover {\n",
              "    background-color: var(--disabled-bg-color);\n",
              "    fill: var(--disabled-fill-color);\n",
              "    box-shadow: none;\n",
              "  }\n",
              "\n",
              "  .colab-df-spinner {\n",
              "    border: 2px solid var(--fill-color);\n",
              "    border-color: transparent;\n",
              "    border-bottom-color: var(--fill-color);\n",
              "    animation:\n",
              "      spin 1s steps(1) infinite;\n",
              "  }\n",
              "\n",
              "  @keyframes spin {\n",
              "    0% {\n",
              "      border-color: transparent;\n",
              "      border-bottom-color: var(--fill-color);\n",
              "      border-left-color: var(--fill-color);\n",
              "    }\n",
              "    20% {\n",
              "      border-color: transparent;\n",
              "      border-left-color: var(--fill-color);\n",
              "      border-top-color: var(--fill-color);\n",
              "    }\n",
              "    30% {\n",
              "      border-color: transparent;\n",
              "      border-left-color: var(--fill-color);\n",
              "      border-top-color: var(--fill-color);\n",
              "      border-right-color: var(--fill-color);\n",
              "    }\n",
              "    40% {\n",
              "      border-color: transparent;\n",
              "      border-right-color: var(--fill-color);\n",
              "      border-top-color: var(--fill-color);\n",
              "    }\n",
              "    60% {\n",
              "      border-color: transparent;\n",
              "      border-right-color: var(--fill-color);\n",
              "    }\n",
              "    80% {\n",
              "      border-color: transparent;\n",
              "      border-right-color: var(--fill-color);\n",
              "      border-bottom-color: var(--fill-color);\n",
              "    }\n",
              "    90% {\n",
              "      border-color: transparent;\n",
              "      border-bottom-color: var(--fill-color);\n",
              "    }\n",
              "  }\n",
              "</style>\n",
              "\n",
              "  <script>\n",
              "    async function quickchart(key) {\n",
              "      const quickchartButtonEl =\n",
              "        document.querySelector('#' + key + ' button');\n",
              "      quickchartButtonEl.disabled = true;  // To prevent multiple clicks.\n",
              "      quickchartButtonEl.classList.add('colab-df-spinner');\n",
              "      try {\n",
              "        const charts = await google.colab.kernel.invokeFunction(\n",
              "            'suggestCharts', [key], {});\n",
              "      } catch (error) {\n",
              "        console.error('Error during call to suggestCharts:', error);\n",
              "      }\n",
              "      quickchartButtonEl.classList.remove('colab-df-spinner');\n",
              "      quickchartButtonEl.classList.add('colab-df-quickchart-complete');\n",
              "    }\n",
              "    (() => {\n",
              "      let quickchartButtonEl =\n",
              "        document.querySelector('#df-c673fb58-fef3-43f2-96e0-b27dcf169b75 button');\n",
              "      quickchartButtonEl.style.display =\n",
              "        google.colab.kernel.accessAllowed ? 'block' : 'none';\n",
              "    })();\n",
              "  </script>\n",
              "</div>\n",
              "    </div>\n",
              "  </div>\n"
            ]
          },
          "metadata": {},
          "execution_count": 22
        }
      ]
    },
    {
      "cell_type": "markdown",
      "source": [
        "### Step B5 - An overview of our data\n",
        "\n",
        "You probably remember from last week's tutorial, you can easily obtain a basic statistical summary of your data using the **describe( )** method."
      ],
      "metadata": {
        "id": "pTQS8ywflzQE"
      }
    },
    {
      "cell_type": "code",
      "source": [
        "# your code here\n",
        "df.describe()"
      ],
      "metadata": {
        "id": "_al_R3H_mH-E",
        "colab": {
          "base_uri": "https://localhost:8080/",
          "height": 300
        },
        "outputId": "27b86512-5ccf-4b69-e910-9365e1f31d66"
      },
      "execution_count": 23,
      "outputs": [
        {
          "output_type": "execute_result",
          "data": {
            "text/plain": [
              "              gre         gpa    ranking\n",
              "count  400.000000  400.000000  400.00000\n",
              "mean   587.700000    3.389900    2.48500\n",
              "std    115.516536    0.380567    0.94446\n",
              "min    220.000000    2.260000    1.00000\n",
              "25%    520.000000    3.130000    2.00000\n",
              "50%    580.000000    3.395000    2.00000\n",
              "75%    660.000000    3.670000    3.00000\n",
              "max    800.000000    4.000000    4.00000"
            ],
            "text/html": [
              "\n",
              "  <div id=\"df-e90057a6-4e1c-44a3-94ee-cf5d6cabca9b\" class=\"colab-df-container\">\n",
              "    <div>\n",
              "<style scoped>\n",
              "    .dataframe tbody tr th:only-of-type {\n",
              "        vertical-align: middle;\n",
              "    }\n",
              "\n",
              "    .dataframe tbody tr th {\n",
              "        vertical-align: top;\n",
              "    }\n",
              "\n",
              "    .dataframe thead th {\n",
              "        text-align: right;\n",
              "    }\n",
              "</style>\n",
              "<table border=\"1\" class=\"dataframe\">\n",
              "  <thead>\n",
              "    <tr style=\"text-align: right;\">\n",
              "      <th></th>\n",
              "      <th>gre</th>\n",
              "      <th>gpa</th>\n",
              "      <th>ranking</th>\n",
              "    </tr>\n",
              "  </thead>\n",
              "  <tbody>\n",
              "    <tr>\n",
              "      <th>count</th>\n",
              "      <td>400.000000</td>\n",
              "      <td>400.000000</td>\n",
              "      <td>400.00000</td>\n",
              "    </tr>\n",
              "    <tr>\n",
              "      <th>mean</th>\n",
              "      <td>587.700000</td>\n",
              "      <td>3.389900</td>\n",
              "      <td>2.48500</td>\n",
              "    </tr>\n",
              "    <tr>\n",
              "      <th>std</th>\n",
              "      <td>115.516536</td>\n",
              "      <td>0.380567</td>\n",
              "      <td>0.94446</td>\n",
              "    </tr>\n",
              "    <tr>\n",
              "      <th>min</th>\n",
              "      <td>220.000000</td>\n",
              "      <td>2.260000</td>\n",
              "      <td>1.00000</td>\n",
              "    </tr>\n",
              "    <tr>\n",
              "      <th>25%</th>\n",
              "      <td>520.000000</td>\n",
              "      <td>3.130000</td>\n",
              "      <td>2.00000</td>\n",
              "    </tr>\n",
              "    <tr>\n",
              "      <th>50%</th>\n",
              "      <td>580.000000</td>\n",
              "      <td>3.395000</td>\n",
              "      <td>2.00000</td>\n",
              "    </tr>\n",
              "    <tr>\n",
              "      <th>75%</th>\n",
              "      <td>660.000000</td>\n",
              "      <td>3.670000</td>\n",
              "      <td>3.00000</td>\n",
              "    </tr>\n",
              "    <tr>\n",
              "      <th>max</th>\n",
              "      <td>800.000000</td>\n",
              "      <td>4.000000</td>\n",
              "      <td>4.00000</td>\n",
              "    </tr>\n",
              "  </tbody>\n",
              "</table>\n",
              "</div>\n",
              "    <div class=\"colab-df-buttons\">\n",
              "\n",
              "  <div class=\"colab-df-container\">\n",
              "    <button class=\"colab-df-convert\" onclick=\"convertToInteractive('df-e90057a6-4e1c-44a3-94ee-cf5d6cabca9b')\"\n",
              "            title=\"Convert this dataframe to an interactive table.\"\n",
              "            style=\"display:none;\">\n",
              "\n",
              "  <svg xmlns=\"http://www.w3.org/2000/svg\" height=\"24px\" viewBox=\"0 -960 960 960\">\n",
              "    <path d=\"M120-120v-720h720v720H120Zm60-500h600v-160H180v160Zm220 220h160v-160H400v160Zm0 220h160v-160H400v160ZM180-400h160v-160H180v160Zm440 0h160v-160H620v160ZM180-180h160v-160H180v160Zm440 0h160v-160H620v160Z\"/>\n",
              "  </svg>\n",
              "    </button>\n",
              "\n",
              "  <style>\n",
              "    .colab-df-container {\n",
              "      display:flex;\n",
              "      gap: 12px;\n",
              "    }\n",
              "\n",
              "    .colab-df-convert {\n",
              "      background-color: #E8F0FE;\n",
              "      border: none;\n",
              "      border-radius: 50%;\n",
              "      cursor: pointer;\n",
              "      display: none;\n",
              "      fill: #1967D2;\n",
              "      height: 32px;\n",
              "      padding: 0 0 0 0;\n",
              "      width: 32px;\n",
              "    }\n",
              "\n",
              "    .colab-df-convert:hover {\n",
              "      background-color: #E2EBFA;\n",
              "      box-shadow: 0px 1px 2px rgba(60, 64, 67, 0.3), 0px 1px 3px 1px rgba(60, 64, 67, 0.15);\n",
              "      fill: #174EA6;\n",
              "    }\n",
              "\n",
              "    .colab-df-buttons div {\n",
              "      margin-bottom: 4px;\n",
              "    }\n",
              "\n",
              "    [theme=dark] .colab-df-convert {\n",
              "      background-color: #3B4455;\n",
              "      fill: #D2E3FC;\n",
              "    }\n",
              "\n",
              "    [theme=dark] .colab-df-convert:hover {\n",
              "      background-color: #434B5C;\n",
              "      box-shadow: 0px 1px 3px 1px rgba(0, 0, 0, 0.15);\n",
              "      filter: drop-shadow(0px 1px 2px rgba(0, 0, 0, 0.3));\n",
              "      fill: #FFFFFF;\n",
              "    }\n",
              "  </style>\n",
              "\n",
              "    <script>\n",
              "      const buttonEl =\n",
              "        document.querySelector('#df-e90057a6-4e1c-44a3-94ee-cf5d6cabca9b button.colab-df-convert');\n",
              "      buttonEl.style.display =\n",
              "        google.colab.kernel.accessAllowed ? 'block' : 'none';\n",
              "\n",
              "      async function convertToInteractive(key) {\n",
              "        const element = document.querySelector('#df-e90057a6-4e1c-44a3-94ee-cf5d6cabca9b');\n",
              "        const dataTable =\n",
              "          await google.colab.kernel.invokeFunction('convertToInteractive',\n",
              "                                                    [key], {});\n",
              "        if (!dataTable) return;\n",
              "\n",
              "        const docLinkHtml = 'Like what you see? Visit the ' +\n",
              "          '<a target=\"_blank\" href=https://colab.research.google.com/notebooks/data_table.ipynb>data table notebook</a>'\n",
              "          + ' to learn more about interactive tables.';\n",
              "        element.innerHTML = '';\n",
              "        dataTable['output_type'] = 'display_data';\n",
              "        await google.colab.output.renderOutput(dataTable, element);\n",
              "        const docLink = document.createElement('div');\n",
              "        docLink.innerHTML = docLinkHtml;\n",
              "        element.appendChild(docLink);\n",
              "      }\n",
              "    </script>\n",
              "  </div>\n",
              "\n",
              "\n",
              "<div id=\"df-89723a87-b0c3-4ec4-8a99-ad64d062e722\">\n",
              "  <button class=\"colab-df-quickchart\" onclick=\"quickchart('df-89723a87-b0c3-4ec4-8a99-ad64d062e722')\"\n",
              "            title=\"Suggest charts\"\n",
              "            style=\"display:none;\">\n",
              "\n",
              "<svg xmlns=\"http://www.w3.org/2000/svg\" height=\"24px\"viewBox=\"0 0 24 24\"\n",
              "     width=\"24px\">\n",
              "    <g>\n",
              "        <path d=\"M19 3H5c-1.1 0-2 .9-2 2v14c0 1.1.9 2 2 2h14c1.1 0 2-.9 2-2V5c0-1.1-.9-2-2-2zM9 17H7v-7h2v7zm4 0h-2V7h2v10zm4 0h-2v-4h2v4z\"/>\n",
              "    </g>\n",
              "</svg>\n",
              "  </button>\n",
              "\n",
              "<style>\n",
              "  .colab-df-quickchart {\n",
              "      --bg-color: #E8F0FE;\n",
              "      --fill-color: #1967D2;\n",
              "      --hover-bg-color: #E2EBFA;\n",
              "      --hover-fill-color: #174EA6;\n",
              "      --disabled-fill-color: #AAA;\n",
              "      --disabled-bg-color: #DDD;\n",
              "  }\n",
              "\n",
              "  [theme=dark] .colab-df-quickchart {\n",
              "      --bg-color: #3B4455;\n",
              "      --fill-color: #D2E3FC;\n",
              "      --hover-bg-color: #434B5C;\n",
              "      --hover-fill-color: #FFFFFF;\n",
              "      --disabled-bg-color: #3B4455;\n",
              "      --disabled-fill-color: #666;\n",
              "  }\n",
              "\n",
              "  .colab-df-quickchart {\n",
              "    background-color: var(--bg-color);\n",
              "    border: none;\n",
              "    border-radius: 50%;\n",
              "    cursor: pointer;\n",
              "    display: none;\n",
              "    fill: var(--fill-color);\n",
              "    height: 32px;\n",
              "    padding: 0;\n",
              "    width: 32px;\n",
              "  }\n",
              "\n",
              "  .colab-df-quickchart:hover {\n",
              "    background-color: var(--hover-bg-color);\n",
              "    box-shadow: 0 1px 2px rgba(60, 64, 67, 0.3), 0 1px 3px 1px rgba(60, 64, 67, 0.15);\n",
              "    fill: var(--button-hover-fill-color);\n",
              "  }\n",
              "\n",
              "  .colab-df-quickchart-complete:disabled,\n",
              "  .colab-df-quickchart-complete:disabled:hover {\n",
              "    background-color: var(--disabled-bg-color);\n",
              "    fill: var(--disabled-fill-color);\n",
              "    box-shadow: none;\n",
              "  }\n",
              "\n",
              "  .colab-df-spinner {\n",
              "    border: 2px solid var(--fill-color);\n",
              "    border-color: transparent;\n",
              "    border-bottom-color: var(--fill-color);\n",
              "    animation:\n",
              "      spin 1s steps(1) infinite;\n",
              "  }\n",
              "\n",
              "  @keyframes spin {\n",
              "    0% {\n",
              "      border-color: transparent;\n",
              "      border-bottom-color: var(--fill-color);\n",
              "      border-left-color: var(--fill-color);\n",
              "    }\n",
              "    20% {\n",
              "      border-color: transparent;\n",
              "      border-left-color: var(--fill-color);\n",
              "      border-top-color: var(--fill-color);\n",
              "    }\n",
              "    30% {\n",
              "      border-color: transparent;\n",
              "      border-left-color: var(--fill-color);\n",
              "      border-top-color: var(--fill-color);\n",
              "      border-right-color: var(--fill-color);\n",
              "    }\n",
              "    40% {\n",
              "      border-color: transparent;\n",
              "      border-right-color: var(--fill-color);\n",
              "      border-top-color: var(--fill-color);\n",
              "    }\n",
              "    60% {\n",
              "      border-color: transparent;\n",
              "      border-right-color: var(--fill-color);\n",
              "    }\n",
              "    80% {\n",
              "      border-color: transparent;\n",
              "      border-right-color: var(--fill-color);\n",
              "      border-bottom-color: var(--fill-color);\n",
              "    }\n",
              "    90% {\n",
              "      border-color: transparent;\n",
              "      border-bottom-color: var(--fill-color);\n",
              "    }\n",
              "  }\n",
              "</style>\n",
              "\n",
              "  <script>\n",
              "    async function quickchart(key) {\n",
              "      const quickchartButtonEl =\n",
              "        document.querySelector('#' + key + ' button');\n",
              "      quickchartButtonEl.disabled = true;  // To prevent multiple clicks.\n",
              "      quickchartButtonEl.classList.add('colab-df-spinner');\n",
              "      try {\n",
              "        const charts = await google.colab.kernel.invokeFunction(\n",
              "            'suggestCharts', [key], {});\n",
              "      } catch (error) {\n",
              "        console.error('Error during call to suggestCharts:', error);\n",
              "      }\n",
              "      quickchartButtonEl.classList.remove('colab-df-spinner');\n",
              "      quickchartButtonEl.classList.add('colab-df-quickchart-complete');\n",
              "    }\n",
              "    (() => {\n",
              "      let quickchartButtonEl =\n",
              "        document.querySelector('#df-89723a87-b0c3-4ec4-8a99-ad64d062e722 button');\n",
              "      quickchartButtonEl.style.display =\n",
              "        google.colab.kernel.accessAllowed ? 'block' : 'none';\n",
              "    })();\n",
              "  </script>\n",
              "</div>\n",
              "    </div>\n",
              "  </div>\n"
            ]
          },
          "metadata": {},
          "execution_count": 23
        }
      ]
    },
    {
      "cell_type": "markdown",
      "source": [
        "### Step B6 - An overview of a slice of your data\n",
        "\n",
        "If we are interested to find the effect of **ranking** on the other variables, it can be interesting to obtain a statistical summary on a subset of our data. In our case, we can use the method **describe()** on the data subset for a specific ranking (e.g. what is the statistical summary when the ranking is 1? and 4? any differences?)"
      ],
      "metadata": {
        "id": "YrNefYCymKkE"
      }
    },
    {
      "cell_type": "code",
      "source": [
        "# your code here\n",
        "df[df.ranking == 1].describe()\n",
        "df[df.ranking == 4].describe()"
      ],
      "metadata": {
        "id": "msaWviKvmNv_",
        "colab": {
          "base_uri": "https://localhost:8080/",
          "height": 300
        },
        "outputId": "6aa7e8b2-214c-42ce-bc38-60d03a280e06"
      },
      "execution_count": 25,
      "outputs": [
        {
          "output_type": "execute_result",
          "data": {
            "text/plain": [
              "              gre        gpa  ranking\n",
              "count   67.000000  67.000000     67.0\n",
              "mean   570.149254   3.318358      4.0\n",
              "std    116.221999   0.360507      0.0\n",
              "min    300.000000   2.260000      4.0\n",
              "25%    500.000000   3.085000      4.0\n",
              "50%    560.000000   3.330000      4.0\n",
              "75%    660.000000   3.540000      4.0\n",
              "max    800.000000   4.000000      4.0"
            ],
            "text/html": [
              "\n",
              "  <div id=\"df-fdece9d1-9c11-493b-a515-8c37556fcef3\" class=\"colab-df-container\">\n",
              "    <div>\n",
              "<style scoped>\n",
              "    .dataframe tbody tr th:only-of-type {\n",
              "        vertical-align: middle;\n",
              "    }\n",
              "\n",
              "    .dataframe tbody tr th {\n",
              "        vertical-align: top;\n",
              "    }\n",
              "\n",
              "    .dataframe thead th {\n",
              "        text-align: right;\n",
              "    }\n",
              "</style>\n",
              "<table border=\"1\" class=\"dataframe\">\n",
              "  <thead>\n",
              "    <tr style=\"text-align: right;\">\n",
              "      <th></th>\n",
              "      <th>gre</th>\n",
              "      <th>gpa</th>\n",
              "      <th>ranking</th>\n",
              "    </tr>\n",
              "  </thead>\n",
              "  <tbody>\n",
              "    <tr>\n",
              "      <th>count</th>\n",
              "      <td>67.000000</td>\n",
              "      <td>67.000000</td>\n",
              "      <td>67.0</td>\n",
              "    </tr>\n",
              "    <tr>\n",
              "      <th>mean</th>\n",
              "      <td>570.149254</td>\n",
              "      <td>3.318358</td>\n",
              "      <td>4.0</td>\n",
              "    </tr>\n",
              "    <tr>\n",
              "      <th>std</th>\n",
              "      <td>116.221999</td>\n",
              "      <td>0.360507</td>\n",
              "      <td>0.0</td>\n",
              "    </tr>\n",
              "    <tr>\n",
              "      <th>min</th>\n",
              "      <td>300.000000</td>\n",
              "      <td>2.260000</td>\n",
              "      <td>4.0</td>\n",
              "    </tr>\n",
              "    <tr>\n",
              "      <th>25%</th>\n",
              "      <td>500.000000</td>\n",
              "      <td>3.085000</td>\n",
              "      <td>4.0</td>\n",
              "    </tr>\n",
              "    <tr>\n",
              "      <th>50%</th>\n",
              "      <td>560.000000</td>\n",
              "      <td>3.330000</td>\n",
              "      <td>4.0</td>\n",
              "    </tr>\n",
              "    <tr>\n",
              "      <th>75%</th>\n",
              "      <td>660.000000</td>\n",
              "      <td>3.540000</td>\n",
              "      <td>4.0</td>\n",
              "    </tr>\n",
              "    <tr>\n",
              "      <th>max</th>\n",
              "      <td>800.000000</td>\n",
              "      <td>4.000000</td>\n",
              "      <td>4.0</td>\n",
              "    </tr>\n",
              "  </tbody>\n",
              "</table>\n",
              "</div>\n",
              "    <div class=\"colab-df-buttons\">\n",
              "\n",
              "  <div class=\"colab-df-container\">\n",
              "    <button class=\"colab-df-convert\" onclick=\"convertToInteractive('df-fdece9d1-9c11-493b-a515-8c37556fcef3')\"\n",
              "            title=\"Convert this dataframe to an interactive table.\"\n",
              "            style=\"display:none;\">\n",
              "\n",
              "  <svg xmlns=\"http://www.w3.org/2000/svg\" height=\"24px\" viewBox=\"0 -960 960 960\">\n",
              "    <path d=\"M120-120v-720h720v720H120Zm60-500h600v-160H180v160Zm220 220h160v-160H400v160Zm0 220h160v-160H400v160ZM180-400h160v-160H180v160Zm440 0h160v-160H620v160ZM180-180h160v-160H180v160Zm440 0h160v-160H620v160Z\"/>\n",
              "  </svg>\n",
              "    </button>\n",
              "\n",
              "  <style>\n",
              "    .colab-df-container {\n",
              "      display:flex;\n",
              "      gap: 12px;\n",
              "    }\n",
              "\n",
              "    .colab-df-convert {\n",
              "      background-color: #E8F0FE;\n",
              "      border: none;\n",
              "      border-radius: 50%;\n",
              "      cursor: pointer;\n",
              "      display: none;\n",
              "      fill: #1967D2;\n",
              "      height: 32px;\n",
              "      padding: 0 0 0 0;\n",
              "      width: 32px;\n",
              "    }\n",
              "\n",
              "    .colab-df-convert:hover {\n",
              "      background-color: #E2EBFA;\n",
              "      box-shadow: 0px 1px 2px rgba(60, 64, 67, 0.3), 0px 1px 3px 1px rgba(60, 64, 67, 0.15);\n",
              "      fill: #174EA6;\n",
              "    }\n",
              "\n",
              "    .colab-df-buttons div {\n",
              "      margin-bottom: 4px;\n",
              "    }\n",
              "\n",
              "    [theme=dark] .colab-df-convert {\n",
              "      background-color: #3B4455;\n",
              "      fill: #D2E3FC;\n",
              "    }\n",
              "\n",
              "    [theme=dark] .colab-df-convert:hover {\n",
              "      background-color: #434B5C;\n",
              "      box-shadow: 0px 1px 3px 1px rgba(0, 0, 0, 0.15);\n",
              "      filter: drop-shadow(0px 1px 2px rgba(0, 0, 0, 0.3));\n",
              "      fill: #FFFFFF;\n",
              "    }\n",
              "  </style>\n",
              "\n",
              "    <script>\n",
              "      const buttonEl =\n",
              "        document.querySelector('#df-fdece9d1-9c11-493b-a515-8c37556fcef3 button.colab-df-convert');\n",
              "      buttonEl.style.display =\n",
              "        google.colab.kernel.accessAllowed ? 'block' : 'none';\n",
              "\n",
              "      async function convertToInteractive(key) {\n",
              "        const element = document.querySelector('#df-fdece9d1-9c11-493b-a515-8c37556fcef3');\n",
              "        const dataTable =\n",
              "          await google.colab.kernel.invokeFunction('convertToInteractive',\n",
              "                                                    [key], {});\n",
              "        if (!dataTable) return;\n",
              "\n",
              "        const docLinkHtml = 'Like what you see? Visit the ' +\n",
              "          '<a target=\"_blank\" href=https://colab.research.google.com/notebooks/data_table.ipynb>data table notebook</a>'\n",
              "          + ' to learn more about interactive tables.';\n",
              "        element.innerHTML = '';\n",
              "        dataTable['output_type'] = 'display_data';\n",
              "        await google.colab.output.renderOutput(dataTable, element);\n",
              "        const docLink = document.createElement('div');\n",
              "        docLink.innerHTML = docLinkHtml;\n",
              "        element.appendChild(docLink);\n",
              "      }\n",
              "    </script>\n",
              "  </div>\n",
              "\n",
              "\n",
              "<div id=\"df-7af4ea0a-5148-4a8b-a9a9-138c6c225ae8\">\n",
              "  <button class=\"colab-df-quickchart\" onclick=\"quickchart('df-7af4ea0a-5148-4a8b-a9a9-138c6c225ae8')\"\n",
              "            title=\"Suggest charts\"\n",
              "            style=\"display:none;\">\n",
              "\n",
              "<svg xmlns=\"http://www.w3.org/2000/svg\" height=\"24px\"viewBox=\"0 0 24 24\"\n",
              "     width=\"24px\">\n",
              "    <g>\n",
              "        <path d=\"M19 3H5c-1.1 0-2 .9-2 2v14c0 1.1.9 2 2 2h14c1.1 0 2-.9 2-2V5c0-1.1-.9-2-2-2zM9 17H7v-7h2v7zm4 0h-2V7h2v10zm4 0h-2v-4h2v4z\"/>\n",
              "    </g>\n",
              "</svg>\n",
              "  </button>\n",
              "\n",
              "<style>\n",
              "  .colab-df-quickchart {\n",
              "      --bg-color: #E8F0FE;\n",
              "      --fill-color: #1967D2;\n",
              "      --hover-bg-color: #E2EBFA;\n",
              "      --hover-fill-color: #174EA6;\n",
              "      --disabled-fill-color: #AAA;\n",
              "      --disabled-bg-color: #DDD;\n",
              "  }\n",
              "\n",
              "  [theme=dark] .colab-df-quickchart {\n",
              "      --bg-color: #3B4455;\n",
              "      --fill-color: #D2E3FC;\n",
              "      --hover-bg-color: #434B5C;\n",
              "      --hover-fill-color: #FFFFFF;\n",
              "      --disabled-bg-color: #3B4455;\n",
              "      --disabled-fill-color: #666;\n",
              "  }\n",
              "\n",
              "  .colab-df-quickchart {\n",
              "    background-color: var(--bg-color);\n",
              "    border: none;\n",
              "    border-radius: 50%;\n",
              "    cursor: pointer;\n",
              "    display: none;\n",
              "    fill: var(--fill-color);\n",
              "    height: 32px;\n",
              "    padding: 0;\n",
              "    width: 32px;\n",
              "  }\n",
              "\n",
              "  .colab-df-quickchart:hover {\n",
              "    background-color: var(--hover-bg-color);\n",
              "    box-shadow: 0 1px 2px rgba(60, 64, 67, 0.3), 0 1px 3px 1px rgba(60, 64, 67, 0.15);\n",
              "    fill: var(--button-hover-fill-color);\n",
              "  }\n",
              "\n",
              "  .colab-df-quickchart-complete:disabled,\n",
              "  .colab-df-quickchart-complete:disabled:hover {\n",
              "    background-color: var(--disabled-bg-color);\n",
              "    fill: var(--disabled-fill-color);\n",
              "    box-shadow: none;\n",
              "  }\n",
              "\n",
              "  .colab-df-spinner {\n",
              "    border: 2px solid var(--fill-color);\n",
              "    border-color: transparent;\n",
              "    border-bottom-color: var(--fill-color);\n",
              "    animation:\n",
              "      spin 1s steps(1) infinite;\n",
              "  }\n",
              "\n",
              "  @keyframes spin {\n",
              "    0% {\n",
              "      border-color: transparent;\n",
              "      border-bottom-color: var(--fill-color);\n",
              "      border-left-color: var(--fill-color);\n",
              "    }\n",
              "    20% {\n",
              "      border-color: transparent;\n",
              "      border-left-color: var(--fill-color);\n",
              "      border-top-color: var(--fill-color);\n",
              "    }\n",
              "    30% {\n",
              "      border-color: transparent;\n",
              "      border-left-color: var(--fill-color);\n",
              "      border-top-color: var(--fill-color);\n",
              "      border-right-color: var(--fill-color);\n",
              "    }\n",
              "    40% {\n",
              "      border-color: transparent;\n",
              "      border-right-color: var(--fill-color);\n",
              "      border-top-color: var(--fill-color);\n",
              "    }\n",
              "    60% {\n",
              "      border-color: transparent;\n",
              "      border-right-color: var(--fill-color);\n",
              "    }\n",
              "    80% {\n",
              "      border-color: transparent;\n",
              "      border-right-color: var(--fill-color);\n",
              "      border-bottom-color: var(--fill-color);\n",
              "    }\n",
              "    90% {\n",
              "      border-color: transparent;\n",
              "      border-bottom-color: var(--fill-color);\n",
              "    }\n",
              "  }\n",
              "</style>\n",
              "\n",
              "  <script>\n",
              "    async function quickchart(key) {\n",
              "      const quickchartButtonEl =\n",
              "        document.querySelector('#' + key + ' button');\n",
              "      quickchartButtonEl.disabled = true;  // To prevent multiple clicks.\n",
              "      quickchartButtonEl.classList.add('colab-df-spinner');\n",
              "      try {\n",
              "        const charts = await google.colab.kernel.invokeFunction(\n",
              "            'suggestCharts', [key], {});\n",
              "      } catch (error) {\n",
              "        console.error('Error during call to suggestCharts:', error);\n",
              "      }\n",
              "      quickchartButtonEl.classList.remove('colab-df-spinner');\n",
              "      quickchartButtonEl.classList.add('colab-df-quickchart-complete');\n",
              "    }\n",
              "    (() => {\n",
              "      let quickchartButtonEl =\n",
              "        document.querySelector('#df-7af4ea0a-5148-4a8b-a9a9-138c6c225ae8 button');\n",
              "      quickchartButtonEl.style.display =\n",
              "        google.colab.kernel.accessAllowed ? 'block' : 'none';\n",
              "    })();\n",
              "  </script>\n",
              "</div>\n",
              "    </div>\n",
              "  </div>\n"
            ]
          },
          "metadata": {},
          "execution_count": 25
        }
      ]
    },
    {
      "cell_type": "markdown",
      "source": [
        "### Step B7 - Number of student applications per ranking category\n",
        "\n",
        "Remember that Pandas has a function ready made for you to do that, it was part of last week's lecture!"
      ],
      "metadata": {
        "id": "N1ytJg9WctKr"
      }
    },
    {
      "cell_type": "code",
      "source": [
        "# your code here\n",
        "df['ranking'].value_counts()"
      ],
      "metadata": {
        "id": "-5k5fLRYc3JQ",
        "colab": {
          "base_uri": "https://localhost:8080/"
        },
        "outputId": "c70747d6-bd2d-4e84-a1ab-ba903edd105c"
      },
      "execution_count": 26,
      "outputs": [
        {
          "output_type": "execute_result",
          "data": {
            "text/plain": [
              "2    151\n",
              "3    121\n",
              "4     67\n",
              "1     61\n",
              "Name: ranking, dtype: int64"
            ]
          },
          "metadata": {},
          "execution_count": 26
        }
      ]
    },
    {
      "cell_type": "markdown",
      "source": [
        "### Step B8 - Admission rate (percentage) per ranking category\n",
        "\n",
        "This time we want to compute the admission rate (in percentage) for each ranking category (i.e. 1, 2, 3 and 4). We just want to print these percentages to the screen."
      ],
      "metadata": {
        "id": "IgW12Cif1G6E"
      }
    },
    {
      "cell_type": "code",
      "source": [
        "# your code here\n",
        "new_df= df[df.admit == True]\n",
        "new_df.shape\n",
        "\n",
        "print('For rank 1: ',len(new_df[new_df.ranking == 1])/len(df) * 100)\n",
        "print('For rank 2: ',len(new_df[new_df.ranking == 2])/len(df) * 100)\n",
        "print('For rank 3: ',len(new_df[new_df.ranking == 3])/len(df) * 100)\n",
        "print('For rank 4: ',len(new_df[new_df.ranking == 4])/len(df) * 100)"
      ],
      "metadata": {
        "id": "CGPYS-Pp1aio",
        "colab": {
          "base_uri": "https://localhost:8080/"
        },
        "outputId": "2c80bc5f-713c-40ce-fd0d-e18799b6d76a"
      },
      "execution_count": 32,
      "outputs": [
        {
          "output_type": "stream",
          "name": "stdout",
          "text": [
            "For rank 1:  8.25\n",
            "For rank 2:  13.5\n",
            "For rank 3:  7.000000000000001\n",
            "For rank 4:  3.0\n"
          ]
        }
      ]
    },
    {
      "cell_type": "markdown",
      "source": [
        "### Step B9 - Pearson Correlation\n",
        "\n",
        "Ok, let’s now start exploring the data with a model. Pearson Correlation is the key factor in a linear regression - the further it is from zero the stronger the linear relationship (even though we all know now, that linear relationships certainly don’t tell the whole story). Let’s use **NumPy** to find that correlation:"
      ],
      "metadata": {
        "id": "BAD5NPMi1gRZ"
      }
    },
    {
      "cell_type": "code",
      "source": [
        "import numpy as np\n",
        "\n",
        "r = np.corrcoef(df.gpa, df.gre)\n",
        "print(r)"
      ],
      "metadata": {
        "id": "gs5_adla3HjI",
        "colab": {
          "base_uri": "https://localhost:8080/"
        },
        "outputId": "03c7d144-6083-492a-b5f2-ced959c48cdf"
      },
      "execution_count": 33,
      "outputs": [
        {
          "output_type": "stream",
          "name": "stdout",
          "text": [
            "[[1.         0.38426588]\n",
            " [0.38426588 1.        ]]\n"
          ]
        }
      ]
    },
    {
      "cell_type": "markdown",
      "source": [
        "As you can see, you get a matrix output (you can check the type using **print(type(r))** if you want). The only score that matters is the first line, second column (or second line, first column which is the same) - that’s the correlation between the variables we care about. Given that this number is part of a matrix (ndarray), try to extract it using **NumPy** indexes."
      ],
      "metadata": {
        "id": "-Istmma03Qbp"
      }
    },
    {
      "cell_type": "code",
      "source": [
        "# your code here"
      ],
      "metadata": {
        "id": "ylkIuPAU3eNV"
      },
      "execution_count": null,
      "outputs": []
    },
    {
      "cell_type": "markdown",
      "source": [
        "More than numbers, data analysts need to understand what they mean. You have now obtained a number for the Pearson Correlation of our two variables. What do you think of this correlation? Is this correlation strong, low or medium?\n",
        "\n",
        "- Perfect: If the value is near ± 1, then it said to be a perfect correlation: as one variable increases, the other variable tends to also increase (if positive) or decrease (if negative).\n",
        "- High degree: If the coefficient value lies between ± 0.50 and ± 1, then it is said to be a strong correlation.\n",
        "- Moderate degree: If the value lies between ± 0.30 and ± 0.49, then it is said to be a medium correlation.\n",
        "- Low degree: When the value lies below + .29, then it is said to be a small correlation.\n",
        "- No correlation: When the value is zero (or close to zero)."
      ],
      "metadata": {
        "id": "x8GkZCnd3h0V"
      }
    },
    {
      "cell_type": "markdown",
      "source": [
        "'type your answer here'"
      ],
      "metadata": {
        "id": "9DANyC1P9PaY"
      }
    },
    {
      "cell_type": "markdown",
      "source": [
        "### Step B10 - Importing Sklearn\n",
        "\n",
        "This is still just a descriptive correlation score and won’t actually help us predict anything. To actually try and predict someone’s GRE exam score from their GPA average we need a linear model. You can try to do that using **Orange** with a graphical interface. It is almost as easy in Python thanks to the **sklearn** library, so let's give it a go!\n",
        "\n",
        "The first step is to import the library using the **from** *module* **import** *submodule* syntax. From the library **sklearn** we want to import the submodule **linear_model**, try to write that import statement."
      ],
      "metadata": {
        "id": "gldTQMf24AYv"
      }
    },
    {
      "cell_type": "code",
      "source": [
        "from sklearn import linear_model"
      ],
      "metadata": {
        "id": "iligumUM4OWK"
      },
      "execution_count": 34,
      "outputs": []
    },
    {
      "cell_type": "markdown",
      "source": [
        "### Step B11 - Create our features\n",
        "\n",
        "It’s a tradition from the olden days of yore, when people still used punchcards to program computers, that when we create predictive models we always call our input features “X” and our output features “Y”. So let’s just quickly do that, we have a DataFrame containing our data from which we want to extract **gpa** (our input feature) and **gre** (our ouput feature) and store them respectively in variables **X** and **Y**."
      ],
      "metadata": {
        "id": "Ge2QlLc14Pcf"
      }
    },
    {
      "cell_type": "code",
      "source": [
        "X = df[['gpa']]\n",
        "Y = df[['gre']]"
      ],
      "metadata": {
        "id": "e77KR5L34vdZ"
      },
      "execution_count": 35,
      "outputs": []
    },
    {
      "cell_type": "markdown",
      "source": [
        "Note that this time we don’t just use data.gpa to extract the field’s data. This is because we want it in the form of a matrix (and not a vector, which is what data.gpa would give us). If you want to see the difference try following code:"
      ],
      "metadata": {
        "id": "O_Z7brEr42CD"
      }
    },
    {
      "cell_type": "code",
      "source": [
        "print(df.gpa.shape)\n",
        "print(df[['gpa']].shape)"
      ],
      "metadata": {
        "id": "NcjF0NVc47aT",
        "colab": {
          "base_uri": "https://localhost:8080/"
        },
        "outputId": "40410ded-8159-466f-b3d6-7c639d164c60"
      },
      "execution_count": 36,
      "outputs": [
        {
          "output_type": "stream",
          "name": "stdout",
          "text": [
            "(400,)\n",
            "(400, 1)\n"
          ]
        }
      ]
    },
    {
      "cell_type": "markdown",
      "source": [
        "When you run this you will see that data.gpa only has one dimension (it is a vector), whereas our new version has two dimensions (albeit being a matrix with only one row in it!). The difference is subtle but just trust me for now - this means it will be in the perfect format ready to feed to sklearn as it uses matrices."
      ],
      "metadata": {
        "id": "k4w2Rvzs5BNO"
      }
    },
    {
      "cell_type": "markdown",
      "source": [
        "### Step B12 - Linear Regression\n",
        "\n",
        "Create a linear regression model, not by dropping on a widget like Orange... but by typing the following couple of lines:"
      ],
      "metadata": {
        "id": "BN8XZpVZ5OLF"
      }
    },
    {
      "cell_type": "code",
      "source": [
        "model = linear_model.LinearRegression()\n",
        "model.fit(X,Y)\n",
        "print(model.coef_, model.intercept_)"
      ],
      "metadata": {
        "id": "FfXHQIzM5ShP",
        "colab": {
          "base_uri": "https://localhost:8080/"
        },
        "outputId": "ee093541-4f96-44b6-a704-675908f921e3"
      },
      "execution_count": 37,
      "outputs": [
        {
          "output_type": "stream",
          "name": "stdout",
          "text": [
            "[[116.63935631]] [192.30424605]\n"
          ]
        }
      ]
    },
    {
      "cell_type": "markdown",
      "source": [
        "Et voila. The first line creates an ‘empty’ model ready for us to train. The second line does the training by finding the correct line that ‘fits’ the data. The final line prints out the $b_1$ and the $b_0$ in the equation $y = b_1x+b_0$. Job done."
      ],
      "metadata": {
        "id": "LQF7Bf4C5WmV"
      }
    },
    {
      "cell_type": "markdown",
      "source": [
        "***Quick challenge:***\n",
        "\n",
        "Any thoughts on what the connection between the gradient coefficient (coef_) and correlation (r) are? DON’T CHEAT ;)\n",
        "\n",
        "***Answer:***\n",
        "\n",
        "If you standardize your data the correlation is the gradient coefficient. The closer that line is to 1 (or -1) the stronger the link!\n",
        "\n",
        "Just to prove the above (and to show you how to standardize your data - which is vital for distance measure based predictors) add the following lines before you created your linear model:"
      ],
      "metadata": {
        "id": "1mN_bw0U5tJS"
      }
    },
    {
      "cell_type": "code",
      "source": [
        "from sklearn import preprocessing\n",
        "X_scaled = preprocessing.scale(X)\n",
        "Y_scaled = preprocessing.scale(Y.astype(float))"
      ],
      "metadata": {
        "id": "7jWsnzrB5_Ag"
      },
      "execution_count": 38,
      "outputs": []
    },
    {
      "cell_type": "markdown",
      "source": [
        "Sklearn gives us a special set of functions to do this sort of thing. By default, scale() will standardize your data (i.e. mean centre the data and divide through by its variance), making all data “unit-less”. This means we can use it more readily in anything that compares distances, and all the datapoints are now comparable on any feature…. whatever the scale it originally used.\n",
        "\n",
        "**Re-run your LinearRegression fitting using X_scaled and Y_scaled this time, and confirm that the correlation you calculated via numpy is the same as the linear regression gradient coefficient!**"
      ],
      "metadata": {
        "id": "OJAQAe5k6Cen"
      }
    },
    {
      "cell_type": "code",
      "source": [
        "# your code here"
      ],
      "metadata": {
        "id": "gQEOZac56Nqd"
      },
      "execution_count": null,
      "outputs": []
    },
    {
      "cell_type": "markdown",
      "source": [
        "### Bonus Step - Want to practice your lists a bit more?\n",
        "\n",
        "Try to compute the median value of GPA ***without*** using the **median()** method of **Pandas or Numpy**."
      ],
      "metadata": {
        "id": "Twrwgk2e6ciR"
      }
    },
    {
      "cell_type": "code",
      "source": [
        "# your code here"
      ],
      "metadata": {
        "id": "-CNRZF7m6hpt"
      },
      "execution_count": null,
      "outputs": []
    }
  ]
}